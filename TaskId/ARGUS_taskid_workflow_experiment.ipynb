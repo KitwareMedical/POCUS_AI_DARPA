{
 "cells": [
  {
   "cell_type": "code",
   "execution_count": 1,
   "id": "d2a02f50-2115-4829-87bb-4bbff24ffd5d",
   "metadata": {},
   "outputs": [],
   "source": [
    "import os\n",
    "\n",
    "import numpy as np\n",
    "\n",
    "import itk\n",
    "\n",
    "import site\n",
    "site.addsitedir(\"../ARGUS\")\n",
    "\n",
    "from ARGUS_Timing import *\n",
    "from ARGUS_IO import *\n",
    "\n",
    "from ARGUS_taskid_inference import ARGUS_taskid_inference"
   ]
  },
  {
   "cell_type": "code",
   "execution_count": 2,
   "id": "a985d815-0ee6-466b-82cb-aefc21758661",
   "metadata": {},
   "outputs": [],
   "source": [
    "taskid = ARGUS_taskid_inference(config_file_name=\"../ARGUS/ARGUS_taskid.cfg\", network_name=\"final\", device_num=0)\n"
   ]
  },
  {
   "cell_type": "code",
   "execution_count": 3,
   "id": "b38406fd-6443-434e-8730-2dddaa3f6124",
   "metadata": {},
   "outputs": [],
   "source": [
    "taskid_best_models = [0]\n",
    "\n",
    "for r in range(taskid.num_models):\n",
    "    model_name = os.path.join(\"Results\", \"taskid_run\"+str(r), \"best_model_\"+str(taskid_best_models[r])+\".pth\")\n",
    "    taskid.load_model(r, model_name)"
   ]
  },
  {
   "cell_type": "code",
   "execution_count": 21,
   "id": "1b0d058e-1b8d-48b3-9f7d-7a37ec5ffebf",
   "metadata": {},
   "outputs": [],
   "source": [
    "#vid_img = ARGUS_load_video(\"../PTX/Data_PTX/original/BAMC-PTXNoSliding/025ns_Image_262499828648_clean.mp4\")\n",
    "#vid_img = ARGUS_load_video(\"../PNB/Data_PNB/original/Positives/189/3. 189 AC_Video 2.mp4\")\n",
    "#vid_img = ARGUS_load_video(\"../ONSD/Data_ONSD/original/Positives/66/4. 66.1 Right_Long_Video 1.mp4\")\n",
    "vid_img = ARGUS_load_video(\"../ETT/Data_ETT/original/Positives/161/2. 161A_Video.mp4\")\n"
   ]
  },
  {
   "cell_type": "code",
   "execution_count": 22,
   "id": "bb19f989-da70-4ca5-b176-44d4da1ecfb9",
   "metadata": {},
   "outputs": [
    {
     "name": "stdout",
     "output_type": "stream",
     "text": [
      "(439, 1080, 912)\n"
     ]
    }
   ],
   "source": [
    "print(vid_img.shape)"
   ]
  },
  {
   "cell_type": "code",
   "execution_count": 23,
   "id": "55b2c3a6-55bd-473c-9e03-3456b3b22d85",
   "metadata": {},
   "outputs": [],
   "source": [
    "taskid.preprocess(vid_img, lbl_img=None, slice_num=None, scale_data=True, rotate_data=False)"
   ]
  },
  {
   "cell_type": "code",
   "execution_count": 24,
   "id": "23fc86a9-cc30-429d-a4e8-f3e8febadc27",
   "metadata": {},
   "outputs": [
    {
     "name": "stdout",
     "output_type": "stream",
     "text": [
      "(1, 256, 256)\n",
      "1\n"
     ]
    },
    {
     "data": {
      "image/png": "[encoded data removed]",
      "text/plain": [
       "<Figure size 432x288 with 1 Axes>"
      ]
     },
     "metadata": {
      "needs_background": "light"
     },
     "output_type": "display_data"
    }
   ],
   "source": [
    "import matplotlib.pyplot as plt\n",
    "from scipy.ndimage import rotate\n",
    "\n",
    "arr = taskid.input_array\n",
    "print(arr.shape)\n",
    "num_channels = arr.shape[0]\n",
    "print(num_channels)\n",
    "plt.figure()\n",
    "for c in range(num_channels):\n",
    "    plt.subplot(\n",
    "        2,\n",
    "        num_channels + 1,\n",
    "        (num_channels + 1) + c + 1,\n",
    "    )\n",
    "    plt.axis('off')\n",
    "    plt.imshow(rotate(arr[c, :, :],270))\n",
    "plt.show()"
   ]
  },
  {
   "cell_type": "code",
   "execution_count": 25,
   "id": "8b25315a-96ec-49f9-af46-f1002d4acefb",
   "metadata": {},
   "outputs": [
    {
     "data": {
      "text/plain": [
       "(3, array([0.        , 0.05508256, 0.27069952, 0.67421792]))"
      ]
     },
     "execution_count": 25,
     "metadata": {},
     "output_type": "execute_result"
    }
   ],
   "source": [
    "taskid.inference()"
   ]
  },
  {
   "cell_type": "code",
   "execution_count": null,
   "id": "82a6543c-4070-4b18-8a5f-2fd47a18b08e",
   "metadata": {},
   "outputs": [],
   "source": []
  },
  {
   "cell_type": "code",
   "execution_count": null,
   "id": "05a95732-53de-450e-aa2b-07a60de5ebb6",
   "metadata": {},
   "outputs": [],
   "source": []
  }
 ],
 "metadata": {
  "kernelspec": {
   "display_name": "Python 3 (ipykernel)",
   "language": "python",
   "name": "python3"
  },
  "language_info": {
   "codemirror_mode": {
    "name": "ipython",
    "version": 3
   },
   "file_extension": ".py",
   "mimetype": "text/x-python",
   "name": "python",
   "nbconvert_exporter": "python",
   "pygments_lexer": "ipython3",
   "version": "3.9.12"
  }
 },
 "nbformat": 4,
 "nbformat_minor": 5
}
