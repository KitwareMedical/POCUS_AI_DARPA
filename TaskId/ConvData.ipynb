{
 "cells": [
  {
   "cell_type": "code",
   "execution_count": 1,
   "id": "738c3331-81a6-4f96-94c1-d4931d089c3f",
   "metadata": {},
   "outputs": [],
   "source": [
    "import os\n",
    "from glob import glob\n",
    "\n",
    "import numpy as np\n",
    "import matplotlib.pyplot as plt\n",
    "\n",
    "import itk\n",
    "from itk import TubeTK as tube\n",
    "\n",
    "import site\n",
    "site.addsitedir(\"../ARGUS\")\n",
    "\n",
    "from ARGUS_IO import ARGUS_load_video"
   ]
  },
  {
   "cell_type": "code",
   "execution_count": 14,
   "id": "27389463-27d4-46c2-9b27-f448c3521ace",
   "metadata": {},
   "outputs": [],
   "source": [
    "def process_dir(in_dir, out_prefix):\n",
    "    target_size = 256\n",
    "    in_files = sorted(glob(os.path.join(in_dir, \"*.m??\"), recursive=True))\n",
    "    print(os.path.join(in_dir, \"*.m??\"))\n",
    "    for file in in_files:\n",
    "        fname = os.path.basename(file)[:-4]\n",
    "        outfname = os.path.join(\"Data_TaskId\", out_prefix+\"_\"+fname+\".mha\")\n",
    "        arr = ARGUS_load_video(file)\n",
    "        #arr = np.average(arr[-10:-5,:,:],axis=0,keepdims=False)\n",
    "        arrShape = arr.shape\n",
    "        print(arrShape)\n",
    "        img = itk.GetImageFromArray(arr).astype(np.float32)\n",
    "        imresize = tube.ResampleImage.New(img)\n",
    "        imresize.SetSize([target_size, target_size, arrShape[0]])\n",
    "        imresize.SetSpacing([arrShape[2]/target_size, arrShape[1]/target_size, 1])\n",
    "        imresize.Update()\n",
    "        imgSmall = imresize.GetOutput()\n",
    "        immath = tube.ImageMath.New(imgSmall)\n",
    "        immath.IntensityWindow(0, 255, 0, 1)\n",
    "        img_out = immath.GetOutput()\n",
    "        itk.imwrite(img_out, outfname, compression=True)"
   ]
  },
  {
   "cell_type": "code",
   "execution_count": 15,
   "id": "20ed5633-0b44-4905-bfb7-04b9422b3983",
   "metadata": {},
   "outputs": [
    {
     "name": "stdout",
     "output_type": "stream",
     "text": [
      "../PTX/Data_PTX_Net/DARPA/BAMC/PTX/2021.08.12/PTXNoSliding/*.m??\n",
      "(68, 1080, 1920)\n"
     ]
    },
    {
     "name": "stderr",
     "output_type": "stream",
     "text": [
      "Using non-standard frame rate 10240/512\n"
     ]
    },
    {
     "name": "stdout",
     "output_type": "stream",
     "text": [
      "(61, 1080, 1920)\n"
     ]
    },
    {
     "name": "stderr",
     "output_type": "stream",
     "text": [
      "Using non-standard frame rate 10240/512\n"
     ]
    },
    {
     "name": "stdout",
     "output_type": "stream",
     "text": [
      "(60, 1080, 1920)\n"
     ]
    },
    {
     "name": "stderr",
     "output_type": "stream",
     "text": [
      "Using non-standard frame rate 10240/512\n"
     ]
    },
    {
     "name": "stdout",
     "output_type": "stream",
     "text": [
      "(61, 1080, 1920)\n"
     ]
    },
    {
     "name": "stderr",
     "output_type": "stream",
     "text": [
      "Using non-standard frame rate 10240/512\n"
     ]
    },
    {
     "name": "stdout",
     "output_type": "stream",
     "text": [
      "(61, 1080, 1920)\n"
     ]
    },
    {
     "name": "stderr",
     "output_type": "stream",
     "text": [
      "Using non-standard frame rate 10240/512\n"
     ]
    },
    {
     "name": "stdout",
     "output_type": "stream",
     "text": [
      "(60, 1080, 1920)\n"
     ]
    },
    {
     "name": "stderr",
     "output_type": "stream",
     "text": [
      "Using non-standard frame rate 10240/512\n"
     ]
    },
    {
     "name": "stdout",
     "output_type": "stream",
     "text": [
      "(61, 1080, 1920)\n"
     ]
    },
    {
     "name": "stderr",
     "output_type": "stream",
     "text": [
      "Using non-standard frame rate 10240/512\n"
     ]
    },
    {
     "name": "stdout",
     "output_type": "stream",
     "text": [
      "(61, 1080, 1920)\n"
     ]
    },
    {
     "name": "stderr",
     "output_type": "stream",
     "text": [
      "Using non-standard frame rate 10240/512\n"
     ]
    },
    {
     "name": "stdout",
     "output_type": "stream",
     "text": [
      "(60, 1080, 1920)\n"
     ]
    },
    {
     "name": "stderr",
     "output_type": "stream",
     "text": [
      "Using non-standard frame rate 10240/512\n"
     ]
    },
    {
     "name": "stdout",
     "output_type": "stream",
     "text": [
      "(60, 1080, 1920)\n"
     ]
    },
    {
     "name": "stderr",
     "output_type": "stream",
     "text": [
      "Using non-standard frame rate 10240/512\n"
     ]
    },
    {
     "name": "stdout",
     "output_type": "stream",
     "text": [
      "(61, 1080, 1920)\n"
     ]
    },
    {
     "name": "stderr",
     "output_type": "stream",
     "text": [
      "Using non-standard frame rate 10240/512\n"
     ]
    },
    {
     "name": "stdout",
     "output_type": "stream",
     "text": [
      "(61, 1080, 1920)\n"
     ]
    },
    {
     "name": "stderr",
     "output_type": "stream",
     "text": [
      "Using non-standard frame rate 10240/512\n"
     ]
    },
    {
     "name": "stdout",
     "output_type": "stream",
     "text": [
      "(60, 1080, 1920)\n"
     ]
    },
    {
     "name": "stderr",
     "output_type": "stream",
     "text": [
      "Using non-standard frame rate 10240/512\n"
     ]
    },
    {
     "name": "stdout",
     "output_type": "stream",
     "text": [
      "(60, 1080, 1920)\n"
     ]
    },
    {
     "name": "stderr",
     "output_type": "stream",
     "text": [
      "Using non-standard frame rate 10240/512\n"
     ]
    },
    {
     "name": "stdout",
     "output_type": "stream",
     "text": [
      "(61, 1080, 1920)\n"
     ]
    },
    {
     "name": "stderr",
     "output_type": "stream",
     "text": [
      "Using non-standard frame rate 10240/512\n"
     ]
    },
    {
     "name": "stdout",
     "output_type": "stream",
     "text": [
      "(61, 1080, 1920)\n"
     ]
    },
    {
     "name": "stderr",
     "output_type": "stream",
     "text": [
      "Using non-standard frame rate 10240/512\n"
     ]
    },
    {
     "name": "stdout",
     "output_type": "stream",
     "text": [
      "(61, 1080, 1920)\n"
     ]
    },
    {
     "name": "stderr",
     "output_type": "stream",
     "text": [
      "Using non-standard frame rate 10240/512\n"
     ]
    },
    {
     "name": "stdout",
     "output_type": "stream",
     "text": [
      "(60, 1080, 1920)\n"
     ]
    },
    {
     "name": "stderr",
     "output_type": "stream",
     "text": [
      "Using non-standard frame rate 10240/512\n"
     ]
    },
    {
     "name": "stdout",
     "output_type": "stream",
     "text": [
      "(61, 1080, 1920)\n"
     ]
    },
    {
     "name": "stderr",
     "output_type": "stream",
     "text": [
      "Using non-standard frame rate 10240/512\n"
     ]
    },
    {
     "name": "stdout",
     "output_type": "stream",
     "text": [
      "(60, 1080, 1920)\n"
     ]
    },
    {
     "name": "stderr",
     "output_type": "stream",
     "text": [
      "Using non-standard frame rate 10240/512\n"
     ]
    },
    {
     "name": "stdout",
     "output_type": "stream",
     "text": [
      "(61, 1080, 1920)\n"
     ]
    },
    {
     "name": "stderr",
     "output_type": "stream",
     "text": [
      "Using non-standard frame rate 10240/512\n"
     ]
    },
    {
     "name": "stdout",
     "output_type": "stream",
     "text": [
      "(60, 1080, 1920)\n"
     ]
    },
    {
     "name": "stderr",
     "output_type": "stream",
     "text": [
      "Using non-standard frame rate 10240/512\n"
     ]
    },
    {
     "name": "stdout",
     "output_type": "stream",
     "text": [
      "(60, 1080, 1920)\n"
     ]
    },
    {
     "name": "stderr",
     "output_type": "stream",
     "text": [
      "Using non-standard frame rate 10240/512\n"
     ]
    },
    {
     "name": "stdout",
     "output_type": "stream",
     "text": [
      "(61, 1080, 1920)\n"
     ]
    },
    {
     "name": "stderr",
     "output_type": "stream",
     "text": [
      "Using non-standard frame rate 10240/512\n"
     ]
    },
    {
     "name": "stdout",
     "output_type": "stream",
     "text": [
      "(60, 1080, 1920)\n"
     ]
    },
    {
     "name": "stderr",
     "output_type": "stream",
     "text": [
      "Using non-standard frame rate 10240/512\n"
     ]
    },
    {
     "name": "stdout",
     "output_type": "stream",
     "text": [
      "(61, 1080, 1920)\n"
     ]
    },
    {
     "name": "stderr",
     "output_type": "stream",
     "text": [
      "Using non-standard frame rate 10240/512\n"
     ]
    },
    {
     "name": "stdout",
     "output_type": "stream",
     "text": [
      "(60, 1080, 1920)\n"
     ]
    },
    {
     "name": "stderr",
     "output_type": "stream",
     "text": [
      "Using non-standard frame rate 10240/512\n"
     ]
    },
    {
     "name": "stdout",
     "output_type": "stream",
     "text": [
      "(61, 1080, 1920)\n"
     ]
    },
    {
     "name": "stderr",
     "output_type": "stream",
     "text": [
      "Using non-standard frame rate 10240/512\n"
     ]
    },
    {
     "name": "stdout",
     "output_type": "stream",
     "text": [
      "(61, 1080, 1920)\n"
     ]
    },
    {
     "name": "stderr",
     "output_type": "stream",
     "text": [
      "Using non-standard frame rate 10240/512\n"
     ]
    },
    {
     "name": "stdout",
     "output_type": "stream",
     "text": [
      "(61, 1080, 1920)\n"
     ]
    }
   ],
   "source": [
    "in_dir = \"../PTX/Data_PTX_Net/DARPA/BAMC/PTX/2021.08.12/PTXNoSliding\"\n",
    "process_dir(in_dir, \"PTXNS\")"
   ]
  },
  {
   "cell_type": "code",
   "execution_count": 16,
   "id": "c79b30fa-c8c4-4949-bf7b-729c89d538bf",
   "metadata": {},
   "outputs": [
    {
     "name": "stderr",
     "output_type": "stream",
     "text": [
      "Using non-standard frame rate 10240/512\n"
     ]
    },
    {
     "name": "stdout",
     "output_type": "stream",
     "text": [
      "../PTX/Data_PTX_Net/DARPA/BAMC/PTX/2021.08.12/PTXSliding/*.m??\n",
      "(61, 1080, 1920)\n"
     ]
    },
    {
     "name": "stderr",
     "output_type": "stream",
     "text": [
      "Using non-standard frame rate 10240/512\n"
     ]
    },
    {
     "name": "stdout",
     "output_type": "stream",
     "text": [
      "(60, 1080, 1920)\n"
     ]
    },
    {
     "name": "stderr",
     "output_type": "stream",
     "text": [
      "Using non-standard frame rate 10240/512\n"
     ]
    },
    {
     "name": "stdout",
     "output_type": "stream",
     "text": [
      "(61, 1080, 1920)\n"
     ]
    },
    {
     "name": "stderr",
     "output_type": "stream",
     "text": [
      "Using non-standard frame rate 10240/512\n"
     ]
    },
    {
     "name": "stdout",
     "output_type": "stream",
     "text": [
      "(61, 1080, 1920)\n"
     ]
    },
    {
     "name": "stderr",
     "output_type": "stream",
     "text": [
      "Using non-standard frame rate 10240/512\n"
     ]
    },
    {
     "name": "stdout",
     "output_type": "stream",
     "text": [
      "(61, 1080, 1920)\n"
     ]
    },
    {
     "name": "stderr",
     "output_type": "stream",
     "text": [
      "Using non-standard frame rate 10240/512\n"
     ]
    },
    {
     "name": "stdout",
     "output_type": "stream",
     "text": [
      "(61, 1080, 1920)\n"
     ]
    },
    {
     "name": "stderr",
     "output_type": "stream",
     "text": [
      "Using non-standard frame rate 10240/512\n"
     ]
    },
    {
     "name": "stdout",
     "output_type": "stream",
     "text": [
      "(61, 1080, 1920)\n"
     ]
    },
    {
     "name": "stderr",
     "output_type": "stream",
     "text": [
      "Using non-standard frame rate 10240/512\n"
     ]
    },
    {
     "name": "stdout",
     "output_type": "stream",
     "text": [
      "(60, 1080, 1920)\n"
     ]
    },
    {
     "name": "stderr",
     "output_type": "stream",
     "text": [
      "Using non-standard frame rate 10240/512\n"
     ]
    },
    {
     "name": "stdout",
     "output_type": "stream",
     "text": [
      "(60, 1080, 1920)\n"
     ]
    },
    {
     "name": "stderr",
     "output_type": "stream",
     "text": [
      "Using non-standard frame rate 10240/512\n"
     ]
    },
    {
     "name": "stdout",
     "output_type": "stream",
     "text": [
      "(60, 1080, 1920)\n"
     ]
    },
    {
     "name": "stderr",
     "output_type": "stream",
     "text": [
      "Using non-standard frame rate 10240/512\n"
     ]
    },
    {
     "name": "stdout",
     "output_type": "stream",
     "text": [
      "(61, 1080, 1920)\n"
     ]
    },
    {
     "name": "stderr",
     "output_type": "stream",
     "text": [
      "Using non-standard frame rate 10240/512\n"
     ]
    },
    {
     "name": "stdout",
     "output_type": "stream",
     "text": [
      "(60, 1080, 1920)\n"
     ]
    },
    {
     "name": "stderr",
     "output_type": "stream",
     "text": [
      "Using non-standard frame rate 10240/512\n"
     ]
    },
    {
     "name": "stdout",
     "output_type": "stream",
     "text": [
      "(61, 1080, 1920)\n"
     ]
    },
    {
     "name": "stderr",
     "output_type": "stream",
     "text": [
      "Using non-standard frame rate 10240/512\n"
     ]
    },
    {
     "name": "stdout",
     "output_type": "stream",
     "text": [
      "(60, 1080, 1920)\n"
     ]
    },
    {
     "name": "stderr",
     "output_type": "stream",
     "text": [
      "Using non-standard frame rate 10240/512\n"
     ]
    },
    {
     "name": "stdout",
     "output_type": "stream",
     "text": [
      "(61, 1080, 1920)\n"
     ]
    },
    {
     "name": "stderr",
     "output_type": "stream",
     "text": [
      "Using non-standard frame rate 10240/512\n"
     ]
    },
    {
     "name": "stdout",
     "output_type": "stream",
     "text": [
      "(60, 1080, 1920)\n"
     ]
    },
    {
     "name": "stderr",
     "output_type": "stream",
     "text": [
      "Using non-standard frame rate 10240/512\n"
     ]
    },
    {
     "name": "stdout",
     "output_type": "stream",
     "text": [
      "(61, 1080, 1920)\n"
     ]
    },
    {
     "name": "stderr",
     "output_type": "stream",
     "text": [
      "Using non-standard frame rate 10240/512\n"
     ]
    },
    {
     "name": "stdout",
     "output_type": "stream",
     "text": [
      "(61, 1080, 1920)\n"
     ]
    },
    {
     "name": "stderr",
     "output_type": "stream",
     "text": [
      "Using non-standard frame rate 10240/512\n"
     ]
    },
    {
     "name": "stdout",
     "output_type": "stream",
     "text": [
      "(60, 1080, 1920)\n"
     ]
    },
    {
     "name": "stderr",
     "output_type": "stream",
     "text": [
      "Using non-standard frame rate 10240/512\n"
     ]
    },
    {
     "name": "stdout",
     "output_type": "stream",
     "text": [
      "(60, 1080, 1920)\n"
     ]
    },
    {
     "name": "stderr",
     "output_type": "stream",
     "text": [
      "Using non-standard frame rate 10240/512\n"
     ]
    },
    {
     "name": "stdout",
     "output_type": "stream",
     "text": [
      "(60, 1080, 1920)\n"
     ]
    },
    {
     "name": "stderr",
     "output_type": "stream",
     "text": [
      "Using non-standard frame rate 10240/512\n"
     ]
    },
    {
     "name": "stdout",
     "output_type": "stream",
     "text": [
      "(60, 1080, 1920)\n"
     ]
    },
    {
     "name": "stderr",
     "output_type": "stream",
     "text": [
      "Using non-standard frame rate 10240/512\n"
     ]
    },
    {
     "name": "stdout",
     "output_type": "stream",
     "text": [
      "(61, 1080, 1920)\n"
     ]
    },
    {
     "name": "stderr",
     "output_type": "stream",
     "text": [
      "Using non-standard frame rate 10240/512\n"
     ]
    },
    {
     "name": "stdout",
     "output_type": "stream",
     "text": [
      "(61, 1080, 1920)\n"
     ]
    },
    {
     "name": "stderr",
     "output_type": "stream",
     "text": [
      "Using non-standard frame rate 10240/512\n"
     ]
    },
    {
     "name": "stdout",
     "output_type": "stream",
     "text": [
      "(60, 1080, 1920)\n"
     ]
    },
    {
     "name": "stderr",
     "output_type": "stream",
     "text": [
      "Using non-standard frame rate 10240/512\n"
     ]
    },
    {
     "name": "stdout",
     "output_type": "stream",
     "text": [
      "(61, 1080, 1920)\n"
     ]
    },
    {
     "name": "stderr",
     "output_type": "stream",
     "text": [
      "Using non-standard frame rate 10240/512\n"
     ]
    },
    {
     "name": "stdout",
     "output_type": "stream",
     "text": [
      "(61, 1080, 1920)\n"
     ]
    },
    {
     "name": "stderr",
     "output_type": "stream",
     "text": [
      "Using non-standard frame rate 10240/512\n"
     ]
    },
    {
     "name": "stdout",
     "output_type": "stream",
     "text": [
      "(61, 1080, 1920)\n"
     ]
    },
    {
     "name": "stderr",
     "output_type": "stream",
     "text": [
      "Using non-standard frame rate 10240/512\n"
     ]
    },
    {
     "name": "stdout",
     "output_type": "stream",
     "text": [
      "(61, 1080, 1920)\n"
     ]
    },
    {
     "name": "stderr",
     "output_type": "stream",
     "text": [
      "Using non-standard frame rate 10240/512\n"
     ]
    },
    {
     "name": "stdout",
     "output_type": "stream",
     "text": [
      "(61, 1080, 1920)\n"
     ]
    },
    {
     "name": "stderr",
     "output_type": "stream",
     "text": [
      "Using non-standard frame rate 10240/512\n"
     ]
    },
    {
     "name": "stdout",
     "output_type": "stream",
     "text": [
      "(61, 1080, 1920)\n"
     ]
    },
    {
     "name": "stderr",
     "output_type": "stream",
     "text": [
      "Using non-standard frame rate 10240/512\n"
     ]
    },
    {
     "name": "stdout",
     "output_type": "stream",
     "text": [
      "(60, 1080, 1920)\n"
     ]
    }
   ],
   "source": [
    "in_dir = \"../PTX/Data_PTX_Net/DARPA/BAMC/PTX/2021.08.12/PTXSliding\"\n",
    "process_dir(in_dir, \"PTXS\")"
   ]
  },
  {
   "cell_type": "code",
   "execution_count": 17,
   "id": "0d9b11ff-56d0-4e98-a980-8b314cad17c4",
   "metadata": {},
   "outputs": [
    {
     "name": "stdout",
     "output_type": "stream",
     "text": [
      "../PNB/Data_PNB_Net/PNB Training Data/Negatives/**/*.m??\n",
      "(787, 1080, 912)\n",
      "(623, 1080, 912)\n",
      "(374, 1080, 912)\n",
      "(500, 1080, 912)\n",
      "(518, 1080, 912)\n",
      "(192, 1080, 912)\n",
      "(321, 1080, 912)\n",
      "(313, 1080, 912)\n",
      "(539, 1080, 912)\n",
      "(532, 1080, 912)\n",
      "(312, 1080, 912)\n",
      "(222, 1080, 912)\n",
      "(940, 1080, 912)\n",
      "(493, 1080, 912)\n",
      "(195, 1080, 912)\n"
     ]
    }
   ],
   "source": [
    "in_dir = \"../PNB/Data_PNB_Net/PNB Training Data/Negatives/**/\"\n",
    "process_dir(in_dir, \"PNBN\")"
   ]
  },
  {
   "cell_type": "code",
   "execution_count": 18,
   "id": "6a9b6a42-a5e4-47b1-9529-4def36bffb8e",
   "metadata": {},
   "outputs": [
    {
     "name": "stdout",
     "output_type": "stream",
     "text": [
      "../PNB/Data_PNB_Net/PNB Training Data/Positives/**/*.m??\n",
      "(596, 1080, 912)\n",
      "(571, 1080, 912)\n",
      "(596, 1080, 912)\n",
      "(209, 1080, 912)\n",
      "(570, 1080, 912)\n",
      "(647, 1080, 912)\n",
      "(508, 1080, 912)\n",
      "(203, 1080, 912)\n",
      "(228, 1080, 912)\n",
      "(358, 1080, 912)\n",
      "(202, 1080, 912)\n",
      "(359, 1080, 912)\n",
      "(399, 1080, 912)\n",
      "(370, 1080, 912)\n",
      "(301, 1080, 912)\n",
      "(502, 1080, 912)\n"
     ]
    }
   ],
   "source": [
    "in_dir = \"../PNB/Data_PNB_Net/PNB Training Data/Positives/**/\"\n",
    "process_dir(in_dir, \"PNBP\")"
   ]
  },
  {
   "cell_type": "code",
   "execution_count": 19,
   "id": "d5922c6d-892f-4db0-9bf3-ce0252043b58",
   "metadata": {},
   "outputs": [
    {
     "name": "stdout",
     "output_type": "stream",
     "text": [
      "../ONSD/Data_ONSD_Net/ONSD Training Data/Negatives/**/*.m??\n",
      "(417, 1080, 912)\n",
      "(287, 1080, 912)\n",
      "(226, 1080, 912)\n",
      "(285, 1080, 912)\n",
      "(371, 1080, 912)\n",
      "(271, 1080, 912)\n",
      "(323, 1080, 912)\n",
      "(338, 1080, 912)\n",
      "(309, 1080, 912)\n",
      "(206, 1080, 912)\n",
      "(241, 1080, 912)\n",
      "(275, 1080, 912)\n",
      "(234, 1080, 912)\n"
     ]
    }
   ],
   "source": [
    "in_dir = \"../ONSD/Data_ONSD_Net/ONSD Training Data/Negatives/**/\"\n",
    "process_dir(in_dir, \"ONSDN\")"
   ]
  },
  {
   "cell_type": "code",
   "execution_count": 20,
   "id": "f09f010f-0859-4863-84e6-16e7942ca4be",
   "metadata": {},
   "outputs": [
    {
     "name": "stdout",
     "output_type": "stream",
     "text": [
      "../ONSD/Data_ONSD_Net/ONSD Training Data/Positives/**/*.m??\n",
      "(275, 1080, 912)\n",
      "(250, 1080, 912)\n",
      "(285, 1080, 912)\n",
      "(241, 1080, 912)\n",
      "(334, 1080, 912)\n",
      "(294, 1080, 912)\n",
      "(279, 1080, 912)\n",
      "(457, 1080, 912)\n",
      "(311, 1080, 912)\n",
      "(392, 1080, 912)\n",
      "(372, 1080, 912)\n",
      "(243, 1080, 912)\n"
     ]
    }
   ],
   "source": [
    "in_dir = \"../ONSD/Data_ONSD_Net/ONSD Training Data/Positives/**/\"\n",
    "process_dir(in_dir, \"ONSDP\")"
   ]
  },
  {
   "cell_type": "code",
   "execution_count": 23,
   "id": "bf9a115c-bd78-4678-9be4-b09a2cd10357",
   "metadata": {},
   "outputs": [
    {
     "name": "stdout",
     "output_type": "stream",
     "text": [
      "../ETT/Data_ETT_Net/ETT Training Data/Negatives/**/*.m??\n",
      "(130, 1080, 912)\n",
      "(133, 1080, 912)\n",
      "(92, 1080, 912)\n",
      "(335, 1080, 912)\n",
      "(236, 1080, 912)\n",
      "(322, 1080, 912)\n",
      "(298, 1080, 912)\n",
      "(50, 1080, 912)\n",
      "(100, 1080, 912)\n",
      "(236, 1080, 912)\n",
      "(1052, 1080, 912)\n",
      "(489, 1080, 912)\n",
      "(170, 1080, 912)\n",
      "(104, 1080, 912)\n",
      "(28, 1080, 912)\n",
      "(244, 1080, 912)\n",
      "(281, 1080, 912)\n",
      "(242, 1080, 912)\n",
      "(324, 1080, 912)\n",
      "(398, 1080, 912)\n",
      "(873, 1080, 912)\n",
      "(298, 1080, 912)\n",
      "(223, 1080, 912)\n",
      "(231, 1080, 912)\n",
      "(105, 1080, 912)\n",
      "(117, 1080, 912)\n"
     ]
    }
   ],
   "source": [
    "in_dir = \"../ETT/Data_ETT_Net/ETT Training Data/Negatives/**/\"\n",
    "process_dir(in_dir, \"ETTN\")"
   ]
  },
  {
   "cell_type": "code",
   "execution_count": 24,
   "id": "794c81dc-19ac-42df-a169-c0aa45d1dd97",
   "metadata": {},
   "outputs": [
    {
     "name": "stdout",
     "output_type": "stream",
     "text": [
      "../ETT/Data_ETT_Net/ETT Training Data/Positives/**/*.m??\n",
      "(790, 1080, 912)\n",
      "(569, 1080, 912)\n",
      "(1066, 1080, 912)\n",
      "(228, 1080, 912)\n",
      "(209, 1080, 912)\n",
      "(344, 1080, 912)\n",
      "(227, 1080, 912)\n",
      "(430, 1080, 912)\n",
      "(439, 1080, 912)\n",
      "(798, 1080, 912)\n",
      "(1038, 1080, 912)\n",
      "(209, 1080, 912)\n",
      "(568, 1080, 912)\n",
      "(858, 1080, 912)\n",
      "(715, 1080, 912)\n",
      "(458, 1080, 912)\n",
      "(1084, 1080, 912)\n",
      "(246, 1080, 912)\n",
      "(865, 1080, 912)\n",
      "(627, 1080, 912)\n"
     ]
    }
   ],
   "source": [
    "in_dir = \"../ETT/Data_ETT_Net/ETT Training Data/Positives/**/\"\n",
    "process_dir(in_dir, \"ETTP\")"
   ]
  },
  {
   "cell_type": "code",
   "execution_count": null,
   "id": "0f073d1d-4e38-4383-8364-61606840c80f",
   "metadata": {},
   "outputs": [],
   "source": [
    "\n",
    "\n",
    "\n",
    "\n",
    "\n",
    "\n",
    "\n",
    "\n",
    "\n",
    "\n",
    "\n",
    "\n",
    "\n",
    "\n",
    "\n",
    "\n",
    "\n",
    "\n",
    "\n",
    "\n",
    "\n",
    "\n",
    "\n",
    "\n",
    "\n",
    "\n",
    "\n",
    "\n",
    "\n",
    "\n",
    "\n",
    "\n",
    "\n",
    "\n",
    "\n",
    "\n",
    "\n",
    "\n",
    "\n",
    "\n",
    "\n",
    "\n",
    "\n",
    "\n",
    "\n",
    "\n",
    "\n",
    "\n",
    "\n",
    "\n",
    "\n",
    "\n",
    "\n",
    "\n",
    "\n",
    "\n",
    "\n",
    "\n",
    "\n",
    "\n",
    "\n",
    "\n",
    "\n",
    "\n",
    "\n",
    "\n",
    "\n",
    "\n",
    "\n",
    "\n",
    "\n",
    "\n",
    "\n",
    "\n",
    "\n",
    "\n",
    "\n",
    "\n",
    "\n",
    "\n",
    "\n",
    "\n",
    "\n",
    "\n",
    "\n"
   ]
  }
 ],
 "metadata": {
  "kernelspec": {
   "display_name": "Python 3 (ipykernel)",
   "language": "python",
   "name": "python3"
  },
  "language_info": {
   "codemirror_mode": {
    "name": "ipython",
    "version": 3
   },
   "file_extension": ".py",
   "mimetype": "text/x-python",
   "name": "python",
   "nbconvert_exporter": "python",
   "pygments_lexer": "ipython3",
   "version": "3.9.12"
  }
 },
 "nbformat": 4,
 "nbformat_minor": 5
}
