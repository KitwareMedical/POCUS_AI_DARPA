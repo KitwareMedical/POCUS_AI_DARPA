{
 "cells": [
  {
   "cell_type": "code",
   "execution_count": 1,
   "metadata": {},
   "outputs": [],
   "source": [
    "import numpy as np\n",
    "import site\n",
    "import itk\n",
    "import glob\n",
    "import sys\n",
    "import os\n",
    "import time"
   ]
  },
  {
   "cell_type": "code",
   "execution_count": 2,
   "metadata": {},
   "outputs": [],
   "source": [
    "def np_gradient(f):\n",
    "    out = np.gradient(f)\n",
    "    return out\n",
    "\n",
    "def itk_gradient(f):\n",
    "    GradientFilter = itk.GradientImageFilter.New(f)\n",
    "    GradientFilter.Update()\n",
    "    out = GradientFilter.GetOutput()\n",
    "    return out"
   ]
  },
  {
   "cell_type": "code",
   "execution_count": 3,
   "metadata": {},
   "outputs": [],
   "source": [
    "file_path = \"/data/barry.ravichandran/repos/AnatomicRecon-POCUS-AI/ONSD/Data_ONSD/Preprocessed/Resized\"\n",
    "files = sorted(glob.glob(os.path.join(file_path, \"6. 130*.nii.gz\")))\n",
    "# print(file)\n",
    "img_all = []\n",
    "for file in files:\n",
    "    img = itk.imread(file)\n",
    "    img_array = itk.GetArrayFromImage(img)\n",
    "    img_all.append(img_array)\n"
   ]
  },
  {
   "cell_type": "code",
   "execution_count": 4,
   "metadata": {},
   "outputs": [
    {
     "name": "stdout",
     "output_type": "stream",
     "text": [
      "Elapsed = 0.3930325820110738s\n",
      "Elapsed = 0.3860035128891468s\n",
      "Elapsed = 0.3861379320733249s\n"
     ]
    }
   ],
   "source": [
    "start = time.perf_counter()\n",
    "img_grad = np_gradient(img_array)\n",
    "end = time.perf_counter()\n",
    "print(\"Elapsed = {}s\".format((end - start)))\n",
    "start = time.perf_counter()\n",
    "img_grad = np_gradient(img_array)\n",
    "end = time.perf_counter()\n",
    "print(\"Elapsed = {}s\".format((end - start)))\n",
    "start = time.perf_counter()\n",
    "img_grad = np_gradient(img_array)\n",
    "end = time.perf_counter()\n",
    "print(\"Elapsed = {}s\".format((end - start)))"
   ]
  },
  {
   "cell_type": "code",
   "execution_count": 5,
   "metadata": {},
   "outputs": [
    {
     "name": "stdout",
     "output_type": "stream",
     "text": [
      "Elapsed (with compilation) = 2.1890680668875575s\n",
      "Elapsed = 0.22873713029548526s\n",
      "Elapsed = 0.2362881377339363s\n"
     ]
    }
   ],
   "source": [
    "img_input = itk.GetImageFromArray(img_array)\n",
    "start = time.perf_counter()\n",
    "new_img = itk_gradient(img_input)\n",
    "end = time.perf_counter()\n",
    "print(\"Elapsed (with compilation) = {}s\".format((end - start)))\n",
    "start = time.perf_counter()\n",
    "new_img = itk_gradient(img_input)\n",
    "end = time.perf_counter()\n",
    "print(\"Elapsed = {}s\".format((end - start)))\n",
    "start = time.perf_counter()\n",
    "new_img = itk_gradient(img_input)\n",
    "end = time.perf_counter()\n",
    "print(\"Elapsed = {}s\".format((end - start)))"
   ]
  }
 ],
 "metadata": {
  "kernelspec": {
   "display_name": "Python 3.9.7",
   "language": "python",
   "name": "python3"
  },
  "language_info": {
   "codemirror_mode": {
    "name": "ipython",
    "version": 3
   },
   "file_extension": ".py",
   "mimetype": "text/x-python",
   "name": "python",
   "nbconvert_exporter": "python",
   "pygments_lexer": "ipython3",
   "version": "3.9.7"
  },
  "orig_nbformat": 4,
  "vscode": {
   "interpreter": {
    "hash": "becb474597c91a95d957fa0e665aa7a941f56b88e78810628a1841a43481490f"
   }
  }
 },
 "nbformat": 4,
 "nbformat_minor": 2
}
