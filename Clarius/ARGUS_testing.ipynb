{
 "cells": [
  {
   "cell_type": "code",
   "execution_count": 2,
   "id": "d2a02f50-2115-4829-87bb-4bbff24ffd5d",
   "metadata": {},
   "outputs": [],
   "source": [
    "import os\n",
    "import glob\n",
    "\n",
    "import numpy as np\n",
    "\n",
    "import itk\n",
    "\n",
    "import site\n",
    "site.addsitedir(\"../ARGUS\")\n",
    "\n",
    "from ARGUS_IO import *\n",
    "\n",
    "from ARGUS_app_ai import ARGUS_app_ai"
   ]
  },
  {
   "cell_type": "code",
   "execution_count": 3,
   "id": "21d1bf52-3581-40d9-beb5-25767105f160",
   "metadata": {},
   "outputs": [],
   "source": [
    "vids = glob.glob(\"./Data/*.mp4\")\n",
    "\n",
    "for vid in vids:\n",
    "    img = ARGUS_load_video(vid)\n",
    "    arr = itk.GetArrayFromImage(img).astype(np.ubyte)\n",
    "    imgUC = itk.GetImageFromArray(arr)\n",
    "    imgUC.CopyInformation(img)\n",
    "    new_vid = vid[:-4]+\".mha\"\n",
    "    itk.imwrite(imgUC, new_vid, compression=True)"
   ]
  },
  {
   "cell_type": "code",
   "execution_count": null,
   "id": "b3b02d14-f880-4b67-a8dc-19e98f2d38c3",
   "metadata": {},
   "outputs": [],
   "source": []
  }
 ],
 "metadata": {
  "kernelspec": {
   "display_name": "Python 3 (ipykernel)",
   "language": "python",
   "name": "python3"
  },
  "language_info": {
   "codemirror_mode": {
    "name": "ipython",
    "version": 3
   },
   "file_extension": ".py",
   "mimetype": "text/x-python",
   "name": "python",
   "nbconvert_exporter": "python",
   "pygments_lexer": "ipython3",
   "version": "3.8.10"
  },
  "widgets": {
   "application/vnd.jupyter.widget-state+json": {
    "state": {},
    "version_major": 2,
    "version_minor": 0
   }
  }
 },
 "nbformat": 4,
 "nbformat_minor": 5
}
