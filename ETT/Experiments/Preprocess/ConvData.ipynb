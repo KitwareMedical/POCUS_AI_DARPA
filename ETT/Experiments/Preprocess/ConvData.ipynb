{
 "cells": [
  {
   "cell_type": "code",
   "execution_count": 2,
   "id": "738c3331-81a6-4f96-94c1-d4931d089c3f",
   "metadata": {},
   "outputs": [],
   "source": [
    "import os\n",
    "from glob import glob\n",
    "\n",
    "import numpy as np\n",
    "import matplotlib.pyplot as plt\n",
    "\n",
    "import itk\n",
    "from itk import TubeTK as tube\n",
    "\n",
    "import site\n",
    "site.addsitedir(\"../../../ARGUS\")\n",
    "\n",
    "from ARGUS_IO import ARGUS_load_video"
   ]
  },
  {
   "cell_type": "code",
   "execution_count": null,
   "id": "dbf578e9-78bb-49af-9455-e43c4607613b",
   "metadata": {},
   "outputs": [],
   "source": []
  },
  {
   "cell_type": "code",
   "execution_count": 3,
   "id": "27389463-27d4-46c2-9b27-f448c3521ace",
   "metadata": {},
   "outputs": [],
   "source": [
    "def process_dir(in_dir, out_prefix):\n",
    "    in_files = sorted(glob(os.path.join(in_dir, \"*.m??\"), recursive=True))\n",
    "    for file in in_files:\n",
    "        fname = os.path.basename(file)[:-4]\n",
    "        outfname = os.path.join(\"../../Data_ETT\", out_prefix+\"_\"+fname+\".mha\")\n",
    "        arr = ARGUS_load_video(file)\n",
    "        img_out = itk.GetImageFromArray(arr).astype(np.float32)\n",
    "        itk.imwrite(img_out, outfname, compression=True)"
   ]
  },
  {
   "cell_type": "code",
   "execution_count": 4,
   "id": "20ed5633-0b44-4905-bfb7-04b9422b3983",
   "metadata": {},
   "outputs": [],
   "source": [
    "in_dir = \"../../Data_ETT_Net/ETT Training Data/Negatives/**\"\n",
    "process_dir(in_dir, \"ETTN\")"
   ]
  },
  {
   "cell_type": "code",
   "execution_count": 5,
   "id": "c79b30fa-c8c4-4949-bf7b-729c89d538bf",
   "metadata": {},
   "outputs": [],
   "source": [
    "in_dir = \"../../Data_ETT_Net/ETT Training Data/Positives/**\"\n",
    "process_dir(in_dir, \"ETTP\")"
   ]
  },
  {
   "cell_type": "code",
   "execution_count": null,
   "id": "fc12ce91-b1d5-47b2-8a69-6e44472c43ee",
   "metadata": {},
   "outputs": [],
   "source": []
  }
 ],
 "metadata": {
  "kernelspec": {
   "display_name": "Python 3 (ipykernel)",
   "language": "python",
   "name": "python3"
  },
  "language_info": {
   "codemirror_mode": {
    "name": "ipython",
    "version": 3
   },
   "file_extension": ".py",
   "mimetype": "text/x-python",
   "name": "python",
   "nbconvert_exporter": "python",
   "pygments_lexer": "ipython3",
   "version": "3.9.12"
  }
 },
 "nbformat": 4,
 "nbformat_minor": 5
}
