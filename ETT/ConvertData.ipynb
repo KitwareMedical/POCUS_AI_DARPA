{
 "cells": [
  {
   "cell_type": "code",
   "execution_count": 2,
   "id": "da6da129-9c36-45ec-93d5-76a43bfe4cb0",
   "metadata": {},
   "outputs": [],
   "source": [
    "import os\n",
    "import glob\n",
    "\n",
    "import numpy as np\n",
    "\n",
    "import itk\n",
    "from itk import TubeTK as tube\n",
    "\n",
    "import site\n",
    "site.addsitedir(\"../ARGUS\")\n",
    "\n",
    "from ARGUS_IO import *\n",
    "from ARGUS_preprocess_butterfly import ARGUS_preprocess_butterfly"
   ]
  },
  {
   "cell_type": "code",
   "execution_count": null,
   "id": "62b31099-5fd9-4525-8cf5-afa86c7df7dc",
   "metadata": {
    "tags": []
   },
   "outputs": [],
   "source": [
    "def save_images(filename, start_time, end_time, dir_name):\n",
    "    us_video_img = itk.imread(filename)\n",
    "    num_frames = us_video_img.GetLargestPossibleRegion().GetSize()[2]\n",
    "    time_per_frame = us_video_img.GetSpacing()[2]\n",
    "\n",
    "    preprocess_pnb = ARGUS_preprocess_butterfly()\n",
    "    full_img = preprocess_pnb.process(\n",
    "        vid,\n",
    "        [self.size_x, self.size_y])\n",
    "\n",
    "    img = full_image[:,:,start_frame:end_frame]\n",
    "\n",
    "    immath = tube.ImageMath.New(img)\n",
    "    arr = itk.GetArrayViewFromImage(img)\n",
    "    if arr.max() > 1:\n",
    "        immath.IntensityWindow(0,255,0,1)\n",
    "        \n",
    "    new_filename = os.path.basename(filename)[0][:-4]+\"_\"+str(start_time)+\"_\"+str(end_time)+\".mha\"\n",
    "\n",
    "    itk.imwrite(immath.GetOutput(), os.path.join(dir_name,new_filename), compression=True)"
   ]
  },
  {
   "cell_type": "code",
   "execution_count": 4,
   "id": "aa6d95d1-f046-4a40-af75-61319efff009",
   "metadata": {
    "tags": []
   },
   "outputs": [],
   "source": [
    "old_files = [\"Data_ETT/original/Positives/161/3. 161A to B_Video.mp4\"]\n",
    "start_time = 24\n",
    "end_time = 608"
   ]
  },
  {
   "cell_type": "code",
   "execution_count": 4,
   "id": "dea8a5eb-683f-49a3-8d74-0a1a065c79a7",
   "metadata": {
    "tags": []
   },
   "outputs": [
    {
     "name": "stdout",
     "output_type": "stream",
     "text": [
      "32\n",
      "32\n"
     ]
    }
   ],
   "source": [
    "start_time = 684\n",
    "end_time = 797\n",
    "\n",
    "old_files = [\"Data_ETT/original/Positives/1. 110 AtoB_Video.mp4\"]\n",
    "start_time = 288\n",
    "end_time = 577\n",
    "\n",
    "start_time = 607\n",
    "end_time = 789\n",
    "\n",
    "old_files = [\"Data_ETT/original/Positives/2. 118 AtoB_Video.mp4\"]\n",
    "start_time = 550\n",
    "end_time = 568\n",
    "\n",
    "old_files = [\"Data_ETT/original/Positives/3. 18A to B_Video.mp4\"]\n",
    "start_time = 0\n",
    "end_time = 58\n",
    "\n",
    "start_time = 144\n",
    "end_time = 337\n",
    "\n",
    "start_time = 470\n",
    "end_time = 567\n",
    "\n",
    "old_files = [\"Data_ETT/original/Positives/5. 134A to B_Video.mp4\"]\n",
    "start_time = 0\n",
    "end_time = 343\n",
    "\n",
    "old_files = [\"Data_ETT/original/Positives/4. 99A to B_Video.mp4\"]\n",
    "start_time = 469\n",
    "end_time = 626\n",
    "\n",
    "old_files = [\"Data_ETT/original/Positives/4. 37A to B_Video.mp4\"]\n",
    "start_time = 94\n",
    "end_time = 176\n",
    "\n",
    "old_files = [\"Data_ETT/original/Positives/2. 119A to B_Video.mp4\"]\n",
    "start_time = 0\n",
    "end_time = 60\n",
    "\n",
    "start_time = 80\n",
    "end_time = 922\n",
    "\n",
    "start_time = 950\n",
    "end_time = 1046\n",
    "\n",
    "old_files = [\"Data_ETT/original/Positives/2. 180A to B_Video.mp4\"]\n",
    "start_time = 638\n",
    "end_time = 693\n",
    "\n",
    "start_time = 709\n",
    "end_time = 714\n",
    "\n",
    "start_time = 753\n",
    "end_time = 765\n",
    "\n",
    "start_time = 775\n",
    "end_time = 778\n",
    "\n",
    "start_time = 801\n",
    "end_time = 857\n",
    "\n",
    "old_files = [\"Data_ETT/original/Positives/2. 164A to B_Video.mp4\"]\n",
    "start_time = 704\n",
    "end_time = 813\n",
    "\n",
    "old_files = [\"Data_ETT/original/Positives/2. 34A to B_Video.mp4\"]\n",
    "start_time = 680\n",
    "end_time = 714\n",
    "\n",
    "\n",
    "\n",
    "\n",
    "\n",
    "\n",
    "\n",
    "\n",
    "print(len(old_files))\n",
    "new_files = [\"s\"+os.path.basename(x)[:-7]+\".mha\" for x in old_files]\n",
    "save_images(old_files, new_files, \"images_ptx\")\n",
    "\n",
    "old_files = glob.glob(\"../../PTX/Data_PTX/old/Data/Final15/BAMC-PTXSliding-Annotations-Linear/*.interpolated-overlay.nii.gz\")\n",
    "print(len(old_files))\n",
    "new_files = [\"s\"+os.path.basename(x)[:-7]+\".mha\" for x in old_files]\n",
    "save_labels(old_files, new_files, \"labels_ptx\")"
   ]
  },
  {
   "cell_type": "code",
   "execution_count": null,
   "id": "72e2b37c-f468-4950-820a-de8b107acb7f",
   "metadata": {},
   "outputs": [],
   "source": []
  }
 ],
 "metadata": {
  "kernelspec": {
   "display_name": "Python 3 (ipykernel)",
   "language": "python",
   "name": "python3"
  },
  "language_info": {
   "codemirror_mode": {
    "name": "ipython",
    "version": 3
   },
   "file_extension": ".py",
   "mimetype": "text/x-python",
   "name": "python",
   "nbconvert_exporter": "python",
   "pygments_lexer": "ipython3",
   "version": "3.9.12"
  }
 },
 "nbformat": 4,
 "nbformat_minor": 5
}
