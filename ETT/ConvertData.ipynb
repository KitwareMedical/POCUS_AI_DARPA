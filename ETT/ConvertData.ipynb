{
 "cells": [
  {
   "cell_type": "code",
   "execution_count": 1,
   "id": "da6da129-9c36-45ec-93d5-76a43bfe4cb0",
   "metadata": {},
   "outputs": [],
   "source": [
    "import os\n",
    "import glob\n",
    "\n",
    "import numpy as np\n",
    "\n",
    "import itk\n",
    "from itk import TubeTK as tube\n",
    "\n",
    "import site\n",
    "site.addsitedir(\"../ARGUS\")\n",
    "\n",
    "from ARGUS_IO import *\n",
    "from ARGUS_preprocess_butterfly import ARGUS_preprocess_butterfly\n",
    "\n",
    "size_x = 256\n",
    "size_y = 256"
   ]
  },
  {
   "cell_type": "code",
   "execution_count": 2,
   "id": "62b31099-5fd9-4525-8cf5-afa86c7df7dc",
   "metadata": {
    "tags": []
   },
   "outputs": [],
   "source": [
    "def extract_roi(filename, start_frame, end_frame, dir_name, prefix=\"p\"):\n",
    "    vid = ARGUS_load_video(filename)\n",
    "    image_size = vid.GetLargestPossibleRegion().GetSize()\n",
    "    print(image_size)\n",
    "\n",
    "    preprocess_pnb = ARGUS_preprocess_butterfly()\n",
    "    vid_img = preprocess_pnb.process(\n",
    "        vid,\n",
    "        [size_x, size_y])\n",
    "    print(vid_img.shape)\n",
    "    \n",
    "    min_index = [0, 0, start_frame]\n",
    "    max_index = [image_size[0], image_size[1], end_frame]\n",
    "    crop = tube.CropImage.New(Input=vid_img)\n",
    "    crop.SetMin(min_index)\n",
    "    crop.SetMax(max_index)\n",
    "    crop.Update()\n",
    "    vid_roi_img = crop.GetOutput()\n",
    "                \n",
    "    immath = tube.ImageMath.New(vid_roi_img)\n",
    "    arr = itk.GetArrayFromImage(vid_roi_img)\n",
    "    if arr.max() > 1:\n",
    "        immath.IntensityWindow(0,255,0,1)\n",
    " \n",
    "    new_filename = prefix+os.path.basename(filename)[:-4]+\"_\"+str(start_time)+\"_\"+str(end_time)+\".mha\"\n",
    "\n",
    "    itk.imwrite(immath.GetOutput(), os.path.join(dir_name,new_filename), compression=True)\n"
   ]
  },
  {
   "cell_type": "code",
   "execution_count": 3,
   "id": "e54ca595-6ef6-468f-8d14-611bf5b34fdc",
   "metadata": {
    "tags": []
   },
   "outputs": [
    {
     "name": "stdout",
     "output_type": "stream",
     "text": [
      "itkSize3 ([912, 1080, 798])\n",
      "(798, 256, 256)\n",
      "itkSize3 ([912, 1080, 798])\n",
      "(798, 256, 256)\n",
      "itkSize3 ([912, 1080, 798])\n",
      "(798, 256, 256)\n"
     ]
    }
   ],
   "source": [
    "filename = \"Data_ETT/original/Positives/161/3. 161A to B_Video.mp4\"\n",
    "start_time = 24\n",
    "end_time = 608\n",
    "extract_roi(filename, start_time, end_time, \"./Data_ETT/images\")\n",
    "\n",
    "start_time = 684\n",
    "end_time = 797\n",
    "extract_roi(filename, start_time, end_time, \"./Data_ETT/images\")\n",
    "\n",
    "start_time = 608\n",
    "end_time = 684\n",
    "extract_roi(filename, start_time, end_time, \"./Data_ETT/images\", \"n\")\n"
   ]
  },
  {
   "cell_type": "code",
   "execution_count": 4,
   "id": "c2157c70-eeb1-4315-859e-a540d0ddf6ac",
   "metadata": {
    "tags": []
   },
   "outputs": [
    {
     "name": "stdout",
     "output_type": "stream",
     "text": [
      "itkSize3 ([912, 1080, 790])\n",
      "(790, 256, 256)\n",
      "itkSize3 ([912, 1080, 790])\n",
      "(790, 256, 256)\n",
      "itkSize3 ([912, 1080, 790])\n",
      "(790, 256, 256)\n"
     ]
    }
   ],
   "source": [
    "filename = \"Data_ETT/original/Positives/110/1. 110 AtoB_Video.mp4\"\n",
    "start_time = 288\n",
    "end_time = 577\n",
    "extract_roi(filename, start_time, end_time, \"./Data_ETT/images\")\n",
    "\n",
    "start_time = 607\n",
    "end_time = 789\n",
    "extract_roi(filename, start_time, end_time, \"./Data_ETT/images\")\n",
    "\n",
    "start_time = 0\n",
    "end_time = 288\n",
    "extract_roi(filename, start_time, end_time, \"./Data_ETT/images\", \"n\")\n",
    "\n",
    "#start_time = 577\n",
    "#end_time = 607\n",
    "#extract_roi(filename, start_time, end_time, \"./Data_ETT/images\", \"n\")\n"
   ]
  },
  {
   "cell_type": "code",
   "execution_count": 5,
   "id": "ddc67f37-ae0b-4d6b-add8-ec7996ba6fab",
   "metadata": {
    "tags": []
   },
   "outputs": [
    {
     "name": "stdout",
     "output_type": "stream",
     "text": [
      "itkSize3 ([912, 1080, 790])\n",
      "(790, 256, 256)\n"
     ]
    }
   ],
   "source": [
    "#filename = \"Data_ETT/original/Positives/118/2. 118 AtoB_Video.mp4\"\n",
    "#start_time = 550\n",
    "#end_time = 568\n",
    "#extract_roi(filename, start_time, end_time, \"./Data_ETT/images\")\n",
    "\n",
    "start_time = 0\n",
    "end_time = 550\n",
    "extract_roi(filename, start_time, end_time, \"./Data_ETT/images\", \"n\")\n"
   ]
  },
  {
   "cell_type": "code",
   "execution_count": 6,
   "id": "58fd1538-c041-4d3b-a55a-6ee75d2b7f65",
   "metadata": {
    "tags": []
   },
   "outputs": [
    {
     "name": "stdout",
     "output_type": "stream",
     "text": [
      "itkSize3 ([912, 1080, 568])\n",
      "(568, 256, 256)\n",
      "itkSize3 ([912, 1080, 568])\n",
      "(568, 256, 256)\n",
      "itkSize3 ([912, 1080, 568])\n",
      "(568, 256, 256)\n",
      "itkSize3 ([912, 1080, 568])\n",
      "(568, 256, 256)\n",
      "itkSize3 ([912, 1080, 568])\n",
      "(568, 256, 256)\n"
     ]
    }
   ],
   "source": [
    "filename = \"Data_ETT/original/Positives/18/3. 18A to B_Video.mp4\"\n",
    "start_time = 0\n",
    "end_time = 58\n",
    "extract_roi(filename, start_time, end_time, \"./Data_ETT/images\")\n",
    "\n",
    "start_time = 144\n",
    "end_time = 337\n",
    "extract_roi(filename, start_time, end_time, \"./Data_ETT/images\")\n",
    "\n",
    "start_time = 470\n",
    "end_time = 567\n",
    "extract_roi(filename, start_time, end_time, \"./Data_ETT/images\")\n",
    "\n",
    "start_time = 58\n",
    "end_time = 144\n",
    "extract_roi(filename, start_time, end_time, \"./Data_ETT/images\", \"n\")\n",
    "\n",
    "start_time = 337\n",
    "end_time = 470\n",
    "extract_roi(filename, start_time, end_time, \"./Data_ETT/images\", \"n\")\n"
   ]
  },
  {
   "cell_type": "code",
   "execution_count": 7,
   "id": "53e6c0af-6f88-4dae-9dc9-2b593a171a0d",
   "metadata": {
    "tags": []
   },
   "outputs": [
    {
     "name": "stdout",
     "output_type": "stream",
     "text": [
      "itkSize3 ([912, 1080, 344])\n",
      "(344, 256, 256)\n"
     ]
    }
   ],
   "source": [
    "filename = \"Data_ETT/original/Positives/134/5. 134A to B_Video.mp4\"\n",
    "start_time = 0\n",
    "end_time = 343\n",
    "extract_roi(filename, start_time, end_time, \"./Data_ETT/images\")"
   ]
  },
  {
   "cell_type": "code",
   "execution_count": 8,
   "id": "86b08216-8dc9-404c-bf75-aec2bd5245ce",
   "metadata": {
    "tags": []
   },
   "outputs": [
    {
     "name": "stdout",
     "output_type": "stream",
     "text": [
      "itkSize3 ([912, 1080, 627])\n",
      "(627, 256, 256)\n",
      "itkSize3 ([912, 1080, 627])\n",
      "(627, 256, 256)\n"
     ]
    }
   ],
   "source": [
    "filename = \"Data_ETT/original/Positives/99/4. 99A to B_Video.mp4\"\n",
    "start_time = 469\n",
    "end_time = 626\n",
    "extract_roi(filename, start_time, end_time, \"./Data_ETT/images\")\n",
    "\n",
    "start_time = 0\n",
    "end_time = 469\n",
    "extract_roi(filename, start_time, end_time, \"./Data_ETT/images\", \"n\")\n"
   ]
  },
  {
   "cell_type": "code",
   "execution_count": 9,
   "id": "7124a94f-2113-43d6-9540-c26c9a8a0c7a",
   "metadata": {
    "tags": []
   },
   "outputs": [
    {
     "name": "stdout",
     "output_type": "stream",
     "text": [
      "itkSize3 ([912, 1080, 458])\n",
      "(458, 256, 256)\n",
      "itkSize3 ([912, 1080, 458])\n",
      "(458, 256, 256)\n"
     ]
    }
   ],
   "source": [
    "filename = \"Data_ETT/original/Positives/37/4. 37A to B_Video.mp4\"\n",
    "start_time = 94\n",
    "end_time = 176\n",
    "extract_roi(filename, start_time, end_time, \"./Data_ETT/images\")\n",
    "\n",
    "start_time = 0\n",
    "end_time = 94\n",
    "extract_roi(filename, start_time, end_time, \"./Data_ETT/images\", \"n\")\n"
   ]
  },
  {
   "cell_type": "code",
   "execution_count": 10,
   "id": "aeabfd0c-eda2-495a-a9f6-fbeb6ed996eb",
   "metadata": {
    "tags": []
   },
   "outputs": [
    {
     "name": "stdout",
     "output_type": "stream",
     "text": [
      "itkSize3 ([912, 1080, 1066])\n",
      "(1066, 256, 256)\n",
      "itkSize3 ([912, 1080, 1066])\n",
      "(1066, 256, 256)\n",
      "itkSize3 ([912, 1080, 1066])\n",
      "(1066, 256, 256)\n"
     ]
    }
   ],
   "source": [
    "filename = \"Data_ETT/original/Positives/119/2. 119A to B_Video.mp4\"\n",
    "start_time = 0\n",
    "end_time = 60\n",
    "extract_roi(filename, start_time, end_time, \"./Data_ETT/images\")\n",
    "\n",
    "start_time = 80\n",
    "end_time = 922\n",
    "extract_roi(filename, start_time, end_time, \"./Data_ETT/images\")\n",
    "\n",
    "start_time = 950\n",
    "end_time = 1046\n",
    "extract_roi(filename, start_time, end_time, \"./Data_ETT/images\")\n",
    "\n",
    "#start_time = 922\n",
    "#end_time = 950\n",
    "#extract_roi(filename, start_time, end_time, \"./Data_ETT/images\", \"n\")\n",
    "\n"
   ]
  },
  {
   "cell_type": "code",
   "execution_count": 11,
   "id": "180a7f3c-b00b-417a-be6e-476c943a4e67",
   "metadata": {
    "tags": []
   },
   "outputs": [
    {
     "name": "stdout",
     "output_type": "stream",
     "text": [
      "itkSize3 ([912, 1080, 1066])\n",
      "(1066, 256, 256)\n",
      "itkSize3 ([912, 1080, 1066])\n",
      "(1066, 256, 256)\n",
      "itkSize3 ([912, 1080, 1066])\n",
      "(1066, 256, 256)\n",
      "itkSize3 ([912, 1080, 1066])\n",
      "(1066, 256, 256)\n",
      "itkSize3 ([912, 1080, 1066])\n",
      "(1066, 256, 256)\n"
     ]
    }
   ],
   "source": [
    "old_files = \"Data_ETT/original/Positives/180/2. 180A to B_Video.mp4\"\n",
    "start_time = 638\n",
    "end_time = 693\n",
    "extract_roi(filename, start_time, end_time, \"./Data_ETT/images\")\n",
    "\n",
    "start_time = 753\n",
    "end_time = 778\n",
    "extract_roi(filename, start_time, end_time, \"./Data_ETT/images\")\n",
    "\n",
    "start_time = 801\n",
    "end_time = 857\n",
    "extract_roi(filename, start_time, end_time, \"./Data_ETT/images\")\n",
    "\n",
    "start_time = 0\n",
    "end_time = 638\n",
    "extract_roi(filename, start_time, end_time, \"./Data_ETT/images\", \"n\")\n",
    "\n",
    "start_time = 714\n",
    "end_time = 753\n",
    "extract_roi(filename, start_time, end_time, \"./Data_ETT/images\", \"n\")\n",
    "\n",
    "#start_time = 778\n",
    "#end_time = 801\n",
    "#extract_roi(filename, start_time, end_time, \"./Data_ETT/images\", \"n\")\n"
   ]
  },
  {
   "cell_type": "code",
   "execution_count": 12,
   "id": "f3a4dd07-e1cd-46a1-aa52-39d9de958108",
   "metadata": {
    "tags": []
   },
   "outputs": [
    {
     "name": "stdout",
     "output_type": "stream",
     "text": [
      "itkSize3 ([912, 1080, 1038])\n",
      "(1038, 256, 256)\n",
      "itkSize3 ([912, 1080, 1038])\n",
      "(1038, 256, 256)\n"
     ]
    }
   ],
   "source": [
    "filename = \"Data_ETT/original/Positives/164/2. 164A to B_Video.mp4\"\n",
    "start_time = 704\n",
    "end_time = 813\n",
    "extract_roi(filename, start_time, end_time, \"./Data_ETT/images\")\n",
    "\n",
    "start_time = 0\n",
    "end_time = 704\n",
    "extract_roi(filename, start_time, end_time, \"./Data_ETT/images\", \"n\")\n"
   ]
  },
  {
   "cell_type": "code",
   "execution_count": 13,
   "id": "92c5a441-c60a-40be-8d6c-7bb2155c6adf",
   "metadata": {
    "tags": []
   },
   "outputs": [
    {
     "name": "stdout",
     "output_type": "stream",
     "text": [
      "itkSize3 ([912, 1080, 715])\n",
      "(715, 256, 256)\n",
      "itkSize3 ([912, 1080, 715])\n",
      "(715, 256, 256)\n"
     ]
    }
   ],
   "source": [
    "filename = \"Data_ETT/original/Positives/34/2. 34A to B_Video.mp4\"\n",
    "start_time = 680\n",
    "end_time = 714\n",
    "extract_roi(filename, start_time, end_time, \"./Data_ETT/images\")\n",
    "\n",
    "start_time = 0\n",
    "end_time = 680\n",
    "extract_roi(filename, start_time, end_time, \"./Data_ETT/images\", \"n\")\n"
   ]
  },
  {
   "cell_type": "code",
   "execution_count": 14,
   "id": "5bf2ce9b-3c3d-4a22-a72c-531e69f599f2",
   "metadata": {},
   "outputs": [
    {
     "name": "stdout",
     "output_type": "stream",
     "text": [
      "itkSize3 ([912, 1080, 246])\n",
      "(246, 256, 256)\n"
     ]
    }
   ],
   "source": [
    "filename = \"Data_ETT/original/Positives/47/4. 47_Video B (Trach Tube).mp4\"\n",
    "start_time = 0\n",
    "end_time = 246\n",
    "extract_roi(filename, start_time, end_time, \"./Data_ETT/images\", \"p\")"
   ]
  },
  {
   "cell_type": "code",
   "execution_count": 15,
   "id": "4a8431d6-5587-4df6-9b94-4f4ea0cc041d",
   "metadata": {},
   "outputs": [
    {
     "name": "stdout",
     "output_type": "stream",
     "text": [
      "itkSize3 ([912, 1080, 228])\n",
      "(228, 256, 256)\n",
      "itkSize3 ([912, 1080, 227])\n",
      "(227, 256, 256)\n",
      "itkSize3 ([912, 1080, 439])\n",
      "(439, 256, 256)\n",
      "itkSize3 ([912, 1080, 209])\n",
      "(209, 256, 256)\n"
     ]
    }
   ],
   "source": [
    "filename = \"Data_ETT/original/Positives/134/2. 134A_Video.mp4\"\n",
    "start_time = 0\n",
    "end_time = 228\n",
    "extract_roi(filename, start_time, end_time, \"./Data_ETT/images\", \"n\")\n",
    "\n",
    "filename = \"Data_ETT/original/Positives/136/2. 136A_Video.mp4\"\n",
    "start_time = 0\n",
    "end_time = 227\n",
    "extract_roi(filename, start_time, end_time, \"./Data_ETT/images\", \"n\")\n",
    "\n",
    "filename = \"Data_ETT/original/Positives/161/2. 161A_Video.mp4\"\n",
    "start_time = 0\n",
    "end_time = 439\n",
    "extract_roi(filename, start_time, end_time, \"./Data_ETT/images\", \"n\")\n",
    "\n",
    "filename = \"Data_ETT/original/Positives/18/2. 18A_Video.mp4\"\n",
    "start_time = 0\n",
    "end_time = 209\n",
    "extract_roi(filename, start_time, end_time, \"./Data_ETT/images\", \"n\")\n"
   ]
  },
  {
   "cell_type": "code",
   "execution_count": null,
   "id": "07c96a5d-68f6-45a5-b3b8-05f9eb6ca3b4",
   "metadata": {},
   "outputs": [],
   "source": []
  }
 ],
 "metadata": {
  "kernelspec": {
   "display_name": "Python 3 (ipykernel)",
   "language": "python",
   "name": "python3"
  },
  "language_info": {
   "codemirror_mode": {
    "name": "ipython",
    "version": 3
   },
   "file_extension": ".py",
   "mimetype": "text/x-python",
   "name": "python",
   "nbconvert_exporter": "python",
   "pygments_lexer": "ipython3",
   "version": "3.9.12"
  }
 },
 "nbformat": 4,
 "nbformat_minor": 5
}
