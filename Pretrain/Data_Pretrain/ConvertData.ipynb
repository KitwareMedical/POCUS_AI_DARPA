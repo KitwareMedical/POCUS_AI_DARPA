{
 "cells": [
  {
   "cell_type": "code",
   "execution_count": 1,
   "id": "da6da129-9c36-45ec-93d5-76a43bfe4cb0",
   "metadata": {},
   "outputs": [],
   "source": [
    "import os\n",
    "import glob\n",
    "\n",
    "import numpy as np\n",
    "\n",
    "import itk\n",
    "from itk import TubeTK as tube"
   ]
  },
  {
   "cell_type": "code",
   "execution_count": 2,
   "id": "62b31099-5fd9-4525-8cf5-afa86c7df7dc",
   "metadata": {},
   "outputs": [],
   "source": [
    "def save_images(old_files, new_files, dir_name):\n",
    "    for old_file,new_file in zip(old_files,new_files):\n",
    "        img = itk.imread(old_file)\n",
    "        immath = tube.ImageMath.New(img)\n",
    "        arr = itk.GetArrayViewFromImage(img)\n",
    "        if arr.max() > 1:\n",
    "            immath.IntensityWindow(0,255,0,1)\n",
    "        itk.imwrite(immath.GetOutput(), os.path.join(dir_name,new_file), compression=True)"
   ]
  },
  {
   "cell_type": "code",
   "execution_count": 3,
   "id": "964075c2-bf23-4011-a2d6-8b68e98baf33",
   "metadata": {},
   "outputs": [],
   "source": [
    "def save_labels(old_files, new_files, dir_name):\n",
    "    for old_file,new_file in zip(old_files,new_files):\n",
    "        img = itk.imread(old_file)\n",
    "        arr = itk.GetArrayFromImage(img).astype(np.uint8)\n",
    "        if arr.max() > 2:\n",
    "            arr = np.where(arr>2,1,arr)\n",
    "            img2 = itk.GetImageFromArray(arr)\n",
    "            img2.CopyInformation(img)\n",
    "            immath = tube.ImageMath.New(img2)\n",
    "            itk.imwrite(immath.GetOutput(), os.path.join(dir_name,new_file), compression=True)\n",
    "        else:\n",
    "            immath = tube.ImageMath.New(img)\n",
    "            itk.imwrite(immath.GetOutput(), os.path.join(dir_name,new_file), compression=True)"
   ]
  },
  {
   "cell_type": "code",
   "execution_count": 4,
   "id": "90388887-749e-47ce-96d9-7b40fbed2a09",
   "metadata": {},
   "outputs": [
    {
     "name": "stdout",
     "output_type": "stream",
     "text": [
      "0\n",
      "0\n"
     ]
    }
   ],
   "source": [
    "# PTX Sliding\n",
    "\n",
    "old_files = glob.glob(\"../../PTX/Data_PTX/Data/Final30/BAMC-PTXSliding-Annotations-Linear/*_?????.nii.gz\")\n",
    "print(len(old_files))\n",
    "new_files = [\"s\"+os.path.basename(x)[:-7]+\".mha\" for x in old_files]\n",
    "save_images(old_files, new_files, \"images_ptx\")\n",
    "\n",
    "old_files = glob.glob(\"../../PTX/Data_PTX/Data/Final30/BAMC-PTXSliding-Annotations-Linear/*.interpolated-overlay.nii.gz\")\n",
    "print(len(old_files))\n",
    "new_files = [\"s\"+os.path.basename(x)[:-7]+\".mha\" for x in old_files]\n",
    "save_labels(old_files, new_files, \"labels_ptx\")"
   ]
  },
  {
   "cell_type": "code",
   "execution_count": null,
   "id": "4f956dac-a7ca-443c-ade2-2880b0429826",
   "metadata": {},
   "outputs": [],
   "source": [
    "# PTX No Sliding\n",
    "\n",
    "old_files = glob.glob(\"../../PTX/Data_PTX/Data/Final30/BAMC-PTXNoSliding-Annotations-Linear/*_?????.nii.gz\")\n",
    "print(len(old_files))\n",
    "new_files = [\"n\"+os.path.basename(x)[:-7]+\".mha\" for x in old_files]\n",
    "save_images(old_files, new_files, \"images_ptx\")\n",
    "\n",
    "old_files = glob.glob(\"../../PTX/Data_PTX/Data/Final30/BAMC-PTXNoSliding-Annotations-Linear/*.interpolated-overlay.nii.gz\")\n",
    "print(len(old_files))\n",
    "new_files = [\"n\"+os.path.basename(x)[:-7]+\".mha\" for x in old_files]\n",
    "save_labels(old_files, new_files, \"labels_ptx\")"
   ]
  },
  {
   "cell_type": "code",
   "execution_count": 6,
   "id": "0b5f9214-5186-4c62-bb5d-a788dbc83416",
   "metadata": {},
   "outputs": [
    {
     "name": "stdout",
     "output_type": "stream",
     "text": [
      "30\n"
     ]
    },
    {
     "name": "stderr",
     "output_type": "stream",
     "text": [
      "IOStream.flush timed out\n",
      "IOStream.flush timed out\n"
     ]
    },
    {
     "name": "stdout",
     "output_type": "stream",
     "text": [
      "30\n"
     ]
    }
   ],
   "source": [
    "# PNB Positive and Negative\n",
    "\n",
    "old_files = glob.glob(\"../../PNB/Data_PNB/old/Data/*_cropM_prep.nii.gz\")\n",
    "print(len(old_files))\n",
    "new_files = [os.path.basename(x)[:-7]+\".mha\" for x in old_files]\n",
    "save_images(old_files, new_files, \"images_pnb\")\n",
    "\n",
    "old_files = glob.glob(\"../../PNB/Data_PNB/old/Data/*.overlay_prep.nii.gz\")\n",
    "print(len(old_files))\n",
    "new_files = [os.path.basename(x)[:-7]+\".mha\" for x in old_files]\n",
    "save_labels(old_files, new_files, \"labels_pnb\")"
   ]
  },
  {
   "cell_type": "code",
   "execution_count": 9,
   "id": "080ee7c0-7553-4da4-98eb-eeb7815cefc8",
   "metadata": {},
   "outputs": [
    {
     "name": "stdout",
     "output_type": "stream",
     "text": [
      "33\n",
      "33\n"
     ]
    }
   ],
   "source": [
    "# ONSD Positive, Negative, and Indeterminant\n",
    "\n",
    "old_files = glob.glob(\"../../ONSD/Data_ONSD/old/Data/*_norm.nii.gz\")\n",
    "print(len(old_files))\n",
    "new_files = [os.path.basename(x)[:-7]+\".mha\" for x in old_files]\n",
    "save_images(old_files, new_files, \"images_onsd\")\n",
    "\n",
    "old_files = glob.glob(\"../../ONSD/Data_ONSD/old/Data/*.overlay.nii.gz\")\n",
    "print(len(old_files))\n",
    "new_files = [os.path.basename(x)[:-7]+\".mha\" for x in old_files]\n",
    "save_labels(old_files, new_files, \"labels_onsd\")"
   ]
  },
  {
   "cell_type": "code",
   "execution_count": 10,
   "id": "5fc7cac9-e711-4dce-b1df-fd09db59fdb4",
   "metadata": {},
   "outputs": [],
   "source": [
    "# makes half\n",
    "import shutil\n",
    "\n",
    "def make_half(task_name):\n",
    "    old_files = sorted(glob.glob(\"./images_\"+task_name+\"/*\"))\n",
    "    print(len(old_files), len(old_files)//2)\n",
    "    new_dir = \"./images_\"+task_name+\"_half\"\n",
    "    for i in range(len(old_files)//2):\n",
    "        shutil.copy(old_files[i], new_dir)\n",
    "    old_files = sorted(glob.glob(\"./labels_\"+task_name+\"/*\"))\n",
    "    print(len(old_files), len(old_files)//2)\n",
    "    new_dir = \"./labels_\"+task_name+\"_half\"\n",
    "    for i in range(len(old_files)//2):\n",
    "        shutil.copy(old_files[i], new_dir)"
   ]
  },
  {
   "cell_type": "code",
   "execution_count": 3,
   "id": "3ad3acb6-cfa1-4682-8387-d27869ba0dd3",
   "metadata": {},
   "outputs": [
    {
     "name": "stdout",
     "output_type": "stream",
     "text": [
      "62 31\n",
      "62 31\n"
     ]
    }
   ],
   "source": [
    "make_half(\"ptx\")"
   ]
  },
  {
   "cell_type": "code",
   "execution_count": 11,
   "id": "adc9443e-bbdb-40b9-894d-03cfd4a450bf",
   "metadata": {},
   "outputs": [
    {
     "name": "stdout",
     "output_type": "stream",
     "text": [
      "30 15\n",
      "30 15\n"
     ]
    }
   ],
   "source": [
    "make_half(\"pnb\")"
   ]
  },
  {
   "cell_type": "code",
   "execution_count": 12,
   "id": "57780620-848d-4d29-b96a-4b6fb24ece50",
   "metadata": {},
   "outputs": [
    {
     "name": "stdout",
     "output_type": "stream",
     "text": [
      "33 16\n",
      "33 16\n"
     ]
    }
   ],
   "source": [
    "make_half(\"onsd\")"
   ]
  },
  {
   "cell_type": "code",
   "execution_count": null,
   "id": "72e2b37c-f468-4950-820a-de8b107acb7f",
   "metadata": {},
   "outputs": [],
   "source": []
  }
 ],
 "metadata": {
  "kernelspec": {
   "display_name": "Python 3 (ipykernel)",
   "language": "python",
   "name": "python3"
  },
  "language_info": {
   "codemirror_mode": {
    "name": "ipython",
    "version": 3
   },
   "file_extension": ".py",
   "mimetype": "text/x-python",
   "name": "python",
   "nbconvert_exporter": "python",
   "pygments_lexer": "ipython3",
   "version": "3.9.12"
  }
 },
 "nbformat": 4,
 "nbformat_minor": 5
}
