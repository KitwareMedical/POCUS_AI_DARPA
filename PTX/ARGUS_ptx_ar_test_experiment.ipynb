{
 "cells": [
  {
   "cell_type": "code",
   "execution_count": null,
   "id": "d2a02f50-2115-4829-87bb-4bbff24ffd5d",
   "metadata": {},
   "outputs": [],
   "source": [
    "import site\n",
    "site.addsitedir(\"../ARGUS\")\n",
    "\n",
    "from ARGUS_ptx_ar_train import ARGUS_ptx_ar_train"
   ]
  },
  {
   "cell_type": "code",
   "execution_count": null,
   "id": "a985d815-0ee6-466b-82cb-aefc21758661",
   "metadata": {},
   "outputs": [],
   "source": [
    "nnet = ARGUS_ptx_ar_train(\"../ARGUS/ARGUS_ptx_ar.cfg\", \"vfold\", device_num=0)\n",
    "num_folds = nnet.num_folds\n",
    "nnet.num_folds = 1\n",
    "nnet.num_models = 1\n",
    "nnet.train_data_portion = 1.0\n",
    "nnet.test_data_portion = 1.0\n",
    "nnet.validation_data_portion = 1.0\n",
    "nnet.setup_vfold_files()"
   ]
  },
  {
   "cell_type": "code",
   "execution_count": null,
   "id": "55b2c3a6-55bd-473c-9e03-3456b3b22d85",
   "metadata": {},
   "outputs": [],
   "source": [
    "for f in range(num_folds):\n",
    "    nnet.view_training_metric_curves(vfold_num=f, run_id=0)"
   ]
  },
  {
   "cell_type": "code",
   "execution_count": null,
   "id": "3e62c6f6-deec-404c-81d6-0ca2121c0171",
   "metadata": {},
   "outputs": [],
   "source": [
    "for r in [0]: #range(nnet.num_models):\n",
    "    print(\"*** Run\", r)\n",
    "    nnet.setup_testing_vfold(vfold_num=0, run_num=r)\n",
    "    for vf in range(num_folds):\n",
    "        test_output = nnet.view_testing_results_vfold(model_type=\"best\", \n",
    "                                                      run_ids=[r], \n",
    "                                                      model_vfold=vf, \n",
    "                                                      summary_only=False)"
   ]
  },
  {
   "cell_type": "code",
   "execution_count": null,
   "id": "23fc86a9-cc30-429d-a4e8-f3e8febadc27",
   "metadata": {},
   "outputs": [],
   "source": []
  }
 ],
 "metadata": {
  "kernelspec": {
   "display_name": "Python 3 (ipykernel)",
   "language": "python",
   "name": "python3"
  },
  "language_info": {
   "codemirror_mode": {
    "name": "ipython",
    "version": 3
   },
   "file_extension": ".py",
   "mimetype": "text/x-python",
   "name": "python",
   "nbconvert_exporter": "python",
   "pygments_lexer": "ipython3",
   "version": "3.9.12"
  }
 },
 "nbformat": 4,
 "nbformat_minor": 5
}
