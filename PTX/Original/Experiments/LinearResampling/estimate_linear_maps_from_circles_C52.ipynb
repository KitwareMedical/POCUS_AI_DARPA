{
 "cells": [
  {
   "cell_type": "code",
   "execution_count": 2,
   "metadata": {},
   "outputs": [],
   "source": [
    "import numpy as np\n",
    "import scipy as sp\n",
    "\n",
    "import scipy\n",
    "from scipy.stats import multivariate_normal\n",
    "from scipy       import optimize\n",
    "\n",
    "import skimage\n",
    "\n",
    "import matplotlib.pyplot as plt\n",
    "\n",
    "import pylab\n",
    "\n",
    "from glob import glob\n",
    "import sys\n",
    "\n",
    "import itk\n",
    "\n",
    "from tqdm import tqdm\n",
    "\n",
    "import math"
   ]
  },
  {
   "cell_type": "code",
   "execution_count": 3,
   "metadata": {},
   "outputs": [],
   "source": [
    "num_mask = 3\n",
    "im_mask = []\n",
    "im_mask.append(itk.GetArrayFromImage(itk.imread(\"EstimatedMask_Depth5_Edited.png\", itk.F)))\n",
    "im_mask.append(itk.GetArrayFromImage(itk.imread(\"EstimatedMask_Depth12_Edited.png\", itk.F)))\n",
    "im_mask.append(itk.GetArrayFromImage(itk.imread(\"EstimatedMask_Depth16_Edited.png\", itk.F)))\n",
    "im_mask_depth = [5,12,16]"
   ]
  },
  {
   "cell_type": "code",
   "execution_count": 4,
   "metadata": {},
   "outputs": [],
   "source": [
    "def get_top_and_bottom_curve_points_C52(im, centerX):\n",
    "    \"\"\" Find points along the top (yt) and bottom (yb) curves of the ultrasound image \"\"\"\n",
    "    min_x = int(centerX-centerX*0.1)\n",
    "    max_x = int(centerX+centerX*0.1)\n",
    "    step_x = 10\n",
    "    size_x = int((max_x - min_x)/step_x)\n",
    "    xt = np.zeros(size_x, dtype=int)\n",
    "    yt = np.zeros(size_x, dtype=int)\n",
    "    for t in range(size_x):\n",
    "        xt[t] = int(min_x + t * step_x)\n",
    "        mid = np.mean(im[:,xt[t]-2:xt[t]+2],axis=1)\n",
    "        nz = np.flatnonzero(mid)\n",
    "        yt[t] = nz[0]\n",
    "    min_x = int(centerX-centerX*0.25)\n",
    "    max_x = int(centerX+centerX*0.25)\n",
    "    step_x = 10\n",
    "    size_x = int((max_x - min_x)/step_x)\n",
    "    xb = np.zeros(size_x, dtype=int)\n",
    "    yb = np.zeros(size_x, dtype=int)\n",
    "    for t in range(size_x):\n",
    "        xb[t] = int(min_x + t * step_x)\n",
    "        mid = np.mean(im[:,xb[t]-2:xb[t]+2],axis=1)\n",
    "        nz = np.flatnonzero(mid)\n",
    "        yb[t] = nz[nz.size-1]\n",
    "    return xt,yt,xb,yb\n",
    "\n",
    "def calculate_radius(xc, yc, x, y):\n",
    "    \"\"\" calculate the distance of each data points from the center (xc, yc) \"\"\"\n",
    "    return np.sqrt((x-xc)**2 + (y-yc)**2)\n",
    "\n",
    "def calculate_radius_C52(yc, x, y, centerX):\n",
    "    \"\"\" calculate the distance of each data points from the center (xc, yc) \"\"\"\n",
    "    return np.sqrt((x-centerX)**2 + (y-yc)**2)\n",
    "\n",
    "def fit_circle(c, x, y):\n",
    "    \"\"\" calculate the algebraic distance between the 2D points and the mean circle centered at c=(xc, yc) \"\"\"\n",
    "    Ri = calculate_radius(*c, x, y)\n",
    "    return Ri - Ri.mean()\n",
    "\n",
    "def fit_circle_C52(c, x, y, centerX):\n",
    "    \"\"\" calculate the algebraic distance between the 2D points and the mean circle centered at c=(xc, yc) \"\"\"\n",
    "    Ri = calculate_radius_C52(*c, x, y, centerX)\n",
    "    return Ri - Ri.mean()"
   ]
  },
  {
   "cell_type": "code",
   "execution_count": 5,
   "metadata": {},
   "outputs": [],
   "source": [
    "def get_circles_from_points(x, y, center, use_C52=True):\n",
    "    # solve for top circle\n",
    "    centerX0 = center[0]\n",
    "    centerY = center[1]\n",
    "    if use_C52:\n",
    "        center_estimate, ier = optimize.leastsq(fit_circle_C52,centerY,args=(x,y,centerX0),col_deriv=True)\n",
    "        Ri                   = calculate_radius_C52(*center_estimate,x,y,centerX)\n",
    "        x_estimate = centerX0\n",
    "        y_estimate = center_estimate[0]\n",
    "        r_estimate = Ri.mean()\n",
    "    else:\n",
    "        center_estimate, ier = optimize.leastsq(fit_circle,center,args=(x,y),col_deriv=True)\n",
    "        Ri                = calculate_radius(*center_top_estimate,x,y)\n",
    "        x_estimate = center_estimate[0]\n",
    "        y_estimate = center_estimate[1]\n",
    "        r_estimate = Ri.mean()\n",
    "    return x_estimate, y_estimate, r_estimate"
   ]
  },
  {
   "cell_type": "code",
   "execution_count": 6,
   "metadata": {},
   "outputs": [
    {
     "name": "stdout",
     "output_type": "stream",
     "text": [
      "952.6726509025195\n",
      "955.6742272738779\n",
      "953.6145025854096\n",
      "5\n",
      "   Top:  954.0 11.143492642914767 421.5909040997465\n",
      "   Bottom:  954.0 -85.72432851471096 908.1117281864598\n",
      "\n",
      "12\n",
      "   Top:  954.0 21.79736469989889 233.1021061407371\n",
      "   Bottom:  954.0 -334.38808522118984 1262.892672512338\n",
      "\n",
      "16\n",
      "   Top:  954.0 -120.74286198368526 297.8172838772864\n",
      "   Bottom:  954.0 162.20133192135734 889.5753071341097\n",
      "\n"
     ]
    }
   ],
   "source": [
    "# Compute a least squares estimate the top and bottom circles from lists of points along the top and bottom curves\n",
    "#   for every ultrasound video (represented by a mean 2D image)\n",
    "\n",
    "centerX = 0\n",
    "for i in range(3):\n",
    "    im = (im_mask[i]>0).astype(np.uint8)\n",
    "    c = scipy.ndimage.measurements.center_of_mass(im)[1]\n",
    "    centerX += c\n",
    "    print(c)\n",
    "centerX = int(np.round(centerX/3,0))\n",
    "\n",
    "centert = (centerX, -55)\n",
    "centerb = (centerX, -721)\n",
    "\n",
    "x_top_estimate = np.zeros(num_mask)\n",
    "y_top_estimate = np.zeros(num_mask)\n",
    "r_top_estimate = np.zeros(num_mask)\n",
    "x_bottom_estimate = np.zeros(num_mask)\n",
    "y_bottom_estimate = np.zeros(num_mask)\n",
    "r_bottom_estimate = np.zeros(num_mask)\n",
    "\n",
    "for i in range(3):\n",
    "    xt,yt,xb,yb = get_top_and_bottom_curve_points_C52(im_mask[i], centerX)\n",
    "    \n",
    "    x_top_estimate[i], y_top_estimate[i], r_top_estimate[i] = get_circles_from_points(xt, yt, centert, use_C52=True)\n",
    "    x_bottom_estimate[i], y_bottom_estimate[i], r_bottom_estimate[i] = get_circles_from_points(xb, yb, centerb, use_C52=True)\n",
    "\n",
    "    \n",
    "    print(im_mask_depth[i])\n",
    "    print(\"   Top: \", x_top_estimate[i], y_top_estimate[i], r_top_estimate[i])\n",
    "    print(\"   Bottom: \", x_bottom_estimate[i], y_bottom_estimate[i], r_bottom_estimate[i])\n",
    "    print()\n",
    "    "
   ]
  },
  {
   "cell_type": "code",
   "execution_count": 7,
   "metadata": {},
   "outputs": [],
   "source": [
    "def get_linear_map_C52(mask, xt, yt, rt, xb, yb, rb, ray_density = 0.5, blur = 0.5):\n",
    "    try:\n",
    "        assert(blur > 0)\n",
    "    except:\n",
    "        sys.exit(\"blur needs to be greater than zero\")\n",
    "\n",
    "    center_x = (xt + xb)/2 \n",
    "    center_y = (3*yt + yb)/4\n",
    "    center = np.array([center_x, center_y])\n",
    "\n",
    "    inner_radius = (yt+rt)-center_y\n",
    "    outer_radius = (yb+rb)-center_y\n",
    "    \n",
    "    print(center_x, center_y, inner_radius, outer_radius)\n",
    "\n",
    "    radii = np.array([inner_radius, outer_radius])\n",
    "    angle = (67.5/180)*math.pi\n",
    "    \n",
    "    left_angle = -angle/2\n",
    "    right_angle = angle/2\n",
    "\n",
    "    # determine the x and y sizes of the resampled image\n",
    "    # from ray density. y size will be sector depth\n",
    "    target_xsize = int(ray_density*outer_radius*angle + 0.5) # arc length (pixels) times ray density\n",
    "    target_ysize = int(outer_radius - inner_radius + 0.5) # depth of US image\n",
    "\n",
    "    # create mapping tensor\n",
    "    mapping = np.zeros((target_ysize, target_xsize, 11))\n",
    "    mapping_mask = np.zeros(mask.shape)\n",
    "    \n",
    "    thetas = np.linspace(left_angle, left_angle+angle, target_xsize+2)\n",
    "    rads = np.linspace(inner_radius, outer_radius, target_ysize+2)\n",
    "\n",
    "\n",
    "    s_y = mask.shape[0]\n",
    "    s_x = mask.shape[1]\n",
    "    for i in tqdm(range(target_xsize)):\n",
    "        for j in range(target_ysize): \n",
    "            \n",
    "            theta = thetas[i + 1]\n",
    "            rad = rads[j + 1]\n",
    "            \n",
    "            x = np.sin(theta)*rad + center_x\n",
    "            y = inner_radius + center_y + j #np.cos(theta)*rad + center_y\n",
    "            \n",
    "            if(x-1<0 or x+1>s_x or y-1<0 or y+1>s_y):\n",
    "                continue\n",
    "                \n",
    "            kernel_center_x = int(np.round(x))\n",
    "            kernel_center_y = int(np.round(y))\n",
    "            kernel_weights = np.zeros([3,3])\n",
    "            \n",
    "            if(mask[kernel_center_y,kernel_center_x] == 0):\n",
    "                continue\n",
    "\n",
    "            mapping_mask[kernel_center_y,kernel_center_x] = i\n",
    "            \n",
    "            G = multivariate_normal([x,y], np.eye(2)*blur)\n",
    "            for m,i0 in enumerate(range(kernel_center_x-1,kernel_center_x+1)):\n",
    "                for n,i1 in enumerate(range(kernel_center_y-1,kernel_center_y+1)):\n",
    "                    kernel_weights[n,m] = G.pdf([i0,i1])\n",
    "                    \n",
    "            if (np.sum(kernel_weights) != 0):\n",
    "                kernel_weights = kernel_weights / np.sum(kernel_weights)\n",
    "            kernel_weights = kernel_weights.reshape(9)\n",
    "            mapping[j,i] = np.concatenate(([kernel_center_x, kernel_center_y], kernel_weights))\n",
    "        \n",
    "    return mapping,mapping_mask"
   ]
  },
  {
   "cell_type": "code",
   "execution_count": 71,
   "metadata": {},
   "outputs": [
    {
     "name": "stderr",
     "output_type": "stream",
     "text": [
      "  1%|▎                                         | 2/328 [00:00<00:25, 12.77it/s]"
     ]
    },
    {
     "name": "stdout",
     "output_type": "stream",
     "text": [
      "954.0 -13.073462646491665 445.807859389153 835.4608623182405\n"
     ]
    },
    {
     "name": "stderr",
     "output_type": "stream",
     "text": [
      "100%|████████████████████████████████████████| 328/328 [00:29<00:00, 11.21it/s]\n",
      "  0%|                                          | 1/391 [00:00<00:55,  7.01it/s]"
     ]
    },
    {
     "name": "stdout",
     "output_type": "stream",
     "text": [
      "954.0 -67.24899778037329 322.1484686210093 995.7535850715216\n"
     ]
    },
    {
     "name": "stderr",
     "output_type": "stream",
     "text": [
      "100%|████████████████████████████████████████| 391/391 [01:02<00:00,  6.29it/s]\n",
      "  0%|                                          | 1/433 [00:00<01:24,  5.11it/s]"
     ]
    },
    {
     "name": "stdout",
     "output_type": "stream",
     "text": [
      "954.0 -50.00681350742461 227.08123540102576 1101.7834525628916\n"
     ]
    },
    {
     "name": "stderr",
     "output_type": "stream",
     "text": [
      "100%|████████████████████████████████████████| 433/433 [01:34<00:00,  4.61it/s]\n"
     ]
    }
   ],
   "source": [
    "im_map = []\n",
    "for i in range(len(im_mask)):\n",
    "    xt = x_top_estimate[i]\n",
    "    yt = y_top_estimate[i]\n",
    "    rt = r_top_estimate[i]\n",
    "    xb = x_bottom_estimate[i]\n",
    "    yb = y_bottom_estimate[i]\n",
    "    rb = r_bottom_estimate[i]\n",
    "    mapping,mapping_mask = get_linear_map_C52(im_mask[i], xt, yt, rt, xb, yb, rb, ray_density=1/3, blur=0.4)\n",
    "\n",
    "    if im_mask_depth[i] == 5:\n",
    "        mapping = mapping[10:330,1:326]\n",
    "        mapping_mask = mapping_mask[10:330,1:326]\n",
    "    elif im_mask_depth[i] == 12:\n",
    "        mapping = mapping[10:330,32:357]\n",
    "        mapping_mask = mapping_mask[10:330,32:357]\n",
    "    elif im_mask_depth[i] == 16:\n",
    "        mapping = mapping[10:330,53:378]\n",
    "        mapping_mask = mapping_mask[10:330,53:378]\n",
    "    im_map.append(mapping)\n",
    "    itkimg = itk.GetImageFromArray(mapping.astype('f'))\n",
    "    filename = \"linear_map_depth\" + str(im_mask_depth[i])\n",
    "    itk.imwrite(itkimg,filename+\".mha\")\n",
    "    np.save(filename+\".npy\", mapping)\n",
    "\n",
    "    itkimg = itk.GetImageFromArray(mapping_mask.astype('f'))\n",
    "    filename = \"test_linear_mapmask_depth\" + str(im_mask_depth[i])\n",
    "    itk.imwrite(itkimg,filename+\".mha\")\n",
    "    np.save(filename+\".npy\", mapping_mask)"
   ]
  },
  {
   "cell_type": "code",
   "execution_count": 72,
   "metadata": {},
   "outputs": [],
   "source": [
    "def py_get_resampled_image_from_mapping(image, mapping):\n",
    "    # image is the original 2D image to be resampled\n",
    "    # mapping is the mapping tensor generated by get_rectilinear_resampling_map\n",
    "    \n",
    "    if (len(np.shape(image))!=2):\n",
    "        sys.exit(\"GetResampleImageFromMapping: image is not 2D--must be 2D\")\n",
    "    \n",
    "    dims = np.shape(mapping)[:2]\n",
    "    res = np.empty(dims)\n",
    "    \n",
    "    for i in range(dims[1]):\n",
    "        for j in range(dims[0]):\n",
    "            meta = mapping[j,i]\n",
    "            kcx, kcy = meta[:2]\n",
    "            kcx, kcy = int(kcx), int(kcy)\n",
    "            if(kcx==0 or kcy==0):\n",
    "                continue\n",
    "            kernel_weights = meta[2:]\n",
    "            kernel_weights = np.reshape(kernel_weights, (3,3))\n",
    "            window = image[kcy-1:kcy+2,kcx-1:kcx+2]\n",
    "            try:\n",
    "                val = np.sum(np.multiply(window, kernel_weights))\n",
    "            except:\n",
    "                print(kcx, kcy, \"kernel center coords\")\n",
    "                print(np.shape(window), \"window shape\")\n",
    "                print(np.shape(kernel_weights), \"kernel shape\")\n",
    "                print(window)\n",
    "                print(kernel_weights)\n",
    "                sys.exit(\"couldn't do kernel multiply\")\n",
    "            res[j,i] = val\n",
    "\n",
    "    return res"
   ]
  },
  {
   "cell_type": "code",
   "execution_count": 73,
   "metadata": {},
   "outputs": [],
   "source": [
    "from glob import glob\n",
    "\n",
    "import matplotlib.pyplot as plt\n",
    "\n",
    "import itk\n",
    "\n",
    "import av\n",
    "import ffmpeg\n",
    "\n",
    "import site\n",
    "site.addsitedir('../../ARGUS')\n",
    "from ARGUSUtils_IO import *\n",
    "from ARGUSUtils_Linearization import *"
   ]
  },
  {
   "cell_type": "code",
   "execution_count": 74,
   "metadata": {
    "scrolled": true
   },
   "outputs": [
    {
     "name": "stdout",
     "output_type": "stream",
     "text": [
      "../../Data/TrainingData/AR-UNet\\BAMC-PTXNoSliding\\Image_262499828648_clean.mp4\n",
      "12 1.0\n"
     ]
    },
    {
     "name": "stderr",
     "output_type": "stream",
     "text": [
      "Using non-standard frame rate 10240/512\n"
     ]
    },
    {
     "name": "stdout",
     "output_type": "stream",
     "text": [
      "../../Data/TrainingData/AR-UNet\\BAMC-PTXNoSliding\\image_1884162273498_clean.mov\n",
      "12 1.2627627627627627\n",
      "   Resampling with zoom = 1.2627627627627627\n"
     ]
    },
    {
     "name": "stderr",
     "output_type": "stream",
     "text": [
      "Using non-standard frame rate 10240/512\n"
     ]
    },
    {
     "name": "stdout",
     "output_type": "stream",
     "text": [
      "../../Data/TrainingData/AR-UNet\\BAMC-PTXNoSliding\\image_573611404207_CLEAN.mov\n",
      "12 0.8048048048048048\n",
      "   Resampling with zoom = 0.8048048048048048\n"
     ]
    },
    {
     "name": "stderr",
     "output_type": "stream",
     "text": [
      "Using non-standard frame rate 10240/512\n"
     ]
    },
    {
     "name": "stdout",
     "output_type": "stream",
     "text": [
      "../../Data/TrainingData/AR-UNet\\BAMC-PTXNoSliding\\image_584357289931_clean.mov\n",
      "16 1.0\n"
     ]
    },
    {
     "name": "stderr",
     "output_type": "stream",
     "text": [
      "Using non-standard frame rate 10240/512\n"
     ]
    },
    {
     "name": "stdout",
     "output_type": "stream",
     "text": [
      "../../Data/TrainingData/AR-UNet\\BAMC-PTXSliding\\image_1180496934444_clean.mp4\n",
      "12 1.012012012012012\n",
      "   Resampling with zoom = 1.012012012012012\n"
     ]
    },
    {
     "name": "stderr",
     "output_type": "stream",
     "text": [
      "Using non-standard frame rate 10240/512\n"
     ]
    },
    {
     "name": "stdout",
     "output_type": "stream",
     "text": [
      "../../Data/TrainingData/AR-UNet\\BAMC-PTXSliding\\image_3315947589826_clean.mov\n",
      "5 1.0\n"
     ]
    }
   ],
   "source": [
    "data_paths = sorted(glob(\"../../Data/TrainingData/AR-UNet/BAMC-PTX*Sliding/*.m??\"))\n",
    "for i in [0,7,20,21,38,50]:\n",
    "    vid = load_video(data_paths[i])\n",
    "    print(data_paths[i])\n",
    "    depth,zoom,offsetX,offsetY = get_depth_and_zoom_C52(vid[0])\n",
    "    print(depth, zoom)\n",
    "    filename = \"linear_map_depth\" + str(depth) + \".npy\"\n",
    "    im_map = np.load(filename)\n",
    "    resampled_vid = linearize_video(vid)\n",
    "    itkimg = itk.GetImageFromArray(resampled_vid[3].astype(np.float32))\n",
    "    itk.imwrite(itkimg,\"test\"+str(depth)+\"_\"+str(zoom)+\"_linear.mha\")\n",
    "    itkimg = itk.GetImageFromArray(vid[0].astype(np.float32))\n",
    "    itk.imwrite(itkimg,\"test\"+str(depth)+\"_\"+str(zoom)+\".mha\")"
   ]
  },
  {
   "cell_type": "code",
   "execution_count": null,
   "metadata": {},
   "outputs": [],
   "source": []
  }
 ],
 "metadata": {
  "kernelspec": {
   "display_name": "Python 3 (ipykernel)",
   "language": "python",
   "name": "python3"
  },
  "language_info": {
   "codemirror_mode": {
    "name": "ipython",
    "version": 3
   },
   "file_extension": ".py",
   "mimetype": "text/x-python",
   "name": "python",
   "nbconvert_exporter": "python",
   "pygments_lexer": "ipython3",
   "version": "3.8.8"
  }
 },
 "nbformat": 4,
 "nbformat_minor": 4
}
