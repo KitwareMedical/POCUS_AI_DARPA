{
 "cells": [
  {
   "cell_type": "code",
   "execution_count": 1,
   "id": "169bc1e6",
   "metadata": {},
   "outputs": [
    {
     "name": "stdout",
     "output_type": "stream",
     "text": [
      "62\n",
      "53 4 5\n",
      "53 5 4\n",
      "54 4 4\n",
      "54 4 4\n",
      "54 4 4\n",
      "55 4 3\n",
      "55 3 4\n",
      "54 4 4\n",
      "54 4 4\n",
      "54 4 4\n",
      "53 4 5\n",
      "53 5 4\n",
      "53 4 5\n",
      "53 5 4\n",
      "54 4 4\n"
     ]
    }
   ],
   "source": [
    "#!/usr/bin/env python\n",
    "# coding: utf-8\n",
    "\n",
    "# In[1]:\n",
    "\n",
    "\n",
    "from monai.utils import first, set_determinism\n",
    "from monai.transforms import (\n",
    "    AddChanneld,\n",
    "    AsDiscrete,\n",
    "    AsDiscreted,\n",
    "    Compose,\n",
    "    EnsureChannelFirstd,\n",
    "    EnsureTyped,\n",
    "    EnsureType,\n",
    "    Invertd,\n",
    "    LoadImaged,\n",
    "    RandFlipd,\n",
    "    RandSpatialCropd,\n",
    "    RandZoomd,\n",
    "    Resized,\n",
    "    ScaleIntensityRanged,\n",
    "    SpatialCrop,\n",
    "    SpatialCropd,\n",
    "    ToTensord,\n",
    ")\n",
    "from monai.handlers.utils import from_engine\n",
    "from monai.networks.nets import UNet\n",
    "from monai.networks.layers import Norm\n",
    "from monai.metrics import DiceMetric\n",
    "from monai.losses import DiceLoss\n",
    "from monai.inferers import sliding_window_inference\n",
    "from monai.data import CacheDataset, DataLoader, Dataset, decollate_batch\n",
    "from monai.config import print_config\n",
    "from monai.apps import download_and_extract\n",
    "import monai.utils as utils\n",
    "\n",
    "import torch\n",
    "\n",
    "import matplotlib.pyplot as plt\n",
    "\n",
    "import os\n",
    "from glob import glob\n",
    "\n",
    "import numpy as np\n",
    "\n",
    "import itk\n",
    "\n",
    "import site\n",
    "site.addsitedir('../../../ARGUS')\n",
    "from ARGUSUtils_Transforms import *\n",
    "\n",
    "\n",
    "# In[2]:\n",
    "\n",
    "\n",
    "img1_dir = \"../../../Data/VFoldData/BAMC-PTX*Sliding-Annotations-Linear/\"\n",
    "\n",
    "all_images = sorted(glob(os.path.join(img1_dir, '*_?????.mha')))\n",
    "all_labels = sorted(glob(os.path.join(img1_dir, '*.interpolated-overlay.mha')))\n",
    "\n",
    "num_classes = 4\n",
    "num_workers_tr = 4\n",
    "batch_size_tr = 4\n",
    "num_workers_vl = 4\n",
    "batch_size_vl = 1\n",
    "\n",
    "model_filename_base = \"BAMC_PTX_3DUNet-4Class.best_model.vfold15\"\n",
    "\n",
    "num_images = len(all_images)\n",
    "print(num_images)\n",
    "\n",
    "num_folds = 15\n",
    "\n",
    "\n",
    "ns_prefix = ['025ns','026ns','027ns','035ns','048ns','055ns','117ns',\n",
    "             '135ns','193ns','210ns','215ns','218ns','219ns','221ns','247ns']\n",
    "s_prefix = ['004s','019s','030s','034s','037s','043s','065s','081s',\n",
    "            '206s','208s','211s','212s','224s','228s','236s','237s']\n",
    "\n",
    "fold_prefix_list = []\n",
    "ns_count = 0\n",
    "s_count = 0\n",
    "for i in range(num_folds):\n",
    "    if i%2 == 0:\n",
    "        num_ns = 1\n",
    "        num_s = 1\n",
    "        if i > num_folds-3:\n",
    "            num_s = 2\n",
    "    else:\n",
    "        num_ns = 1\n",
    "        num_s = 1\n",
    "    f = []\n",
    "    for ns in range(num_ns):\n",
    "        f.append([ns_prefix[ns_count+ns]])\n",
    "    ns_count += num_ns\n",
    "    for s in range(num_s):\n",
    "        f.append([s_prefix[s_count+s]])\n",
    "    s_count += num_s\n",
    "    fold_prefix_list.append(f)\n",
    "        \n",
    "train_files = []\n",
    "val_files = []\n",
    "test_files = []\n",
    "for i in range(num_folds):\n",
    "    tr_folds = []\n",
    "    for f in range(i,i+num_folds-2):\n",
    "        tr_folds.append(fold_prefix_list[f%num_folds])\n",
    "    tr_folds = list(np.concatenate(tr_folds).flat)\n",
    "    va_folds = list(np.concatenate(fold_prefix_list[(i+num_folds-2) % num_folds]).flat)\n",
    "    te_folds = list(np.concatenate(fold_prefix_list[(i+num_folds-1) % num_folds]).flat)\n",
    "    train_files.append(\n",
    "            [\n",
    "                {\"image\": img, \"label\": seg}\n",
    "                for img, seg in zip(\n",
    "                    [im for im in all_images if any(pref in im for pref in tr_folds)],\n",
    "                    [se for se in all_labels if any(pref in se for pref in tr_folds)])\n",
    "            ]\n",
    "        )\n",
    "    val_files.append(\n",
    "            [\n",
    "                {\"image\": img, \"label\": seg}\n",
    "                for img, seg in zip(\n",
    "                    [im for im in all_images if any(pref in im for pref in va_folds)],\n",
    "                    [se for se in all_labels if any(pref in se for pref in va_folds)])\n",
    "            ]\n",
    "        )\n",
    "    test_files.append(\n",
    "            [\n",
    "                {\"image\": img, \"label\": seg}\n",
    "                for img, seg in zip(\n",
    "                    [im for im in all_images if any(pref in im for pref in te_folds)],\n",
    "                    [se for se in all_labels if any(pref in se for pref in te_folds)])\n",
    "            ]\n",
    "        )\n",
    "    print(len(train_files[i]),len(val_files[i]),len(test_files[i]))\n",
    "\n",
    "\n",
    "# In[3]:\n",
    "\n",
    "\n",
    "train_transforms = Compose(\n",
    "    [\n",
    "        LoadImaged(keys=[\"image\", \"label\"]),\n",
    "        AddChanneld(keys=[\"image\", \"label\"]),\n",
    "        ScaleIntensityRanged(keys=[\"image\"],\n",
    "            a_min=0, a_max=255,\n",
    "            b_min=0.0, b_max=1.0),\n",
    "        ARGUS_RandSpatialCropSlicesd(num_slices=48,\n",
    "            axis=3,\n",
    "            keys=['image', 'label']),\n",
    "        RandFlipd(prob=0.5, \n",
    "            spatial_axis=2,\n",
    "            keys=['image', 'label']),\n",
    "        RandFlipd(prob=0.5, \n",
    "            spatial_axis=0,\n",
    "            keys=['image', 'label']),\n",
    "        RandZoomd(prob=0.5, \n",
    "            min_zoom=1.0,\n",
    "            max_zoom=1.2,\n",
    "            keys=['image', 'label'],\n",
    "            keep_size=True,\n",
    "            mode=['trilinear', 'nearest']),\n",
    "        ToTensord(keys=[\"image\", \"label\"]),\n",
    "    ]\n",
    ")\n",
    "val_transforms = Compose(\n",
    "    [\n",
    "        LoadImaged(keys=[\"image\", \"label\"]),\n",
    "        AddChanneld(keys=[\"image\", \"label\"]),\n",
    "        ScaleIntensityRanged(keys=[\"image\"],\n",
    "            a_min=0, a_max=255,\n",
    "            b_min=0.0, b_max=1.0),\n",
    "        ARGUS_RandSpatialCropSlicesd(num_slices=48,\n",
    "            axis=3,\n",
    "            center_slice=30,\n",
    "            keys=['image', 'label']),\n",
    "        ToTensord(keys=[\"image\", \"label\"]),\n",
    "    ]\n",
    ")"
   ]
  },
  {
   "cell_type": "code",
   "execution_count": 2,
   "id": "c50e8938",
   "metadata": {},
   "outputs": [
    {
     "name": "stdout",
     "output_type": "stream",
     "text": [
      "(68, 320, 320)\n",
      "[320, 320, 48]\n"
     ]
    }
   ],
   "source": [
    "train_shape = itk.GetArrayFromImage(itk.imread(train_files[0][0][\"image\"])).shape\n",
    "print(train_shape)\n",
    "\n",
    "roi_size = [320,320,48]\n",
    "print(roi_size)"
   ]
  },
  {
   "cell_type": "code",
   "execution_count": 3,
   "id": "1bceb8d0",
   "metadata": {
    "scrolled": true
   },
   "outputs": [
    {
     "name": "stderr",
     "output_type": "stream",
     "text": [
      "Loading dataset: 100%|██████████████████████████| 53/53 [00:08<00:00,  6.45it/s]\n",
      "Loading dataset: 100%|██████████████████████████| 53/53 [00:01<00:00, 40.90it/s]\n",
      "Loading dataset: 100%|██████████████████████████| 54/54 [00:01<00:00, 37.51it/s]\n",
      "Loading dataset: 100%|██████████████████████████| 54/54 [00:00<00:00, 81.05it/s]\n",
      "Loading dataset: 100%|██████████████████████████| 54/54 [00:00<00:00, 61.74it/s]\n",
      "Loading dataset: 100%|██████████████████████████| 55/55 [00:00<00:00, 75.37it/s]\n",
      "Loading dataset: 100%|██████████████████████████| 55/55 [00:00<00:00, 77.88it/s]\n",
      "Loading dataset: 100%|██████████████████████████| 54/54 [00:00<00:00, 76.79it/s]\n",
      "Loading dataset: 100%|██████████████████████████| 54/54 [00:00<00:00, 79.18it/s]\n",
      "Loading dataset: 100%|██████████████████████████| 54/54 [00:00<00:00, 74.59it/s]\n",
      "Loading dataset: 100%|██████████████████████████| 53/53 [00:00<00:00, 77.22it/s]\n",
      "Loading dataset: 100%|██████████████████████████| 53/53 [00:00<00:00, 77.65it/s]\n",
      "Loading dataset: 100%|██████████████████████████| 53/53 [00:00<00:00, 65.70it/s]\n",
      "Loading dataset: 100%|██████████████████████████| 53/53 [00:00<00:00, 75.13it/s]\n",
      "Loading dataset: 100%|██████████████████████████| 54/54 [00:00<00:00, 76.29it/s]\n",
      "Loading dataset: 100%|████████████████████████████| 4/4 [00:00<00:00, 93.22it/s]\n",
      "Loading dataset: 100%|████████████████████████████| 5/5 [00:00<00:00, 90.30it/s]\n",
      "Loading dataset: 100%|███████████████████████████| 4/4 [00:00<00:00, 123.02it/s]\n",
      "Loading dataset: 100%|████████████████████████████| 4/4 [00:00<00:00, 98.85it/s]\n",
      "Loading dataset: 100%|███████████████████████████| 4/4 [00:00<00:00, 105.59it/s]\n",
      "Loading dataset: 100%|████████████████████████████| 4/4 [00:00<00:00, 82.57it/s]\n",
      "Loading dataset: 100%|████████████████████████████| 3/3 [00:00<00:00, 54.23it/s]\n",
      "Loading dataset: 100%|████████████████████████████| 4/4 [00:00<00:00, 71.12it/s]\n",
      "Loading dataset: 100%|███████████████████████████| 4/4 [00:00<00:00, 134.31it/s]\n",
      "Loading dataset: 100%|████████████████████████████| 4/4 [00:00<00:00, 69.74it/s]\n",
      "Loading dataset: 100%|████████████████████████████| 4/4 [00:00<00:00, 71.51it/s]\n",
      "Loading dataset: 100%|████████████████████████████| 5/5 [00:00<00:00, 79.89it/s]\n",
      "Loading dataset: 100%|███████████████████████████| 4/4 [00:00<00:00, 134.18it/s]\n",
      "Loading dataset: 100%|████████████████████████████| 5/5 [00:00<00:00, 81.57it/s]\n",
      "Loading dataset: 100%|███████████████████████████| 4/4 [00:00<00:00, 121.99it/s]\n"
     ]
    }
   ],
   "source": [
    "# In[5]:\n",
    "\n",
    "\n",
    "train_ds = [CacheDataset(data=train_files[i], transform=train_transforms,cache_rate=1.0, num_workers=num_workers_tr)\n",
    "            for i in range(num_folds)]\n",
    "train_loader = [DataLoader(train_ds[i], batch_size=batch_size_tr, shuffle=True, num_workers=num_workers_tr) \n",
    "                for i in range(num_folds)]\n",
    "\n",
    "val_ds = [CacheDataset(data=val_files[i], transform=val_transforms, cache_rate=1.0, num_workers=num_workers_vl)\n",
    "          for i in range(num_folds)]\n",
    "val_loader = [DataLoader(val_ds[i], batch_size=batch_size_vl, num_workers=num_workers_vl)\n",
    "              for i in range(num_folds)]\n",
    "\n",
    "\n",
    "# In[6]:"
   ]
  },
  {
   "cell_type": "code",
   "execution_count": 4,
   "id": "757c4ed6",
   "metadata": {},
   "outputs": [
    {
     "name": "stderr",
     "output_type": "stream",
     "text": [
      "Default upsampling behavior when mode=trilinear is changed to align_corners=False since 0.4.0. Please specify align_corners=True if the old behavior is desired. See the documentation of nn.Upsample for details.\n",
      "Default upsampling behavior when mode=trilinear is changed to align_corners=False since 0.4.0. Please specify align_corners=True if the old behavior is desired. See the documentation of nn.Upsample for details.\n",
      "Default upsampling behavior when mode=trilinear is changed to align_corners=False since 0.4.0. Please specify align_corners=True if the old behavior is desired. See the documentation of nn.Upsample for details.\n",
      "Default upsampling behavior when mode=trilinear is changed to align_corners=False since 0.4.0. Please specify align_corners=True if the old behavior is desired. See the documentation of nn.Upsample for details.\n"
     ]
    },
    {
     "name": "stdout",
     "output_type": "stream",
     "text": [
      "Data Size = torch.Size([4, 1, 320, 320, 48])\n"
     ]
    },
    {
     "data": {
      "text/plain": [
       "<matplotlib.image.AxesImage at 0x7f888b2d81f0>"
      ]
     },
     "execution_count": 4,
     "metadata": {},
     "output_type": "execute_result"
    },
    {
     "data": {
      "image/png": "[encoded data removed]",
      "text/plain": [
       "<Figure size 432x288 with 1 Axes>"
      ]
     },
     "metadata": {
      "needs_background": "light"
     },
     "output_type": "display_data"
    }
   ],
   "source": [
    "img = utils.first(train_loader[0])[\"label\"]\n",
    "print(\"Data Size =\", img.shape)\n",
    "\n",
    "plt.imshow(img[0,0,:,:,10])"
   ]
  },
  {
   "cell_type": "code",
   "execution_count": null,
   "id": "5f2aaab2",
   "metadata": {
    "scrolled": false
   },
   "outputs": [
    {
     "name": "stdout",
     "output_type": "stream",
     "text": [
      "----------\n",
      "0: epoch 1/500\n"
     ]
    },
    {
     "name": "stderr",
     "output_type": "stream",
     "text": [
      "Default upsampling behavior when mode=trilinear is changed to align_corners=False since 0.4.0. Please specify align_corners=True if the old behavior is desired. See the documentation of nn.Upsample for details.\n",
      "Default upsampling behavior when mode=trilinear is changed to align_corners=False since 0.4.0. Please specify align_corners=True if the old behavior is desired. See the documentation of nn.Upsample for details.\n",
      "Default upsampling behavior when mode=trilinear is changed to align_corners=False since 0.4.0. Please specify align_corners=True if the old behavior is desired. See the documentation of nn.Upsample for details.\n",
      "Default upsampling behavior when mode=trilinear is changed to align_corners=False since 0.4.0. Please specify align_corners=True if the old behavior is desired. See the documentation of nn.Upsample for details.\n"
     ]
    },
    {
     "name": "stdout",
     "output_type": "stream",
     "text": [
      "1/3, train_loss: 0.8653\n",
      "2/3, train_loss: 0.8561\n",
      "3/3, train_loss: 0.8637\n",
      "4/3, train_loss: 0.8598\n",
      "5/3, train_loss: 0.8527\n",
      "6/3, train_loss: 0.8592\n",
      "7/3, train_loss: 0.8523\n",
      "8/3, train_loss: 0.8521\n",
      "9/3, train_loss: 0.8499\n",
      "10/3, train_loss: 0.8480\n",
      "11/3, train_loss: 0.8567\n",
      "12/3, train_loss: 0.8516\n",
      "13/3, train_loss: 0.8442\n",
      "14/3, train_loss: 0.8550\n",
      "0 epoch 1 average loss: 0.8547\n",
      "----------\n",
      "0: epoch 2/500\n"
     ]
    },
    {
     "name": "stderr",
     "output_type": "stream",
     "text": [
      "Default upsampling behavior when mode=trilinear is changed to align_corners=False since 0.4.0. Please specify align_corners=True if the old behavior is desired. See the documentation of nn.Upsample for details.\n",
      "Default upsampling behavior when mode=trilinear is changed to align_corners=False since 0.4.0. Please specify align_corners=True if the old behavior is desired. See the documentation of nn.Upsample for details.\n",
      "Default upsampling behavior when mode=trilinear is changed to align_corners=False since 0.4.0. Please specify align_corners=True if the old behavior is desired. See the documentation of nn.Upsample for details.\n",
      "Default upsampling behavior when mode=trilinear is changed to align_corners=False since 0.4.0. Please specify align_corners=True if the old behavior is desired. See the documentation of nn.Upsample for details.\n"
     ]
    },
    {
     "name": "stdout",
     "output_type": "stream",
     "text": [
      "1/3, train_loss: 0.8478\n",
      "2/3, train_loss: 0.8451\n",
      "3/3, train_loss: 0.8449\n",
      "4/3, train_loss: 0.8441\n",
      "5/3, train_loss: 0.8437\n",
      "6/3, train_loss: 0.8470\n",
      "7/3, train_loss: 0.8479\n",
      "8/3, train_loss: 0.8423\n",
      "9/3, train_loss: 0.8396\n",
      "10/3, train_loss: 0.8423\n",
      "11/3, train_loss: 0.8339\n",
      "12/3, train_loss: 0.8374\n",
      "13/3, train_loss: 0.8363\n",
      "14/3, train_loss: 0.8247\n",
      "0 epoch 2 average loss: 0.8412\n",
      "saved new best metric model\n",
      "current epoch: 2 current mean dice: 0.0758\n",
      "best mean dice: 0.0758 at epoch: 2\n",
      "----------\n",
      "0: epoch 3/500\n"
     ]
    },
    {
     "name": "stderr",
     "output_type": "stream",
     "text": [
      "Default upsampling behavior when mode=trilinear is changed to align_corners=False since 0.4.0. Please specify align_corners=True if the old behavior is desired. See the documentation of nn.Upsample for details.\n",
      "Default upsampling behavior when mode=trilinear is changed to align_corners=False since 0.4.0. Please specify align_corners=True if the old behavior is desired. See the documentation of nn.Upsample for details.\n",
      "Default upsampling behavior when mode=trilinear is changed to align_corners=False since 0.4.0. Please specify align_corners=True if the old behavior is desired. See the documentation of nn.Upsample for details.\n",
      "Default upsampling behavior when mode=trilinear is changed to align_corners=False since 0.4.0. Please specify align_corners=True if the old behavior is desired. See the documentation of nn.Upsample for details.\n"
     ]
    },
    {
     "name": "stdout",
     "output_type": "stream",
     "text": [
      "1/3, train_loss: 0.8361\n",
      "2/3, train_loss: 0.8397\n",
      "3/3, train_loss: 0.8375\n",
      "4/3, train_loss: 0.8349\n",
      "5/3, train_loss: 0.8294\n",
      "6/3, train_loss: 0.8264\n",
      "7/3, train_loss: 0.8290\n",
      "8/3, train_loss: 0.8358\n",
      "9/3, train_loss: 0.8331\n",
      "10/3, train_loss: 0.8243\n",
      "11/3, train_loss: 0.8255\n",
      "12/3, train_loss: 0.8316\n",
      "13/3, train_loss: 0.8242\n",
      "14/3, train_loss: 0.8370\n",
      "0 epoch 3 average loss: 0.8317\n",
      "----------\n",
      "0: epoch 4/500\n"
     ]
    },
    {
     "name": "stderr",
     "output_type": "stream",
     "text": [
      "Default upsampling behavior when mode=trilinear is changed to align_corners=False since 0.4.0. Please specify align_corners=True if the old behavior is desired. See the documentation of nn.Upsample for details.\n",
      "Default upsampling behavior when mode=trilinear is changed to align_corners=False since 0.4.0. Please specify align_corners=True if the old behavior is desired. See the documentation of nn.Upsample for details.\n",
      "Default upsampling behavior when mode=trilinear is changed to align_corners=False since 0.4.0. Please specify align_corners=True if the old behavior is desired. See the documentation of nn.Upsample for details.\n",
      "Default upsampling behavior when mode=trilinear is changed to align_corners=False since 0.4.0. Please specify align_corners=True if the old behavior is desired. See the documentation of nn.Upsample for details.\n"
     ]
    },
    {
     "name": "stdout",
     "output_type": "stream",
     "text": [
      "1/3, train_loss: 0.8238\n",
      "2/3, train_loss: 0.8212\n",
      "3/3, train_loss: 0.8165\n",
      "4/3, train_loss: 0.8253\n",
      "5/3, train_loss: 0.8232\n",
      "6/3, train_loss: 0.8226\n",
      "7/3, train_loss: 0.8293\n",
      "8/3, train_loss: 0.8212\n",
      "9/3, train_loss: 0.8300\n",
      "10/3, train_loss: 0.8194\n",
      "11/3, train_loss: 0.8178\n",
      "12/3, train_loss: 0.8266\n",
      "13/3, train_loss: 0.8139\n",
      "14/3, train_loss: 0.8246\n",
      "0 epoch 4 average loss: 0.8225\n",
      "saved new best metric model\n",
      "current epoch: 4 current mean dice: 0.1128\n",
      "best mean dice: 0.1128 at epoch: 4\n",
      "----------\n",
      "0: epoch 5/500\n"
     ]
    },
    {
     "name": "stderr",
     "output_type": "stream",
     "text": [
      "Default upsampling behavior when mode=trilinear is changed to align_corners=False since 0.4.0. Please specify align_corners=True if the old behavior is desired. See the documentation of nn.Upsample for details.\n",
      "Default upsampling behavior when mode=trilinear is changed to align_corners=False since 0.4.0. Please specify align_corners=True if the old behavior is desired. See the documentation of nn.Upsample for details.\n",
      "Default upsampling behavior when mode=trilinear is changed to align_corners=False since 0.4.0. Please specify align_corners=True if the old behavior is desired. See the documentation of nn.Upsample for details.\n",
      "Default upsampling behavior when mode=trilinear is changed to align_corners=False since 0.4.0. Please specify align_corners=True if the old behavior is desired. See the documentation of nn.Upsample for details.\n"
     ]
    },
    {
     "name": "stdout",
     "output_type": "stream",
     "text": [
      "1/3, train_loss: 0.8207\n",
      "2/3, train_loss: 0.8220\n",
      "3/3, train_loss: 0.8224\n",
      "4/3, train_loss: 0.8182\n",
      "5/3, train_loss: 0.8175\n",
      "6/3, train_loss: 0.8150\n",
      "7/3, train_loss: 0.8039\n",
      "8/3, train_loss: 0.8137\n",
      "9/3, train_loss: 0.8091\n",
      "10/3, train_loss: 0.8148\n",
      "11/3, train_loss: 0.7989\n",
      "12/3, train_loss: 0.8178\n",
      "13/3, train_loss: 0.7997\n",
      "14/3, train_loss: 0.8088\n",
      "0 epoch 5 average loss: 0.8131\n",
      "----------\n",
      "0: epoch 6/500\n"
     ]
    },
    {
     "name": "stderr",
     "output_type": "stream",
     "text": [
      "Default upsampling behavior when mode=trilinear is changed to align_corners=False since 0.4.0. Please specify align_corners=True if the old behavior is desired. See the documentation of nn.Upsample for details.\n",
      "Default upsampling behavior when mode=trilinear is changed to align_corners=False since 0.4.0. Please specify align_corners=True if the old behavior is desired. See the documentation of nn.Upsample for details.\n",
      "Default upsampling behavior when mode=trilinear is changed to align_corners=False since 0.4.0. Please specify align_corners=True if the old behavior is desired. See the documentation of nn.Upsample for details.\n",
      "Default upsampling behavior when mode=trilinear is changed to align_corners=False since 0.4.0. Please specify align_corners=True if the old behavior is desired. See the documentation of nn.Upsample for details.\n"
     ]
    },
    {
     "name": "stdout",
     "output_type": "stream",
     "text": [
      "1/3, train_loss: 0.8051\n",
      "2/3, train_loss: 0.8099\n",
      "3/3, train_loss: 0.8020\n",
      "4/3, train_loss: 0.8055\n",
      "5/3, train_loss: 0.8045\n",
      "6/3, train_loss: 0.8065\n",
      "7/3, train_loss: 0.8041\n",
      "8/3, train_loss: 0.8022\n",
      "9/3, train_loss: 0.8064\n",
      "10/3, train_loss: 0.8037\n",
      "11/3, train_loss: 0.8044\n",
      "12/3, train_loss: 0.7967\n",
      "13/3, train_loss: 0.7906\n",
      "14/3, train_loss: 0.8185\n",
      "0 epoch 6 average loss: 0.8043\n",
      "saved new best metric model\n",
      "current epoch: 6 current mean dice: 0.1281\n",
      "best mean dice: 0.1281 at epoch: 6\n",
      "----------\n",
      "0: epoch 7/500\n"
     ]
    },
    {
     "name": "stderr",
     "output_type": "stream",
     "text": [
      "Default upsampling behavior when mode=trilinear is changed to align_corners=False since 0.4.0. Please specify align_corners=True if the old behavior is desired. See the documentation of nn.Upsample for details.\n",
      "Default upsampling behavior when mode=trilinear is changed to align_corners=False since 0.4.0. Please specify align_corners=True if the old behavior is desired. See the documentation of nn.Upsample for details.\n",
      "Default upsampling behavior when mode=trilinear is changed to align_corners=False since 0.4.0. Please specify align_corners=True if the old behavior is desired. See the documentation of nn.Upsample for details.\n",
      "Default upsampling behavior when mode=trilinear is changed to align_corners=False since 0.4.0. Please specify align_corners=True if the old behavior is desired. See the documentation of nn.Upsample for details.\n"
     ]
    },
    {
     "name": "stdout",
     "output_type": "stream",
     "text": [
      "1/3, train_loss: 0.7998\n",
      "2/3, train_loss: 0.8017\n",
      "3/3, train_loss: 0.8060\n",
      "4/3, train_loss: 0.7915\n",
      "5/3, train_loss: 0.8010\n",
      "6/3, train_loss: 0.7994\n",
      "7/3, train_loss: 0.7890\n",
      "8/3, train_loss: 0.8013\n",
      "9/3, train_loss: 0.7854\n",
      "10/3, train_loss: 0.7872\n",
      "11/3, train_loss: 0.7833\n",
      "12/3, train_loss: 0.7898\n",
      "13/3, train_loss: 0.7954\n",
      "14/3, train_loss: 0.8011\n",
      "0 epoch 7 average loss: 0.7951\n",
      "----------\n",
      "0: epoch 8/500\n"
     ]
    },
    {
     "name": "stderr",
     "output_type": "stream",
     "text": [
      "Default upsampling behavior when mode=trilinear is changed to align_corners=False since 0.4.0. Please specify align_corners=True if the old behavior is desired. See the documentation of nn.Upsample for details.\n",
      "Default upsampling behavior when mode=trilinear is changed to align_corners=False since 0.4.0. Please specify align_corners=True if the old behavior is desired. See the documentation of nn.Upsample for details.\n",
      "Default upsampling behavior when mode=trilinear is changed to align_corners=False since 0.4.0. Please specify align_corners=True if the old behavior is desired. See the documentation of nn.Upsample for details.\n",
      "Default upsampling behavior when mode=trilinear is changed to align_corners=False since 0.4.0. Please specify align_corners=True if the old behavior is desired. See the documentation of nn.Upsample for details.\n"
     ]
    },
    {
     "name": "stdout",
     "output_type": "stream",
     "text": [
      "1/3, train_loss: 0.7814\n",
      "2/3, train_loss: 0.7930\n",
      "3/3, train_loss: 0.7920\n",
      "4/3, train_loss: 0.7955\n",
      "5/3, train_loss: 0.7827\n",
      "6/3, train_loss: 0.7912\n",
      "7/3, train_loss: 0.7954\n",
      "8/3, train_loss: 0.7804\n",
      "9/3, train_loss: 0.7751\n",
      "10/3, train_loss: 0.7867\n",
      "11/3, train_loss: 0.7733\n",
      "12/3, train_loss: 0.7775\n",
      "13/3, train_loss: 0.7903\n",
      "14/3, train_loss: 0.7685\n",
      "0 epoch 8 average loss: 0.7845\n",
      "saved new best metric model\n",
      "current epoch: 8 current mean dice: 0.1777\n",
      "best mean dice: 0.1777 at epoch: 8\n",
      "----------\n",
      "0: epoch 9/500\n"
     ]
    },
    {
     "name": "stderr",
     "output_type": "stream",
     "text": [
      "Default upsampling behavior when mode=trilinear is changed to align_corners=False since 0.4.0. Please specify align_corners=True if the old behavior is desired. See the documentation of nn.Upsample for details.\n",
      "Default upsampling behavior when mode=trilinear is changed to align_corners=False since 0.4.0. Please specify align_corners=True if the old behavior is desired. See the documentation of nn.Upsample for details.\n",
      "Default upsampling behavior when mode=trilinear is changed to align_corners=False since 0.4.0. Please specify align_corners=True if the old behavior is desired. See the documentation of nn.Upsample for details.\n",
      "Default upsampling behavior when mode=trilinear is changed to align_corners=False since 0.4.0. Please specify align_corners=True if the old behavior is desired. See the documentation of nn.Upsample for details.\n"
     ]
    },
    {
     "name": "stdout",
     "output_type": "stream",
     "text": [
      "1/3, train_loss: 0.7749\n",
      "2/3, train_loss: 0.7671\n",
      "3/3, train_loss: 0.7734\n",
      "4/3, train_loss: 0.7735\n",
      "5/3, train_loss: 0.7699\n",
      "6/3, train_loss: 0.7698\n",
      "7/3, train_loss: 0.7662\n",
      "8/3, train_loss: 0.7906\n",
      "9/3, train_loss: 0.7860\n",
      "10/3, train_loss: 0.7645\n",
      "11/3, train_loss: 0.7718\n",
      "12/3, train_loss: 0.7728\n",
      "13/3, train_loss: 0.7923\n",
      "14/3, train_loss: 0.7312\n",
      "0 epoch 9 average loss: 0.7717\n",
      "----------\n",
      "0: epoch 10/500\n"
     ]
    },
    {
     "name": "stderr",
     "output_type": "stream",
     "text": [
      "Default upsampling behavior when mode=trilinear is changed to align_corners=False since 0.4.0. Please specify align_corners=True if the old behavior is desired. See the documentation of nn.Upsample for details.\n",
      "Default upsampling behavior when mode=trilinear is changed to align_corners=False since 0.4.0. Please specify align_corners=True if the old behavior is desired. See the documentation of nn.Upsample for details.\n",
      "Default upsampling behavior when mode=trilinear is changed to align_corners=False since 0.4.0. Please specify align_corners=True if the old behavior is desired. See the documentation of nn.Upsample for details.\n",
      "Default upsampling behavior when mode=trilinear is changed to align_corners=False since 0.4.0. Please specify align_corners=True if the old behavior is desired. See the documentation of nn.Upsample for details.\n"
     ]
    },
    {
     "name": "stdout",
     "output_type": "stream",
     "text": [
      "1/3, train_loss: 0.7655\n",
      "2/3, train_loss: 0.7791\n",
      "3/3, train_loss: 0.7615\n",
      "4/3, train_loss: 0.7716\n",
      "5/3, train_loss: 0.7850\n",
      "6/3, train_loss: 0.7728\n",
      "7/3, train_loss: 0.7693\n",
      "8/3, train_loss: 0.7347\n",
      "9/3, train_loss: 0.7733\n",
      "10/3, train_loss: 0.7627\n",
      "11/3, train_loss: 0.7569\n",
      "12/3, train_loss: 0.7471\n",
      "13/3, train_loss: 0.7615\n",
      "14/3, train_loss: 0.7445\n",
      "0 epoch 10 average loss: 0.7632\n",
      "saved new best metric model\n",
      "current epoch: 10 current mean dice: 0.2045\n",
      "best mean dice: 0.2045 at epoch: 10\n",
      "----------\n",
      "0: epoch 11/500\n"
     ]
    },
    {
     "name": "stderr",
     "output_type": "stream",
     "text": [
      "Default upsampling behavior when mode=trilinear is changed to align_corners=False since 0.4.0. Please specify align_corners=True if the old behavior is desired. See the documentation of nn.Upsample for details.\n",
      "Default upsampling behavior when mode=trilinear is changed to align_corners=False since 0.4.0. Please specify align_corners=True if the old behavior is desired. See the documentation of nn.Upsample for details.\n",
      "Default upsampling behavior when mode=trilinear is changed to align_corners=False since 0.4.0. Please specify align_corners=True if the old behavior is desired. See the documentation of nn.Upsample for details.\n",
      "Default upsampling behavior when mode=trilinear is changed to align_corners=False since 0.4.0. Please specify align_corners=True if the old behavior is desired. See the documentation of nn.Upsample for details.\n"
     ]
    },
    {
     "name": "stdout",
     "output_type": "stream",
     "text": [
      "1/3, train_loss: 0.7714\n",
      "2/3, train_loss: 0.7487\n",
      "3/3, train_loss: 0.7549\n",
      "4/3, train_loss: 0.7687\n",
      "5/3, train_loss: 0.7518\n",
      "6/3, train_loss: 0.7477\n",
      "7/3, train_loss: 0.7667\n",
      "8/3, train_loss: 0.7216\n",
      "9/3, train_loss: 0.7428\n",
      "10/3, train_loss: 0.7629\n",
      "11/3, train_loss: 0.7455\n",
      "12/3, train_loss: 0.7491\n",
      "13/3, train_loss: 0.7458\n",
      "14/3, train_loss: 0.7560\n",
      "0 epoch 11 average loss: 0.7524\n",
      "----------\n",
      "0: epoch 12/500\n"
     ]
    },
    {
     "name": "stderr",
     "output_type": "stream",
     "text": [
      "Default upsampling behavior when mode=trilinear is changed to align_corners=False since 0.4.0. Please specify align_corners=True if the old behavior is desired. See the documentation of nn.Upsample for details.\n",
      "Default upsampling behavior when mode=trilinear is changed to align_corners=False since 0.4.0. Please specify align_corners=True if the old behavior is desired. See the documentation of nn.Upsample for details.\n",
      "Default upsampling behavior when mode=trilinear is changed to align_corners=False since 0.4.0. Please specify align_corners=True if the old behavior is desired. See the documentation of nn.Upsample for details.\n",
      "Default upsampling behavior when mode=trilinear is changed to align_corners=False since 0.4.0. Please specify align_corners=True if the old behavior is desired. See the documentation of nn.Upsample for details.\n"
     ]
    },
    {
     "name": "stdout",
     "output_type": "stream",
     "text": [
      "1/3, train_loss: 0.7424\n",
      "2/3, train_loss: 0.7560\n",
      "3/3, train_loss: 0.7649\n",
      "4/3, train_loss: 0.7337\n",
      "5/3, train_loss: 0.7263\n",
      "6/3, train_loss: 0.7196\n",
      "7/3, train_loss: 0.7351\n",
      "8/3, train_loss: 0.7310\n",
      "9/3, train_loss: 0.7471\n",
      "10/3, train_loss: 0.7455\n",
      "11/3, train_loss: 0.7472\n",
      "12/3, train_loss: 0.7335\n",
      "13/3, train_loss: 0.7514\n",
      "14/3, train_loss: 0.7639\n",
      "0 epoch 12 average loss: 0.7427\n",
      "saved new best metric model\n",
      "current epoch: 12 current mean dice: 0.2840\n",
      "best mean dice: 0.2840 at epoch: 12\n",
      "----------\n",
      "0: epoch 13/500\n"
     ]
    },
    {
     "name": "stderr",
     "output_type": "stream",
     "text": [
      "Default upsampling behavior when mode=trilinear is changed to align_corners=False since 0.4.0. Please specify align_corners=True if the old behavior is desired. See the documentation of nn.Upsample for details.\n",
      "Default upsampling behavior when mode=trilinear is changed to align_corners=False since 0.4.0. Please specify align_corners=True if the old behavior is desired. See the documentation of nn.Upsample for details.\n",
      "Default upsampling behavior when mode=trilinear is changed to align_corners=False since 0.4.0. Please specify align_corners=True if the old behavior is desired. See the documentation of nn.Upsample for details.\n",
      "Default upsampling behavior when mode=trilinear is changed to align_corners=False since 0.4.0. Please specify align_corners=True if the old behavior is desired. See the documentation of nn.Upsample for details.\n"
     ]
    },
    {
     "name": "stdout",
     "output_type": "stream",
     "text": [
      "1/3, train_loss: 0.7464\n",
      "2/3, train_loss: 0.7254\n",
      "3/3, train_loss: 0.7246\n",
      "4/3, train_loss: 0.7325\n",
      "5/3, train_loss: 0.7300\n",
      "6/3, train_loss: 0.7227\n",
      "7/3, train_loss: 0.7279\n",
      "8/3, train_loss: 0.7391\n",
      "9/3, train_loss: 0.7218\n",
      "10/3, train_loss: 0.7219\n",
      "11/3, train_loss: 0.7393\n",
      "12/3, train_loss: 0.7478\n",
      "13/3, train_loss: 0.7443\n",
      "14/3, train_loss: 0.7307\n",
      "0 epoch 13 average loss: 0.7325\n",
      "----------\n",
      "0: epoch 14/500\n"
     ]
    },
    {
     "name": "stderr",
     "output_type": "stream",
     "text": [
      "Default upsampling behavior when mode=trilinear is changed to align_corners=False since 0.4.0. Please specify align_corners=True if the old behavior is desired. See the documentation of nn.Upsample for details.\n",
      "Default upsampling behavior when mode=trilinear is changed to align_corners=False since 0.4.0. Please specify align_corners=True if the old behavior is desired. See the documentation of nn.Upsample for details.\n",
      "Default upsampling behavior when mode=trilinear is changed to align_corners=False since 0.4.0. Please specify align_corners=True if the old behavior is desired. See the documentation of nn.Upsample for details.\n",
      "Default upsampling behavior when mode=trilinear is changed to align_corners=False since 0.4.0. Please specify align_corners=True if the old behavior is desired. See the documentation of nn.Upsample for details.\n"
     ]
    },
    {
     "name": "stdout",
     "output_type": "stream",
     "text": [
      "1/3, train_loss: 0.7326\n",
      "2/3, train_loss: 0.7292\n",
      "3/3, train_loss: 0.7103\n",
      "4/3, train_loss: 0.7349\n",
      "5/3, train_loss: 0.7377\n",
      "6/3, train_loss: 0.6995\n",
      "7/3, train_loss: 0.7303\n",
      "8/3, train_loss: 0.7023\n",
      "9/3, train_loss: 0.7074\n",
      "10/3, train_loss: 0.7365\n",
      "11/3, train_loss: 0.7318\n",
      "12/3, train_loss: 0.7354\n",
      "13/3, train_loss: 0.7219\n",
      "14/3, train_loss: 0.7662\n",
      "0 epoch 14 average loss: 0.7269\n",
      "current epoch: 14 current mean dice: 0.1999\n",
      "best mean dice: 0.2840 at epoch: 12\n",
      "----------\n",
      "0: epoch 15/500\n"
     ]
    },
    {
     "name": "stderr",
     "output_type": "stream",
     "text": [
      "Default upsampling behavior when mode=trilinear is changed to align_corners=False since 0.4.0. Please specify align_corners=True if the old behavior is desired. See the documentation of nn.Upsample for details.\n",
      "Default upsampling behavior when mode=trilinear is changed to align_corners=False since 0.4.0. Please specify align_corners=True if the old behavior is desired. See the documentation of nn.Upsample for details.\n",
      "Default upsampling behavior when mode=trilinear is changed to align_corners=False since 0.4.0. Please specify align_corners=True if the old behavior is desired. See the documentation of nn.Upsample for details.\n",
      "Default upsampling behavior when mode=trilinear is changed to align_corners=False since 0.4.0. Please specify align_corners=True if the old behavior is desired. See the documentation of nn.Upsample for details.\n"
     ]
    },
    {
     "name": "stdout",
     "output_type": "stream",
     "text": [
      "1/3, train_loss: 0.7483\n",
      "2/3, train_loss: 0.7225\n",
      "3/3, train_loss: 0.7024\n",
      "4/3, train_loss: 0.7018\n",
      "5/3, train_loss: 0.7250\n",
      "6/3, train_loss: 0.7150\n",
      "7/3, train_loss: 0.7025\n",
      "8/3, train_loss: 0.7252\n",
      "9/3, train_loss: 0.7172\n",
      "10/3, train_loss: 0.7005\n",
      "11/3, train_loss: 0.7198\n",
      "12/3, train_loss: 0.7123\n",
      "13/3, train_loss: 0.7277\n",
      "14/3, train_loss: 0.6757\n",
      "0 epoch 15 average loss: 0.7140\n",
      "----------\n",
      "0: epoch 16/500\n"
     ]
    },
    {
     "name": "stderr",
     "output_type": "stream",
     "text": [
      "Default upsampling behavior when mode=trilinear is changed to align_corners=False since 0.4.0. Please specify align_corners=True if the old behavior is desired. See the documentation of nn.Upsample for details.\n",
      "Default upsampling behavior when mode=trilinear is changed to align_corners=False since 0.4.0. Please specify align_corners=True if the old behavior is desired. See the documentation of nn.Upsample for details.\n",
      "Default upsampling behavior when mode=trilinear is changed to align_corners=False since 0.4.0. Please specify align_corners=True if the old behavior is desired. See the documentation of nn.Upsample for details.\n",
      "Default upsampling behavior when mode=trilinear is changed to align_corners=False since 0.4.0. Please specify align_corners=True if the old behavior is desired. See the documentation of nn.Upsample for details.\n"
     ]
    },
    {
     "name": "stdout",
     "output_type": "stream",
     "text": [
      "1/3, train_loss: 0.7144\n",
      "2/3, train_loss: 0.7379\n",
      "3/3, train_loss: 0.6909\n",
      "4/3, train_loss: 0.7121\n",
      "5/3, train_loss: 0.7066\n",
      "6/3, train_loss: 0.7068\n",
      "7/3, train_loss: 0.7139\n",
      "8/3, train_loss: 0.6913\n",
      "9/3, train_loss: 0.7027\n",
      "10/3, train_loss: 0.7174\n",
      "11/3, train_loss: 0.7055\n",
      "12/3, train_loss: 0.6769\n",
      "13/3, train_loss: 0.7163\n",
      "14/3, train_loss: 0.6877\n",
      "0 epoch 16 average loss: 0.7057\n",
      "current epoch: 16 current mean dice: 0.2780\n",
      "best mean dice: 0.2840 at epoch: 12\n",
      "----------\n",
      "0: epoch 17/500\n"
     ]
    },
    {
     "name": "stderr",
     "output_type": "stream",
     "text": [
      "Default upsampling behavior when mode=trilinear is changed to align_corners=False since 0.4.0. Please specify align_corners=True if the old behavior is desired. See the documentation of nn.Upsample for details.\n",
      "Default upsampling behavior when mode=trilinear is changed to align_corners=False since 0.4.0. Please specify align_corners=True if the old behavior is desired. See the documentation of nn.Upsample for details.\n",
      "Default upsampling behavior when mode=trilinear is changed to align_corners=False since 0.4.0. Please specify align_corners=True if the old behavior is desired. See the documentation of nn.Upsample for details.\n",
      "Default upsampling behavior when mode=trilinear is changed to align_corners=False since 0.4.0. Please specify align_corners=True if the old behavior is desired. See the documentation of nn.Upsample for details.\n"
     ]
    },
    {
     "name": "stdout",
     "output_type": "stream",
     "text": [
      "1/3, train_loss: 0.6969\n",
      "2/3, train_loss: 0.7285\n",
      "3/3, train_loss: 0.7115\n",
      "4/3, train_loss: 0.7209\n",
      "5/3, train_loss: 0.6802\n",
      "6/3, train_loss: 0.6858\n",
      "7/3, train_loss: 0.6932\n",
      "8/3, train_loss: 0.7018\n",
      "9/3, train_loss: 0.7070\n",
      "10/3, train_loss: 0.6920\n",
      "11/3, train_loss: 0.6740\n",
      "12/3, train_loss: 0.6919\n",
      "13/3, train_loss: 0.6824\n",
      "14/3, train_loss: 0.7271\n",
      "0 epoch 17 average loss: 0.6995\n",
      "----------\n",
      "0: epoch 18/500\n"
     ]
    },
    {
     "name": "stderr",
     "output_type": "stream",
     "text": [
      "Default upsampling behavior when mode=trilinear is changed to align_corners=False since 0.4.0. Please specify align_corners=True if the old behavior is desired. See the documentation of nn.Upsample for details.\n",
      "Default upsampling behavior when mode=trilinear is changed to align_corners=False since 0.4.0. Please specify align_corners=True if the old behavior is desired. See the documentation of nn.Upsample for details.\n",
      "Default upsampling behavior when mode=trilinear is changed to align_corners=False since 0.4.0. Please specify align_corners=True if the old behavior is desired. See the documentation of nn.Upsample for details.\n",
      "Default upsampling behavior when mode=trilinear is changed to align_corners=False since 0.4.0. Please specify align_corners=True if the old behavior is desired. See the documentation of nn.Upsample for details.\n"
     ]
    },
    {
     "name": "stdout",
     "output_type": "stream",
     "text": [
      "1/3, train_loss: 0.6732\n",
      "2/3, train_loss: 0.6992\n",
      "3/3, train_loss: 0.6984\n",
      "4/3, train_loss: 0.6722\n",
      "5/3, train_loss: 0.6837\n",
      "6/3, train_loss: 0.6844\n",
      "7/3, train_loss: 0.6876\n",
      "8/3, train_loss: 0.6956\n",
      "9/3, train_loss: 0.7088\n",
      "10/3, train_loss: 0.6864\n",
      "11/3, train_loss: 0.6877\n",
      "12/3, train_loss: 0.6874\n",
      "13/3, train_loss: 0.6460\n",
      "14/3, train_loss: 0.7025\n",
      "0 epoch 18 average loss: 0.6867\n",
      "saved new best metric model\n",
      "current epoch: 18 current mean dice: 0.2987\n",
      "best mean dice: 0.2987 at epoch: 18\n",
      "----------\n",
      "0: epoch 19/500\n"
     ]
    },
    {
     "name": "stderr",
     "output_type": "stream",
     "text": [
      "Default upsampling behavior when mode=trilinear is changed to align_corners=False since 0.4.0. Please specify align_corners=True if the old behavior is desired. See the documentation of nn.Upsample for details.\n",
      "Default upsampling behavior when mode=trilinear is changed to align_corners=False since 0.4.0. Please specify align_corners=True if the old behavior is desired. See the documentation of nn.Upsample for details.\n",
      "Default upsampling behavior when mode=trilinear is changed to align_corners=False since 0.4.0. Please specify align_corners=True if the old behavior is desired. See the documentation of nn.Upsample for details.\n",
      "Default upsampling behavior when mode=trilinear is changed to align_corners=False since 0.4.0. Please specify align_corners=True if the old behavior is desired. See the documentation of nn.Upsample for details.\n"
     ]
    },
    {
     "name": "stdout",
     "output_type": "stream",
     "text": [
      "1/3, train_loss: 0.6926\n",
      "2/3, train_loss: 0.6472\n",
      "3/3, train_loss: 0.6869\n",
      "4/3, train_loss: 0.6771\n",
      "5/3, train_loss: 0.6736\n",
      "6/3, train_loss: 0.7301\n",
      "7/3, train_loss: 0.6717\n",
      "8/3, train_loss: 0.6910\n",
      "9/3, train_loss: 0.6711\n",
      "10/3, train_loss: 0.6587\n",
      "11/3, train_loss: 0.6837\n",
      "12/3, train_loss: 0.6673\n",
      "13/3, train_loss: 0.6665\n",
      "14/3, train_loss: 0.6735\n",
      "0 epoch 19 average loss: 0.6779\n",
      "----------\n",
      "0: epoch 20/500\n"
     ]
    },
    {
     "name": "stderr",
     "output_type": "stream",
     "text": [
      "Default upsampling behavior when mode=trilinear is changed to align_corners=False since 0.4.0. Please specify align_corners=True if the old behavior is desired. See the documentation of nn.Upsample for details.\n",
      "Default upsampling behavior when mode=trilinear is changed to align_corners=False since 0.4.0. Please specify align_corners=True if the old behavior is desired. See the documentation of nn.Upsample for details.\n",
      "Default upsampling behavior when mode=trilinear is changed to align_corners=False since 0.4.0. Please specify align_corners=True if the old behavior is desired. See the documentation of nn.Upsample for details.\n",
      "Default upsampling behavior when mode=trilinear is changed to align_corners=False since 0.4.0. Please specify align_corners=True if the old behavior is desired. See the documentation of nn.Upsample for details.\n"
     ]
    },
    {
     "name": "stdout",
     "output_type": "stream",
     "text": [
      "1/3, train_loss: 0.6593\n",
      "2/3, train_loss: 0.6561\n",
      "3/3, train_loss: 0.6957\n",
      "4/3, train_loss: 0.6710\n",
      "5/3, train_loss: 0.6624\n",
      "6/3, train_loss: 0.6823\n",
      "7/3, train_loss: 0.6660\n",
      "8/3, train_loss: 0.6475\n",
      "9/3, train_loss: 0.6729\n",
      "10/3, train_loss: 0.6599\n",
      "11/3, train_loss: 0.6746\n",
      "12/3, train_loss: 0.6520\n",
      "13/3, train_loss: 0.6356\n",
      "14/3, train_loss: 0.6752\n",
      "0 epoch 20 average loss: 0.6650\n",
      "current epoch: 20 current mean dice: 0.2560\n",
      "best mean dice: 0.2987 at epoch: 18\n",
      "----------\n",
      "0: epoch 21/500\n"
     ]
    },
    {
     "name": "stderr",
     "output_type": "stream",
     "text": [
      "Default upsampling behavior when mode=trilinear is changed to align_corners=False since 0.4.0. Please specify align_corners=True if the old behavior is desired. See the documentation of nn.Upsample for details.\n",
      "Default upsampling behavior when mode=trilinear is changed to align_corners=False since 0.4.0. Please specify align_corners=True if the old behavior is desired. See the documentation of nn.Upsample for details.\n",
      "Default upsampling behavior when mode=trilinear is changed to align_corners=False since 0.4.0. Please specify align_corners=True if the old behavior is desired. See the documentation of nn.Upsample for details.\n",
      "Default upsampling behavior when mode=trilinear is changed to align_corners=False since 0.4.0. Please specify align_corners=True if the old behavior is desired. See the documentation of nn.Upsample for details.\n"
     ]
    },
    {
     "name": "stdout",
     "output_type": "stream",
     "text": [
      "1/3, train_loss: 0.6267\n",
      "2/3, train_loss: 0.6650\n",
      "3/3, train_loss: 0.6128\n",
      "4/3, train_loss: 0.6490\n",
      "5/3, train_loss: 0.6953\n",
      "6/3, train_loss: 0.6765\n",
      "7/3, train_loss: 0.6569\n",
      "8/3, train_loss: 0.6318\n",
      "9/3, train_loss: 0.6536\n",
      "10/3, train_loss: 0.6485\n",
      "11/3, train_loss: 0.6785\n",
      "12/3, train_loss: 0.6574\n",
      "13/3, train_loss: 0.6621\n",
      "14/3, train_loss: 0.6376\n",
      "0 epoch 21 average loss: 0.6537\n",
      "----------\n",
      "0: epoch 22/500\n"
     ]
    },
    {
     "name": "stderr",
     "output_type": "stream",
     "text": [
      "Default upsampling behavior when mode=trilinear is changed to align_corners=False since 0.4.0. Please specify align_corners=True if the old behavior is desired. See the documentation of nn.Upsample for details.\n",
      "Default upsampling behavior when mode=trilinear is changed to align_corners=False since 0.4.0. Please specify align_corners=True if the old behavior is desired. See the documentation of nn.Upsample for details.\n",
      "Default upsampling behavior when mode=trilinear is changed to align_corners=False since 0.4.0. Please specify align_corners=True if the old behavior is desired. See the documentation of nn.Upsample for details.\n",
      "Default upsampling behavior when mode=trilinear is changed to align_corners=False since 0.4.0. Please specify align_corners=True if the old behavior is desired. See the documentation of nn.Upsample for details.\n"
     ]
    },
    {
     "name": "stdout",
     "output_type": "stream",
     "text": [
      "1/3, train_loss: 0.6284\n",
      "2/3, train_loss: 0.6256\n",
      "3/3, train_loss: 0.6136\n",
      "4/3, train_loss: 0.6363\n",
      "5/3, train_loss: 0.6481\n",
      "6/3, train_loss: 0.6615\n",
      "7/3, train_loss: 0.6934\n",
      "8/3, train_loss: 0.6371\n",
      "9/3, train_loss: 0.6800\n",
      "10/3, train_loss: 0.6371\n",
      "11/3, train_loss: 0.6352\n",
      "12/3, train_loss: 0.6577\n",
      "13/3, train_loss: 0.6470\n",
      "14/3, train_loss: 0.6967\n",
      "0 epoch 22 average loss: 0.6498\n",
      "saved new best metric model\n",
      "current epoch: 22 current mean dice: 0.3275\n",
      "best mean dice: 0.3275 at epoch: 22\n",
      "----------\n",
      "0: epoch 23/500\n"
     ]
    },
    {
     "name": "stderr",
     "output_type": "stream",
     "text": [
      "Default upsampling behavior when mode=trilinear is changed to align_corners=False since 0.4.0. Please specify align_corners=True if the old behavior is desired. See the documentation of nn.Upsample for details.\n",
      "Default upsampling behavior when mode=trilinear is changed to align_corners=False since 0.4.0. Please specify align_corners=True if the old behavior is desired. See the documentation of nn.Upsample for details.\n",
      "Default upsampling behavior when mode=trilinear is changed to align_corners=False since 0.4.0. Please specify align_corners=True if the old behavior is desired. See the documentation of nn.Upsample for details.\n",
      "Default upsampling behavior when mode=trilinear is changed to align_corners=False since 0.4.0. Please specify align_corners=True if the old behavior is desired. See the documentation of nn.Upsample for details.\n"
     ]
    },
    {
     "name": "stdout",
     "output_type": "stream",
     "text": [
      "1/3, train_loss: 0.6632\n",
      "2/3, train_loss: 0.6335\n",
      "3/3, train_loss: 0.6604\n",
      "4/3, train_loss: 0.6333\n",
      "5/3, train_loss: 0.6854\n",
      "6/3, train_loss: 0.6204\n",
      "7/3, train_loss: 0.6404\n",
      "8/3, train_loss: 0.6476\n",
      "9/3, train_loss: 0.6507\n",
      "10/3, train_loss: 0.6682\n",
      "11/3, train_loss: 0.6178\n",
      "12/3, train_loss: 0.6158\n",
      "13/3, train_loss: 0.6121\n",
      "14/3, train_loss: 0.6847\n",
      "0 epoch 23 average loss: 0.6452\n",
      "----------\n",
      "0: epoch 24/500\n"
     ]
    },
    {
     "name": "stderr",
     "output_type": "stream",
     "text": [
      "Default upsampling behavior when mode=trilinear is changed to align_corners=False since 0.4.0. Please specify align_corners=True if the old behavior is desired. See the documentation of nn.Upsample for details.\n",
      "Default upsampling behavior when mode=trilinear is changed to align_corners=False since 0.4.0. Please specify align_corners=True if the old behavior is desired. See the documentation of nn.Upsample for details.\n",
      "Default upsampling behavior when mode=trilinear is changed to align_corners=False since 0.4.0. Please specify align_corners=True if the old behavior is desired. See the documentation of nn.Upsample for details.\n",
      "Default upsampling behavior when mode=trilinear is changed to align_corners=False since 0.4.0. Please specify align_corners=True if the old behavior is desired. See the documentation of nn.Upsample for details.\n"
     ]
    },
    {
     "name": "stdout",
     "output_type": "stream",
     "text": [
      "1/3, train_loss: 0.6408\n",
      "2/3, train_loss: 0.6433\n",
      "3/3, train_loss: 0.6419\n",
      "4/3, train_loss: 0.6148\n",
      "5/3, train_loss: 0.5982\n",
      "6/3, train_loss: 0.6243\n",
      "7/3, train_loss: 0.6013\n",
      "8/3, train_loss: 0.6515\n",
      "9/3, train_loss: 0.5872\n",
      "10/3, train_loss: 0.6638\n",
      "11/3, train_loss: 0.6668\n",
      "12/3, train_loss: 0.6309\n",
      "13/3, train_loss: 0.6248\n",
      "14/3, train_loss: 0.6281\n",
      "0 epoch 24 average loss: 0.6298\n",
      "current epoch: 24 current mean dice: 0.2792\n",
      "best mean dice: 0.3275 at epoch: 22\n",
      "----------\n",
      "0: epoch 25/500\n"
     ]
    },
    {
     "name": "stderr",
     "output_type": "stream",
     "text": [
      "Default upsampling behavior when mode=trilinear is changed to align_corners=False since 0.4.0. Please specify align_corners=True if the old behavior is desired. See the documentation of nn.Upsample for details.\n",
      "Default upsampling behavior when mode=trilinear is changed to align_corners=False since 0.4.0. Please specify align_corners=True if the old behavior is desired. See the documentation of nn.Upsample for details.\n",
      "Default upsampling behavior when mode=trilinear is changed to align_corners=False since 0.4.0. Please specify align_corners=True if the old behavior is desired. See the documentation of nn.Upsample for details.\n",
      "Default upsampling behavior when mode=trilinear is changed to align_corners=False since 0.4.0. Please specify align_corners=True if the old behavior is desired. See the documentation of nn.Upsample for details.\n"
     ]
    },
    {
     "name": "stdout",
     "output_type": "stream",
     "text": [
      "1/3, train_loss: 0.6446\n",
      "2/3, train_loss: 0.6470\n",
      "3/3, train_loss: 0.6473\n",
      "4/3, train_loss: 0.6272\n",
      "5/3, train_loss: 0.6707\n",
      "6/3, train_loss: 0.6089\n",
      "7/3, train_loss: 0.6379\n",
      "8/3, train_loss: 0.6292\n",
      "9/3, train_loss: 0.6248\n",
      "10/3, train_loss: 0.6274\n",
      "11/3, train_loss: 0.6031\n",
      "12/3, train_loss: 0.6291\n",
      "13/3, train_loss: 0.5991\n",
      "14/3, train_loss: 0.6236\n",
      "0 epoch 25 average loss: 0.6300\n",
      "----------\n",
      "0: epoch 26/500\n"
     ]
    },
    {
     "name": "stderr",
     "output_type": "stream",
     "text": [
      "Default upsampling behavior when mode=trilinear is changed to align_corners=False since 0.4.0. Please specify align_corners=True if the old behavior is desired. See the documentation of nn.Upsample for details.\n",
      "Default upsampling behavior when mode=trilinear is changed to align_corners=False since 0.4.0. Please specify align_corners=True if the old behavior is desired. See the documentation of nn.Upsample for details.\n",
      "Default upsampling behavior when mode=trilinear is changed to align_corners=False since 0.4.0. Please specify align_corners=True if the old behavior is desired. See the documentation of nn.Upsample for details.\n",
      "Default upsampling behavior when mode=trilinear is changed to align_corners=False since 0.4.0. Please specify align_corners=True if the old behavior is desired. See the documentation of nn.Upsample for details.\n"
     ]
    },
    {
     "name": "stdout",
     "output_type": "stream",
     "text": [
      "1/3, train_loss: 0.6250\n",
      "2/3, train_loss: 0.6500\n",
      "3/3, train_loss: 0.5867\n",
      "4/3, train_loss: 0.6236\n",
      "5/3, train_loss: 0.5995\n",
      "6/3, train_loss: 0.5864\n",
      "7/3, train_loss: 0.5930\n",
      "8/3, train_loss: 0.6550\n",
      "9/3, train_loss: 0.6484\n",
      "10/3, train_loss: 0.6034\n",
      "11/3, train_loss: 0.6005\n",
      "12/3, train_loss: 0.6373\n",
      "13/3, train_loss: 0.6321\n",
      "14/3, train_loss: 0.6108\n",
      "0 epoch 26 average loss: 0.6180\n",
      "saved new best metric model\n",
      "current epoch: 26 current mean dice: 0.3641\n",
      "best mean dice: 0.3641 at epoch: 26\n",
      "----------\n",
      "0: epoch 27/500\n"
     ]
    },
    {
     "name": "stderr",
     "output_type": "stream",
     "text": [
      "Default upsampling behavior when mode=trilinear is changed to align_corners=False since 0.4.0. Please specify align_corners=True if the old behavior is desired. See the documentation of nn.Upsample for details.\n",
      "Default upsampling behavior when mode=trilinear is changed to align_corners=False since 0.4.0. Please specify align_corners=True if the old behavior is desired. See the documentation of nn.Upsample for details.\n",
      "Default upsampling behavior when mode=trilinear is changed to align_corners=False since 0.4.0. Please specify align_corners=True if the old behavior is desired. See the documentation of nn.Upsample for details.\n",
      "Default upsampling behavior when mode=trilinear is changed to align_corners=False since 0.4.0. Please specify align_corners=True if the old behavior is desired. See the documentation of nn.Upsample for details.\n"
     ]
    },
    {
     "name": "stdout",
     "output_type": "stream",
     "text": [
      "1/3, train_loss: 0.6142\n",
      "2/3, train_loss: 0.6073\n",
      "3/3, train_loss: 0.6007\n",
      "4/3, train_loss: 0.6071\n",
      "5/3, train_loss: 0.6107\n",
      "6/3, train_loss: 0.6282\n",
      "7/3, train_loss: 0.6160\n",
      "8/3, train_loss: 0.6124\n",
      "9/3, train_loss: 0.6160\n",
      "10/3, train_loss: 0.6464\n",
      "11/3, train_loss: 0.5758\n",
      "12/3, train_loss: 0.6068\n",
      "13/3, train_loss: 0.5901\n",
      "14/3, train_loss: 0.5722\n",
      "0 epoch 27 average loss: 0.6074\n",
      "----------\n",
      "0: epoch 28/500\n"
     ]
    },
    {
     "name": "stderr",
     "output_type": "stream",
     "text": [
      "Default upsampling behavior when mode=trilinear is changed to align_corners=False since 0.4.0. Please specify align_corners=True if the old behavior is desired. See the documentation of nn.Upsample for details.\n",
      "Default upsampling behavior when mode=trilinear is changed to align_corners=False since 0.4.0. Please specify align_corners=True if the old behavior is desired. See the documentation of nn.Upsample for details.\n",
      "Default upsampling behavior when mode=trilinear is changed to align_corners=False since 0.4.0. Please specify align_corners=True if the old behavior is desired. See the documentation of nn.Upsample for details.\n",
      "Default upsampling behavior when mode=trilinear is changed to align_corners=False since 0.4.0. Please specify align_corners=True if the old behavior is desired. See the documentation of nn.Upsample for details.\n"
     ]
    },
    {
     "name": "stdout",
     "output_type": "stream",
     "text": [
      "1/3, train_loss: 0.5746\n",
      "2/3, train_loss: 0.6674\n",
      "3/3, train_loss: 0.6072\n",
      "4/3, train_loss: 0.6182\n",
      "5/3, train_loss: 0.6155\n",
      "6/3, train_loss: 0.6045\n",
      "7/3, train_loss: 0.5772\n",
      "8/3, train_loss: 0.5996\n",
      "9/3, train_loss: 0.5588\n",
      "10/3, train_loss: 0.6142\n",
      "11/3, train_loss: 0.5701\n",
      "12/3, train_loss: 0.5818\n",
      "13/3, train_loss: 0.6000\n",
      "14/3, train_loss: 0.5731\n",
      "0 epoch 28 average loss: 0.5973\n",
      "current epoch: 28 current mean dice: 0.3217\n",
      "best mean dice: 0.3641 at epoch: 26\n",
      "----------\n",
      "0: epoch 29/500\n"
     ]
    },
    {
     "name": "stderr",
     "output_type": "stream",
     "text": [
      "Default upsampling behavior when mode=trilinear is changed to align_corners=False since 0.4.0. Please specify align_corners=True if the old behavior is desired. See the documentation of nn.Upsample for details.\n",
      "Default upsampling behavior when mode=trilinear is changed to align_corners=False since 0.4.0. Please specify align_corners=True if the old behavior is desired. See the documentation of nn.Upsample for details.\n",
      "Default upsampling behavior when mode=trilinear is changed to align_corners=False since 0.4.0. Please specify align_corners=True if the old behavior is desired. See the documentation of nn.Upsample for details.\n"
     ]
    },
    {
     "name": "stdout",
     "output_type": "stream",
     "text": [
      "1/3, train_loss: 0.6496\n"
     ]
    },
    {
     "name": "stderr",
     "output_type": "stream",
     "text": [
      "Default upsampling behavior when mode=trilinear is changed to align_corners=False since 0.4.0. Please specify align_corners=True if the old behavior is desired. See the documentation of nn.Upsample for details.\n"
     ]
    },
    {
     "name": "stdout",
     "output_type": "stream",
     "text": [
      "2/3, train_loss: 0.5969\n",
      "3/3, train_loss: 0.5981\n",
      "4/3, train_loss: 0.5902\n",
      "5/3, train_loss: 0.5727\n",
      "6/3, train_loss: 0.5879\n",
      "7/3, train_loss: 0.5776\n",
      "8/3, train_loss: 0.5916\n",
      "9/3, train_loss: 0.5889\n",
      "10/3, train_loss: 0.6046\n",
      "11/3, train_loss: 0.5824\n",
      "12/3, train_loss: 0.5710\n",
      "13/3, train_loss: 0.6156\n",
      "14/3, train_loss: 0.5165\n",
      "0 epoch 29 average loss: 0.5888\n",
      "----------\n",
      "0: epoch 30/500\n"
     ]
    },
    {
     "name": "stderr",
     "output_type": "stream",
     "text": [
      "Default upsampling behavior when mode=trilinear is changed to align_corners=False since 0.4.0. Please specify align_corners=True if the old behavior is desired. See the documentation of nn.Upsample for details.\n",
      "Default upsampling behavior when mode=trilinear is changed to align_corners=False since 0.4.0. Please specify align_corners=True if the old behavior is desired. See the documentation of nn.Upsample for details.\n",
      "Default upsampling behavior when mode=trilinear is changed to align_corners=False since 0.4.0. Please specify align_corners=True if the old behavior is desired. See the documentation of nn.Upsample for details.\n"
     ]
    },
    {
     "name": "stdout",
     "output_type": "stream",
     "text": [
      "1/3, train_loss: 0.5543\n"
     ]
    },
    {
     "name": "stderr",
     "output_type": "stream",
     "text": [
      "Default upsampling behavior when mode=trilinear is changed to align_corners=False since 0.4.0. Please specify align_corners=True if the old behavior is desired. See the documentation of nn.Upsample for details.\n"
     ]
    },
    {
     "name": "stdout",
     "output_type": "stream",
     "text": [
      "2/3, train_loss: 0.6216\n",
      "3/3, train_loss: 0.6006\n",
      "4/3, train_loss: 0.5932\n",
      "5/3, train_loss: 0.5619\n",
      "6/3, train_loss: 0.6132\n",
      "7/3, train_loss: 0.5800\n",
      "8/3, train_loss: 0.5566\n",
      "9/3, train_loss: 0.5742\n",
      "10/3, train_loss: 0.5557\n",
      "11/3, train_loss: 0.6194\n",
      "12/3, train_loss: 0.5610\n",
      "13/3, train_loss: 0.6076\n",
      "14/3, train_loss: 0.6693\n",
      "0 epoch 30 average loss: 0.5906\n",
      "current epoch: 30 current mean dice: 0.3507\n",
      "best mean dice: 0.3641 at epoch: 26\n",
      "----------\n",
      "0: epoch 31/500\n"
     ]
    },
    {
     "name": "stderr",
     "output_type": "stream",
     "text": [
      "Default upsampling behavior when mode=trilinear is changed to align_corners=False since 0.4.0. Please specify align_corners=True if the old behavior is desired. See the documentation of nn.Upsample for details.\n",
      "Default upsampling behavior when mode=trilinear is changed to align_corners=False since 0.4.0. Please specify align_corners=True if the old behavior is desired. See the documentation of nn.Upsample for details.\n",
      "Default upsampling behavior when mode=trilinear is changed to align_corners=False since 0.4.0. Please specify align_corners=True if the old behavior is desired. See the documentation of nn.Upsample for details.\n",
      "Default upsampling behavior when mode=trilinear is changed to align_corners=False since 0.4.0. Please specify align_corners=True if the old behavior is desired. See the documentation of nn.Upsample for details.\n"
     ]
    },
    {
     "name": "stdout",
     "output_type": "stream",
     "text": [
      "1/3, train_loss: 0.6278\n",
      "2/3, train_loss: 0.5992\n",
      "3/3, train_loss: 0.6268\n",
      "4/3, train_loss: 0.5821\n",
      "5/3, train_loss: 0.5509\n",
      "6/3, train_loss: 0.6101\n",
      "7/3, train_loss: 0.5789\n",
      "8/3, train_loss: 0.5369\n",
      "9/3, train_loss: 0.5538\n",
      "10/3, train_loss: 0.5799\n",
      "11/3, train_loss: 0.5820\n",
      "12/3, train_loss: 0.5675\n",
      "13/3, train_loss: 0.5417\n",
      "14/3, train_loss: 0.5536\n",
      "0 epoch 31 average loss: 0.5779\n",
      "----------\n",
      "0: epoch 32/500\n"
     ]
    },
    {
     "name": "stderr",
     "output_type": "stream",
     "text": [
      "Default upsampling behavior when mode=trilinear is changed to align_corners=False since 0.4.0. Please specify align_corners=True if the old behavior is desired. See the documentation of nn.Upsample for details.\n",
      "Default upsampling behavior when mode=trilinear is changed to align_corners=False since 0.4.0. Please specify align_corners=True if the old behavior is desired. See the documentation of nn.Upsample for details.\n",
      "Default upsampling behavior when mode=trilinear is changed to align_corners=False since 0.4.0. Please specify align_corners=True if the old behavior is desired. See the documentation of nn.Upsample for details.\n",
      "Default upsampling behavior when mode=trilinear is changed to align_corners=False since 0.4.0. Please specify align_corners=True if the old behavior is desired. See the documentation of nn.Upsample for details.\n"
     ]
    },
    {
     "name": "stdout",
     "output_type": "stream",
     "text": [
      "1/3, train_loss: 0.5938\n",
      "2/3, train_loss: 0.5561\n",
      "3/3, train_loss: 0.5644\n",
      "4/3, train_loss: 0.5897\n",
      "5/3, train_loss: 0.5472\n",
      "6/3, train_loss: 0.5685\n",
      "7/3, train_loss: 0.6017\n",
      "8/3, train_loss: 0.5503\n",
      "9/3, train_loss: 0.5656\n",
      "10/3, train_loss: 0.5456\n",
      "11/3, train_loss: 0.6377\n",
      "12/3, train_loss: 0.5799\n",
      "13/3, train_loss: 0.5309\n",
      "14/3, train_loss: 0.5982\n",
      "0 epoch 32 average loss: 0.5735\n",
      "current epoch: 32 current mean dice: 0.2923\n",
      "best mean dice: 0.3641 at epoch: 26\n",
      "----------\n",
      "0: epoch 33/500\n"
     ]
    },
    {
     "name": "stderr",
     "output_type": "stream",
     "text": [
      "Default upsampling behavior when mode=trilinear is changed to align_corners=False since 0.4.0. Please specify align_corners=True if the old behavior is desired. See the documentation of nn.Upsample for details.\n",
      "Default upsampling behavior when mode=trilinear is changed to align_corners=False since 0.4.0. Please specify align_corners=True if the old behavior is desired. See the documentation of nn.Upsample for details.\n",
      "Default upsampling behavior when mode=trilinear is changed to align_corners=False since 0.4.0. Please specify align_corners=True if the old behavior is desired. See the documentation of nn.Upsample for details.\n",
      "Default upsampling behavior when mode=trilinear is changed to align_corners=False since 0.4.0. Please specify align_corners=True if the old behavior is desired. See the documentation of nn.Upsample for details.\n"
     ]
    },
    {
     "name": "stdout",
     "output_type": "stream",
     "text": [
      "1/3, train_loss: 0.5316\n",
      "2/3, train_loss: 0.5667\n",
      "3/3, train_loss: 0.5182\n",
      "4/3, train_loss: 0.5576\n",
      "5/3, train_loss: 0.5689\n",
      "6/3, train_loss: 0.5636\n",
      "7/3, train_loss: 0.5889\n",
      "8/3, train_loss: 0.5958\n",
      "9/3, train_loss: 0.5582\n",
      "10/3, train_loss: 0.5734\n",
      "11/3, train_loss: 0.5609\n",
      "12/3, train_loss: 0.5681\n",
      "13/3, train_loss: 0.5867\n",
      "14/3, train_loss: 0.5368\n",
      "0 epoch 33 average loss: 0.5625\n",
      "----------\n",
      "0: epoch 34/500\n"
     ]
    },
    {
     "name": "stderr",
     "output_type": "stream",
     "text": [
      "Default upsampling behavior when mode=trilinear is changed to align_corners=False since 0.4.0. Please specify align_corners=True if the old behavior is desired. See the documentation of nn.Upsample for details.\n",
      "Default upsampling behavior when mode=trilinear is changed to align_corners=False since 0.4.0. Please specify align_corners=True if the old behavior is desired. See the documentation of nn.Upsample for details.\n",
      "Default upsampling behavior when mode=trilinear is changed to align_corners=False since 0.4.0. Please specify align_corners=True if the old behavior is desired. See the documentation of nn.Upsample for details.\n",
      "Default upsampling behavior when mode=trilinear is changed to align_corners=False since 0.4.0. Please specify align_corners=True if the old behavior is desired. See the documentation of nn.Upsample for details.\n"
     ]
    },
    {
     "name": "stdout",
     "output_type": "stream",
     "text": [
      "1/3, train_loss: 0.5575\n",
      "2/3, train_loss: 0.5310\n",
      "3/3, train_loss: 0.5570\n",
      "4/3, train_loss: 0.5586\n",
      "5/3, train_loss: 0.5867\n",
      "6/3, train_loss: 0.5139\n",
      "7/3, train_loss: 0.5974\n",
      "8/3, train_loss: 0.5782\n",
      "9/3, train_loss: 0.5417\n",
      "10/3, train_loss: 0.5680\n",
      "11/3, train_loss: 0.5573\n",
      "12/3, train_loss: 0.5180\n",
      "13/3, train_loss: 0.6105\n",
      "14/3, train_loss: 0.5131\n",
      "0 epoch 34 average loss: 0.5563\n",
      "current epoch: 34 current mean dice: 0.2717\n",
      "best mean dice: 0.3641 at epoch: 26\n",
      "----------\n",
      "0: epoch 35/500\n"
     ]
    },
    {
     "name": "stderr",
     "output_type": "stream",
     "text": [
      "Default upsampling behavior when mode=trilinear is changed to align_corners=False since 0.4.0. Please specify align_corners=True if the old behavior is desired. See the documentation of nn.Upsample for details.\n",
      "Default upsampling behavior when mode=trilinear is changed to align_corners=False since 0.4.0. Please specify align_corners=True if the old behavior is desired. See the documentation of nn.Upsample for details.\n",
      "Default upsampling behavior when mode=trilinear is changed to align_corners=False since 0.4.0. Please specify align_corners=True if the old behavior is desired. See the documentation of nn.Upsample for details.\n",
      "Default upsampling behavior when mode=trilinear is changed to align_corners=False since 0.4.0. Please specify align_corners=True if the old behavior is desired. See the documentation of nn.Upsample for details.\n"
     ]
    },
    {
     "name": "stdout",
     "output_type": "stream",
     "text": [
      "1/3, train_loss: 0.5169\n",
      "2/3, train_loss: 0.5650\n",
      "3/3, train_loss: 0.5596\n",
      "4/3, train_loss: 0.5045\n",
      "5/3, train_loss: 0.5399\n",
      "6/3, train_loss: 0.5682\n",
      "7/3, train_loss: 0.5130\n",
      "8/3, train_loss: 0.5246\n",
      "9/3, train_loss: 0.5689\n",
      "10/3, train_loss: 0.5576\n",
      "11/3, train_loss: 0.6024\n",
      "12/3, train_loss: 0.5680\n",
      "13/3, train_loss: 0.5770\n",
      "14/3, train_loss: 0.5925\n",
      "0 epoch 35 average loss: 0.5541\n",
      "----------\n",
      "0: epoch 36/500\n"
     ]
    },
    {
     "name": "stderr",
     "output_type": "stream",
     "text": [
      "Default upsampling behavior when mode=trilinear is changed to align_corners=False since 0.4.0. Please specify align_corners=True if the old behavior is desired. See the documentation of nn.Upsample for details.\n",
      "Default upsampling behavior when mode=trilinear is changed to align_corners=False since 0.4.0. Please specify align_corners=True if the old behavior is desired. See the documentation of nn.Upsample for details.\n",
      "Default upsampling behavior when mode=trilinear is changed to align_corners=False since 0.4.0. Please specify align_corners=True if the old behavior is desired. See the documentation of nn.Upsample for details.\n",
      "Default upsampling behavior when mode=trilinear is changed to align_corners=False since 0.4.0. Please specify align_corners=True if the old behavior is desired. See the documentation of nn.Upsample for details.\n"
     ]
    },
    {
     "name": "stdout",
     "output_type": "stream",
     "text": [
      "1/3, train_loss: 0.5460\n",
      "2/3, train_loss: 0.5137\n",
      "3/3, train_loss: 0.6013\n",
      "4/3, train_loss: 0.5392\n",
      "5/3, train_loss: 0.5549\n",
      "6/3, train_loss: 0.6350\n",
      "7/3, train_loss: 0.5487\n",
      "8/3, train_loss: 0.5739\n",
      "9/3, train_loss: 0.6024\n",
      "10/3, train_loss: 0.5432\n",
      "11/3, train_loss: 0.5492\n",
      "12/3, train_loss: 0.5177\n",
      "13/3, train_loss: 0.5313\n",
      "14/3, train_loss: 0.5580\n",
      "0 epoch 36 average loss: 0.5582\n",
      "current epoch: 36 current mean dice: 0.3285\n",
      "best mean dice: 0.3641 at epoch: 26\n",
      "----------\n",
      "0: epoch 37/500\n"
     ]
    },
    {
     "name": "stderr",
     "output_type": "stream",
     "text": [
      "Default upsampling behavior when mode=trilinear is changed to align_corners=False since 0.4.0. Please specify align_corners=True if the old behavior is desired. See the documentation of nn.Upsample for details.\n",
      "Default upsampling behavior when mode=trilinear is changed to align_corners=False since 0.4.0. Please specify align_corners=True if the old behavior is desired. See the documentation of nn.Upsample for details.\n",
      "Default upsampling behavior when mode=trilinear is changed to align_corners=False since 0.4.0. Please specify align_corners=True if the old behavior is desired. See the documentation of nn.Upsample for details.\n",
      "Default upsampling behavior when mode=trilinear is changed to align_corners=False since 0.4.0. Please specify align_corners=True if the old behavior is desired. See the documentation of nn.Upsample for details.\n"
     ]
    },
    {
     "name": "stdout",
     "output_type": "stream",
     "text": [
      "1/3, train_loss: 0.5419\n",
      "2/3, train_loss: 0.5199\n",
      "3/3, train_loss: 0.4810\n",
      "4/3, train_loss: 0.5875\n",
      "5/3, train_loss: 0.5594\n",
      "6/3, train_loss: 0.5739\n",
      "7/3, train_loss: 0.5397\n",
      "8/3, train_loss: 0.5891\n",
      "9/3, train_loss: 0.5082\n",
      "10/3, train_loss: 0.5334\n",
      "11/3, train_loss: 0.5530\n",
      "12/3, train_loss: 0.5594\n",
      "13/3, train_loss: 0.5610\n",
      "14/3, train_loss: 0.6080\n",
      "0 epoch 37 average loss: 0.5511\n",
      "----------\n",
      "0: epoch 38/500\n"
     ]
    },
    {
     "name": "stderr",
     "output_type": "stream",
     "text": [
      "Default upsampling behavior when mode=trilinear is changed to align_corners=False since 0.4.0. Please specify align_corners=True if the old behavior is desired. See the documentation of nn.Upsample for details.\n",
      "Default upsampling behavior when mode=trilinear is changed to align_corners=False since 0.4.0. Please specify align_corners=True if the old behavior is desired. See the documentation of nn.Upsample for details.\n",
      "Default upsampling behavior when mode=trilinear is changed to align_corners=False since 0.4.0. Please specify align_corners=True if the old behavior is desired. See the documentation of nn.Upsample for details.\n",
      "Default upsampling behavior when mode=trilinear is changed to align_corners=False since 0.4.0. Please specify align_corners=True if the old behavior is desired. See the documentation of nn.Upsample for details.\n"
     ]
    },
    {
     "name": "stdout",
     "output_type": "stream",
     "text": [
      "1/3, train_loss: 0.5139\n",
      "2/3, train_loss: 0.5566\n",
      "3/3, train_loss: 0.5296\n",
      "4/3, train_loss: 0.5495\n",
      "5/3, train_loss: 0.5288\n",
      "6/3, train_loss: 0.5092\n",
      "7/3, train_loss: 0.5339\n",
      "8/3, train_loss: 0.5814\n",
      "9/3, train_loss: 0.5769\n",
      "10/3, train_loss: 0.5354\n",
      "11/3, train_loss: 0.5376\n",
      "12/3, train_loss: 0.5719\n",
      "13/3, train_loss: 0.5539\n",
      "14/3, train_loss: 0.5349\n",
      "0 epoch 38 average loss: 0.5438\n",
      "saved new best metric model\n",
      "current epoch: 38 current mean dice: 0.5018\n",
      "best mean dice: 0.5018 at epoch: 38\n",
      "----------\n",
      "0: epoch 39/500\n"
     ]
    },
    {
     "name": "stderr",
     "output_type": "stream",
     "text": [
      "Default upsampling behavior when mode=trilinear is changed to align_corners=False since 0.4.0. Please specify align_corners=True if the old behavior is desired. See the documentation of nn.Upsample for details.\n",
      "Default upsampling behavior when mode=trilinear is changed to align_corners=False since 0.4.0. Please specify align_corners=True if the old behavior is desired. See the documentation of nn.Upsample for details.\n",
      "Default upsampling behavior when mode=trilinear is changed to align_corners=False since 0.4.0. Please specify align_corners=True if the old behavior is desired. See the documentation of nn.Upsample for details.\n",
      "Default upsampling behavior when mode=trilinear is changed to align_corners=False since 0.4.0. Please specify align_corners=True if the old behavior is desired. See the documentation of nn.Upsample for details.\n"
     ]
    },
    {
     "name": "stdout",
     "output_type": "stream",
     "text": [
      "1/3, train_loss: 0.5236\n",
      "2/3, train_loss: 0.5175\n",
      "3/3, train_loss: 0.5232\n",
      "4/3, train_loss: 0.5127\n",
      "5/3, train_loss: 0.4867\n",
      "6/3, train_loss: 0.5300\n",
      "7/3, train_loss: 0.5559\n",
      "8/3, train_loss: 0.5266\n",
      "9/3, train_loss: 0.5504\n",
      "10/3, train_loss: 0.5464\n",
      "11/3, train_loss: 0.5113\n",
      "12/3, train_loss: 0.5483\n",
      "13/3, train_loss: 0.5675\n",
      "14/3, train_loss: 0.5200\n",
      "0 epoch 39 average loss: 0.5300\n",
      "----------\n",
      "0: epoch 40/500\n"
     ]
    },
    {
     "name": "stderr",
     "output_type": "stream",
     "text": [
      "Default upsampling behavior when mode=trilinear is changed to align_corners=False since 0.4.0. Please specify align_corners=True if the old behavior is desired. See the documentation of nn.Upsample for details.\n",
      "Default upsampling behavior when mode=trilinear is changed to align_corners=False since 0.4.0. Please specify align_corners=True if the old behavior is desired. See the documentation of nn.Upsample for details.\n",
      "Default upsampling behavior when mode=trilinear is changed to align_corners=False since 0.4.0. Please specify align_corners=True if the old behavior is desired. See the documentation of nn.Upsample for details.\n",
      "Default upsampling behavior when mode=trilinear is changed to align_corners=False since 0.4.0. Please specify align_corners=True if the old behavior is desired. See the documentation of nn.Upsample for details.\n"
     ]
    },
    {
     "name": "stdout",
     "output_type": "stream",
     "text": [
      "1/3, train_loss: 0.5328\n",
      "2/3, train_loss: 0.5465\n",
      "3/3, train_loss: 0.5503\n",
      "4/3, train_loss: 0.5144\n",
      "5/3, train_loss: 0.5206\n",
      "6/3, train_loss: 0.5162\n",
      "7/3, train_loss: 0.5354\n",
      "8/3, train_loss: 0.5057\n",
      "9/3, train_loss: 0.5023\n",
      "10/3, train_loss: 0.5223\n",
      "11/3, train_loss: 0.4916\n",
      "12/3, train_loss: 0.5900\n",
      "13/3, train_loss: 0.5531\n",
      "14/3, train_loss: 0.5090\n",
      "0 epoch 40 average loss: 0.5279\n",
      "current epoch: 40 current mean dice: 0.1573\n",
      "best mean dice: 0.5018 at epoch: 38\n",
      "----------\n",
      "0: epoch 41/500\n"
     ]
    },
    {
     "name": "stderr",
     "output_type": "stream",
     "text": [
      "Default upsampling behavior when mode=trilinear is changed to align_corners=False since 0.4.0. Please specify align_corners=True if the old behavior is desired. See the documentation of nn.Upsample for details.\n",
      "Default upsampling behavior when mode=trilinear is changed to align_corners=False since 0.4.0. Please specify align_corners=True if the old behavior is desired. See the documentation of nn.Upsample for details.\n",
      "Default upsampling behavior when mode=trilinear is changed to align_corners=False since 0.4.0. Please specify align_corners=True if the old behavior is desired. See the documentation of nn.Upsample for details.\n",
      "Default upsampling behavior when mode=trilinear is changed to align_corners=False since 0.4.0. Please specify align_corners=True if the old behavior is desired. See the documentation of nn.Upsample for details.\n"
     ]
    },
    {
     "name": "stdout",
     "output_type": "stream",
     "text": [
      "1/3, train_loss: 0.5732\n",
      "2/3, train_loss: 0.5123\n",
      "3/3, train_loss: 0.5225\n",
      "4/3, train_loss: 0.5283\n",
      "5/3, train_loss: 0.5244\n",
      "6/3, train_loss: 0.5359\n",
      "7/3, train_loss: 0.5291\n",
      "8/3, train_loss: 0.5579\n",
      "9/3, train_loss: 0.5421\n",
      "10/3, train_loss: 0.4900\n",
      "11/3, train_loss: 0.5067\n",
      "12/3, train_loss: 0.5401\n",
      "13/3, train_loss: 0.4681\n",
      "14/3, train_loss: 0.6021\n",
      "0 epoch 41 average loss: 0.5309\n",
      "----------\n",
      "0: epoch 42/500\n"
     ]
    },
    {
     "name": "stderr",
     "output_type": "stream",
     "text": [
      "Default upsampling behavior when mode=trilinear is changed to align_corners=False since 0.4.0. Please specify align_corners=True if the old behavior is desired. See the documentation of nn.Upsample for details.\n",
      "Default upsampling behavior when mode=trilinear is changed to align_corners=False since 0.4.0. Please specify align_corners=True if the old behavior is desired. See the documentation of nn.Upsample for details.\n",
      "Default upsampling behavior when mode=trilinear is changed to align_corners=False since 0.4.0. Please specify align_corners=True if the old behavior is desired. See the documentation of nn.Upsample for details.\n",
      "Default upsampling behavior when mode=trilinear is changed to align_corners=False since 0.4.0. Please specify align_corners=True if the old behavior is desired. See the documentation of nn.Upsample for details.\n"
     ]
    },
    {
     "name": "stdout",
     "output_type": "stream",
     "text": [
      "1/3, train_loss: 0.4982\n",
      "2/3, train_loss: 0.4932\n",
      "3/3, train_loss: 0.5156\n",
      "4/3, train_loss: 0.4967\n",
      "5/3, train_loss: 0.5645\n",
      "6/3, train_loss: 0.5068\n",
      "7/3, train_loss: 0.5633\n",
      "8/3, train_loss: 0.4917\n",
      "9/3, train_loss: 0.5336\n",
      "10/3, train_loss: 0.5637\n",
      "11/3, train_loss: 0.5015\n",
      "12/3, train_loss: 0.5157\n",
      "13/3, train_loss: 0.5387\n",
      "14/3, train_loss: 0.5688\n",
      "0 epoch 42 average loss: 0.5251\n",
      "current epoch: 42 current mean dice: 0.3723\n",
      "best mean dice: 0.5018 at epoch: 38\n",
      "----------\n",
      "0: epoch 43/500\n"
     ]
    },
    {
     "name": "stderr",
     "output_type": "stream",
     "text": [
      "Default upsampling behavior when mode=trilinear is changed to align_corners=False since 0.4.0. Please specify align_corners=True if the old behavior is desired. See the documentation of nn.Upsample for details.\n",
      "Default upsampling behavior when mode=trilinear is changed to align_corners=False since 0.4.0. Please specify align_corners=True if the old behavior is desired. See the documentation of nn.Upsample for details.\n",
      "Default upsampling behavior when mode=trilinear is changed to align_corners=False since 0.4.0. Please specify align_corners=True if the old behavior is desired. See the documentation of nn.Upsample for details.\n",
      "Default upsampling behavior when mode=trilinear is changed to align_corners=False since 0.4.0. Please specify align_corners=True if the old behavior is desired. See the documentation of nn.Upsample for details.\n"
     ]
    },
    {
     "name": "stdout",
     "output_type": "stream",
     "text": [
      "1/3, train_loss: 0.5382\n",
      "2/3, train_loss: 0.4629\n",
      "3/3, train_loss: 0.5440\n",
      "4/3, train_loss: 0.5482\n",
      "5/3, train_loss: 0.5293\n",
      "6/3, train_loss: 0.5271\n",
      "7/3, train_loss: 0.5073\n",
      "8/3, train_loss: 0.5162\n",
      "9/3, train_loss: 0.5394\n",
      "10/3, train_loss: 0.5395\n",
      "11/3, train_loss: 0.5008\n",
      "12/3, train_loss: 0.5287\n",
      "13/3, train_loss: 0.4951\n",
      "14/3, train_loss: 0.4855\n",
      "0 epoch 43 average loss: 0.5187\n",
      "----------\n",
      "0: epoch 44/500\n"
     ]
    },
    {
     "name": "stderr",
     "output_type": "stream",
     "text": [
      "Default upsampling behavior when mode=trilinear is changed to align_corners=False since 0.4.0. Please specify align_corners=True if the old behavior is desired. See the documentation of nn.Upsample for details.\n",
      "Default upsampling behavior when mode=trilinear is changed to align_corners=False since 0.4.0. Please specify align_corners=True if the old behavior is desired. See the documentation of nn.Upsample for details.\n",
      "Default upsampling behavior when mode=trilinear is changed to align_corners=False since 0.4.0. Please specify align_corners=True if the old behavior is desired. See the documentation of nn.Upsample for details.\n",
      "Default upsampling behavior when mode=trilinear is changed to align_corners=False since 0.4.0. Please specify align_corners=True if the old behavior is desired. See the documentation of nn.Upsample for details.\n"
     ]
    },
    {
     "name": "stdout",
     "output_type": "stream",
     "text": [
      "1/3, train_loss: 0.5212\n",
      "2/3, train_loss: 0.5359\n",
      "3/3, train_loss: 0.5052\n",
      "4/3, train_loss: 0.5230\n",
      "5/3, train_loss: 0.4652\n",
      "6/3, train_loss: 0.5435\n",
      "7/3, train_loss: 0.5561\n",
      "8/3, train_loss: 0.5280\n",
      "9/3, train_loss: 0.4886\n",
      "10/3, train_loss: 0.5122\n",
      "11/3, train_loss: 0.4965\n",
      "12/3, train_loss: 0.5489\n",
      "13/3, train_loss: 0.5282\n",
      "14/3, train_loss: 0.4910\n",
      "0 epoch 44 average loss: 0.5174\n",
      "current epoch: 44 current mean dice: 0.3353\n",
      "best mean dice: 0.5018 at epoch: 38\n",
      "----------\n",
      "0: epoch 45/500\n"
     ]
    },
    {
     "name": "stderr",
     "output_type": "stream",
     "text": [
      "Default upsampling behavior when mode=trilinear is changed to align_corners=False since 0.4.0. Please specify align_corners=True if the old behavior is desired. See the documentation of nn.Upsample for details.\n",
      "Default upsampling behavior when mode=trilinear is changed to align_corners=False since 0.4.0. Please specify align_corners=True if the old behavior is desired. See the documentation of nn.Upsample for details.\n",
      "Default upsampling behavior when mode=trilinear is changed to align_corners=False since 0.4.0. Please specify align_corners=True if the old behavior is desired. See the documentation of nn.Upsample for details.\n",
      "Default upsampling behavior when mode=trilinear is changed to align_corners=False since 0.4.0. Please specify align_corners=True if the old behavior is desired. See the documentation of nn.Upsample for details.\n"
     ]
    },
    {
     "name": "stdout",
     "output_type": "stream",
     "text": [
      "1/3, train_loss: 0.5251\n",
      "2/3, train_loss: 0.5091\n",
      "3/3, train_loss: 0.4996\n",
      "4/3, train_loss: 0.5004\n",
      "5/3, train_loss: 0.5347\n",
      "6/3, train_loss: 0.4928\n",
      "7/3, train_loss: 0.5233\n",
      "8/3, train_loss: 0.4764\n",
      "9/3, train_loss: 0.4728\n",
      "10/3, train_loss: 0.4979\n",
      "11/3, train_loss: 0.5410\n",
      "12/3, train_loss: 0.5074\n",
      "13/3, train_loss: 0.5215\n",
      "14/3, train_loss: 0.4395\n",
      "0 epoch 45 average loss: 0.5029\n",
      "----------\n",
      "0: epoch 46/500\n"
     ]
    },
    {
     "name": "stderr",
     "output_type": "stream",
     "text": [
      "Default upsampling behavior when mode=trilinear is changed to align_corners=False since 0.4.0. Please specify align_corners=True if the old behavior is desired. See the documentation of nn.Upsample for details.\n",
      "Default upsampling behavior when mode=trilinear is changed to align_corners=False since 0.4.0. Please specify align_corners=True if the old behavior is desired. See the documentation of nn.Upsample for details.\n",
      "Default upsampling behavior when mode=trilinear is changed to align_corners=False since 0.4.0. Please specify align_corners=True if the old behavior is desired. See the documentation of nn.Upsample for details.\n",
      "Default upsampling behavior when mode=trilinear is changed to align_corners=False since 0.4.0. Please specify align_corners=True if the old behavior is desired. See the documentation of nn.Upsample for details.\n"
     ]
    },
    {
     "name": "stdout",
     "output_type": "stream",
     "text": [
      "1/3, train_loss: 0.5502\n",
      "2/3, train_loss: 0.4613\n",
      "3/3, train_loss: 0.5483\n",
      "4/3, train_loss: 0.5133\n",
      "5/3, train_loss: 0.5158\n",
      "6/3, train_loss: 0.4660\n",
      "7/3, train_loss: 0.5051\n",
      "8/3, train_loss: 0.4791\n",
      "9/3, train_loss: 0.4964\n",
      "10/3, train_loss: 0.5002\n",
      "11/3, train_loss: 0.5081\n",
      "12/3, train_loss: 0.5504\n",
      "13/3, train_loss: 0.4578\n",
      "14/3, train_loss: 0.5960\n",
      "0 epoch 46 average loss: 0.5106\n",
      "current epoch: 46 current mean dice: 0.2436\n",
      "best mean dice: 0.5018 at epoch: 38\n",
      "----------\n",
      "0: epoch 47/500\n"
     ]
    },
    {
     "name": "stderr",
     "output_type": "stream",
     "text": [
      "Default upsampling behavior when mode=trilinear is changed to align_corners=False since 0.4.0. Please specify align_corners=True if the old behavior is desired. See the documentation of nn.Upsample for details.\n",
      "Default upsampling behavior when mode=trilinear is changed to align_corners=False since 0.4.0. Please specify align_corners=True if the old behavior is desired. See the documentation of nn.Upsample for details.\n",
      "Default upsampling behavior when mode=trilinear is changed to align_corners=False since 0.4.0. Please specify align_corners=True if the old behavior is desired. See the documentation of nn.Upsample for details.\n",
      "Default upsampling behavior when mode=trilinear is changed to align_corners=False since 0.4.0. Please specify align_corners=True if the old behavior is desired. See the documentation of nn.Upsample for details.\n"
     ]
    },
    {
     "name": "stdout",
     "output_type": "stream",
     "text": [
      "1/3, train_loss: 0.4904\n",
      "2/3, train_loss: 0.4958\n",
      "3/3, train_loss: 0.4916\n",
      "4/3, train_loss: 0.5482\n",
      "5/3, train_loss: 0.5072\n",
      "6/3, train_loss: 0.5241\n",
      "7/3, train_loss: 0.5092\n",
      "8/3, train_loss: 0.4937\n",
      "9/3, train_loss: 0.4935\n",
      "10/3, train_loss: 0.4778\n",
      "11/3, train_loss: 0.4547\n",
      "12/3, train_loss: 0.5862\n",
      "13/3, train_loss: 0.5457\n",
      "14/3, train_loss: 0.5461\n",
      "0 epoch 47 average loss: 0.5117\n",
      "----------\n",
      "0: epoch 48/500\n"
     ]
    },
    {
     "name": "stderr",
     "output_type": "stream",
     "text": [
      "Default upsampling behavior when mode=trilinear is changed to align_corners=False since 0.4.0. Please specify align_corners=True if the old behavior is desired. See the documentation of nn.Upsample for details.\n",
      "Default upsampling behavior when mode=trilinear is changed to align_corners=False since 0.4.0. Please specify align_corners=True if the old behavior is desired. See the documentation of nn.Upsample for details.\n",
      "Default upsampling behavior when mode=trilinear is changed to align_corners=False since 0.4.0. Please specify align_corners=True if the old behavior is desired. See the documentation of nn.Upsample for details.\n",
      "Default upsampling behavior when mode=trilinear is changed to align_corners=False since 0.4.0. Please specify align_corners=True if the old behavior is desired. See the documentation of nn.Upsample for details.\n"
     ]
    },
    {
     "name": "stdout",
     "output_type": "stream",
     "text": [
      "1/3, train_loss: 0.4559\n",
      "2/3, train_loss: 0.5050\n",
      "3/3, train_loss: 0.4828\n",
      "4/3, train_loss: 0.5069\n",
      "5/3, train_loss: 0.5260\n",
      "6/3, train_loss: 0.5084\n",
      "7/3, train_loss: 0.5386\n",
      "8/3, train_loss: 0.4867\n",
      "9/3, train_loss: 0.4793\n",
      "10/3, train_loss: 0.5009\n",
      "11/3, train_loss: 0.4741\n",
      "12/3, train_loss: 0.5190\n",
      "13/3, train_loss: 0.5328\n",
      "14/3, train_loss: 0.5266\n",
      "0 epoch 48 average loss: 0.5031\n",
      "current epoch: 48 current mean dice: 0.3691\n",
      "best mean dice: 0.5018 at epoch: 38\n",
      "----------\n",
      "0: epoch 49/500\n"
     ]
    },
    {
     "name": "stderr",
     "output_type": "stream",
     "text": [
      "Default upsampling behavior when mode=trilinear is changed to align_corners=False since 0.4.0. Please specify align_corners=True if the old behavior is desired. See the documentation of nn.Upsample for details.\n",
      "Default upsampling behavior when mode=trilinear is changed to align_corners=False since 0.4.0. Please specify align_corners=True if the old behavior is desired. See the documentation of nn.Upsample for details.\n",
      "Default upsampling behavior when mode=trilinear is changed to align_corners=False since 0.4.0. Please specify align_corners=True if the old behavior is desired. See the documentation of nn.Upsample for details.\n",
      "Default upsampling behavior when mode=trilinear is changed to align_corners=False since 0.4.0. Please specify align_corners=True if the old behavior is desired. See the documentation of nn.Upsample for details.\n"
     ]
    },
    {
     "name": "stdout",
     "output_type": "stream",
     "text": [
      "1/3, train_loss: 0.4776\n",
      "2/3, train_loss: 0.4964\n",
      "3/3, train_loss: 0.4886\n",
      "4/3, train_loss: 0.5396\n",
      "5/3, train_loss: 0.4878\n",
      "6/3, train_loss: 0.4999\n",
      "7/3, train_loss: 0.5081\n",
      "8/3, train_loss: 0.5171\n",
      "9/3, train_loss: 0.4826\n",
      "10/3, train_loss: 0.4770\n",
      "11/3, train_loss: 0.4997\n",
      "12/3, train_loss: 0.4504\n",
      "13/3, train_loss: 0.4786\n",
      "14/3, train_loss: 0.5601\n",
      "0 epoch 49 average loss: 0.4974\n",
      "----------\n",
      "0: epoch 50/500\n"
     ]
    },
    {
     "name": "stderr",
     "output_type": "stream",
     "text": [
      "Default upsampling behavior when mode=trilinear is changed to align_corners=False since 0.4.0. Please specify align_corners=True if the old behavior is desired. See the documentation of nn.Upsample for details.\n",
      "Default upsampling behavior when mode=trilinear is changed to align_corners=False since 0.4.0. Please specify align_corners=True if the old behavior is desired. See the documentation of nn.Upsample for details.\n",
      "Default upsampling behavior when mode=trilinear is changed to align_corners=False since 0.4.0. Please specify align_corners=True if the old behavior is desired. See the documentation of nn.Upsample for details.\n",
      "Default upsampling behavior when mode=trilinear is changed to align_corners=False since 0.4.0. Please specify align_corners=True if the old behavior is desired. See the documentation of nn.Upsample for details.\n"
     ]
    },
    {
     "name": "stdout",
     "output_type": "stream",
     "text": [
      "1/3, train_loss: 0.4642\n",
      "2/3, train_loss: 0.5020\n",
      "3/3, train_loss: 0.5364\n",
      "4/3, train_loss: 0.5058\n",
      "5/3, train_loss: 0.4845\n",
      "6/3, train_loss: 0.4473\n",
      "7/3, train_loss: 0.4818\n",
      "8/3, train_loss: 0.4864\n",
      "9/3, train_loss: 0.4913\n",
      "10/3, train_loss: 0.4802\n",
      "11/3, train_loss: 0.5387\n",
      "12/3, train_loss: 0.5294\n",
      "13/3, train_loss: 0.4791\n",
      "14/3, train_loss: 0.6128\n",
      "0 epoch 50 average loss: 0.5029\n",
      "current epoch: 50 current mean dice: 0.4177\n",
      "best mean dice: 0.5018 at epoch: 38\n",
      "----------\n",
      "0: epoch 51/500\n"
     ]
    },
    {
     "name": "stderr",
     "output_type": "stream",
     "text": [
      "Default upsampling behavior when mode=trilinear is changed to align_corners=False since 0.4.0. Please specify align_corners=True if the old behavior is desired. See the documentation of nn.Upsample for details.\n",
      "Default upsampling behavior when mode=trilinear is changed to align_corners=False since 0.4.0. Please specify align_corners=True if the old behavior is desired. See the documentation of nn.Upsample for details.\n",
      "Default upsampling behavior when mode=trilinear is changed to align_corners=False since 0.4.0. Please specify align_corners=True if the old behavior is desired. See the documentation of nn.Upsample for details.\n",
      "Default upsampling behavior when mode=trilinear is changed to align_corners=False since 0.4.0. Please specify align_corners=True if the old behavior is desired. See the documentation of nn.Upsample for details.\n"
     ]
    },
    {
     "name": "stdout",
     "output_type": "stream",
     "text": [
      "1/3, train_loss: 0.4619\n",
      "2/3, train_loss: 0.4839\n",
      "3/3, train_loss: 0.5115\n",
      "4/3, train_loss: 0.5107\n",
      "5/3, train_loss: 0.4939\n",
      "6/3, train_loss: 0.5039\n",
      "7/3, train_loss: 0.5067\n",
      "8/3, train_loss: 0.4947\n",
      "9/3, train_loss: 0.5158\n",
      "10/3, train_loss: 0.5208\n",
      "11/3, train_loss: 0.4829\n",
      "12/3, train_loss: 0.5216\n",
      "13/3, train_loss: 0.5113\n",
      "14/3, train_loss: 0.5383\n",
      "0 epoch 51 average loss: 0.5041\n",
      "----------\n",
      "0: epoch 52/500\n"
     ]
    },
    {
     "name": "stderr",
     "output_type": "stream",
     "text": [
      "Default upsampling behavior when mode=trilinear is changed to align_corners=False since 0.4.0. Please specify align_corners=True if the old behavior is desired. See the documentation of nn.Upsample for details.\n",
      "Default upsampling behavior when mode=trilinear is changed to align_corners=False since 0.4.0. Please specify align_corners=True if the old behavior is desired. See the documentation of nn.Upsample for details.\n",
      "Default upsampling behavior when mode=trilinear is changed to align_corners=False since 0.4.0. Please specify align_corners=True if the old behavior is desired. See the documentation of nn.Upsample for details.\n",
      "Default upsampling behavior when mode=trilinear is changed to align_corners=False since 0.4.0. Please specify align_corners=True if the old behavior is desired. See the documentation of nn.Upsample for details.\n"
     ]
    },
    {
     "name": "stdout",
     "output_type": "stream",
     "text": [
      "1/3, train_loss: 0.5178\n",
      "2/3, train_loss: 0.5012\n",
      "3/3, train_loss: 0.5091\n",
      "4/3, train_loss: 0.4827\n",
      "5/3, train_loss: 0.4679\n",
      "6/3, train_loss: 0.5276\n",
      "7/3, train_loss: 0.4858\n",
      "8/3, train_loss: 0.5125\n",
      "9/3, train_loss: 0.5378\n",
      "10/3, train_loss: 0.4949\n",
      "11/3, train_loss: 0.4844\n",
      "12/3, train_loss: 0.4737\n",
      "13/3, train_loss: 0.5238\n",
      "14/3, train_loss: 0.4559\n",
      "0 epoch 52 average loss: 0.4982\n",
      "current epoch: 52 current mean dice: 0.3744\n",
      "best mean dice: 0.5018 at epoch: 38\n",
      "----------\n",
      "0: epoch 53/500\n"
     ]
    },
    {
     "name": "stderr",
     "output_type": "stream",
     "text": [
      "Default upsampling behavior when mode=trilinear is changed to align_corners=False since 0.4.0. Please specify align_corners=True if the old behavior is desired. See the documentation of nn.Upsample for details.\n",
      "Default upsampling behavior when mode=trilinear is changed to align_corners=False since 0.4.0. Please specify align_corners=True if the old behavior is desired. See the documentation of nn.Upsample for details.\n",
      "Default upsampling behavior when mode=trilinear is changed to align_corners=False since 0.4.0. Please specify align_corners=True if the old behavior is desired. See the documentation of nn.Upsample for details.\n",
      "Default upsampling behavior when mode=trilinear is changed to align_corners=False since 0.4.0. Please specify align_corners=True if the old behavior is desired. See the documentation of nn.Upsample for details.\n"
     ]
    },
    {
     "name": "stdout",
     "output_type": "stream",
     "text": [
      "1/3, train_loss: 0.4762\n",
      "2/3, train_loss: 0.5028\n",
      "3/3, train_loss: 0.4519\n",
      "4/3, train_loss: 0.4898\n",
      "5/3, train_loss: 0.5218\n",
      "6/3, train_loss: 0.5492\n",
      "7/3, train_loss: 0.5112\n",
      "8/3, train_loss: 0.5195\n",
      "9/3, train_loss: 0.4741\n",
      "10/3, train_loss: 0.4956\n",
      "11/3, train_loss: 0.4984\n",
      "12/3, train_loss: 0.5250\n",
      "13/3, train_loss: 0.4708\n",
      "14/3, train_loss: 0.4651\n",
      "0 epoch 53 average loss: 0.4965\n",
      "----------\n",
      "0: epoch 54/500\n"
     ]
    },
    {
     "name": "stderr",
     "output_type": "stream",
     "text": [
      "Default upsampling behavior when mode=trilinear is changed to align_corners=False since 0.4.0. Please specify align_corners=True if the old behavior is desired. See the documentation of nn.Upsample for details.\n",
      "Default upsampling behavior when mode=trilinear is changed to align_corners=False since 0.4.0. Please specify align_corners=True if the old behavior is desired. See the documentation of nn.Upsample for details.\n",
      "Default upsampling behavior when mode=trilinear is changed to align_corners=False since 0.4.0. Please specify align_corners=True if the old behavior is desired. See the documentation of nn.Upsample for details.\n",
      "Default upsampling behavior when mode=trilinear is changed to align_corners=False since 0.4.0. Please specify align_corners=True if the old behavior is desired. See the documentation of nn.Upsample for details.\n"
     ]
    },
    {
     "name": "stdout",
     "output_type": "stream",
     "text": [
      "1/3, train_loss: 0.5088\n",
      "2/3, train_loss: 0.5045\n",
      "3/3, train_loss: 0.4733\n",
      "4/3, train_loss: 0.5031\n",
      "5/3, train_loss: 0.4913\n",
      "6/3, train_loss: 0.4601\n",
      "7/3, train_loss: 0.4845\n",
      "8/3, train_loss: 0.5086\n",
      "9/3, train_loss: 0.4468\n",
      "10/3, train_loss: 0.5193\n",
      "11/3, train_loss: 0.4876\n",
      "12/3, train_loss: 0.5289\n",
      "13/3, train_loss: 0.4795\n",
      "14/3, train_loss: 0.4240\n",
      "0 epoch 54 average loss: 0.4872\n",
      "current epoch: 54 current mean dice: 0.3574\n",
      "best mean dice: 0.5018 at epoch: 38\n",
      "----------\n",
      "0: epoch 55/500\n"
     ]
    },
    {
     "name": "stderr",
     "output_type": "stream",
     "text": [
      "Default upsampling behavior when mode=trilinear is changed to align_corners=False since 0.4.0. Please specify align_corners=True if the old behavior is desired. See the documentation of nn.Upsample for details.\n",
      "Default upsampling behavior when mode=trilinear is changed to align_corners=False since 0.4.0. Please specify align_corners=True if the old behavior is desired. See the documentation of nn.Upsample for details.\n",
      "Default upsampling behavior when mode=trilinear is changed to align_corners=False since 0.4.0. Please specify align_corners=True if the old behavior is desired. See the documentation of nn.Upsample for details.\n",
      "Default upsampling behavior when mode=trilinear is changed to align_corners=False since 0.4.0. Please specify align_corners=True if the old behavior is desired. See the documentation of nn.Upsample for details.\n"
     ]
    },
    {
     "name": "stdout",
     "output_type": "stream",
     "text": [
      "1/3, train_loss: 0.5440\n",
      "2/3, train_loss: 0.4644\n",
      "3/3, train_loss: 0.4588\n",
      "4/3, train_loss: 0.4710\n",
      "5/3, train_loss: 0.4646\n",
      "6/3, train_loss: 0.4684\n",
      "7/3, train_loss: 0.5029\n",
      "8/3, train_loss: 0.4450\n",
      "9/3, train_loss: 0.4888\n",
      "10/3, train_loss: 0.4625\n",
      "11/3, train_loss: 0.4813\n",
      "12/3, train_loss: 0.4635\n",
      "13/3, train_loss: 0.4854\n",
      "14/3, train_loss: 0.5716\n",
      "0 epoch 55 average loss: 0.4837\n",
      "----------\n",
      "0: epoch 56/500\n"
     ]
    },
    {
     "name": "stderr",
     "output_type": "stream",
     "text": [
      "Default upsampling behavior when mode=trilinear is changed to align_corners=False since 0.4.0. Please specify align_corners=True if the old behavior is desired. See the documentation of nn.Upsample for details.\n",
      "Default upsampling behavior when mode=trilinear is changed to align_corners=False since 0.4.0. Please specify align_corners=True if the old behavior is desired. See the documentation of nn.Upsample for details.\n",
      "Default upsampling behavior when mode=trilinear is changed to align_corners=False since 0.4.0. Please specify align_corners=True if the old behavior is desired. See the documentation of nn.Upsample for details.\n",
      "Default upsampling behavior when mode=trilinear is changed to align_corners=False since 0.4.0. Please specify align_corners=True if the old behavior is desired. See the documentation of nn.Upsample for details.\n"
     ]
    },
    {
     "name": "stdout",
     "output_type": "stream",
     "text": [
      "1/3, train_loss: 0.4883\n",
      "2/3, train_loss: 0.4567\n",
      "3/3, train_loss: 0.4575\n",
      "4/3, train_loss: 0.5179\n",
      "5/3, train_loss: 0.5535\n",
      "6/3, train_loss: 0.4945\n",
      "7/3, train_loss: 0.5076\n",
      "8/3, train_loss: 0.4744\n",
      "9/3, train_loss: 0.4837\n",
      "10/3, train_loss: 0.5001\n",
      "11/3, train_loss: 0.4591\n",
      "12/3, train_loss: 0.4586\n",
      "13/3, train_loss: 0.4647\n",
      "14/3, train_loss: 0.4674\n",
      "0 epoch 56 average loss: 0.4846\n",
      "current epoch: 56 current mean dice: 0.2380\n",
      "best mean dice: 0.5018 at epoch: 38\n",
      "----------\n",
      "0: epoch 57/500\n"
     ]
    },
    {
     "name": "stderr",
     "output_type": "stream",
     "text": [
      "Default upsampling behavior when mode=trilinear is changed to align_corners=False since 0.4.0. Please specify align_corners=True if the old behavior is desired. See the documentation of nn.Upsample for details.\n",
      "Default upsampling behavior when mode=trilinear is changed to align_corners=False since 0.4.0. Please specify align_corners=True if the old behavior is desired. See the documentation of nn.Upsample for details.\n",
      "Default upsampling behavior when mode=trilinear is changed to align_corners=False since 0.4.0. Please specify align_corners=True if the old behavior is desired. See the documentation of nn.Upsample for details.\n",
      "Default upsampling behavior when mode=trilinear is changed to align_corners=False since 0.4.0. Please specify align_corners=True if the old behavior is desired. See the documentation of nn.Upsample for details.\n"
     ]
    },
    {
     "name": "stdout",
     "output_type": "stream",
     "text": [
      "1/3, train_loss: 0.4691\n",
      "2/3, train_loss: 0.4318\n",
      "3/3, train_loss: 0.4585\n",
      "4/3, train_loss: 0.4641\n",
      "5/3, train_loss: 0.4704\n",
      "6/3, train_loss: 0.4995\n",
      "7/3, train_loss: 0.5080\n",
      "8/3, train_loss: 0.4972\n",
      "9/3, train_loss: 0.4589\n",
      "10/3, train_loss: 0.5253\n",
      "11/3, train_loss: 0.5298\n",
      "12/3, train_loss: 0.4771\n",
      "13/3, train_loss: 0.4794\n",
      "14/3, train_loss: 0.4984\n",
      "0 epoch 57 average loss: 0.4834\n",
      "----------\n",
      "0: epoch 58/500\n"
     ]
    },
    {
     "name": "stderr",
     "output_type": "stream",
     "text": [
      "Default upsampling behavior when mode=trilinear is changed to align_corners=False since 0.4.0. Please specify align_corners=True if the old behavior is desired. See the documentation of nn.Upsample for details.\n",
      "Default upsampling behavior when mode=trilinear is changed to align_corners=False since 0.4.0. Please specify align_corners=True if the old behavior is desired. See the documentation of nn.Upsample for details.\n",
      "Default upsampling behavior when mode=trilinear is changed to align_corners=False since 0.4.0. Please specify align_corners=True if the old behavior is desired. See the documentation of nn.Upsample for details.\n",
      "Default upsampling behavior when mode=trilinear is changed to align_corners=False since 0.4.0. Please specify align_corners=True if the old behavior is desired. See the documentation of nn.Upsample for details.\n"
     ]
    },
    {
     "name": "stdout",
     "output_type": "stream",
     "text": [
      "1/3, train_loss: 0.4863\n",
      "2/3, train_loss: 0.4466\n",
      "3/3, train_loss: 0.5320\n",
      "4/3, train_loss: 0.4965\n",
      "5/3, train_loss: 0.5182\n",
      "6/3, train_loss: 0.4949\n",
      "7/3, train_loss: 0.4977\n",
      "8/3, train_loss: 0.4833\n",
      "9/3, train_loss: 0.4286\n",
      "10/3, train_loss: 0.4787\n",
      "11/3, train_loss: 0.4694\n",
      "12/3, train_loss: 0.4742\n",
      "13/3, train_loss: 0.4578\n",
      "14/3, train_loss: 0.5879\n",
      "0 epoch 58 average loss: 0.4894\n",
      "current epoch: 58 current mean dice: 0.3989\n",
      "best mean dice: 0.5018 at epoch: 38\n",
      "----------\n",
      "0: epoch 59/500\n"
     ]
    },
    {
     "name": "stderr",
     "output_type": "stream",
     "text": [
      "Default upsampling behavior when mode=trilinear is changed to align_corners=False since 0.4.0. Please specify align_corners=True if the old behavior is desired. See the documentation of nn.Upsample for details.\n",
      "Default upsampling behavior when mode=trilinear is changed to align_corners=False since 0.4.0. Please specify align_corners=True if the old behavior is desired. See the documentation of nn.Upsample for details.\n",
      "Default upsampling behavior when mode=trilinear is changed to align_corners=False since 0.4.0. Please specify align_corners=True if the old behavior is desired. See the documentation of nn.Upsample for details.\n",
      "Default upsampling behavior when mode=trilinear is changed to align_corners=False since 0.4.0. Please specify align_corners=True if the old behavior is desired. See the documentation of nn.Upsample for details.\n"
     ]
    },
    {
     "name": "stdout",
     "output_type": "stream",
     "text": [
      "1/3, train_loss: 0.4428\n",
      "2/3, train_loss: 0.4865\n",
      "3/3, train_loss: 0.4487\n",
      "4/3, train_loss: 0.4815\n",
      "5/3, train_loss: 0.4561\n",
      "6/3, train_loss: 0.5210\n",
      "7/3, train_loss: 0.4933\n",
      "8/3, train_loss: 0.4900\n",
      "9/3, train_loss: 0.4538\n",
      "10/3, train_loss: 0.4741\n",
      "11/3, train_loss: 0.4612\n",
      "12/3, train_loss: 0.4828\n",
      "13/3, train_loss: 0.4756\n",
      "14/3, train_loss: 0.5246\n",
      "0 epoch 59 average loss: 0.4780\n",
      "----------\n",
      "0: epoch 60/500\n"
     ]
    },
    {
     "name": "stderr",
     "output_type": "stream",
     "text": [
      "Default upsampling behavior when mode=trilinear is changed to align_corners=False since 0.4.0. Please specify align_corners=True if the old behavior is desired. See the documentation of nn.Upsample for details.\n",
      "Default upsampling behavior when mode=trilinear is changed to align_corners=False since 0.4.0. Please specify align_corners=True if the old behavior is desired. See the documentation of nn.Upsample for details.\n",
      "Default upsampling behavior when mode=trilinear is changed to align_corners=False since 0.4.0. Please specify align_corners=True if the old behavior is desired. See the documentation of nn.Upsample for details.\n",
      "Default upsampling behavior when mode=trilinear is changed to align_corners=False since 0.4.0. Please specify align_corners=True if the old behavior is desired. See the documentation of nn.Upsample for details.\n"
     ]
    },
    {
     "name": "stdout",
     "output_type": "stream",
     "text": [
      "1/3, train_loss: 0.4484\n",
      "2/3, train_loss: 0.4632\n",
      "3/3, train_loss: 0.4648\n",
      "4/3, train_loss: 0.4789\n",
      "5/3, train_loss: 0.4719\n",
      "6/3, train_loss: 0.4868\n",
      "7/3, train_loss: 0.4372\n",
      "8/3, train_loss: 0.4292\n",
      "9/3, train_loss: 0.4627\n",
      "10/3, train_loss: 0.4452\n",
      "11/3, train_loss: 0.5026\n",
      "12/3, train_loss: 0.4963\n",
      "13/3, train_loss: 0.4921\n",
      "14/3, train_loss: 0.5348\n",
      "0 epoch 60 average loss: 0.4724\n",
      "current epoch: 60 current mean dice: 0.3129\n",
      "best mean dice: 0.5018 at epoch: 38\n",
      "----------\n",
      "0: epoch 61/500\n"
     ]
    },
    {
     "name": "stderr",
     "output_type": "stream",
     "text": [
      "Default upsampling behavior when mode=trilinear is changed to align_corners=False since 0.4.0. Please specify align_corners=True if the old behavior is desired. See the documentation of nn.Upsample for details.\n",
      "Default upsampling behavior when mode=trilinear is changed to align_corners=False since 0.4.0. Please specify align_corners=True if the old behavior is desired. See the documentation of nn.Upsample for details.\n",
      "Default upsampling behavior when mode=trilinear is changed to align_corners=False since 0.4.0. Please specify align_corners=True if the old behavior is desired. See the documentation of nn.Upsample for details.\n",
      "Default upsampling behavior when mode=trilinear is changed to align_corners=False since 0.4.0. Please specify align_corners=True if the old behavior is desired. See the documentation of nn.Upsample for details.\n"
     ]
    },
    {
     "name": "stdout",
     "output_type": "stream",
     "text": [
      "1/3, train_loss: 0.4571\n",
      "2/3, train_loss: 0.4755\n",
      "3/3, train_loss: 0.4342\n",
      "4/3, train_loss: 0.4662\n",
      "5/3, train_loss: 0.4654\n",
      "6/3, train_loss: 0.4674\n",
      "7/3, train_loss: 0.4474\n",
      "8/3, train_loss: 0.4608\n",
      "9/3, train_loss: 0.4775\n",
      "10/3, train_loss: 0.4573\n",
      "11/3, train_loss: 0.4846\n",
      "12/3, train_loss: 0.4502\n",
      "13/3, train_loss: 0.4388\n",
      "14/3, train_loss: 0.4956\n",
      "0 epoch 61 average loss: 0.4627\n",
      "----------\n",
      "0: epoch 62/500\n"
     ]
    },
    {
     "name": "stderr",
     "output_type": "stream",
     "text": [
      "Default upsampling behavior when mode=trilinear is changed to align_corners=False since 0.4.0. Please specify align_corners=True if the old behavior is desired. See the documentation of nn.Upsample for details.\n",
      "Default upsampling behavior when mode=trilinear is changed to align_corners=False since 0.4.0. Please specify align_corners=True if the old behavior is desired. See the documentation of nn.Upsample for details.\n",
      "Default upsampling behavior when mode=trilinear is changed to align_corners=False since 0.4.0. Please specify align_corners=True if the old behavior is desired. See the documentation of nn.Upsample for details.\n",
      "Default upsampling behavior when mode=trilinear is changed to align_corners=False since 0.4.0. Please specify align_corners=True if the old behavior is desired. See the documentation of nn.Upsample for details.\n"
     ]
    },
    {
     "name": "stdout",
     "output_type": "stream",
     "text": [
      "1/3, train_loss: 0.4381\n",
      "2/3, train_loss: 0.5066\n",
      "3/3, train_loss: 0.4821\n",
      "4/3, train_loss: 0.4277\n",
      "5/3, train_loss: 0.4738\n",
      "6/3, train_loss: 0.4741\n",
      "7/3, train_loss: 0.4351\n",
      "8/3, train_loss: 0.5120\n",
      "9/3, train_loss: 0.4534\n",
      "10/3, train_loss: 0.4570\n",
      "11/3, train_loss: 0.4507\n",
      "12/3, train_loss: 0.4513\n",
      "13/3, train_loss: 0.4914\n",
      "14/3, train_loss: 0.4188\n",
      "0 epoch 62 average loss: 0.4623\n",
      "current epoch: 62 current mean dice: 0.5004\n",
      "best mean dice: 0.5018 at epoch: 38\n",
      "----------\n",
      "0: epoch 63/500\n"
     ]
    },
    {
     "name": "stderr",
     "output_type": "stream",
     "text": [
      "Default upsampling behavior when mode=trilinear is changed to align_corners=False since 0.4.0. Please specify align_corners=True if the old behavior is desired. See the documentation of nn.Upsample for details.\n",
      "Default upsampling behavior when mode=trilinear is changed to align_corners=False since 0.4.0. Please specify align_corners=True if the old behavior is desired. See the documentation of nn.Upsample for details.\n",
      "Default upsampling behavior when mode=trilinear is changed to align_corners=False since 0.4.0. Please specify align_corners=True if the old behavior is desired. See the documentation of nn.Upsample for details.\n",
      "Default upsampling behavior when mode=trilinear is changed to align_corners=False since 0.4.0. Please specify align_corners=True if the old behavior is desired. See the documentation of nn.Upsample for details.\n"
     ]
    },
    {
     "name": "stdout",
     "output_type": "stream",
     "text": [
      "1/3, train_loss: 0.4885\n",
      "2/3, train_loss: 0.4766\n",
      "3/3, train_loss: 0.4481\n",
      "4/3, train_loss: 0.4577\n",
      "5/3, train_loss: 0.4509\n",
      "6/3, train_loss: 0.4268\n",
      "7/3, train_loss: 0.4611\n",
      "8/3, train_loss: 0.4405\n",
      "9/3, train_loss: 0.4558\n",
      "10/3, train_loss: 0.4581\n",
      "11/3, train_loss: 0.4793\n",
      "12/3, train_loss: 0.5080\n",
      "13/3, train_loss: 0.4409\n",
      "14/3, train_loss: 0.4161\n",
      "0 epoch 63 average loss: 0.4578\n",
      "----------\n",
      "0: epoch 64/500\n"
     ]
    },
    {
     "name": "stderr",
     "output_type": "stream",
     "text": [
      "Default upsampling behavior when mode=trilinear is changed to align_corners=False since 0.4.0. Please specify align_corners=True if the old behavior is desired. See the documentation of nn.Upsample for details.\n",
      "Default upsampling behavior when mode=trilinear is changed to align_corners=False since 0.4.0. Please specify align_corners=True if the old behavior is desired. See the documentation of nn.Upsample for details.\n",
      "Default upsampling behavior when mode=trilinear is changed to align_corners=False since 0.4.0. Please specify align_corners=True if the old behavior is desired. See the documentation of nn.Upsample for details.\n",
      "Default upsampling behavior when mode=trilinear is changed to align_corners=False since 0.4.0. Please specify align_corners=True if the old behavior is desired. See the documentation of nn.Upsample for details.\n"
     ]
    },
    {
     "name": "stdout",
     "output_type": "stream",
     "text": [
      "1/3, train_loss: 0.4648\n",
      "2/3, train_loss: 0.4725\n",
      "3/3, train_loss: 0.4145\n",
      "4/3, train_loss: 0.4716\n",
      "5/3, train_loss: 0.4492\n",
      "6/3, train_loss: 0.4802\n",
      "7/3, train_loss: 0.4505\n",
      "8/3, train_loss: 0.4556\n",
      "9/3, train_loss: 0.4555\n",
      "10/3, train_loss: 0.4378\n",
      "11/3, train_loss: 0.4927\n",
      "12/3, train_loss: 0.4530\n",
      "13/3, train_loss: 0.4642\n",
      "14/3, train_loss: 0.3800\n",
      "0 epoch 64 average loss: 0.4530\n",
      "current epoch: 64 current mean dice: 0.3340\n",
      "best mean dice: 0.5018 at epoch: 38\n",
      "----------\n",
      "0: epoch 65/500\n"
     ]
    },
    {
     "name": "stderr",
     "output_type": "stream",
     "text": [
      "Default upsampling behavior when mode=trilinear is changed to align_corners=False since 0.4.0. Please specify align_corners=True if the old behavior is desired. See the documentation of nn.Upsample for details.\n",
      "Default upsampling behavior when mode=trilinear is changed to align_corners=False since 0.4.0. Please specify align_corners=True if the old behavior is desired. See the documentation of nn.Upsample for details.\n",
      "Default upsampling behavior when mode=trilinear is changed to align_corners=False since 0.4.0. Please specify align_corners=True if the old behavior is desired. See the documentation of nn.Upsample for details.\n",
      "Default upsampling behavior when mode=trilinear is changed to align_corners=False since 0.4.0. Please specify align_corners=True if the old behavior is desired. See the documentation of nn.Upsample for details.\n"
     ]
    },
    {
     "name": "stdout",
     "output_type": "stream",
     "text": [
      "1/3, train_loss: 0.4664\n",
      "2/3, train_loss: 0.4283\n",
      "3/3, train_loss: 0.4499\n",
      "4/3, train_loss: 0.4491\n",
      "5/3, train_loss: 0.4782\n",
      "6/3, train_loss: 0.4658\n",
      "7/3, train_loss: 0.4487\n",
      "8/3, train_loss: 0.4809\n",
      "9/3, train_loss: 0.4803\n",
      "10/3, train_loss: 0.4780\n",
      "11/3, train_loss: 0.4390\n",
      "12/3, train_loss: 0.4510\n",
      "13/3, train_loss: 0.4350\n",
      "14/3, train_loss: 0.4120\n",
      "0 epoch 65 average loss: 0.4545\n",
      "----------\n",
      "0: epoch 66/500\n"
     ]
    },
    {
     "name": "stderr",
     "output_type": "stream",
     "text": [
      "Default upsampling behavior when mode=trilinear is changed to align_corners=False since 0.4.0. Please specify align_corners=True if the old behavior is desired. See the documentation of nn.Upsample for details.\n",
      "Default upsampling behavior when mode=trilinear is changed to align_corners=False since 0.4.0. Please specify align_corners=True if the old behavior is desired. See the documentation of nn.Upsample for details.\n",
      "Default upsampling behavior when mode=trilinear is changed to align_corners=False since 0.4.0. Please specify align_corners=True if the old behavior is desired. See the documentation of nn.Upsample for details.\n",
      "Default upsampling behavior when mode=trilinear is changed to align_corners=False since 0.4.0. Please specify align_corners=True if the old behavior is desired. See the documentation of nn.Upsample for details.\n"
     ]
    },
    {
     "name": "stdout",
     "output_type": "stream",
     "text": [
      "1/3, train_loss: 0.4548\n",
      "2/3, train_loss: 0.4832\n",
      "3/3, train_loss: 0.4216\n",
      "4/3, train_loss: 0.4818\n",
      "5/3, train_loss: 0.4319\n",
      "6/3, train_loss: 0.4294\n",
      "7/3, train_loss: 0.4435\n",
      "8/3, train_loss: 0.4290\n",
      "9/3, train_loss: 0.4521\n",
      "10/3, train_loss: 0.4417\n",
      "11/3, train_loss: 0.4215\n",
      "12/3, train_loss: 0.4695\n",
      "13/3, train_loss: 0.4669\n",
      "14/3, train_loss: 0.4085\n",
      "0 epoch 66 average loss: 0.4454\n",
      "current epoch: 66 current mean dice: 0.3458\n",
      "best mean dice: 0.5018 at epoch: 38\n",
      "----------\n",
      "0: epoch 67/500\n"
     ]
    },
    {
     "name": "stderr",
     "output_type": "stream",
     "text": [
      "Default upsampling behavior when mode=trilinear is changed to align_corners=False since 0.4.0. Please specify align_corners=True if the old behavior is desired. See the documentation of nn.Upsample for details.\n",
      "Default upsampling behavior when mode=trilinear is changed to align_corners=False since 0.4.0. Please specify align_corners=True if the old behavior is desired. See the documentation of nn.Upsample for details.\n",
      "Default upsampling behavior when mode=trilinear is changed to align_corners=False since 0.4.0. Please specify align_corners=True if the old behavior is desired. See the documentation of nn.Upsample for details.\n",
      "Default upsampling behavior when mode=trilinear is changed to align_corners=False since 0.4.0. Please specify align_corners=True if the old behavior is desired. See the documentation of nn.Upsample for details.\n"
     ]
    },
    {
     "name": "stdout",
     "output_type": "stream",
     "text": [
      "1/3, train_loss: 0.4363\n",
      "2/3, train_loss: 0.4401\n",
      "3/3, train_loss: 0.4901\n",
      "4/3, train_loss: 0.4447\n",
      "5/3, train_loss: 0.4791\n",
      "6/3, train_loss: 0.4459\n",
      "7/3, train_loss: 0.4458\n",
      "8/3, train_loss: 0.4621\n",
      "9/3, train_loss: 0.4354\n",
      "10/3, train_loss: 0.4717\n",
      "11/3, train_loss: 0.4407\n",
      "12/3, train_loss: 0.4400\n",
      "13/3, train_loss: 0.4496\n",
      "14/3, train_loss: 0.4430\n",
      "0 epoch 67 average loss: 0.4517\n",
      "----------\n",
      "0: epoch 68/500\n"
     ]
    },
    {
     "name": "stderr",
     "output_type": "stream",
     "text": [
      "Default upsampling behavior when mode=trilinear is changed to align_corners=False since 0.4.0. Please specify align_corners=True if the old behavior is desired. See the documentation of nn.Upsample for details.\n",
      "Default upsampling behavior when mode=trilinear is changed to align_corners=False since 0.4.0. Please specify align_corners=True if the old behavior is desired. See the documentation of nn.Upsample for details.\n",
      "Default upsampling behavior when mode=trilinear is changed to align_corners=False since 0.4.0. Please specify align_corners=True if the old behavior is desired. See the documentation of nn.Upsample for details.\n",
      "Default upsampling behavior when mode=trilinear is changed to align_corners=False since 0.4.0. Please specify align_corners=True if the old behavior is desired. See the documentation of nn.Upsample for details.\n"
     ]
    },
    {
     "name": "stdout",
     "output_type": "stream",
     "text": [
      "1/3, train_loss: 0.4553\n",
      "2/3, train_loss: 0.4414\n",
      "3/3, train_loss: 0.4965\n",
      "4/3, train_loss: 0.4362\n",
      "5/3, train_loss: 0.4476\n",
      "6/3, train_loss: 0.4690\n",
      "7/3, train_loss: 0.4688\n",
      "8/3, train_loss: 0.4439\n",
      "9/3, train_loss: 0.4375\n",
      "10/3, train_loss: 0.4661\n",
      "11/3, train_loss: 0.4128\n",
      "12/3, train_loss: 0.4329\n",
      "13/3, train_loss: 0.4583\n",
      "14/3, train_loss: 0.5172\n",
      "0 epoch 68 average loss: 0.4560\n",
      "current epoch: 68 current mean dice: 0.2887\n",
      "best mean dice: 0.5018 at epoch: 38\n",
      "----------\n",
      "0: epoch 69/500\n"
     ]
    },
    {
     "name": "stderr",
     "output_type": "stream",
     "text": [
      "Default upsampling behavior when mode=trilinear is changed to align_corners=False since 0.4.0. Please specify align_corners=True if the old behavior is desired. See the documentation of nn.Upsample for details.\n",
      "Default upsampling behavior when mode=trilinear is changed to align_corners=False since 0.4.0. Please specify align_corners=True if the old behavior is desired. See the documentation of nn.Upsample for details.\n",
      "Default upsampling behavior when mode=trilinear is changed to align_corners=False since 0.4.0. Please specify align_corners=True if the old behavior is desired. See the documentation of nn.Upsample for details.\n",
      "Default upsampling behavior when mode=trilinear is changed to align_corners=False since 0.4.0. Please specify align_corners=True if the old behavior is desired. See the documentation of nn.Upsample for details.\n"
     ]
    },
    {
     "name": "stdout",
     "output_type": "stream",
     "text": [
      "1/3, train_loss: 0.4341\n",
      "2/3, train_loss: 0.4497\n",
      "3/3, train_loss: 0.4584\n",
      "4/3, train_loss: 0.4931\n",
      "5/3, train_loss: 0.4335\n",
      "6/3, train_loss: 0.4645\n",
      "7/3, train_loss: 0.4695\n",
      "8/3, train_loss: 0.4549\n",
      "9/3, train_loss: 0.4413\n",
      "10/3, train_loss: 0.4477\n",
      "11/3, train_loss: 0.4791\n",
      "12/3, train_loss: 0.4333\n",
      "13/3, train_loss: 0.4323\n",
      "14/3, train_loss: 0.4437\n",
      "0 epoch 69 average loss: 0.4525\n",
      "----------\n",
      "0: epoch 70/500\n"
     ]
    },
    {
     "name": "stderr",
     "output_type": "stream",
     "text": [
      "Default upsampling behavior when mode=trilinear is changed to align_corners=False since 0.4.0. Please specify align_corners=True if the old behavior is desired. See the documentation of nn.Upsample for details.\n",
      "Default upsampling behavior when mode=trilinear is changed to align_corners=False since 0.4.0. Please specify align_corners=True if the old behavior is desired. See the documentation of nn.Upsample for details.\n",
      "Default upsampling behavior when mode=trilinear is changed to align_corners=False since 0.4.0. Please specify align_corners=True if the old behavior is desired. See the documentation of nn.Upsample for details.\n",
      "Default upsampling behavior when mode=trilinear is changed to align_corners=False since 0.4.0. Please specify align_corners=True if the old behavior is desired. See the documentation of nn.Upsample for details.\n"
     ]
    },
    {
     "name": "stdout",
     "output_type": "stream",
     "text": [
      "1/3, train_loss: 0.4409\n",
      "2/3, train_loss: 0.4302\n",
      "3/3, train_loss: 0.4279\n",
      "4/3, train_loss: 0.4470\n",
      "5/3, train_loss: 0.4564\n",
      "6/3, train_loss: 0.4416\n",
      "7/3, train_loss: 0.4247\n",
      "8/3, train_loss: 0.4208\n",
      "9/3, train_loss: 0.4704\n",
      "10/3, train_loss: 0.4780\n",
      "11/3, train_loss: 0.4632\n",
      "12/3, train_loss: 0.5400\n",
      "13/3, train_loss: 0.4697\n",
      "14/3, train_loss: 0.4312\n",
      "0 epoch 70 average loss: 0.4530\n",
      "current epoch: 70 current mean dice: 0.3498\n",
      "best mean dice: 0.5018 at epoch: 38\n",
      "----------\n",
      "0: epoch 71/500\n"
     ]
    },
    {
     "name": "stderr",
     "output_type": "stream",
     "text": [
      "Default upsampling behavior when mode=trilinear is changed to align_corners=False since 0.4.0. Please specify align_corners=True if the old behavior is desired. See the documentation of nn.Upsample for details.\n",
      "Default upsampling behavior when mode=trilinear is changed to align_corners=False since 0.4.0. Please specify align_corners=True if the old behavior is desired. See the documentation of nn.Upsample for details.\n",
      "Default upsampling behavior when mode=trilinear is changed to align_corners=False since 0.4.0. Please specify align_corners=True if the old behavior is desired. See the documentation of nn.Upsample for details.\n",
      "Default upsampling behavior when mode=trilinear is changed to align_corners=False since 0.4.0. Please specify align_corners=True if the old behavior is desired. See the documentation of nn.Upsample for details.\n"
     ]
    },
    {
     "name": "stdout",
     "output_type": "stream",
     "text": [
      "1/3, train_loss: 0.4546\n",
      "2/3, train_loss: 0.4274\n",
      "3/3, train_loss: 0.4699\n",
      "4/3, train_loss: 0.4748\n",
      "5/3, train_loss: 0.4799\n",
      "6/3, train_loss: 0.4791\n",
      "7/3, train_loss: 0.4558\n",
      "8/3, train_loss: 0.4661\n",
      "9/3, train_loss: 0.4238\n",
      "10/3, train_loss: 0.4408\n",
      "11/3, train_loss: 0.4141\n",
      "12/3, train_loss: 0.4388\n",
      "13/3, train_loss: 0.4495\n",
      "14/3, train_loss: 0.3793\n",
      "0 epoch 71 average loss: 0.4467\n",
      "----------\n",
      "0: epoch 72/500\n"
     ]
    },
    {
     "name": "stderr",
     "output_type": "stream",
     "text": [
      "Default upsampling behavior when mode=trilinear is changed to align_corners=False since 0.4.0. Please specify align_corners=True if the old behavior is desired. See the documentation of nn.Upsample for details.\n",
      "Default upsampling behavior when mode=trilinear is changed to align_corners=False since 0.4.0. Please specify align_corners=True if the old behavior is desired. See the documentation of nn.Upsample for details.\n",
      "Default upsampling behavior when mode=trilinear is changed to align_corners=False since 0.4.0. Please specify align_corners=True if the old behavior is desired. See the documentation of nn.Upsample for details.\n",
      "Default upsampling behavior when mode=trilinear is changed to align_corners=False since 0.4.0. Please specify align_corners=True if the old behavior is desired. See the documentation of nn.Upsample for details.\n"
     ]
    },
    {
     "name": "stdout",
     "output_type": "stream",
     "text": [
      "1/3, train_loss: 0.4640\n",
      "2/3, train_loss: 0.4639\n",
      "3/3, train_loss: 0.4416\n",
      "4/3, train_loss: 0.4503\n",
      "5/3, train_loss: 0.4235\n",
      "6/3, train_loss: 0.5005\n",
      "7/3, train_loss: 0.4695\n",
      "8/3, train_loss: 0.4514\n",
      "9/3, train_loss: 0.4657\n",
      "10/3, train_loss: 0.4419\n",
      "11/3, train_loss: 0.4291\n",
      "12/3, train_loss: 0.4359\n",
      "13/3, train_loss: 0.4428\n",
      "14/3, train_loss: 0.4209\n",
      "0 epoch 72 average loss: 0.4501\n",
      "saved new best metric model\n",
      "current epoch: 72 current mean dice: 0.5179\n",
      "best mean dice: 0.5179 at epoch: 72\n",
      "----------\n",
      "0: epoch 73/500\n"
     ]
    },
    {
     "name": "stderr",
     "output_type": "stream",
     "text": [
      "Default upsampling behavior when mode=trilinear is changed to align_corners=False since 0.4.0. Please specify align_corners=True if the old behavior is desired. See the documentation of nn.Upsample for details.\n",
      "Default upsampling behavior when mode=trilinear is changed to align_corners=False since 0.4.0. Please specify align_corners=True if the old behavior is desired. See the documentation of nn.Upsample for details.\n",
      "Default upsampling behavior when mode=trilinear is changed to align_corners=False since 0.4.0. Please specify align_corners=True if the old behavior is desired. See the documentation of nn.Upsample for details.\n",
      "Default upsampling behavior when mode=trilinear is changed to align_corners=False since 0.4.0. Please specify align_corners=True if the old behavior is desired. See the documentation of nn.Upsample for details.\n"
     ]
    },
    {
     "name": "stdout",
     "output_type": "stream",
     "text": [
      "1/3, train_loss: 0.4328\n",
      "2/3, train_loss: 0.3967\n",
      "3/3, train_loss: 0.4411\n",
      "4/3, train_loss: 0.4290\n",
      "5/3, train_loss: 0.4251\n",
      "6/3, train_loss: 0.4413\n",
      "7/3, train_loss: 0.4641\n",
      "8/3, train_loss: 0.4549\n",
      "9/3, train_loss: 0.4242\n",
      "10/3, train_loss: 0.4670\n",
      "11/3, train_loss: 0.4199\n",
      "12/3, train_loss: 0.4838\n",
      "13/3, train_loss: 0.4953\n",
      "14/3, train_loss: 0.3848\n",
      "0 epoch 73 average loss: 0.4400\n",
      "----------\n",
      "0: epoch 74/500\n"
     ]
    },
    {
     "name": "stderr",
     "output_type": "stream",
     "text": [
      "Default upsampling behavior when mode=trilinear is changed to align_corners=False since 0.4.0. Please specify align_corners=True if the old behavior is desired. See the documentation of nn.Upsample for details.\n",
      "Default upsampling behavior when mode=trilinear is changed to align_corners=False since 0.4.0. Please specify align_corners=True if the old behavior is desired. See the documentation of nn.Upsample for details.\n",
      "Default upsampling behavior when mode=trilinear is changed to align_corners=False since 0.4.0. Please specify align_corners=True if the old behavior is desired. See the documentation of nn.Upsample for details.\n",
      "Default upsampling behavior when mode=trilinear is changed to align_corners=False since 0.4.0. Please specify align_corners=True if the old behavior is desired. See the documentation of nn.Upsample for details.\n"
     ]
    },
    {
     "name": "stdout",
     "output_type": "stream",
     "text": [
      "1/3, train_loss: 0.4205\n",
      "2/3, train_loss: 0.4402\n",
      "3/3, train_loss: 0.4283\n",
      "4/3, train_loss: 0.4093\n",
      "5/3, train_loss: 0.4121\n",
      "6/3, train_loss: 0.4530\n",
      "7/3, train_loss: 0.4141\n",
      "8/3, train_loss: 0.4462\n",
      "9/3, train_loss: 0.4273\n",
      "10/3, train_loss: 0.5103\n",
      "11/3, train_loss: 0.4554\n",
      "12/3, train_loss: 0.4463\n",
      "13/3, train_loss: 0.4105\n",
      "14/3, train_loss: 0.4907\n",
      "0 epoch 74 average loss: 0.4403\n",
      "current epoch: 74 current mean dice: 0.3998\n",
      "best mean dice: 0.5179 at epoch: 72\n",
      "----------\n",
      "0: epoch 75/500\n"
     ]
    },
    {
     "name": "stderr",
     "output_type": "stream",
     "text": [
      "Default upsampling behavior when mode=trilinear is changed to align_corners=False since 0.4.0. Please specify align_corners=True if the old behavior is desired. See the documentation of nn.Upsample for details.\n",
      "Default upsampling behavior when mode=trilinear is changed to align_corners=False since 0.4.0. Please specify align_corners=True if the old behavior is desired. See the documentation of nn.Upsample for details.\n",
      "Default upsampling behavior when mode=trilinear is changed to align_corners=False since 0.4.0. Please specify align_corners=True if the old behavior is desired. See the documentation of nn.Upsample for details.\n",
      "Default upsampling behavior when mode=trilinear is changed to align_corners=False since 0.4.0. Please specify align_corners=True if the old behavior is desired. See the documentation of nn.Upsample for details.\n"
     ]
    },
    {
     "name": "stdout",
     "output_type": "stream",
     "text": [
      "1/3, train_loss: 0.4551\n",
      "2/3, train_loss: 0.4703\n",
      "3/3, train_loss: 0.4098\n",
      "4/3, train_loss: 0.4714\n",
      "5/3, train_loss: 0.4559\n",
      "6/3, train_loss: 0.4642\n",
      "7/3, train_loss: 0.4004\n",
      "8/3, train_loss: 0.4213\n",
      "9/3, train_loss: 0.4289\n",
      "10/3, train_loss: 0.5320\n",
      "11/3, train_loss: 0.4444\n",
      "12/3, train_loss: 0.4285\n",
      "13/3, train_loss: 0.4187\n",
      "14/3, train_loss: 0.4491\n",
      "0 epoch 75 average loss: 0.4464\n",
      "----------\n",
      "0: epoch 76/500\n"
     ]
    },
    {
     "name": "stderr",
     "output_type": "stream",
     "text": [
      "Default upsampling behavior when mode=trilinear is changed to align_corners=False since 0.4.0. Please specify align_corners=True if the old behavior is desired. See the documentation of nn.Upsample for details.\n",
      "Default upsampling behavior when mode=trilinear is changed to align_corners=False since 0.4.0. Please specify align_corners=True if the old behavior is desired. See the documentation of nn.Upsample for details.\n",
      "Default upsampling behavior when mode=trilinear is changed to align_corners=False since 0.4.0. Please specify align_corners=True if the old behavior is desired. See the documentation of nn.Upsample for details.\n",
      "Default upsampling behavior when mode=trilinear is changed to align_corners=False since 0.4.0. Please specify align_corners=True if the old behavior is desired. See the documentation of nn.Upsample for details.\n"
     ]
    },
    {
     "name": "stdout",
     "output_type": "stream",
     "text": [
      "1/3, train_loss: 0.4280\n",
      "2/3, train_loss: 0.4072\n",
      "3/3, train_loss: 0.4289\n",
      "4/3, train_loss: 0.4265\n",
      "5/3, train_loss: 0.4708\n",
      "6/3, train_loss: 0.4456\n",
      "7/3, train_loss: 0.4308\n",
      "8/3, train_loss: 0.4711\n",
      "9/3, train_loss: 0.4037\n",
      "10/3, train_loss: 0.4204\n",
      "11/3, train_loss: 0.4385\n",
      "12/3, train_loss: 0.4221\n",
      "13/3, train_loss: 0.4481\n",
      "14/3, train_loss: 0.5188\n",
      "0 epoch 76 average loss: 0.4400\n",
      "current epoch: 76 current mean dice: 0.2684\n",
      "best mean dice: 0.5179 at epoch: 72\n",
      "----------\n",
      "0: epoch 77/500\n"
     ]
    },
    {
     "name": "stderr",
     "output_type": "stream",
     "text": [
      "Default upsampling behavior when mode=trilinear is changed to align_corners=False since 0.4.0. Please specify align_corners=True if the old behavior is desired. See the documentation of nn.Upsample for details.\n",
      "Default upsampling behavior when mode=trilinear is changed to align_corners=False since 0.4.0. Please specify align_corners=True if the old behavior is desired. See the documentation of nn.Upsample for details.\n",
      "Default upsampling behavior when mode=trilinear is changed to align_corners=False since 0.4.0. Please specify align_corners=True if the old behavior is desired. See the documentation of nn.Upsample for details.\n",
      "Default upsampling behavior when mode=trilinear is changed to align_corners=False since 0.4.0. Please specify align_corners=True if the old behavior is desired. See the documentation of nn.Upsample for details.\n"
     ]
    },
    {
     "name": "stdout",
     "output_type": "stream",
     "text": [
      "1/3, train_loss: 0.4427\n",
      "2/3, train_loss: 0.4502\n",
      "3/3, train_loss: 0.4159\n",
      "4/3, train_loss: 0.4847\n",
      "5/3, train_loss: 0.4423\n",
      "6/3, train_loss: 0.4640\n",
      "7/3, train_loss: 0.4732\n",
      "8/3, train_loss: 0.4182\n",
      "9/3, train_loss: 0.4201\n",
      "10/3, train_loss: 0.4255\n",
      "11/3, train_loss: 0.4799\n",
      "12/3, train_loss: 0.4462\n",
      "13/3, train_loss: 0.4410\n",
      "14/3, train_loss: 0.4243\n",
      "0 epoch 77 average loss: 0.4449\n",
      "----------\n",
      "0: epoch 78/500\n"
     ]
    },
    {
     "name": "stderr",
     "output_type": "stream",
     "text": [
      "Default upsampling behavior when mode=trilinear is changed to align_corners=False since 0.4.0. Please specify align_corners=True if the old behavior is desired. See the documentation of nn.Upsample for details.\n",
      "Default upsampling behavior when mode=trilinear is changed to align_corners=False since 0.4.0. Please specify align_corners=True if the old behavior is desired. See the documentation of nn.Upsample for details.\n",
      "Default upsampling behavior when mode=trilinear is changed to align_corners=False since 0.4.0. Please specify align_corners=True if the old behavior is desired. See the documentation of nn.Upsample for details.\n",
      "Default upsampling behavior when mode=trilinear is changed to align_corners=False since 0.4.0. Please specify align_corners=True if the old behavior is desired. See the documentation of nn.Upsample for details.\n"
     ]
    },
    {
     "name": "stdout",
     "output_type": "stream",
     "text": [
      "1/3, train_loss: 0.4314\n",
      "2/3, train_loss: 0.4116\n",
      "3/3, train_loss: 0.4499\n",
      "4/3, train_loss: 0.4895\n",
      "5/3, train_loss: 0.4341\n",
      "6/3, train_loss: 0.4570\n",
      "7/3, train_loss: 0.4008\n",
      "8/3, train_loss: 0.4265\n",
      "9/3, train_loss: 0.4254\n",
      "10/3, train_loss: 0.4403\n",
      "11/3, train_loss: 0.3924\n",
      "12/3, train_loss: 0.4286\n",
      "13/3, train_loss: 0.4261\n",
      "14/3, train_loss: 0.5522\n",
      "0 epoch 78 average loss: 0.4404\n",
      "current epoch: 78 current mean dice: 0.4571\n",
      "best mean dice: 0.5179 at epoch: 72\n",
      "----------\n",
      "0: epoch 79/500\n"
     ]
    },
    {
     "name": "stderr",
     "output_type": "stream",
     "text": [
      "Default upsampling behavior when mode=trilinear is changed to align_corners=False since 0.4.0. Please specify align_corners=True if the old behavior is desired. See the documentation of nn.Upsample for details.\n",
      "Default upsampling behavior when mode=trilinear is changed to align_corners=False since 0.4.0. Please specify align_corners=True if the old behavior is desired. See the documentation of nn.Upsample for details.\n",
      "Default upsampling behavior when mode=trilinear is changed to align_corners=False since 0.4.0. Please specify align_corners=True if the old behavior is desired. See the documentation of nn.Upsample for details.\n",
      "Default upsampling behavior when mode=trilinear is changed to align_corners=False since 0.4.0. Please specify align_corners=True if the old behavior is desired. See the documentation of nn.Upsample for details.\n"
     ]
    },
    {
     "name": "stdout",
     "output_type": "stream",
     "text": [
      "1/3, train_loss: 0.4088\n",
      "2/3, train_loss: 0.4192\n",
      "3/3, train_loss: 0.4244\n",
      "4/3, train_loss: 0.4731\n",
      "5/3, train_loss: 0.4019\n",
      "6/3, train_loss: 0.4157\n",
      "7/3, train_loss: 0.4445\n",
      "8/3, train_loss: 0.4265\n",
      "9/3, train_loss: 0.4483\n",
      "10/3, train_loss: 0.4730\n",
      "11/3, train_loss: 0.4143\n",
      "12/3, train_loss: 0.4197\n",
      "13/3, train_loss: 0.4445\n",
      "14/3, train_loss: 0.3989\n",
      "0 epoch 79 average loss: 0.4295\n",
      "----------\n",
      "0: epoch 80/500\n"
     ]
    },
    {
     "name": "stderr",
     "output_type": "stream",
     "text": [
      "Default upsampling behavior when mode=trilinear is changed to align_corners=False since 0.4.0. Please specify align_corners=True if the old behavior is desired. See the documentation of nn.Upsample for details.\n",
      "Default upsampling behavior when mode=trilinear is changed to align_corners=False since 0.4.0. Please specify align_corners=True if the old behavior is desired. See the documentation of nn.Upsample for details.\n",
      "Default upsampling behavior when mode=trilinear is changed to align_corners=False since 0.4.0. Please specify align_corners=True if the old behavior is desired. See the documentation of nn.Upsample for details.\n",
      "Default upsampling behavior when mode=trilinear is changed to align_corners=False since 0.4.0. Please specify align_corners=True if the old behavior is desired. See the documentation of nn.Upsample for details.\n"
     ]
    },
    {
     "name": "stdout",
     "output_type": "stream",
     "text": [
      "1/3, train_loss: 0.4231\n",
      "2/3, train_loss: 0.4372\n",
      "3/3, train_loss: 0.4241\n",
      "4/3, train_loss: 0.4317\n",
      "5/3, train_loss: 0.4581\n",
      "6/3, train_loss: 0.4612\n",
      "7/3, train_loss: 0.4006\n",
      "8/3, train_loss: 0.4278\n",
      "9/3, train_loss: 0.4208\n",
      "10/3, train_loss: 0.3975\n",
      "11/3, train_loss: 0.4485\n",
      "12/3, train_loss: 0.4425\n",
      "13/3, train_loss: 0.4419\n",
      "14/3, train_loss: 0.5725\n",
      "0 epoch 80 average loss: 0.4420\n",
      "current epoch: 80 current mean dice: 0.3060\n",
      "best mean dice: 0.5179 at epoch: 72\n",
      "----------\n",
      "0: epoch 81/500\n"
     ]
    },
    {
     "name": "stderr",
     "output_type": "stream",
     "text": [
      "Default upsampling behavior when mode=trilinear is changed to align_corners=False since 0.4.0. Please specify align_corners=True if the old behavior is desired. See the documentation of nn.Upsample for details.\n",
      "Default upsampling behavior when mode=trilinear is changed to align_corners=False since 0.4.0. Please specify align_corners=True if the old behavior is desired. See the documentation of nn.Upsample for details.\n",
      "Default upsampling behavior when mode=trilinear is changed to align_corners=False since 0.4.0. Please specify align_corners=True if the old behavior is desired. See the documentation of nn.Upsample for details.\n",
      "Default upsampling behavior when mode=trilinear is changed to align_corners=False since 0.4.0. Please specify align_corners=True if the old behavior is desired. See the documentation of nn.Upsample for details.\n"
     ]
    },
    {
     "name": "stdout",
     "output_type": "stream",
     "text": [
      "1/3, train_loss: 0.4619\n",
      "2/3, train_loss: 0.4231\n",
      "3/3, train_loss: 0.4133\n",
      "4/3, train_loss: 0.4137\n",
      "5/3, train_loss: 0.4480\n",
      "6/3, train_loss: 0.3983\n",
      "7/3, train_loss: 0.4990\n",
      "8/3, train_loss: 0.4094\n",
      "9/3, train_loss: 0.4143\n",
      "10/3, train_loss: 0.4452\n",
      "11/3, train_loss: 0.4081\n",
      "12/3, train_loss: 0.4012\n",
      "13/3, train_loss: 0.4158\n",
      "14/3, train_loss: 0.3744\n",
      "0 epoch 81 average loss: 0.4233\n",
      "----------\n",
      "0: epoch 82/500\n"
     ]
    },
    {
     "name": "stderr",
     "output_type": "stream",
     "text": [
      "Default upsampling behavior when mode=trilinear is changed to align_corners=False since 0.4.0. Please specify align_corners=True if the old behavior is desired. See the documentation of nn.Upsample for details.\n",
      "Default upsampling behavior when mode=trilinear is changed to align_corners=False since 0.4.0. Please specify align_corners=True if the old behavior is desired. See the documentation of nn.Upsample for details.\n",
      "Default upsampling behavior when mode=trilinear is changed to align_corners=False since 0.4.0. Please specify align_corners=True if the old behavior is desired. See the documentation of nn.Upsample for details.\n",
      "Default upsampling behavior when mode=trilinear is changed to align_corners=False since 0.4.0. Please specify align_corners=True if the old behavior is desired. See the documentation of nn.Upsample for details.\n"
     ]
    },
    {
     "name": "stdout",
     "output_type": "stream",
     "text": [
      "1/3, train_loss: 0.4544\n",
      "2/3, train_loss: 0.4606\n",
      "3/3, train_loss: 0.4760\n",
      "4/3, train_loss: 0.4164\n",
      "5/3, train_loss: 0.4281\n",
      "6/3, train_loss: 0.4135\n",
      "7/3, train_loss: 0.4726\n",
      "8/3, train_loss: 0.4495\n",
      "9/3, train_loss: 0.4307\n",
      "10/3, train_loss: 0.4724\n",
      "11/3, train_loss: 0.4181\n",
      "12/3, train_loss: 0.3970\n",
      "13/3, train_loss: 0.4121\n",
      "14/3, train_loss: 0.4213\n",
      "0 epoch 82 average loss: 0.4374\n",
      "current epoch: 82 current mean dice: 0.2611\n",
      "best mean dice: 0.5179 at epoch: 72\n",
      "----------\n",
      "0: epoch 83/500\n"
     ]
    },
    {
     "name": "stderr",
     "output_type": "stream",
     "text": [
      "Default upsampling behavior when mode=trilinear is changed to align_corners=False since 0.4.0. Please specify align_corners=True if the old behavior is desired. See the documentation of nn.Upsample for details.\n",
      "Default upsampling behavior when mode=trilinear is changed to align_corners=False since 0.4.0. Please specify align_corners=True if the old behavior is desired. See the documentation of nn.Upsample for details.\n",
      "Default upsampling behavior when mode=trilinear is changed to align_corners=False since 0.4.0. Please specify align_corners=True if the old behavior is desired. See the documentation of nn.Upsample for details.\n",
      "Default upsampling behavior when mode=trilinear is changed to align_corners=False since 0.4.0. Please specify align_corners=True if the old behavior is desired. See the documentation of nn.Upsample for details.\n"
     ]
    },
    {
     "name": "stdout",
     "output_type": "stream",
     "text": [
      "1/3, train_loss: 0.4091\n",
      "2/3, train_loss: 0.4020\n",
      "3/3, train_loss: 0.4106\n",
      "4/3, train_loss: 0.4083\n",
      "5/3, train_loss: 0.4061\n",
      "6/3, train_loss: 0.4015\n",
      "7/3, train_loss: 0.4010\n",
      "8/3, train_loss: 0.4612\n",
      "9/3, train_loss: 0.4075\n",
      "10/3, train_loss: 0.4715\n",
      "11/3, train_loss: 0.4344\n",
      "12/3, train_loss: 0.3991\n",
      "13/3, train_loss: 0.4260\n",
      "14/3, train_loss: 0.3621\n",
      "0 epoch 83 average loss: 0.4143\n",
      "----------\n",
      "0: epoch 84/500\n"
     ]
    },
    {
     "name": "stderr",
     "output_type": "stream",
     "text": [
      "Default upsampling behavior when mode=trilinear is changed to align_corners=False since 0.4.0. Please specify align_corners=True if the old behavior is desired. See the documentation of nn.Upsample for details.\n",
      "Default upsampling behavior when mode=trilinear is changed to align_corners=False since 0.4.0. Please specify align_corners=True if the old behavior is desired. See the documentation of nn.Upsample for details.\n",
      "Default upsampling behavior when mode=trilinear is changed to align_corners=False since 0.4.0. Please specify align_corners=True if the old behavior is desired. See the documentation of nn.Upsample for details.\n",
      "Default upsampling behavior when mode=trilinear is changed to align_corners=False since 0.4.0. Please specify align_corners=True if the old behavior is desired. See the documentation of nn.Upsample for details.\n"
     ]
    },
    {
     "name": "stdout",
     "output_type": "stream",
     "text": [
      "1/3, train_loss: 0.4282\n",
      "2/3, train_loss: 0.4129\n",
      "3/3, train_loss: 0.4615\n",
      "4/3, train_loss: 0.4073\n",
      "5/3, train_loss: 0.4353\n",
      "6/3, train_loss: 0.4282\n",
      "7/3, train_loss: 0.4210\n",
      "8/3, train_loss: 0.4236\n",
      "9/3, train_loss: 0.4120\n",
      "10/3, train_loss: 0.4210\n",
      "11/3, train_loss: 0.4515\n",
      "12/3, train_loss: 0.4288\n",
      "13/3, train_loss: 0.4614\n",
      "14/3, train_loss: 0.4926\n",
      "0 epoch 84 average loss: 0.4347\n",
      "current epoch: 84 current mean dice: 0.4120\n",
      "best mean dice: 0.5179 at epoch: 72\n",
      "----------\n",
      "0: epoch 85/500\n"
     ]
    },
    {
     "name": "stderr",
     "output_type": "stream",
     "text": [
      "Default upsampling behavior when mode=trilinear is changed to align_corners=False since 0.4.0. Please specify align_corners=True if the old behavior is desired. See the documentation of nn.Upsample for details.\n",
      "Default upsampling behavior when mode=trilinear is changed to align_corners=False since 0.4.0. Please specify align_corners=True if the old behavior is desired. See the documentation of nn.Upsample for details.\n",
      "Default upsampling behavior when mode=trilinear is changed to align_corners=False since 0.4.0. Please specify align_corners=True if the old behavior is desired. See the documentation of nn.Upsample for details.\n",
      "Default upsampling behavior when mode=trilinear is changed to align_corners=False since 0.4.0. Please specify align_corners=True if the old behavior is desired. See the documentation of nn.Upsample for details.\n"
     ]
    },
    {
     "name": "stdout",
     "output_type": "stream",
     "text": [
      "1/3, train_loss: 0.4667\n",
      "2/3, train_loss: 0.3885\n",
      "3/3, train_loss: 0.4240\n",
      "4/3, train_loss: 0.4179\n",
      "5/3, train_loss: 0.4417\n",
      "6/3, train_loss: 0.4014\n",
      "7/3, train_loss: 0.4347\n",
      "8/3, train_loss: 0.4163\n",
      "9/3, train_loss: 0.4474\n",
      "10/3, train_loss: 0.4132\n",
      "11/3, train_loss: 0.4041\n",
      "12/3, train_loss: 0.4148\n",
      "13/3, train_loss: 0.4564\n",
      "14/3, train_loss: 0.4326\n",
      "0 epoch 85 average loss: 0.4257\n",
      "----------\n",
      "0: epoch 86/500\n"
     ]
    },
    {
     "name": "stderr",
     "output_type": "stream",
     "text": [
      "Default upsampling behavior when mode=trilinear is changed to align_corners=False since 0.4.0. Please specify align_corners=True if the old behavior is desired. See the documentation of nn.Upsample for details.\n",
      "Default upsampling behavior when mode=trilinear is changed to align_corners=False since 0.4.0. Please specify align_corners=True if the old behavior is desired. See the documentation of nn.Upsample for details.\n",
      "Default upsampling behavior when mode=trilinear is changed to align_corners=False since 0.4.0. Please specify align_corners=True if the old behavior is desired. See the documentation of nn.Upsample for details.\n",
      "Default upsampling behavior when mode=trilinear is changed to align_corners=False since 0.4.0. Please specify align_corners=True if the old behavior is desired. See the documentation of nn.Upsample for details.\n"
     ]
    },
    {
     "name": "stdout",
     "output_type": "stream",
     "text": [
      "1/3, train_loss: 0.4111\n",
      "2/3, train_loss: 0.4014\n",
      "3/3, train_loss: 0.4230\n",
      "4/3, train_loss: 0.4383\n",
      "5/3, train_loss: 0.4177\n",
      "6/3, train_loss: 0.5052\n",
      "7/3, train_loss: 0.4021\n",
      "8/3, train_loss: 0.4301\n",
      "9/3, train_loss: 0.4203\n",
      "10/3, train_loss: 0.4089\n",
      "11/3, train_loss: 0.4253\n",
      "12/3, train_loss: 0.4082\n",
      "13/3, train_loss: 0.4469\n",
      "14/3, train_loss: 0.4288\n",
      "0 epoch 86 average loss: 0.4262\n",
      "current epoch: 86 current mean dice: 0.4375\n",
      "best mean dice: 0.5179 at epoch: 72\n",
      "----------\n",
      "0: epoch 87/500\n"
     ]
    },
    {
     "name": "stderr",
     "output_type": "stream",
     "text": [
      "Default upsampling behavior when mode=trilinear is changed to align_corners=False since 0.4.0. Please specify align_corners=True if the old behavior is desired. See the documentation of nn.Upsample for details.\n",
      "Default upsampling behavior when mode=trilinear is changed to align_corners=False since 0.4.0. Please specify align_corners=True if the old behavior is desired. See the documentation of nn.Upsample for details.\n",
      "Default upsampling behavior when mode=trilinear is changed to align_corners=False since 0.4.0. Please specify align_corners=True if the old behavior is desired. See the documentation of nn.Upsample for details.\n",
      "Default upsampling behavior when mode=trilinear is changed to align_corners=False since 0.4.0. Please specify align_corners=True if the old behavior is desired. See the documentation of nn.Upsample for details.\n"
     ]
    },
    {
     "name": "stdout",
     "output_type": "stream",
     "text": [
      "1/3, train_loss: 0.4511\n",
      "2/3, train_loss: 0.4210\n",
      "3/3, train_loss: 0.4215\n",
      "4/3, train_loss: 0.4660\n",
      "5/3, train_loss: 0.4784\n",
      "6/3, train_loss: 0.4145\n",
      "7/3, train_loss: 0.4094\n",
      "8/3, train_loss: 0.4088\n",
      "9/3, train_loss: 0.4043\n",
      "10/3, train_loss: 0.3968\n",
      "11/3, train_loss: 0.3968\n",
      "12/3, train_loss: 0.4222\n",
      "13/3, train_loss: 0.4240\n",
      "14/3, train_loss: 0.4146\n",
      "0 epoch 87 average loss: 0.4235\n",
      "----------\n",
      "0: epoch 88/500\n"
     ]
    },
    {
     "name": "stderr",
     "output_type": "stream",
     "text": [
      "Default upsampling behavior when mode=trilinear is changed to align_corners=False since 0.4.0. Please specify align_corners=True if the old behavior is desired. See the documentation of nn.Upsample for details.\n",
      "Default upsampling behavior when mode=trilinear is changed to align_corners=False since 0.4.0. Please specify align_corners=True if the old behavior is desired. See the documentation of nn.Upsample for details.\n",
      "Default upsampling behavior when mode=trilinear is changed to align_corners=False since 0.4.0. Please specify align_corners=True if the old behavior is desired. See the documentation of nn.Upsample for details.\n",
      "Default upsampling behavior when mode=trilinear is changed to align_corners=False since 0.4.0. Please specify align_corners=True if the old behavior is desired. See the documentation of nn.Upsample for details.\n"
     ]
    },
    {
     "name": "stdout",
     "output_type": "stream",
     "text": [
      "1/3, train_loss: 0.4058\n",
      "2/3, train_loss: 0.4170\n",
      "3/3, train_loss: 0.4235\n",
      "4/3, train_loss: 0.4297\n",
      "5/3, train_loss: 0.4017\n",
      "6/3, train_loss: 0.4431\n",
      "7/3, train_loss: 0.4125\n",
      "8/3, train_loss: 0.4065\n",
      "9/3, train_loss: 0.4207\n",
      "10/3, train_loss: 0.3969\n",
      "11/3, train_loss: 0.4456\n",
      "12/3, train_loss: 0.4714\n",
      "13/3, train_loss: 0.4053\n",
      "14/3, train_loss: 0.4089\n",
      "0 epoch 88 average loss: 0.4206\n",
      "saved new best metric model\n",
      "current epoch: 88 current mean dice: 0.5409\n",
      "best mean dice: 0.5409 at epoch: 88\n",
      "----------\n",
      "0: epoch 89/500\n"
     ]
    },
    {
     "name": "stderr",
     "output_type": "stream",
     "text": [
      "Default upsampling behavior when mode=trilinear is changed to align_corners=False since 0.4.0. Please specify align_corners=True if the old behavior is desired. See the documentation of nn.Upsample for details.\n",
      "Default upsampling behavior when mode=trilinear is changed to align_corners=False since 0.4.0. Please specify align_corners=True if the old behavior is desired. See the documentation of nn.Upsample for details.\n",
      "Default upsampling behavior when mode=trilinear is changed to align_corners=False since 0.4.0. Please specify align_corners=True if the old behavior is desired. See the documentation of nn.Upsample for details.\n",
      "Default upsampling behavior when mode=trilinear is changed to align_corners=False since 0.4.0. Please specify align_corners=True if the old behavior is desired. See the documentation of nn.Upsample for details.\n"
     ]
    },
    {
     "name": "stdout",
     "output_type": "stream",
     "text": [
      "1/3, train_loss: 0.4392\n",
      "2/3, train_loss: 0.4228\n",
      "3/3, train_loss: 0.4014\n",
      "4/3, train_loss: 0.4285\n",
      "5/3, train_loss: 0.3998\n",
      "6/3, train_loss: 0.4058\n",
      "7/3, train_loss: 0.4134\n",
      "8/3, train_loss: 0.4298\n",
      "9/3, train_loss: 0.4189\n",
      "10/3, train_loss: 0.3945\n",
      "11/3, train_loss: 0.4336\n",
      "12/3, train_loss: 0.4795\n",
      "13/3, train_loss: 0.4063\n",
      "14/3, train_loss: 0.4120\n",
      "0 epoch 89 average loss: 0.4204\n",
      "----------\n",
      "0: epoch 90/500\n"
     ]
    },
    {
     "name": "stderr",
     "output_type": "stream",
     "text": [
      "Default upsampling behavior when mode=trilinear is changed to align_corners=False since 0.4.0. Please specify align_corners=True if the old behavior is desired. See the documentation of nn.Upsample for details.\n",
      "Default upsampling behavior when mode=trilinear is changed to align_corners=False since 0.4.0. Please specify align_corners=True if the old behavior is desired. See the documentation of nn.Upsample for details.\n",
      "Default upsampling behavior when mode=trilinear is changed to align_corners=False since 0.4.0. Please specify align_corners=True if the old behavior is desired. See the documentation of nn.Upsample for details.\n",
      "Default upsampling behavior when mode=trilinear is changed to align_corners=False since 0.4.0. Please specify align_corners=True if the old behavior is desired. See the documentation of nn.Upsample for details.\n"
     ]
    },
    {
     "name": "stdout",
     "output_type": "stream",
     "text": [
      "1/3, train_loss: 0.4388\n",
      "2/3, train_loss: 0.4440\n",
      "3/3, train_loss: 0.4186\n",
      "4/3, train_loss: 0.4315\n",
      "5/3, train_loss: 0.3901\n",
      "6/3, train_loss: 0.4415\n",
      "7/3, train_loss: 0.4301\n",
      "8/3, train_loss: 0.4159\n",
      "9/3, train_loss: 0.4285\n",
      "10/3, train_loss: 0.4249\n",
      "11/3, train_loss: 0.4018\n",
      "12/3, train_loss: 0.4365\n",
      "13/3, train_loss: 0.4325\n",
      "14/3, train_loss: 0.4136\n",
      "0 epoch 90 average loss: 0.4249\n",
      "current epoch: 90 current mean dice: 0.4490\n",
      "best mean dice: 0.5409 at epoch: 88\n",
      "----------\n",
      "0: epoch 91/500\n"
     ]
    },
    {
     "name": "stderr",
     "output_type": "stream",
     "text": [
      "Default upsampling behavior when mode=trilinear is changed to align_corners=False since 0.4.0. Please specify align_corners=True if the old behavior is desired. See the documentation of nn.Upsample for details.\n",
      "Default upsampling behavior when mode=trilinear is changed to align_corners=False since 0.4.0. Please specify align_corners=True if the old behavior is desired. See the documentation of nn.Upsample for details.\n",
      "Default upsampling behavior when mode=trilinear is changed to align_corners=False since 0.4.0. Please specify align_corners=True if the old behavior is desired. See the documentation of nn.Upsample for details.\n",
      "Default upsampling behavior when mode=trilinear is changed to align_corners=False since 0.4.0. Please specify align_corners=True if the old behavior is desired. See the documentation of nn.Upsample for details.\n"
     ]
    },
    {
     "name": "stdout",
     "output_type": "stream",
     "text": [
      "1/3, train_loss: 0.4502\n",
      "2/3, train_loss: 0.3994\n",
      "3/3, train_loss: 0.4132\n",
      "4/3, train_loss: 0.4185\n",
      "5/3, train_loss: 0.4236\n",
      "6/3, train_loss: 0.4052\n",
      "7/3, train_loss: 0.3980\n",
      "8/3, train_loss: 0.3919\n",
      "9/3, train_loss: 0.4704\n",
      "10/3, train_loss: 0.4016\n",
      "11/3, train_loss: 0.4031\n",
      "12/3, train_loss: 0.4198\n",
      "13/3, train_loss: 0.4226\n",
      "14/3, train_loss: 0.3636\n",
      "0 epoch 91 average loss: 0.4129\n",
      "----------\n",
      "0: epoch 92/500\n"
     ]
    },
    {
     "name": "stderr",
     "output_type": "stream",
     "text": [
      "Default upsampling behavior when mode=trilinear is changed to align_corners=False since 0.4.0. Please specify align_corners=True if the old behavior is desired. See the documentation of nn.Upsample for details.\n",
      "Default upsampling behavior when mode=trilinear is changed to align_corners=False since 0.4.0. Please specify align_corners=True if the old behavior is desired. See the documentation of nn.Upsample for details.\n",
      "Default upsampling behavior when mode=trilinear is changed to align_corners=False since 0.4.0. Please specify align_corners=True if the old behavior is desired. See the documentation of nn.Upsample for details.\n",
      "Default upsampling behavior when mode=trilinear is changed to align_corners=False since 0.4.0. Please specify align_corners=True if the old behavior is desired. See the documentation of nn.Upsample for details.\n"
     ]
    },
    {
     "name": "stdout",
     "output_type": "stream",
     "text": [
      "1/3, train_loss: 0.4585\n",
      "2/3, train_loss: 0.3974\n",
      "3/3, train_loss: 0.4146\n",
      "4/3, train_loss: 0.4176\n",
      "5/3, train_loss: 0.3780\n",
      "6/3, train_loss: 0.4454\n",
      "7/3, train_loss: 0.4195\n",
      "8/3, train_loss: 0.4049\n",
      "9/3, train_loss: 0.4172\n",
      "10/3, train_loss: 0.4114\n",
      "11/3, train_loss: 0.4199\n",
      "12/3, train_loss: 0.3912\n",
      "13/3, train_loss: 0.3983\n",
      "14/3, train_loss: 0.5267\n",
      "0 epoch 92 average loss: 0.4215\n",
      "current epoch: 92 current mean dice: 0.3667\n",
      "best mean dice: 0.5409 at epoch: 88\n",
      "----------\n",
      "0: epoch 93/500\n"
     ]
    },
    {
     "name": "stderr",
     "output_type": "stream",
     "text": [
      "Default upsampling behavior when mode=trilinear is changed to align_corners=False since 0.4.0. Please specify align_corners=True if the old behavior is desired. See the documentation of nn.Upsample for details.\n",
      "Default upsampling behavior when mode=trilinear is changed to align_corners=False since 0.4.0. Please specify align_corners=True if the old behavior is desired. See the documentation of nn.Upsample for details.\n",
      "Default upsampling behavior when mode=trilinear is changed to align_corners=False since 0.4.0. Please specify align_corners=True if the old behavior is desired. See the documentation of nn.Upsample for details.\n",
      "Default upsampling behavior when mode=trilinear is changed to align_corners=False since 0.4.0. Please specify align_corners=True if the old behavior is desired. See the documentation of nn.Upsample for details.\n"
     ]
    },
    {
     "name": "stdout",
     "output_type": "stream",
     "text": [
      "1/3, train_loss: 0.4480\n",
      "2/3, train_loss: 0.4062\n",
      "3/3, train_loss: 0.3925\n",
      "4/3, train_loss: 0.4121\n",
      "5/3, train_loss: 0.4186\n",
      "6/3, train_loss: 0.4391\n",
      "7/3, train_loss: 0.3953\n",
      "8/3, train_loss: 0.4015\n",
      "9/3, train_loss: 0.4710\n",
      "10/3, train_loss: 0.4068\n",
      "11/3, train_loss: 0.4271\n",
      "12/3, train_loss: 0.3962\n",
      "13/3, train_loss: 0.4005\n",
      "14/3, train_loss: 0.4014\n",
      "0 epoch 93 average loss: 0.4154\n",
      "----------\n",
      "0: epoch 94/500\n"
     ]
    },
    {
     "name": "stderr",
     "output_type": "stream",
     "text": [
      "Default upsampling behavior when mode=trilinear is changed to align_corners=False since 0.4.0. Please specify align_corners=True if the old behavior is desired. See the documentation of nn.Upsample for details.\n",
      "Default upsampling behavior when mode=trilinear is changed to align_corners=False since 0.4.0. Please specify align_corners=True if the old behavior is desired. See the documentation of nn.Upsample for details.\n",
      "Default upsampling behavior when mode=trilinear is changed to align_corners=False since 0.4.0. Please specify align_corners=True if the old behavior is desired. See the documentation of nn.Upsample for details.\n",
      "Default upsampling behavior when mode=trilinear is changed to align_corners=False since 0.4.0. Please specify align_corners=True if the old behavior is desired. See the documentation of nn.Upsample for details.\n"
     ]
    },
    {
     "name": "stdout",
     "output_type": "stream",
     "text": [
      "1/3, train_loss: 0.4196\n",
      "2/3, train_loss: 0.3956\n",
      "3/3, train_loss: 0.4387\n",
      "4/3, train_loss: 0.3981\n",
      "5/3, train_loss: 0.4086\n",
      "6/3, train_loss: 0.3932\n",
      "7/3, train_loss: 0.4263\n",
      "8/3, train_loss: 0.4183\n",
      "9/3, train_loss: 0.4102\n",
      "10/3, train_loss: 0.4141\n",
      "11/3, train_loss: 0.4210\n",
      "12/3, train_loss: 0.3996\n",
      "13/3, train_loss: 0.4165\n",
      "14/3, train_loss: 0.3878\n",
      "0 epoch 94 average loss: 0.4105\n",
      "current epoch: 94 current mean dice: 0.3546\n",
      "best mean dice: 0.5409 at epoch: 88\n",
      "----------\n",
      "0: epoch 95/500\n"
     ]
    },
    {
     "name": "stderr",
     "output_type": "stream",
     "text": [
      "Default upsampling behavior when mode=trilinear is changed to align_corners=False since 0.4.0. Please specify align_corners=True if the old behavior is desired. See the documentation of nn.Upsample for details.\n",
      "Default upsampling behavior when mode=trilinear is changed to align_corners=False since 0.4.0. Please specify align_corners=True if the old behavior is desired. See the documentation of nn.Upsample for details.\n",
      "Default upsampling behavior when mode=trilinear is changed to align_corners=False since 0.4.0. Please specify align_corners=True if the old behavior is desired. See the documentation of nn.Upsample for details.\n",
      "Default upsampling behavior when mode=trilinear is changed to align_corners=False since 0.4.0. Please specify align_corners=True if the old behavior is desired. See the documentation of nn.Upsample for details.\n"
     ]
    },
    {
     "name": "stdout",
     "output_type": "stream",
     "text": [
      "1/3, train_loss: 0.3973\n",
      "2/3, train_loss: 0.4017\n",
      "3/3, train_loss: 0.4325\n",
      "4/3, train_loss: 0.3820\n",
      "5/3, train_loss: 0.4288\n",
      "6/3, train_loss: 0.4346\n",
      "7/3, train_loss: 0.4161\n",
      "8/3, train_loss: 0.4043\n",
      "9/3, train_loss: 0.4033\n",
      "10/3, train_loss: 0.4155\n",
      "11/3, train_loss: 0.3957\n",
      "12/3, train_loss: 0.4126\n",
      "13/3, train_loss: 0.4349\n",
      "14/3, train_loss: 0.4931\n",
      "0 epoch 95 average loss: 0.4180\n",
      "----------\n",
      "0: epoch 96/500\n"
     ]
    },
    {
     "name": "stderr",
     "output_type": "stream",
     "text": [
      "Default upsampling behavior when mode=trilinear is changed to align_corners=False since 0.4.0. Please specify align_corners=True if the old behavior is desired. See the documentation of nn.Upsample for details.\n",
      "Default upsampling behavior when mode=trilinear is changed to align_corners=False since 0.4.0. Please specify align_corners=True if the old behavior is desired. See the documentation of nn.Upsample for details.\n",
      "Default upsampling behavior when mode=trilinear is changed to align_corners=False since 0.4.0. Please specify align_corners=True if the old behavior is desired. See the documentation of nn.Upsample for details.\n",
      "Default upsampling behavior when mode=trilinear is changed to align_corners=False since 0.4.0. Please specify align_corners=True if the old behavior is desired. See the documentation of nn.Upsample for details.\n"
     ]
    },
    {
     "name": "stdout",
     "output_type": "stream",
     "text": [
      "1/3, train_loss: 0.3885\n",
      "2/3, train_loss: 0.3991\n",
      "3/3, train_loss: 0.4287\n",
      "4/3, train_loss: 0.4152\n",
      "5/3, train_loss: 0.4245\n",
      "6/3, train_loss: 0.4038\n",
      "7/3, train_loss: 0.3971\n",
      "8/3, train_loss: 0.4228\n",
      "9/3, train_loss: 0.4082\n",
      "10/3, train_loss: 0.4125\n",
      "11/3, train_loss: 0.3990\n",
      "12/3, train_loss: 0.4199\n",
      "13/3, train_loss: 0.4658\n",
      "14/3, train_loss: 0.3903\n",
      "0 epoch 96 average loss: 0.4125\n",
      "current epoch: 96 current mean dice: 0.3672\n",
      "best mean dice: 0.5409 at epoch: 88\n",
      "----------\n",
      "0: epoch 97/500\n"
     ]
    },
    {
     "name": "stderr",
     "output_type": "stream",
     "text": [
      "Default upsampling behavior when mode=trilinear is changed to align_corners=False since 0.4.0. Please specify align_corners=True if the old behavior is desired. See the documentation of nn.Upsample for details.\n",
      "Default upsampling behavior when mode=trilinear is changed to align_corners=False since 0.4.0. Please specify align_corners=True if the old behavior is desired. See the documentation of nn.Upsample for details.\n",
      "Default upsampling behavior when mode=trilinear is changed to align_corners=False since 0.4.0. Please specify align_corners=True if the old behavior is desired. See the documentation of nn.Upsample for details.\n",
      "Default upsampling behavior when mode=trilinear is changed to align_corners=False since 0.4.0. Please specify align_corners=True if the old behavior is desired. See the documentation of nn.Upsample for details.\n"
     ]
    },
    {
     "name": "stdout",
     "output_type": "stream",
     "text": [
      "1/3, train_loss: 0.4111\n",
      "2/3, train_loss: 0.4077\n",
      "3/3, train_loss: 0.4465\n",
      "4/3, train_loss: 0.4048\n",
      "5/3, train_loss: 0.3891\n",
      "6/3, train_loss: 0.4316\n",
      "7/3, train_loss: 0.4081\n",
      "8/3, train_loss: 0.4060\n",
      "9/3, train_loss: 0.4006\n",
      "10/3, train_loss: 0.3829\n",
      "11/3, train_loss: 0.4032\n",
      "12/3, train_loss: 0.3730\n",
      "13/3, train_loss: 0.3988\n",
      "14/3, train_loss: 0.4410\n",
      "0 epoch 97 average loss: 0.4075\n",
      "----------\n",
      "0: epoch 98/500\n"
     ]
    },
    {
     "name": "stderr",
     "output_type": "stream",
     "text": [
      "Default upsampling behavior when mode=trilinear is changed to align_corners=False since 0.4.0. Please specify align_corners=True if the old behavior is desired. See the documentation of nn.Upsample for details.\n",
      "Default upsampling behavior when mode=trilinear is changed to align_corners=False since 0.4.0. Please specify align_corners=True if the old behavior is desired. See the documentation of nn.Upsample for details.\n",
      "Default upsampling behavior when mode=trilinear is changed to align_corners=False since 0.4.0. Please specify align_corners=True if the old behavior is desired. See the documentation of nn.Upsample for details.\n",
      "Default upsampling behavior when mode=trilinear is changed to align_corners=False since 0.4.0. Please specify align_corners=True if the old behavior is desired. See the documentation of nn.Upsample for details.\n"
     ]
    },
    {
     "name": "stdout",
     "output_type": "stream",
     "text": [
      "1/3, train_loss: 0.4236\n",
      "2/3, train_loss: 0.3966\n",
      "3/3, train_loss: 0.3889\n",
      "4/3, train_loss: 0.4637\n",
      "5/3, train_loss: 0.4296\n",
      "6/3, train_loss: 0.3860\n",
      "7/3, train_loss: 0.4007\n",
      "8/3, train_loss: 0.4126\n",
      "9/3, train_loss: 0.4012\n",
      "10/3, train_loss: 0.3963\n",
      "11/3, train_loss: 0.3932\n",
      "12/3, train_loss: 0.4084\n",
      "13/3, train_loss: 0.4530\n",
      "14/3, train_loss: 0.4281\n",
      "0 epoch 98 average loss: 0.4130\n",
      "current epoch: 98 current mean dice: 0.3321\n",
      "best mean dice: 0.5409 at epoch: 88\n",
      "----------\n",
      "0: epoch 99/500\n"
     ]
    },
    {
     "name": "stderr",
     "output_type": "stream",
     "text": [
      "Default upsampling behavior when mode=trilinear is changed to align_corners=False since 0.4.0. Please specify align_corners=True if the old behavior is desired. See the documentation of nn.Upsample for details.\n",
      "Default upsampling behavior when mode=trilinear is changed to align_corners=False since 0.4.0. Please specify align_corners=True if the old behavior is desired. See the documentation of nn.Upsample for details.\n",
      "Default upsampling behavior when mode=trilinear is changed to align_corners=False since 0.4.0. Please specify align_corners=True if the old behavior is desired. See the documentation of nn.Upsample for details.\n",
      "Default upsampling behavior when mode=trilinear is changed to align_corners=False since 0.4.0. Please specify align_corners=True if the old behavior is desired. See the documentation of nn.Upsample for details.\n"
     ]
    },
    {
     "name": "stdout",
     "output_type": "stream",
     "text": [
      "1/3, train_loss: 0.3896\n",
      "2/3, train_loss: 0.4024\n",
      "3/3, train_loss: 0.4429\n",
      "4/3, train_loss: 0.3949\n",
      "5/3, train_loss: 0.4054\n",
      "6/3, train_loss: 0.4381\n",
      "7/3, train_loss: 0.3863\n",
      "8/3, train_loss: 0.4133\n",
      "9/3, train_loss: 0.4112\n",
      "10/3, train_loss: 0.3852\n",
      "11/3, train_loss: 0.4046\n",
      "12/3, train_loss: 0.3940\n",
      "13/3, train_loss: 0.4552\n",
      "14/3, train_loss: 0.3892\n",
      "0 epoch 99 average loss: 0.4080\n",
      "----------\n",
      "0: epoch 100/500\n"
     ]
    },
    {
     "name": "stderr",
     "output_type": "stream",
     "text": [
      "Default upsampling behavior when mode=trilinear is changed to align_corners=False since 0.4.0. Please specify align_corners=True if the old behavior is desired. See the documentation of nn.Upsample for details.\n",
      "Default upsampling behavior when mode=trilinear is changed to align_corners=False since 0.4.0. Please specify align_corners=True if the old behavior is desired. See the documentation of nn.Upsample for details.\n",
      "Default upsampling behavior when mode=trilinear is changed to align_corners=False since 0.4.0. Please specify align_corners=True if the old behavior is desired. See the documentation of nn.Upsample for details.\n",
      "Default upsampling behavior when mode=trilinear is changed to align_corners=False since 0.4.0. Please specify align_corners=True if the old behavior is desired. See the documentation of nn.Upsample for details.\n"
     ]
    },
    {
     "name": "stdout",
     "output_type": "stream",
     "text": [
      "1/3, train_loss: 0.3936\n",
      "2/3, train_loss: 0.4350\n",
      "3/3, train_loss: 0.4273\n",
      "4/3, train_loss: 0.4181\n",
      "5/3, train_loss: 0.4161\n",
      "6/3, train_loss: 0.3848\n",
      "7/3, train_loss: 0.3914\n",
      "8/3, train_loss: 0.3992\n",
      "9/3, train_loss: 0.4073\n",
      "10/3, train_loss: 0.4167\n",
      "11/3, train_loss: 0.3940\n",
      "12/3, train_loss: 0.3745\n",
      "13/3, train_loss: 0.4643\n",
      "14/3, train_loss: 0.4872\n",
      "0 epoch 100 average loss: 0.4150\n",
      "current epoch: 100 current mean dice: 0.4106\n",
      "best mean dice: 0.5409 at epoch: 88\n",
      "----------\n",
      "0: epoch 101/500\n"
     ]
    },
    {
     "name": "stderr",
     "output_type": "stream",
     "text": [
      "Default upsampling behavior when mode=trilinear is changed to align_corners=False since 0.4.0. Please specify align_corners=True if the old behavior is desired. See the documentation of nn.Upsample for details.\n",
      "Default upsampling behavior when mode=trilinear is changed to align_corners=False since 0.4.0. Please specify align_corners=True if the old behavior is desired. See the documentation of nn.Upsample for details.\n",
      "Default upsampling behavior when mode=trilinear is changed to align_corners=False since 0.4.0. Please specify align_corners=True if the old behavior is desired. See the documentation of nn.Upsample for details.\n",
      "Default upsampling behavior when mode=trilinear is changed to align_corners=False since 0.4.0. Please specify align_corners=True if the old behavior is desired. See the documentation of nn.Upsample for details.\n"
     ]
    },
    {
     "name": "stdout",
     "output_type": "stream",
     "text": [
      "1/3, train_loss: 0.3889\n",
      "2/3, train_loss: 0.4416\n",
      "3/3, train_loss: 0.3852\n",
      "4/3, train_loss: 0.3844\n",
      "5/3, train_loss: 0.3947\n",
      "6/3, train_loss: 0.4004\n",
      "7/3, train_loss: 0.3807\n",
      "8/3, train_loss: 0.3961\n",
      "9/3, train_loss: 0.4049\n",
      "10/3, train_loss: 0.4123\n",
      "11/3, train_loss: 0.4198\n",
      "12/3, train_loss: 0.3975\n",
      "13/3, train_loss: 0.4287\n",
      "14/3, train_loss: 0.4139\n",
      "0 epoch 101 average loss: 0.4035\n",
      "----------\n",
      "0: epoch 102/500\n"
     ]
    },
    {
     "name": "stderr",
     "output_type": "stream",
     "text": [
      "Default upsampling behavior when mode=trilinear is changed to align_corners=False since 0.4.0. Please specify align_corners=True if the old behavior is desired. See the documentation of nn.Upsample for details.\n",
      "Default upsampling behavior when mode=trilinear is changed to align_corners=False since 0.4.0. Please specify align_corners=True if the old behavior is desired. See the documentation of nn.Upsample for details.\n",
      "Default upsampling behavior when mode=trilinear is changed to align_corners=False since 0.4.0. Please specify align_corners=True if the old behavior is desired. See the documentation of nn.Upsample for details.\n",
      "Default upsampling behavior when mode=trilinear is changed to align_corners=False since 0.4.0. Please specify align_corners=True if the old behavior is desired. See the documentation of nn.Upsample for details.\n"
     ]
    },
    {
     "name": "stdout",
     "output_type": "stream",
     "text": [
      "1/3, train_loss: 0.4229\n",
      "2/3, train_loss: 0.3991\n",
      "3/3, train_loss: 0.3978\n",
      "4/3, train_loss: 0.4297\n",
      "5/3, train_loss: 0.3894\n",
      "6/3, train_loss: 0.3943\n",
      "7/3, train_loss: 0.4433\n",
      "8/3, train_loss: 0.4080\n",
      "9/3, train_loss: 0.3902\n",
      "10/3, train_loss: 0.3860\n",
      "11/3, train_loss: 0.4046\n",
      "12/3, train_loss: 0.3915\n",
      "13/3, train_loss: 0.4816\n",
      "14/3, train_loss: 0.6035\n",
      "0 epoch 102 average loss: 0.4244\n",
      "current epoch: 102 current mean dice: 0.2913\n",
      "best mean dice: 0.5409 at epoch: 88\n",
      "----------\n",
      "0: epoch 103/500\n"
     ]
    },
    {
     "name": "stderr",
     "output_type": "stream",
     "text": [
      "Default upsampling behavior when mode=trilinear is changed to align_corners=False since 0.4.0. Please specify align_corners=True if the old behavior is desired. See the documentation of nn.Upsample for details.\n",
      "Default upsampling behavior when mode=trilinear is changed to align_corners=False since 0.4.0. Please specify align_corners=True if the old behavior is desired. See the documentation of nn.Upsample for details.\n",
      "Default upsampling behavior when mode=trilinear is changed to align_corners=False since 0.4.0. Please specify align_corners=True if the old behavior is desired. See the documentation of nn.Upsample for details.\n",
      "Default upsampling behavior when mode=trilinear is changed to align_corners=False since 0.4.0. Please specify align_corners=True if the old behavior is desired. See the documentation of nn.Upsample for details.\n"
     ]
    },
    {
     "name": "stdout",
     "output_type": "stream",
     "text": [
      "1/3, train_loss: 0.3926\n",
      "2/3, train_loss: 0.4101\n",
      "3/3, train_loss: 0.4394\n",
      "4/3, train_loss: 0.3980\n",
      "5/3, train_loss: 0.4068\n",
      "6/3, train_loss: 0.4067\n",
      "7/3, train_loss: 0.4016\n",
      "8/3, train_loss: 0.4007\n",
      "9/3, train_loss: 0.4265\n",
      "10/3, train_loss: 0.4229\n",
      "11/3, train_loss: 0.3998\n",
      "12/3, train_loss: 0.3970\n",
      "13/3, train_loss: 0.4069\n",
      "14/3, train_loss: 0.4335\n",
      "0 epoch 103 average loss: 0.4102\n",
      "----------\n",
      "0: epoch 104/500\n"
     ]
    },
    {
     "name": "stderr",
     "output_type": "stream",
     "text": [
      "Default upsampling behavior when mode=trilinear is changed to align_corners=False since 0.4.0. Please specify align_corners=True if the old behavior is desired. See the documentation of nn.Upsample for details.\n",
      "Default upsampling behavior when mode=trilinear is changed to align_corners=False since 0.4.0. Please specify align_corners=True if the old behavior is desired. See the documentation of nn.Upsample for details.\n",
      "Default upsampling behavior when mode=trilinear is changed to align_corners=False since 0.4.0. Please specify align_corners=True if the old behavior is desired. See the documentation of nn.Upsample for details.\n",
      "Default upsampling behavior when mode=trilinear is changed to align_corners=False since 0.4.0. Please specify align_corners=True if the old behavior is desired. See the documentation of nn.Upsample for details.\n"
     ]
    },
    {
     "name": "stdout",
     "output_type": "stream",
     "text": [
      "1/3, train_loss: 0.4059\n",
      "2/3, train_loss: 0.3843\n",
      "3/3, train_loss: 0.4002\n",
      "4/3, train_loss: 0.3926\n",
      "5/3, train_loss: 0.3813\n",
      "6/3, train_loss: 0.3969\n",
      "7/3, train_loss: 0.3941\n",
      "8/3, train_loss: 0.3965\n",
      "9/3, train_loss: 0.3840\n",
      "10/3, train_loss: 0.4217\n",
      "11/3, train_loss: 0.4110\n",
      "12/3, train_loss: 0.4288\n",
      "13/3, train_loss: 0.4274\n",
      "14/3, train_loss: 0.4363\n",
      "0 epoch 104 average loss: 0.4044\n",
      "current epoch: 104 current mean dice: 0.3986\n",
      "best mean dice: 0.5409 at epoch: 88\n",
      "----------\n",
      "0: epoch 105/500\n"
     ]
    },
    {
     "name": "stderr",
     "output_type": "stream",
     "text": [
      "Default upsampling behavior when mode=trilinear is changed to align_corners=False since 0.4.0. Please specify align_corners=True if the old behavior is desired. See the documentation of nn.Upsample for details.\n",
      "Default upsampling behavior when mode=trilinear is changed to align_corners=False since 0.4.0. Please specify align_corners=True if the old behavior is desired. See the documentation of nn.Upsample for details.\n",
      "Default upsampling behavior when mode=trilinear is changed to align_corners=False since 0.4.0. Please specify align_corners=True if the old behavior is desired. See the documentation of nn.Upsample for details.\n",
      "Default upsampling behavior when mode=trilinear is changed to align_corners=False since 0.4.0. Please specify align_corners=True if the old behavior is desired. See the documentation of nn.Upsample for details.\n"
     ]
    },
    {
     "name": "stdout",
     "output_type": "stream",
     "text": [
      "1/3, train_loss: 0.4027\n",
      "2/3, train_loss: 0.3876\n",
      "3/3, train_loss: 0.3965\n",
      "4/3, train_loss: 0.4238\n",
      "5/3, train_loss: 0.4269\n",
      "6/3, train_loss: 0.3779\n",
      "7/3, train_loss: 0.4034\n",
      "8/3, train_loss: 0.4003\n",
      "9/3, train_loss: 0.3875\n",
      "10/3, train_loss: 0.4185\n",
      "11/3, train_loss: 0.4151\n",
      "12/3, train_loss: 0.4086\n",
      "13/3, train_loss: 0.4049\n",
      "14/3, train_loss: 0.5045\n",
      "0 epoch 105 average loss: 0.4113\n",
      "----------\n",
      "0: epoch 106/500\n"
     ]
    },
    {
     "name": "stderr",
     "output_type": "stream",
     "text": [
      "Default upsampling behavior when mode=trilinear is changed to align_corners=False since 0.4.0. Please specify align_corners=True if the old behavior is desired. See the documentation of nn.Upsample for details.\n",
      "Default upsampling behavior when mode=trilinear is changed to align_corners=False since 0.4.0. Please specify align_corners=True if the old behavior is desired. See the documentation of nn.Upsample for details.\n",
      "Default upsampling behavior when mode=trilinear is changed to align_corners=False since 0.4.0. Please specify align_corners=True if the old behavior is desired. See the documentation of nn.Upsample for details.\n",
      "Default upsampling behavior when mode=trilinear is changed to align_corners=False since 0.4.0. Please specify align_corners=True if the old behavior is desired. See the documentation of nn.Upsample for details.\n"
     ]
    },
    {
     "name": "stdout",
     "output_type": "stream",
     "text": [
      "1/3, train_loss: 0.4292\n",
      "2/3, train_loss: 0.4406\n",
      "3/3, train_loss: 0.5236\n",
      "4/3, train_loss: 0.4097\n",
      "5/3, train_loss: 0.4353\n",
      "6/3, train_loss: 0.4474\n",
      "7/3, train_loss: 0.4477\n",
      "8/3, train_loss: 0.4476\n",
      "9/3, train_loss: 0.4215\n",
      "10/3, train_loss: 0.4317\n",
      "11/3, train_loss: 0.4533\n",
      "12/3, train_loss: 0.4215\n",
      "13/3, train_loss: 0.4749\n",
      "14/3, train_loss: 0.5090\n",
      "0 epoch 106 average loss: 0.4495\n",
      "current epoch: 106 current mean dice: 0.3712\n",
      "best mean dice: 0.5409 at epoch: 88\n",
      "----------\n",
      "0: epoch 107/500\n"
     ]
    },
    {
     "name": "stderr",
     "output_type": "stream",
     "text": [
      "Default upsampling behavior when mode=trilinear is changed to align_corners=False since 0.4.0. Please specify align_corners=True if the old behavior is desired. See the documentation of nn.Upsample for details.\n",
      "Default upsampling behavior when mode=trilinear is changed to align_corners=False since 0.4.0. Please specify align_corners=True if the old behavior is desired. See the documentation of nn.Upsample for details.\n",
      "Default upsampling behavior when mode=trilinear is changed to align_corners=False since 0.4.0. Please specify align_corners=True if the old behavior is desired. See the documentation of nn.Upsample for details.\n",
      "Default upsampling behavior when mode=trilinear is changed to align_corners=False since 0.4.0. Please specify align_corners=True if the old behavior is desired. See the documentation of nn.Upsample for details.\n"
     ]
    },
    {
     "name": "stdout",
     "output_type": "stream",
     "text": [
      "1/3, train_loss: 0.4316\n",
      "2/3, train_loss: 0.4507\n",
      "3/3, train_loss: 0.4543\n",
      "4/3, train_loss: 0.4576\n",
      "5/3, train_loss: 0.4187\n",
      "6/3, train_loss: 0.4010\n",
      "7/3, train_loss: 0.3926\n",
      "8/3, train_loss: 0.4427\n",
      "9/3, train_loss: 0.4158\n",
      "10/3, train_loss: 0.3890\n",
      "11/3, train_loss: 0.3959\n",
      "12/3, train_loss: 0.4282\n",
      "13/3, train_loss: 0.3947\n",
      "14/3, train_loss: 0.4761\n",
      "0 epoch 107 average loss: 0.4249\n",
      "----------\n",
      "0: epoch 108/500\n"
     ]
    },
    {
     "name": "stderr",
     "output_type": "stream",
     "text": [
      "Default upsampling behavior when mode=trilinear is changed to align_corners=False since 0.4.0. Please specify align_corners=True if the old behavior is desired. See the documentation of nn.Upsample for details.\n",
      "Default upsampling behavior when mode=trilinear is changed to align_corners=False since 0.4.0. Please specify align_corners=True if the old behavior is desired. See the documentation of nn.Upsample for details.\n",
      "Default upsampling behavior when mode=trilinear is changed to align_corners=False since 0.4.0. Please specify align_corners=True if the old behavior is desired. See the documentation of nn.Upsample for details.\n",
      "Default upsampling behavior when mode=trilinear is changed to align_corners=False since 0.4.0. Please specify align_corners=True if the old behavior is desired. See the documentation of nn.Upsample for details.\n"
     ]
    },
    {
     "name": "stdout",
     "output_type": "stream",
     "text": [
      "1/3, train_loss: 0.3975\n",
      "2/3, train_loss: 0.3890\n",
      "3/3, train_loss: 0.4121\n",
      "4/3, train_loss: 0.4065\n",
      "5/3, train_loss: 0.3872\n",
      "6/3, train_loss: 0.4111\n",
      "7/3, train_loss: 0.4408\n",
      "8/3, train_loss: 0.4000\n",
      "9/3, train_loss: 0.4315\n",
      "10/3, train_loss: 0.4293\n",
      "11/3, train_loss: 0.4090\n",
      "12/3, train_loss: 0.4022\n",
      "13/3, train_loss: 0.3981\n",
      "14/3, train_loss: 0.3915\n",
      "0 epoch 108 average loss: 0.4076\n",
      "current epoch: 108 current mean dice: 0.4488\n",
      "best mean dice: 0.5409 at epoch: 88\n",
      "----------\n",
      "0: epoch 109/500\n"
     ]
    },
    {
     "name": "stderr",
     "output_type": "stream",
     "text": [
      "Default upsampling behavior when mode=trilinear is changed to align_corners=False since 0.4.0. Please specify align_corners=True if the old behavior is desired. See the documentation of nn.Upsample for details.\n",
      "Default upsampling behavior when mode=trilinear is changed to align_corners=False since 0.4.0. Please specify align_corners=True if the old behavior is desired. See the documentation of nn.Upsample for details.\n",
      "Default upsampling behavior when mode=trilinear is changed to align_corners=False since 0.4.0. Please specify align_corners=True if the old behavior is desired. See the documentation of nn.Upsample for details.\n",
      "Default upsampling behavior when mode=trilinear is changed to align_corners=False since 0.4.0. Please specify align_corners=True if the old behavior is desired. See the documentation of nn.Upsample for details.\n"
     ]
    },
    {
     "name": "stdout",
     "output_type": "stream",
     "text": [
      "1/3, train_loss: 0.4052\n",
      "2/3, train_loss: 0.3725\n",
      "3/3, train_loss: 0.3790\n",
      "4/3, train_loss: 0.4187\n",
      "5/3, train_loss: 0.4131\n",
      "6/3, train_loss: 0.3930\n",
      "7/3, train_loss: 0.4553\n",
      "8/3, train_loss: 0.3903\n",
      "9/3, train_loss: 0.3957\n",
      "10/3, train_loss: 0.3915\n",
      "11/3, train_loss: 0.4113\n",
      "12/3, train_loss: 0.3940\n",
      "13/3, train_loss: 0.3932\n",
      "14/3, train_loss: 0.4147\n",
      "0 epoch 109 average loss: 0.4020\n",
      "----------\n",
      "0: epoch 110/500\n"
     ]
    },
    {
     "name": "stderr",
     "output_type": "stream",
     "text": [
      "Default upsampling behavior when mode=trilinear is changed to align_corners=False since 0.4.0. Please specify align_corners=True if the old behavior is desired. See the documentation of nn.Upsample for details.\n",
      "Default upsampling behavior when mode=trilinear is changed to align_corners=False since 0.4.0. Please specify align_corners=True if the old behavior is desired. See the documentation of nn.Upsample for details.\n",
      "Default upsampling behavior when mode=trilinear is changed to align_corners=False since 0.4.0. Please specify align_corners=True if the old behavior is desired. See the documentation of nn.Upsample for details.\n",
      "Default upsampling behavior when mode=trilinear is changed to align_corners=False since 0.4.0. Please specify align_corners=True if the old behavior is desired. See the documentation of nn.Upsample for details.\n"
     ]
    },
    {
     "name": "stdout",
     "output_type": "stream",
     "text": [
      "1/3, train_loss: 0.4089\n",
      "2/3, train_loss: 0.3836\n",
      "3/3, train_loss: 0.4133\n",
      "4/3, train_loss: 0.3892\n",
      "5/3, train_loss: 0.3810\n",
      "6/3, train_loss: 0.4327\n",
      "7/3, train_loss: 0.3984\n",
      "8/3, train_loss: 0.3810\n",
      "9/3, train_loss: 0.3917\n",
      "10/3, train_loss: 0.4138\n",
      "11/3, train_loss: 0.4064\n",
      "12/3, train_loss: 0.4098\n",
      "13/3, train_loss: 0.3988\n",
      "14/3, train_loss: 0.3929\n",
      "0 epoch 110 average loss: 0.4001\n",
      "current epoch: 110 current mean dice: 0.3514\n",
      "best mean dice: 0.5409 at epoch: 88\n",
      "----------\n",
      "0: epoch 111/500\n"
     ]
    },
    {
     "name": "stderr",
     "output_type": "stream",
     "text": [
      "Default upsampling behavior when mode=trilinear is changed to align_corners=False since 0.4.0. Please specify align_corners=True if the old behavior is desired. See the documentation of nn.Upsample for details.\n",
      "Default upsampling behavior when mode=trilinear is changed to align_corners=False since 0.4.0. Please specify align_corners=True if the old behavior is desired. See the documentation of nn.Upsample for details.\n",
      "Default upsampling behavior when mode=trilinear is changed to align_corners=False since 0.4.0. Please specify align_corners=True if the old behavior is desired. See the documentation of nn.Upsample for details.\n",
      "Default upsampling behavior when mode=trilinear is changed to align_corners=False since 0.4.0. Please specify align_corners=True if the old behavior is desired. See the documentation of nn.Upsample for details.\n"
     ]
    },
    {
     "name": "stdout",
     "output_type": "stream",
     "text": [
      "1/3, train_loss: 0.3822\n",
      "2/3, train_loss: 0.4076\n",
      "3/3, train_loss: 0.3871\n",
      "4/3, train_loss: 0.4368\n",
      "5/3, train_loss: 0.3962\n",
      "6/3, train_loss: 0.4056\n",
      "7/3, train_loss: 0.4047\n",
      "8/3, train_loss: 0.3886\n",
      "9/3, train_loss: 0.3861\n",
      "10/3, train_loss: 0.4050\n",
      "11/3, train_loss: 0.3994\n",
      "12/3, train_loss: 0.3838\n",
      "13/3, train_loss: 0.4098\n",
      "14/3, train_loss: 0.3870\n",
      "0 epoch 111 average loss: 0.3986\n",
      "----------\n",
      "0: epoch 112/500\n"
     ]
    },
    {
     "name": "stderr",
     "output_type": "stream",
     "text": [
      "Default upsampling behavior when mode=trilinear is changed to align_corners=False since 0.4.0. Please specify align_corners=True if the old behavior is desired. See the documentation of nn.Upsample for details.\n",
      "Default upsampling behavior when mode=trilinear is changed to align_corners=False since 0.4.0. Please specify align_corners=True if the old behavior is desired. See the documentation of nn.Upsample for details.\n",
      "Default upsampling behavior when mode=trilinear is changed to align_corners=False since 0.4.0. Please specify align_corners=True if the old behavior is desired. See the documentation of nn.Upsample for details.\n",
      "Default upsampling behavior when mode=trilinear is changed to align_corners=False since 0.4.0. Please specify align_corners=True if the old behavior is desired. See the documentation of nn.Upsample for details.\n"
     ]
    },
    {
     "name": "stdout",
     "output_type": "stream",
     "text": [
      "1/3, train_loss: 0.3794\n",
      "2/3, train_loss: 0.3953\n",
      "3/3, train_loss: 0.4135\n",
      "4/3, train_loss: 0.4303\n",
      "5/3, train_loss: 0.4496\n",
      "6/3, train_loss: 0.3896\n",
      "7/3, train_loss: 0.4097\n",
      "8/3, train_loss: 0.3788\n",
      "9/3, train_loss: 0.3870\n",
      "10/3, train_loss: 0.4109\n",
      "11/3, train_loss: 0.4154\n",
      "12/3, train_loss: 0.3947\n",
      "13/3, train_loss: 0.4014\n",
      "14/3, train_loss: 0.4283\n",
      "0 epoch 112 average loss: 0.4060\n",
      "current epoch: 112 current mean dice: 0.2938\n",
      "best mean dice: 0.5409 at epoch: 88\n",
      "----------\n",
      "0: epoch 113/500\n"
     ]
    },
    {
     "name": "stderr",
     "output_type": "stream",
     "text": [
      "Default upsampling behavior when mode=trilinear is changed to align_corners=False since 0.4.0. Please specify align_corners=True if the old behavior is desired. See the documentation of nn.Upsample for details.\n",
      "Default upsampling behavior when mode=trilinear is changed to align_corners=False since 0.4.0. Please specify align_corners=True if the old behavior is desired. See the documentation of nn.Upsample for details.\n",
      "Default upsampling behavior when mode=trilinear is changed to align_corners=False since 0.4.0. Please specify align_corners=True if the old behavior is desired. See the documentation of nn.Upsample for details.\n",
      "Default upsampling behavior when mode=trilinear is changed to align_corners=False since 0.4.0. Please specify align_corners=True if the old behavior is desired. See the documentation of nn.Upsample for details.\n"
     ]
    },
    {
     "name": "stdout",
     "output_type": "stream",
     "text": [
      "1/3, train_loss: 0.3857\n",
      "2/3, train_loss: 0.4078\n",
      "3/3, train_loss: 0.4320\n",
      "4/3, train_loss: 0.3996\n",
      "5/3, train_loss: 0.4230\n",
      "6/3, train_loss: 0.3837\n",
      "7/3, train_loss: 0.4100\n",
      "8/3, train_loss: 0.3826\n",
      "9/3, train_loss: 0.4526\n",
      "10/3, train_loss: 0.3981\n",
      "11/3, train_loss: 0.3845\n",
      "12/3, train_loss: 0.3899\n",
      "13/3, train_loss: 0.3956\n",
      "14/3, train_loss: 0.4056\n",
      "0 epoch 113 average loss: 0.4036\n",
      "----------\n",
      "0: epoch 114/500\n"
     ]
    },
    {
     "name": "stderr",
     "output_type": "stream",
     "text": [
      "Default upsampling behavior when mode=trilinear is changed to align_corners=False since 0.4.0. Please specify align_corners=True if the old behavior is desired. See the documentation of nn.Upsample for details.\n",
      "Default upsampling behavior when mode=trilinear is changed to align_corners=False since 0.4.0. Please specify align_corners=True if the old behavior is desired. See the documentation of nn.Upsample for details.\n",
      "Default upsampling behavior when mode=trilinear is changed to align_corners=False since 0.4.0. Please specify align_corners=True if the old behavior is desired. See the documentation of nn.Upsample for details.\n",
      "Default upsampling behavior when mode=trilinear is changed to align_corners=False since 0.4.0. Please specify align_corners=True if the old behavior is desired. See the documentation of nn.Upsample for details.\n"
     ]
    },
    {
     "name": "stdout",
     "output_type": "stream",
     "text": [
      "1/3, train_loss: 0.4075\n",
      "2/3, train_loss: 0.4285\n",
      "3/3, train_loss: 0.3809\n",
      "4/3, train_loss: 0.3747\n",
      "5/3, train_loss: 0.4036\n",
      "6/3, train_loss: 0.4362\n",
      "7/3, train_loss: 0.3869\n",
      "8/3, train_loss: 0.4055\n",
      "9/3, train_loss: 0.3984\n",
      "10/3, train_loss: 0.3975\n",
      "11/3, train_loss: 0.3886\n",
      "12/3, train_loss: 0.3830\n",
      "13/3, train_loss: 0.3918\n",
      "14/3, train_loss: 0.3961\n",
      "0 epoch 114 average loss: 0.3985\n",
      "current epoch: 114 current mean dice: 0.4188\n",
      "best mean dice: 0.5409 at epoch: 88\n",
      "----------\n",
      "0: epoch 115/500\n"
     ]
    },
    {
     "name": "stderr",
     "output_type": "stream",
     "text": [
      "Default upsampling behavior when mode=trilinear is changed to align_corners=False since 0.4.0. Please specify align_corners=True if the old behavior is desired. See the documentation of nn.Upsample for details.\n",
      "Default upsampling behavior when mode=trilinear is changed to align_corners=False since 0.4.0. Please specify align_corners=True if the old behavior is desired. See the documentation of nn.Upsample for details.\n",
      "Default upsampling behavior when mode=trilinear is changed to align_corners=False since 0.4.0. Please specify align_corners=True if the old behavior is desired. See the documentation of nn.Upsample for details.\n",
      "Default upsampling behavior when mode=trilinear is changed to align_corners=False since 0.4.0. Please specify align_corners=True if the old behavior is desired. See the documentation of nn.Upsample for details.\n"
     ]
    },
    {
     "name": "stdout",
     "output_type": "stream",
     "text": [
      "1/3, train_loss: 0.3933\n",
      "2/3, train_loss: 0.3923\n",
      "3/3, train_loss: 0.4064\n",
      "4/3, train_loss: 0.3936\n",
      "5/3, train_loss: 0.3952\n",
      "6/3, train_loss: 0.4111\n",
      "7/3, train_loss: 0.4326\n",
      "8/3, train_loss: 0.4170\n",
      "9/3, train_loss: 0.3886\n",
      "10/3, train_loss: 0.3823\n",
      "11/3, train_loss: 0.3954\n",
      "12/3, train_loss: 0.3987\n",
      "13/3, train_loss: 0.4672\n",
      "14/3, train_loss: 0.3995\n",
      "0 epoch 115 average loss: 0.4052\n",
      "----------\n",
      "0: epoch 116/500\n"
     ]
    },
    {
     "name": "stderr",
     "output_type": "stream",
     "text": [
      "Default upsampling behavior when mode=trilinear is changed to align_corners=False since 0.4.0. Please specify align_corners=True if the old behavior is desired. See the documentation of nn.Upsample for details.\n",
      "Default upsampling behavior when mode=trilinear is changed to align_corners=False since 0.4.0. Please specify align_corners=True if the old behavior is desired. See the documentation of nn.Upsample for details.\n",
      "Default upsampling behavior when mode=trilinear is changed to align_corners=False since 0.4.0. Please specify align_corners=True if the old behavior is desired. See the documentation of nn.Upsample for details.\n",
      "Default upsampling behavior when mode=trilinear is changed to align_corners=False since 0.4.0. Please specify align_corners=True if the old behavior is desired. See the documentation of nn.Upsample for details.\n"
     ]
    },
    {
     "name": "stdout",
     "output_type": "stream",
     "text": [
      "1/3, train_loss: 0.3818\n",
      "2/3, train_loss: 0.4233\n",
      "3/3, train_loss: 0.3938\n",
      "4/3, train_loss: 0.3839\n",
      "5/3, train_loss: 0.4228\n",
      "6/3, train_loss: 0.4254\n",
      "7/3, train_loss: 0.4274\n",
      "8/3, train_loss: 0.4636\n",
      "9/3, train_loss: 0.4027\n",
      "10/3, train_loss: 0.4154\n",
      "11/3, train_loss: 0.3776\n",
      "12/3, train_loss: 0.4088\n",
      "13/3, train_loss: 0.4051\n",
      "14/3, train_loss: 0.4483\n",
      "0 epoch 116 average loss: 0.4128\n",
      "current epoch: 116 current mean dice: 0.4655\n",
      "best mean dice: 0.5409 at epoch: 88\n",
      "----------\n",
      "0: epoch 117/500\n"
     ]
    },
    {
     "name": "stderr",
     "output_type": "stream",
     "text": [
      "Default upsampling behavior when mode=trilinear is changed to align_corners=False since 0.4.0. Please specify align_corners=True if the old behavior is desired. See the documentation of nn.Upsample for details.\n",
      "Default upsampling behavior when mode=trilinear is changed to align_corners=False since 0.4.0. Please specify align_corners=True if the old behavior is desired. See the documentation of nn.Upsample for details.\n",
      "Default upsampling behavior when mode=trilinear is changed to align_corners=False since 0.4.0. Please specify align_corners=True if the old behavior is desired. See the documentation of nn.Upsample for details.\n",
      "Default upsampling behavior when mode=trilinear is changed to align_corners=False since 0.4.0. Please specify align_corners=True if the old behavior is desired. See the documentation of nn.Upsample for details.\n"
     ]
    },
    {
     "name": "stdout",
     "output_type": "stream",
     "text": [
      "1/3, train_loss: 0.3761\n",
      "2/3, train_loss: 0.3953\n",
      "3/3, train_loss: 0.4099\n",
      "4/3, train_loss: 0.3964\n",
      "5/3, train_loss: 0.3852\n",
      "6/3, train_loss: 0.4047\n",
      "7/3, train_loss: 0.4184\n",
      "8/3, train_loss: 0.3896\n",
      "9/3, train_loss: 0.4066\n",
      "10/3, train_loss: 0.4035\n",
      "11/3, train_loss: 0.3886\n",
      "12/3, train_loss: 0.3865\n",
      "13/3, train_loss: 0.4336\n",
      "14/3, train_loss: 0.4735\n",
      "0 epoch 117 average loss: 0.4048\n",
      "----------\n",
      "0: epoch 118/500\n"
     ]
    },
    {
     "name": "stderr",
     "output_type": "stream",
     "text": [
      "Default upsampling behavior when mode=trilinear is changed to align_corners=False since 0.4.0. Please specify align_corners=True if the old behavior is desired. See the documentation of nn.Upsample for details.\n",
      "Default upsampling behavior when mode=trilinear is changed to align_corners=False since 0.4.0. Please specify align_corners=True if the old behavior is desired. See the documentation of nn.Upsample for details.\n",
      "Default upsampling behavior when mode=trilinear is changed to align_corners=False since 0.4.0. Please specify align_corners=True if the old behavior is desired. See the documentation of nn.Upsample for details.\n",
      "Default upsampling behavior when mode=trilinear is changed to align_corners=False since 0.4.0. Please specify align_corners=True if the old behavior is desired. See the documentation of nn.Upsample for details.\n"
     ]
    },
    {
     "name": "stdout",
     "output_type": "stream",
     "text": [
      "1/3, train_loss: 0.3862\n",
      "2/3, train_loss: 0.3967\n",
      "3/3, train_loss: 0.4040\n",
      "4/3, train_loss: 0.4119\n",
      "5/3, train_loss: 0.4043\n",
      "6/3, train_loss: 0.3774\n",
      "7/3, train_loss: 0.4023\n",
      "8/3, train_loss: 0.3906\n",
      "9/3, train_loss: 0.3929\n",
      "10/3, train_loss: 0.3953\n",
      "11/3, train_loss: 0.3884\n",
      "12/3, train_loss: 0.3920\n",
      "13/3, train_loss: 0.3700\n",
      "14/3, train_loss: 0.3794\n",
      "0 epoch 118 average loss: 0.3922\n",
      "current epoch: 118 current mean dice: 0.3509\n",
      "best mean dice: 0.5409 at epoch: 88\n",
      "----------\n",
      "0: epoch 119/500\n"
     ]
    },
    {
     "name": "stderr",
     "output_type": "stream",
     "text": [
      "Default upsampling behavior when mode=trilinear is changed to align_corners=False since 0.4.0. Please specify align_corners=True if the old behavior is desired. See the documentation of nn.Upsample for details.\n",
      "Default upsampling behavior when mode=trilinear is changed to align_corners=False since 0.4.0. Please specify align_corners=True if the old behavior is desired. See the documentation of nn.Upsample for details.\n",
      "Default upsampling behavior when mode=trilinear is changed to align_corners=False since 0.4.0. Please specify align_corners=True if the old behavior is desired. See the documentation of nn.Upsample for details.\n",
      "Default upsampling behavior when mode=trilinear is changed to align_corners=False since 0.4.0. Please specify align_corners=True if the old behavior is desired. See the documentation of nn.Upsample for details.\n"
     ]
    },
    {
     "name": "stdout",
     "output_type": "stream",
     "text": [
      "1/3, train_loss: 0.3872\n",
      "2/3, train_loss: 0.4246\n",
      "3/3, train_loss: 0.3798\n",
      "4/3, train_loss: 0.4216\n",
      "5/3, train_loss: 0.3981\n",
      "6/3, train_loss: 0.3887\n",
      "7/3, train_loss: 0.4005\n",
      "8/3, train_loss: 0.3993\n",
      "9/3, train_loss: 0.4146\n",
      "10/3, train_loss: 0.4036\n",
      "11/3, train_loss: 0.3868\n",
      "12/3, train_loss: 0.3817\n",
      "13/3, train_loss: 0.3789\n",
      "14/3, train_loss: 0.4261\n",
      "0 epoch 119 average loss: 0.3994\n",
      "----------\n",
      "0: epoch 120/500\n"
     ]
    },
    {
     "name": "stderr",
     "output_type": "stream",
     "text": [
      "Default upsampling behavior when mode=trilinear is changed to align_corners=False since 0.4.0. Please specify align_corners=True if the old behavior is desired. See the documentation of nn.Upsample for details.\n",
      "Default upsampling behavior when mode=trilinear is changed to align_corners=False since 0.4.0. Please specify align_corners=True if the old behavior is desired. See the documentation of nn.Upsample for details.\n",
      "Default upsampling behavior when mode=trilinear is changed to align_corners=False since 0.4.0. Please specify align_corners=True if the old behavior is desired. See the documentation of nn.Upsample for details.\n",
      "Default upsampling behavior when mode=trilinear is changed to align_corners=False since 0.4.0. Please specify align_corners=True if the old behavior is desired. See the documentation of nn.Upsample for details.\n"
     ]
    },
    {
     "name": "stdout",
     "output_type": "stream",
     "text": [
      "1/3, train_loss: 0.3994\n",
      "2/3, train_loss: 0.3763\n",
      "3/3, train_loss: 0.3726\n",
      "4/3, train_loss: 0.3751\n",
      "5/3, train_loss: 0.3785\n",
      "6/3, train_loss: 0.4184\n",
      "7/3, train_loss: 0.3944\n",
      "8/3, train_loss: 0.3993\n",
      "9/3, train_loss: 0.4067\n",
      "10/3, train_loss: 0.4521\n",
      "11/3, train_loss: 0.3924\n",
      "12/3, train_loss: 0.3861\n",
      "13/3, train_loss: 0.3908\n",
      "14/3, train_loss: 0.3827\n",
      "0 epoch 120 average loss: 0.3946\n",
      "current epoch: 120 current mean dice: 0.4164\n",
      "best mean dice: 0.5409 at epoch: 88\n",
      "----------\n",
      "0: epoch 121/500\n"
     ]
    },
    {
     "name": "stderr",
     "output_type": "stream",
     "text": [
      "Default upsampling behavior when mode=trilinear is changed to align_corners=False since 0.4.0. Please specify align_corners=True if the old behavior is desired. See the documentation of nn.Upsample for details.\n",
      "Default upsampling behavior when mode=trilinear is changed to align_corners=False since 0.4.0. Please specify align_corners=True if the old behavior is desired. See the documentation of nn.Upsample for details.\n",
      "Default upsampling behavior when mode=trilinear is changed to align_corners=False since 0.4.0. Please specify align_corners=True if the old behavior is desired. See the documentation of nn.Upsample for details.\n",
      "Default upsampling behavior when mode=trilinear is changed to align_corners=False since 0.4.0. Please specify align_corners=True if the old behavior is desired. See the documentation of nn.Upsample for details.\n"
     ]
    },
    {
     "name": "stdout",
     "output_type": "stream",
     "text": [
      "1/3, train_loss: 0.3588\n",
      "2/3, train_loss: 0.3878\n",
      "3/3, train_loss: 0.3896\n",
      "4/3, train_loss: 0.4025\n",
      "5/3, train_loss: 0.4041\n",
      "6/3, train_loss: 0.3859\n",
      "7/3, train_loss: 0.3830\n",
      "8/3, train_loss: 0.3974\n",
      "9/3, train_loss: 0.3876\n",
      "10/3, train_loss: 0.4586\n",
      "11/3, train_loss: 0.3729\n",
      "12/3, train_loss: 0.4055\n",
      "13/3, train_loss: 0.3724\n",
      "14/3, train_loss: 0.3631\n",
      "0 epoch 121 average loss: 0.3907\n",
      "----------\n",
      "0: epoch 122/500\n"
     ]
    },
    {
     "name": "stderr",
     "output_type": "stream",
     "text": [
      "Default upsampling behavior when mode=trilinear is changed to align_corners=False since 0.4.0. Please specify align_corners=True if the old behavior is desired. See the documentation of nn.Upsample for details.\n",
      "Default upsampling behavior when mode=trilinear is changed to align_corners=False since 0.4.0. Please specify align_corners=True if the old behavior is desired. See the documentation of nn.Upsample for details.\n",
      "Default upsampling behavior when mode=trilinear is changed to align_corners=False since 0.4.0. Please specify align_corners=True if the old behavior is desired. See the documentation of nn.Upsample for details.\n",
      "Default upsampling behavior when mode=trilinear is changed to align_corners=False since 0.4.0. Please specify align_corners=True if the old behavior is desired. See the documentation of nn.Upsample for details.\n"
     ]
    },
    {
     "name": "stdout",
     "output_type": "stream",
     "text": [
      "1/3, train_loss: 0.3889\n",
      "2/3, train_loss: 0.3901\n",
      "3/3, train_loss: 0.3797\n",
      "4/3, train_loss: 0.3711\n",
      "5/3, train_loss: 0.3962\n",
      "6/3, train_loss: 0.4077\n",
      "7/3, train_loss: 0.4080\n",
      "8/3, train_loss: 0.3953\n",
      "9/3, train_loss: 0.4058\n",
      "10/3, train_loss: 0.3778\n",
      "11/3, train_loss: 0.3894\n",
      "12/3, train_loss: 0.4032\n",
      "13/3, train_loss: 0.3686\n",
      "14/3, train_loss: 0.3739\n",
      "0 epoch 122 average loss: 0.3897\n",
      "current epoch: 122 current mean dice: 0.4342\n",
      "best mean dice: 0.5409 at epoch: 88\n",
      "----------\n",
      "0: epoch 123/500\n"
     ]
    },
    {
     "name": "stderr",
     "output_type": "stream",
     "text": [
      "Default upsampling behavior when mode=trilinear is changed to align_corners=False since 0.4.0. Please specify align_corners=True if the old behavior is desired. See the documentation of nn.Upsample for details.\n",
      "Default upsampling behavior when mode=trilinear is changed to align_corners=False since 0.4.0. Please specify align_corners=True if the old behavior is desired. See the documentation of nn.Upsample for details.\n",
      "Default upsampling behavior when mode=trilinear is changed to align_corners=False since 0.4.0. Please specify align_corners=True if the old behavior is desired. See the documentation of nn.Upsample for details.\n",
      "Default upsampling behavior when mode=trilinear is changed to align_corners=False since 0.4.0. Please specify align_corners=True if the old behavior is desired. See the documentation of nn.Upsample for details.\n"
     ]
    },
    {
     "name": "stdout",
     "output_type": "stream",
     "text": [
      "1/3, train_loss: 0.3630\n",
      "2/3, train_loss: 0.4028\n",
      "3/3, train_loss: 0.3786\n",
      "4/3, train_loss: 0.3806\n",
      "5/3, train_loss: 0.3770\n",
      "6/3, train_loss: 0.3830\n",
      "7/3, train_loss: 0.3857\n",
      "8/3, train_loss: 0.3796\n",
      "9/3, train_loss: 0.4128\n",
      "10/3, train_loss: 0.4053\n",
      "11/3, train_loss: 0.3707\n",
      "12/3, train_loss: 0.4170\n",
      "13/3, train_loss: 0.3657\n",
      "14/3, train_loss: 0.3480\n",
      "0 epoch 123 average loss: 0.3836\n",
      "----------\n",
      "0: epoch 124/500\n"
     ]
    },
    {
     "name": "stderr",
     "output_type": "stream",
     "text": [
      "Default upsampling behavior when mode=trilinear is changed to align_corners=False since 0.4.0. Please specify align_corners=True if the old behavior is desired. See the documentation of nn.Upsample for details.\n",
      "Default upsampling behavior when mode=trilinear is changed to align_corners=False since 0.4.0. Please specify align_corners=True if the old behavior is desired. See the documentation of nn.Upsample for details.\n",
      "Default upsampling behavior when mode=trilinear is changed to align_corners=False since 0.4.0. Please specify align_corners=True if the old behavior is desired. See the documentation of nn.Upsample for details.\n",
      "Default upsampling behavior when mode=trilinear is changed to align_corners=False since 0.4.0. Please specify align_corners=True if the old behavior is desired. See the documentation of nn.Upsample for details.\n"
     ]
    },
    {
     "name": "stdout",
     "output_type": "stream",
     "text": [
      "1/3, train_loss: 0.3820\n",
      "2/3, train_loss: 0.3874\n",
      "3/3, train_loss: 0.4157\n",
      "4/3, train_loss: 0.3818\n",
      "5/3, train_loss: 0.4065\n",
      "6/3, train_loss: 0.4117\n",
      "7/3, train_loss: 0.3934\n",
      "8/3, train_loss: 0.3754\n",
      "9/3, train_loss: 0.3854\n",
      "10/3, train_loss: 0.3649\n",
      "11/3, train_loss: 0.3739\n",
      "12/3, train_loss: 0.3669\n",
      "13/3, train_loss: 0.3814\n",
      "14/3, train_loss: 0.4043\n",
      "0 epoch 124 average loss: 0.3879\n",
      "current epoch: 124 current mean dice: 0.4391\n",
      "best mean dice: 0.5409 at epoch: 88\n",
      "----------\n",
      "0: epoch 125/500\n"
     ]
    },
    {
     "name": "stderr",
     "output_type": "stream",
     "text": [
      "Default upsampling behavior when mode=trilinear is changed to align_corners=False since 0.4.0. Please specify align_corners=True if the old behavior is desired. See the documentation of nn.Upsample for details.\n",
      "Default upsampling behavior when mode=trilinear is changed to align_corners=False since 0.4.0. Please specify align_corners=True if the old behavior is desired. See the documentation of nn.Upsample for details.\n",
      "Default upsampling behavior when mode=trilinear is changed to align_corners=False since 0.4.0. Please specify align_corners=True if the old behavior is desired. See the documentation of nn.Upsample for details.\n",
      "Default upsampling behavior when mode=trilinear is changed to align_corners=False since 0.4.0. Please specify align_corners=True if the old behavior is desired. See the documentation of nn.Upsample for details.\n"
     ]
    },
    {
     "name": "stdout",
     "output_type": "stream",
     "text": [
      "1/3, train_loss: 0.3829\n",
      "2/3, train_loss: 0.3906\n",
      "3/3, train_loss: 0.3891\n",
      "4/3, train_loss: 0.3868\n",
      "5/3, train_loss: 0.3695\n",
      "6/3, train_loss: 0.4284\n",
      "7/3, train_loss: 0.3720\n",
      "8/3, train_loss: 0.3924\n",
      "9/3, train_loss: 0.3969\n",
      "10/3, train_loss: 0.4081\n",
      "11/3, train_loss: 0.3656\n",
      "12/3, train_loss: 0.3979\n",
      "13/3, train_loss: 0.3944\n",
      "14/3, train_loss: 0.4069\n",
      "0 epoch 125 average loss: 0.3915\n",
      "----------\n",
      "0: epoch 126/500\n"
     ]
    },
    {
     "name": "stderr",
     "output_type": "stream",
     "text": [
      "Default upsampling behavior when mode=trilinear is changed to align_corners=False since 0.4.0. Please specify align_corners=True if the old behavior is desired. See the documentation of nn.Upsample for details.\n",
      "Default upsampling behavior when mode=trilinear is changed to align_corners=False since 0.4.0. Please specify align_corners=True if the old behavior is desired. See the documentation of nn.Upsample for details.\n",
      "Default upsampling behavior when mode=trilinear is changed to align_corners=False since 0.4.0. Please specify align_corners=True if the old behavior is desired. See the documentation of nn.Upsample for details.\n",
      "Default upsampling behavior when mode=trilinear is changed to align_corners=False since 0.4.0. Please specify align_corners=True if the old behavior is desired. See the documentation of nn.Upsample for details.\n"
     ]
    },
    {
     "name": "stdout",
     "output_type": "stream",
     "text": [
      "1/3, train_loss: 0.3835\n",
      "2/3, train_loss: 0.4000\n",
      "3/3, train_loss: 0.3921\n",
      "4/3, train_loss: 0.3813\n",
      "5/3, train_loss: 0.3943\n",
      "6/3, train_loss: 0.3950\n",
      "7/3, train_loss: 0.3956\n",
      "8/3, train_loss: 0.4035\n",
      "9/3, train_loss: 0.3888\n",
      "10/3, train_loss: 0.3723\n",
      "11/3, train_loss: 0.3944\n",
      "12/3, train_loss: 0.3888\n",
      "13/3, train_loss: 0.3784\n",
      "14/3, train_loss: 0.4108\n",
      "0 epoch 126 average loss: 0.3914\n",
      "current epoch: 126 current mean dice: 0.4645\n",
      "best mean dice: 0.5409 at epoch: 88\n",
      "----------\n",
      "0: epoch 127/500\n"
     ]
    },
    {
     "name": "stderr",
     "output_type": "stream",
     "text": [
      "Default upsampling behavior when mode=trilinear is changed to align_corners=False since 0.4.0. Please specify align_corners=True if the old behavior is desired. See the documentation of nn.Upsample for details.\n",
      "Default upsampling behavior when mode=trilinear is changed to align_corners=False since 0.4.0. Please specify align_corners=True if the old behavior is desired. See the documentation of nn.Upsample for details.\n",
      "Default upsampling behavior when mode=trilinear is changed to align_corners=False since 0.4.0. Please specify align_corners=True if the old behavior is desired. See the documentation of nn.Upsample for details.\n"
     ]
    },
    {
     "name": "stdout",
     "output_type": "stream",
     "text": [
      "1/3, train_loss: 0.3922\n",
      "2/3, train_loss: 0.3729\n",
      "3/3, train_loss: 0.4031\n",
      "4/3, train_loss: 0.3908\n",
      "5/3, train_loss: 0.3908\n",
      "6/3, train_loss: 0.4073\n",
      "7/3, train_loss: 0.3829\n",
      "8/3, train_loss: 0.4118\n",
      "9/3, train_loss: 0.3774\n",
      "10/3, train_loss: 0.4357\n",
      "11/3, train_loss: 0.3758\n",
      "12/3, train_loss: 0.3994\n",
      "13/3, train_loss: 0.3703\n",
      "14/3, train_loss: 0.4147\n",
      "0 epoch 127 average loss: 0.3947\n",
      "----------\n",
      "0: epoch 128/500\n"
     ]
    },
    {
     "name": "stderr",
     "output_type": "stream",
     "text": [
      "Default upsampling behavior when mode=trilinear is changed to align_corners=False since 0.4.0. Please specify align_corners=True if the old behavior is desired. See the documentation of nn.Upsample for details.\n",
      "Default upsampling behavior when mode=trilinear is changed to align_corners=False since 0.4.0. Please specify align_corners=True if the old behavior is desired. See the documentation of nn.Upsample for details.\n",
      "Default upsampling behavior when mode=trilinear is changed to align_corners=False since 0.4.0. Please specify align_corners=True if the old behavior is desired. See the documentation of nn.Upsample for details.\n",
      "Default upsampling behavior when mode=trilinear is changed to align_corners=False since 0.4.0. Please specify align_corners=True if the old behavior is desired. See the documentation of nn.Upsample for details.\n"
     ]
    },
    {
     "name": "stdout",
     "output_type": "stream",
     "text": [
      "1/3, train_loss: 0.3779\n",
      "2/3, train_loss: 0.3865\n",
      "3/3, train_loss: 0.3906\n",
      "4/3, train_loss: 0.3943\n",
      "5/3, train_loss: 0.3847\n",
      "6/3, train_loss: 0.3933\n",
      "7/3, train_loss: 0.4102\n",
      "8/3, train_loss: 0.3985\n",
      "9/3, train_loss: 0.3925\n",
      "10/3, train_loss: 0.4193\n",
      "11/3, train_loss: 0.3846\n",
      "12/3, train_loss: 0.3837\n",
      "13/3, train_loss: 0.3918\n",
      "14/3, train_loss: 0.3755\n",
      "0 epoch 128 average loss: 0.3917\n",
      "current epoch: 128 current mean dice: 0.3887\n",
      "best mean dice: 0.5409 at epoch: 88\n",
      "----------\n",
      "0: epoch 129/500\n"
     ]
    },
    {
     "name": "stderr",
     "output_type": "stream",
     "text": [
      "Default upsampling behavior when mode=trilinear is changed to align_corners=False since 0.4.0. Please specify align_corners=True if the old behavior is desired. See the documentation of nn.Upsample for details.\n",
      "Default upsampling behavior when mode=trilinear is changed to align_corners=False since 0.4.0. Please specify align_corners=True if the old behavior is desired. See the documentation of nn.Upsample for details.\n",
      "Default upsampling behavior when mode=trilinear is changed to align_corners=False since 0.4.0. Please specify align_corners=True if the old behavior is desired. See the documentation of nn.Upsample for details.\n",
      "Default upsampling behavior when mode=trilinear is changed to align_corners=False since 0.4.0. Please specify align_corners=True if the old behavior is desired. See the documentation of nn.Upsample for details.\n"
     ]
    },
    {
     "name": "stdout",
     "output_type": "stream",
     "text": [
      "1/3, train_loss: 0.3749\n",
      "2/3, train_loss: 0.3727\n",
      "3/3, train_loss: 0.3726\n",
      "4/3, train_loss: 0.3984\n",
      "5/3, train_loss: 0.3658\n",
      "6/3, train_loss: 0.4005\n",
      "7/3, train_loss: 0.3766\n",
      "8/3, train_loss: 0.3779\n",
      "9/3, train_loss: 0.3986\n",
      "10/3, train_loss: 0.4034\n",
      "11/3, train_loss: 0.4070\n",
      "12/3, train_loss: 0.3681\n",
      "13/3, train_loss: 0.4233\n",
      "14/3, train_loss: 0.3939\n",
      "0 epoch 129 average loss: 0.3881\n",
      "----------\n",
      "0: epoch 130/500\n"
     ]
    },
    {
     "name": "stderr",
     "output_type": "stream",
     "text": [
      "Default upsampling behavior when mode=trilinear is changed to align_corners=False since 0.4.0. Please specify align_corners=True if the old behavior is desired. See the documentation of nn.Upsample for details.\n",
      "Default upsampling behavior when mode=trilinear is changed to align_corners=False since 0.4.0. Please specify align_corners=True if the old behavior is desired. See the documentation of nn.Upsample for details.\n",
      "Default upsampling behavior when mode=trilinear is changed to align_corners=False since 0.4.0. Please specify align_corners=True if the old behavior is desired. See the documentation of nn.Upsample for details.\n",
      "Default upsampling behavior when mode=trilinear is changed to align_corners=False since 0.4.0. Please specify align_corners=True if the old behavior is desired. See the documentation of nn.Upsample for details.\n"
     ]
    },
    {
     "name": "stdout",
     "output_type": "stream",
     "text": [
      "1/3, train_loss: 0.4022\n",
      "2/3, train_loss: 0.4001\n",
      "3/3, train_loss: 0.3986\n",
      "4/3, train_loss: 0.3998\n",
      "5/3, train_loss: 0.3852\n",
      "6/3, train_loss: 0.3955\n",
      "7/3, train_loss: 0.3736\n",
      "8/3, train_loss: 0.3830\n",
      "9/3, train_loss: 0.3946\n",
      "10/3, train_loss: 0.3858\n",
      "11/3, train_loss: 0.3922\n",
      "12/3, train_loss: 0.3680\n",
      "13/3, train_loss: 0.4123\n",
      "14/3, train_loss: 0.3731\n",
      "0 epoch 130 average loss: 0.3903\n",
      "current epoch: 130 current mean dice: 0.3907\n",
      "best mean dice: 0.5409 at epoch: 88\n",
      "----------\n",
      "0: epoch 131/500\n"
     ]
    },
    {
     "name": "stderr",
     "output_type": "stream",
     "text": [
      "Default upsampling behavior when mode=trilinear is changed to align_corners=False since 0.4.0. Please specify align_corners=True if the old behavior is desired. See the documentation of nn.Upsample for details.\n",
      "Default upsampling behavior when mode=trilinear is changed to align_corners=False since 0.4.0. Please specify align_corners=True if the old behavior is desired. See the documentation of nn.Upsample for details.\n",
      "Default upsampling behavior when mode=trilinear is changed to align_corners=False since 0.4.0. Please specify align_corners=True if the old behavior is desired. See the documentation of nn.Upsample for details.\n",
      "Default upsampling behavior when mode=trilinear is changed to align_corners=False since 0.4.0. Please specify align_corners=True if the old behavior is desired. See the documentation of nn.Upsample for details.\n"
     ]
    },
    {
     "name": "stdout",
     "output_type": "stream",
     "text": [
      "1/3, train_loss: 0.3729\n",
      "2/3, train_loss: 0.3694\n",
      "3/3, train_loss: 0.3897\n",
      "4/3, train_loss: 0.3730\n",
      "5/3, train_loss: 0.3747\n",
      "6/3, train_loss: 0.3887\n",
      "7/3, train_loss: 0.3951\n",
      "8/3, train_loss: 0.3741\n",
      "9/3, train_loss: 0.3783\n",
      "10/3, train_loss: 0.3864\n",
      "11/3, train_loss: 0.3885\n",
      "12/3, train_loss: 0.3792\n",
      "13/3, train_loss: 0.4077\n",
      "14/3, train_loss: 0.4670\n",
      "0 epoch 131 average loss: 0.3889\n",
      "----------\n",
      "0: epoch 132/500\n"
     ]
    },
    {
     "name": "stderr",
     "output_type": "stream",
     "text": [
      "Default upsampling behavior when mode=trilinear is changed to align_corners=False since 0.4.0. Please specify align_corners=True if the old behavior is desired. See the documentation of nn.Upsample for details.\n",
      "Default upsampling behavior when mode=trilinear is changed to align_corners=False since 0.4.0. Please specify align_corners=True if the old behavior is desired. See the documentation of nn.Upsample for details.\n",
      "Default upsampling behavior when mode=trilinear is changed to align_corners=False since 0.4.0. Please specify align_corners=True if the old behavior is desired. See the documentation of nn.Upsample for details.\n",
      "Default upsampling behavior when mode=trilinear is changed to align_corners=False since 0.4.0. Please specify align_corners=True if the old behavior is desired. See the documentation of nn.Upsample for details.\n"
     ]
    },
    {
     "name": "stdout",
     "output_type": "stream",
     "text": [
      "1/3, train_loss: 0.4003\n",
      "2/3, train_loss: 0.4037\n",
      "3/3, train_loss: 0.3807\n",
      "4/3, train_loss: 0.3846\n",
      "5/3, train_loss: 0.3777\n",
      "6/3, train_loss: 0.3944\n",
      "7/3, train_loss: 0.3907\n",
      "8/3, train_loss: 0.3899\n",
      "9/3, train_loss: 0.3707\n",
      "10/3, train_loss: 0.3857\n",
      "11/3, train_loss: 0.3944\n",
      "12/3, train_loss: 0.4291\n",
      "13/3, train_loss: 0.3803\n",
      "14/3, train_loss: 0.3688\n",
      "0 epoch 132 average loss: 0.3894\n",
      "current epoch: 132 current mean dice: 0.4721\n",
      "best mean dice: 0.5409 at epoch: 88\n",
      "----------\n",
      "0: epoch 133/500\n"
     ]
    },
    {
     "name": "stderr",
     "output_type": "stream",
     "text": [
      "Default upsampling behavior when mode=trilinear is changed to align_corners=False since 0.4.0. Please specify align_corners=True if the old behavior is desired. See the documentation of nn.Upsample for details.\n",
      "Default upsampling behavior when mode=trilinear is changed to align_corners=False since 0.4.0. Please specify align_corners=True if the old behavior is desired. See the documentation of nn.Upsample for details.\n",
      "Default upsampling behavior when mode=trilinear is changed to align_corners=False since 0.4.0. Please specify align_corners=True if the old behavior is desired. See the documentation of nn.Upsample for details.\n",
      "Default upsampling behavior when mode=trilinear is changed to align_corners=False since 0.4.0. Please specify align_corners=True if the old behavior is desired. See the documentation of nn.Upsample for details.\n"
     ]
    },
    {
     "name": "stdout",
     "output_type": "stream",
     "text": [
      "1/3, train_loss: 0.3825\n",
      "2/3, train_loss: 0.4241\n",
      "3/3, train_loss: 0.3787\n",
      "4/3, train_loss: 0.3977\n",
      "5/3, train_loss: 0.3941\n",
      "6/3, train_loss: 0.3941\n",
      "7/3, train_loss: 0.3996\n",
      "8/3, train_loss: 0.3680\n",
      "9/3, train_loss: 0.3821\n",
      "10/3, train_loss: 0.3690\n",
      "11/3, train_loss: 0.3995\n",
      "12/3, train_loss: 0.4079\n",
      "13/3, train_loss: 0.3755\n",
      "14/3, train_loss: 0.3979\n",
      "0 epoch 133 average loss: 0.3908\n",
      "----------\n",
      "0: epoch 134/500\n"
     ]
    },
    {
     "name": "stderr",
     "output_type": "stream",
     "text": [
      "Default upsampling behavior when mode=trilinear is changed to align_corners=False since 0.4.0. Please specify align_corners=True if the old behavior is desired. See the documentation of nn.Upsample for details.\n",
      "Default upsampling behavior when mode=trilinear is changed to align_corners=False since 0.4.0. Please specify align_corners=True if the old behavior is desired. See the documentation of nn.Upsample for details.\n",
      "Default upsampling behavior when mode=trilinear is changed to align_corners=False since 0.4.0. Please specify align_corners=True if the old behavior is desired. See the documentation of nn.Upsample for details.\n",
      "Default upsampling behavior when mode=trilinear is changed to align_corners=False since 0.4.0. Please specify align_corners=True if the old behavior is desired. See the documentation of nn.Upsample for details.\n"
     ]
    },
    {
     "name": "stdout",
     "output_type": "stream",
     "text": [
      "1/3, train_loss: 0.3698\n",
      "2/3, train_loss: 0.4173\n",
      "3/3, train_loss: 0.4049\n",
      "4/3, train_loss: 0.3780\n",
      "5/3, train_loss: 0.3843\n",
      "6/3, train_loss: 0.3712\n",
      "7/3, train_loss: 0.3724\n",
      "8/3, train_loss: 0.4030\n",
      "9/3, train_loss: 0.3841\n",
      "10/3, train_loss: 0.3919\n",
      "11/3, train_loss: 0.3906\n",
      "12/3, train_loss: 0.3685\n",
      "13/3, train_loss: 0.3917\n",
      "14/3, train_loss: 0.4222\n",
      "0 epoch 134 average loss: 0.3893\n",
      "current epoch: 134 current mean dice: 0.4285\n",
      "best mean dice: 0.5409 at epoch: 88\n",
      "----------\n",
      "0: epoch 135/500\n"
     ]
    },
    {
     "name": "stderr",
     "output_type": "stream",
     "text": [
      "Default upsampling behavior when mode=trilinear is changed to align_corners=False since 0.4.0. Please specify align_corners=True if the old behavior is desired. See the documentation of nn.Upsample for details.\n",
      "Default upsampling behavior when mode=trilinear is changed to align_corners=False since 0.4.0. Please specify align_corners=True if the old behavior is desired. See the documentation of nn.Upsample for details.\n",
      "Default upsampling behavior when mode=trilinear is changed to align_corners=False since 0.4.0. Please specify align_corners=True if the old behavior is desired. See the documentation of nn.Upsample for details.\n",
      "Default upsampling behavior when mode=trilinear is changed to align_corners=False since 0.4.0. Please specify align_corners=True if the old behavior is desired. See the documentation of nn.Upsample for details.\n"
     ]
    },
    {
     "name": "stdout",
     "output_type": "stream",
     "text": [
      "1/3, train_loss: 0.3991\n",
      "2/3, train_loss: 0.3950\n",
      "3/3, train_loss: 0.3854\n",
      "4/3, train_loss: 0.4007\n",
      "5/3, train_loss: 0.4448\n",
      "6/3, train_loss: 0.3828\n",
      "7/3, train_loss: 0.3776\n",
      "8/3, train_loss: 0.3868\n",
      "9/3, train_loss: 0.3912\n",
      "10/3, train_loss: 0.4038\n",
      "11/3, train_loss: 0.3897\n",
      "12/3, train_loss: 0.4094\n",
      "13/3, train_loss: 0.3870\n",
      "14/3, train_loss: 0.3857\n",
      "0 epoch 135 average loss: 0.3956\n",
      "----------\n",
      "0: epoch 136/500\n"
     ]
    },
    {
     "name": "stderr",
     "output_type": "stream",
     "text": [
      "Default upsampling behavior when mode=trilinear is changed to align_corners=False since 0.4.0. Please specify align_corners=True if the old behavior is desired. See the documentation of nn.Upsample for details.\n",
      "Default upsampling behavior when mode=trilinear is changed to align_corners=False since 0.4.0. Please specify align_corners=True if the old behavior is desired. See the documentation of nn.Upsample for details.\n",
      "Default upsampling behavior when mode=trilinear is changed to align_corners=False since 0.4.0. Please specify align_corners=True if the old behavior is desired. See the documentation of nn.Upsample for details.\n",
      "Default upsampling behavior when mode=trilinear is changed to align_corners=False since 0.4.0. Please specify align_corners=True if the old behavior is desired. See the documentation of nn.Upsample for details.\n"
     ]
    },
    {
     "name": "stdout",
     "output_type": "stream",
     "text": [
      "1/3, train_loss: 0.3687\n",
      "2/3, train_loss: 0.4142\n",
      "3/3, train_loss: 0.3796\n",
      "4/3, train_loss: 0.4042\n",
      "5/3, train_loss: 0.3722\n",
      "6/3, train_loss: 0.4458\n",
      "7/3, train_loss: 0.3806\n",
      "8/3, train_loss: 0.3918\n",
      "9/3, train_loss: 0.3848\n",
      "10/3, train_loss: 0.4179\n",
      "11/3, train_loss: 0.4013\n",
      "12/3, train_loss: 0.3891\n",
      "13/3, train_loss: 0.4044\n",
      "14/3, train_loss: 0.3755\n",
      "0 epoch 136 average loss: 0.3950\n",
      "current epoch: 136 current mean dice: 0.4247\n",
      "best mean dice: 0.5409 at epoch: 88\n",
      "----------\n",
      "0: epoch 137/500\n"
     ]
    },
    {
     "name": "stderr",
     "output_type": "stream",
     "text": [
      "Default upsampling behavior when mode=trilinear is changed to align_corners=False since 0.4.0. Please specify align_corners=True if the old behavior is desired. See the documentation of nn.Upsample for details.\n",
      "Default upsampling behavior when mode=trilinear is changed to align_corners=False since 0.4.0. Please specify align_corners=True if the old behavior is desired. See the documentation of nn.Upsample for details.\n",
      "Default upsampling behavior when mode=trilinear is changed to align_corners=False since 0.4.0. Please specify align_corners=True if the old behavior is desired. See the documentation of nn.Upsample for details.\n",
      "Default upsampling behavior when mode=trilinear is changed to align_corners=False since 0.4.0. Please specify align_corners=True if the old behavior is desired. See the documentation of nn.Upsample for details.\n"
     ]
    },
    {
     "name": "stdout",
     "output_type": "stream",
     "text": [
      "1/3, train_loss: 0.3849\n",
      "2/3, train_loss: 0.4566\n",
      "3/3, train_loss: 0.3765\n",
      "4/3, train_loss: 0.3861\n",
      "5/3, train_loss: 0.3759\n",
      "6/3, train_loss: 0.4044\n",
      "7/3, train_loss: 0.4064\n",
      "8/3, train_loss: 0.3648\n",
      "9/3, train_loss: 0.3681\n",
      "10/3, train_loss: 0.3960\n",
      "11/3, train_loss: 0.3796\n",
      "12/3, train_loss: 0.3850\n",
      "13/3, train_loss: 0.3881\n",
      "14/3, train_loss: 0.3657\n",
      "0 epoch 137 average loss: 0.3884\n",
      "----------\n",
      "0: epoch 138/500\n"
     ]
    },
    {
     "name": "stderr",
     "output_type": "stream",
     "text": [
      "Default upsampling behavior when mode=trilinear is changed to align_corners=False since 0.4.0. Please specify align_corners=True if the old behavior is desired. See the documentation of nn.Upsample for details.\n",
      "Default upsampling behavior when mode=trilinear is changed to align_corners=False since 0.4.0. Please specify align_corners=True if the old behavior is desired. See the documentation of nn.Upsample for details.\n",
      "Default upsampling behavior when mode=trilinear is changed to align_corners=False since 0.4.0. Please specify align_corners=True if the old behavior is desired. See the documentation of nn.Upsample for details.\n",
      "Default upsampling behavior when mode=trilinear is changed to align_corners=False since 0.4.0. Please specify align_corners=True if the old behavior is desired. See the documentation of nn.Upsample for details.\n"
     ]
    },
    {
     "name": "stdout",
     "output_type": "stream",
     "text": [
      "1/3, train_loss: 0.3761\n",
      "2/3, train_loss: 0.4235\n",
      "3/3, train_loss: 0.3987\n",
      "4/3, train_loss: 0.3887\n",
      "5/3, train_loss: 0.3853\n",
      "6/3, train_loss: 0.3680\n",
      "7/3, train_loss: 0.3707\n",
      "8/3, train_loss: 0.3991\n",
      "9/3, train_loss: 0.4067\n",
      "10/3, train_loss: 0.3789\n",
      "11/3, train_loss: 0.4015\n",
      "12/3, train_loss: 0.3983\n",
      "13/3, train_loss: 0.4211\n",
      "14/3, train_loss: 0.4413\n",
      "0 epoch 138 average loss: 0.3970\n",
      "current epoch: 138 current mean dice: 0.2876\n",
      "best mean dice: 0.5409 at epoch: 88\n",
      "----------\n",
      "0: epoch 139/500\n"
     ]
    },
    {
     "name": "stderr",
     "output_type": "stream",
     "text": [
      "Default upsampling behavior when mode=trilinear is changed to align_corners=False since 0.4.0. Please specify align_corners=True if the old behavior is desired. See the documentation of nn.Upsample for details.\n",
      "Default upsampling behavior when mode=trilinear is changed to align_corners=False since 0.4.0. Please specify align_corners=True if the old behavior is desired. See the documentation of nn.Upsample for details.\n",
      "Default upsampling behavior when mode=trilinear is changed to align_corners=False since 0.4.0. Please specify align_corners=True if the old behavior is desired. See the documentation of nn.Upsample for details.\n",
      "Default upsampling behavior when mode=trilinear is changed to align_corners=False since 0.4.0. Please specify align_corners=True if the old behavior is desired. See the documentation of nn.Upsample for details.\n"
     ]
    },
    {
     "name": "stdout",
     "output_type": "stream",
     "text": [
      "1/3, train_loss: 0.3806\n",
      "2/3, train_loss: 0.3746\n",
      "3/3, train_loss: 0.3869\n",
      "4/3, train_loss: 0.3729\n",
      "5/3, train_loss: 0.3897\n",
      "6/3, train_loss: 0.3974\n",
      "7/3, train_loss: 0.4049\n",
      "8/3, train_loss: 0.4290\n",
      "9/3, train_loss: 0.3907\n",
      "10/3, train_loss: 0.3940\n",
      "11/3, train_loss: 0.4049\n",
      "12/3, train_loss: 0.3906\n",
      "13/3, train_loss: 0.4038\n",
      "14/3, train_loss: 0.4044\n",
      "0 epoch 139 average loss: 0.3946\n",
      "----------\n",
      "0: epoch 140/500\n"
     ]
    },
    {
     "name": "stderr",
     "output_type": "stream",
     "text": [
      "Default upsampling behavior when mode=trilinear is changed to align_corners=False since 0.4.0. Please specify align_corners=True if the old behavior is desired. See the documentation of nn.Upsample for details.\n",
      "Default upsampling behavior when mode=trilinear is changed to align_corners=False since 0.4.0. Please specify align_corners=True if the old behavior is desired. See the documentation of nn.Upsample for details.\n",
      "Default upsampling behavior when mode=trilinear is changed to align_corners=False since 0.4.0. Please specify align_corners=True if the old behavior is desired. See the documentation of nn.Upsample for details.\n",
      "Default upsampling behavior when mode=trilinear is changed to align_corners=False since 0.4.0. Please specify align_corners=True if the old behavior is desired. See the documentation of nn.Upsample for details.\n"
     ]
    },
    {
     "name": "stdout",
     "output_type": "stream",
     "text": [
      "1/3, train_loss: 0.4143\n",
      "2/3, train_loss: 0.3728\n",
      "3/3, train_loss: 0.4199\n",
      "4/3, train_loss: 0.3903\n",
      "5/3, train_loss: 0.3788\n",
      "6/3, train_loss: 0.3785\n",
      "7/3, train_loss: 0.3784\n",
      "8/3, train_loss: 0.3657\n",
      "9/3, train_loss: 0.4039\n",
      "10/3, train_loss: 0.3989\n",
      "11/3, train_loss: 0.3820\n",
      "12/3, train_loss: 0.4096\n",
      "13/3, train_loss: 0.3758\n",
      "14/3, train_loss: 0.3641\n",
      "0 epoch 140 average loss: 0.3881\n",
      "current epoch: 140 current mean dice: 0.4343\n",
      "best mean dice: 0.5409 at epoch: 88\n",
      "----------\n",
      "0: epoch 141/500\n"
     ]
    },
    {
     "name": "stderr",
     "output_type": "stream",
     "text": [
      "Default upsampling behavior when mode=trilinear is changed to align_corners=False since 0.4.0. Please specify align_corners=True if the old behavior is desired. See the documentation of nn.Upsample for details.\n",
      "Default upsampling behavior when mode=trilinear is changed to align_corners=False since 0.4.0. Please specify align_corners=True if the old behavior is desired. See the documentation of nn.Upsample for details.\n",
      "Default upsampling behavior when mode=trilinear is changed to align_corners=False since 0.4.0. Please specify align_corners=True if the old behavior is desired. See the documentation of nn.Upsample for details.\n",
      "Default upsampling behavior when mode=trilinear is changed to align_corners=False since 0.4.0. Please specify align_corners=True if the old behavior is desired. See the documentation of nn.Upsample for details.\n"
     ]
    },
    {
     "name": "stdout",
     "output_type": "stream",
     "text": [
      "1/3, train_loss: 0.3771\n",
      "2/3, train_loss: 0.3799\n",
      "3/3, train_loss: 0.3853\n",
      "4/3, train_loss: 0.4076\n",
      "5/3, train_loss: 0.3663\n",
      "6/3, train_loss: 0.3830\n",
      "7/3, train_loss: 0.3922\n",
      "8/3, train_loss: 0.3748\n",
      "9/3, train_loss: 0.3905\n",
      "10/3, train_loss: 0.3758\n",
      "11/3, train_loss: 0.3873\n",
      "12/3, train_loss: 0.3687\n",
      "13/3, train_loss: 0.4000\n",
      "14/3, train_loss: 0.3671\n",
      "0 epoch 141 average loss: 0.3826\n",
      "----------\n",
      "0: epoch 142/500\n"
     ]
    },
    {
     "name": "stderr",
     "output_type": "stream",
     "text": [
      "Default upsampling behavior when mode=trilinear is changed to align_corners=False since 0.4.0. Please specify align_corners=True if the old behavior is desired. See the documentation of nn.Upsample for details.\n",
      "Default upsampling behavior when mode=trilinear is changed to align_corners=False since 0.4.0. Please specify align_corners=True if the old behavior is desired. See the documentation of nn.Upsample for details.\n",
      "Default upsampling behavior when mode=trilinear is changed to align_corners=False since 0.4.0. Please specify align_corners=True if the old behavior is desired. See the documentation of nn.Upsample for details.\n",
      "Default upsampling behavior when mode=trilinear is changed to align_corners=False since 0.4.0. Please specify align_corners=True if the old behavior is desired. See the documentation of nn.Upsample for details.\n"
     ]
    },
    {
     "name": "stdout",
     "output_type": "stream",
     "text": [
      "1/3, train_loss: 0.4105\n",
      "2/3, train_loss: 0.3795\n",
      "3/3, train_loss: 0.3698\n",
      "4/3, train_loss: 0.3808\n",
      "5/3, train_loss: 0.3991\n",
      "6/3, train_loss: 0.4353\n",
      "7/3, train_loss: 0.3901\n",
      "8/3, train_loss: 0.3642\n",
      "9/3, train_loss: 0.3604\n",
      "10/3, train_loss: 0.3804\n",
      "11/3, train_loss: 0.3816\n",
      "12/3, train_loss: 0.3948\n",
      "13/3, train_loss: 0.3969\n",
      "14/3, train_loss: 0.4173\n",
      "0 epoch 142 average loss: 0.3900\n",
      "current epoch: 142 current mean dice: 0.3800\n",
      "best mean dice: 0.5409 at epoch: 88\n",
      "----------\n",
      "0: epoch 143/500\n"
     ]
    },
    {
     "name": "stderr",
     "output_type": "stream",
     "text": [
      "Default upsampling behavior when mode=trilinear is changed to align_corners=False since 0.4.0. Please specify align_corners=True if the old behavior is desired. See the documentation of nn.Upsample for details.\n",
      "Default upsampling behavior when mode=trilinear is changed to align_corners=False since 0.4.0. Please specify align_corners=True if the old behavior is desired. See the documentation of nn.Upsample for details.\n",
      "Default upsampling behavior when mode=trilinear is changed to align_corners=False since 0.4.0. Please specify align_corners=True if the old behavior is desired. See the documentation of nn.Upsample for details.\n",
      "Default upsampling behavior when mode=trilinear is changed to align_corners=False since 0.4.0. Please specify align_corners=True if the old behavior is desired. See the documentation of nn.Upsample for details.\n"
     ]
    },
    {
     "name": "stdout",
     "output_type": "stream",
     "text": [
      "1/3, train_loss: 0.3902\n",
      "2/3, train_loss: 0.3953\n",
      "3/3, train_loss: 0.3743\n",
      "4/3, train_loss: 0.3941\n",
      "5/3, train_loss: 0.3827\n",
      "6/3, train_loss: 0.3888\n",
      "7/3, train_loss: 0.3849\n",
      "8/3, train_loss: 0.4350\n",
      "9/3, train_loss: 0.3939\n",
      "10/3, train_loss: 0.3834\n",
      "11/3, train_loss: 0.3920\n",
      "12/3, train_loss: 0.3812\n",
      "13/3, train_loss: 0.4113\n",
      "14/3, train_loss: 0.3560\n",
      "0 epoch 143 average loss: 0.3902\n",
      "----------\n",
      "0: epoch 144/500\n"
     ]
    },
    {
     "name": "stderr",
     "output_type": "stream",
     "text": [
      "Default upsampling behavior when mode=trilinear is changed to align_corners=False since 0.4.0. Please specify align_corners=True if the old behavior is desired. See the documentation of nn.Upsample for details.\n",
      "Default upsampling behavior when mode=trilinear is changed to align_corners=False since 0.4.0. Please specify align_corners=True if the old behavior is desired. See the documentation of nn.Upsample for details.\n",
      "Default upsampling behavior when mode=trilinear is changed to align_corners=False since 0.4.0. Please specify align_corners=True if the old behavior is desired. See the documentation of nn.Upsample for details.\n",
      "Default upsampling behavior when mode=trilinear is changed to align_corners=False since 0.4.0. Please specify align_corners=True if the old behavior is desired. See the documentation of nn.Upsample for details.\n"
     ]
    },
    {
     "name": "stdout",
     "output_type": "stream",
     "text": [
      "1/3, train_loss: 0.3820\n",
      "2/3, train_loss: 0.3839\n",
      "3/3, train_loss: 0.3811\n",
      "4/3, train_loss: 0.3822\n",
      "5/3, train_loss: 0.3742\n",
      "6/3, train_loss: 0.3678\n",
      "7/3, train_loss: 0.3906\n",
      "8/3, train_loss: 0.4044\n",
      "9/3, train_loss: 0.3898\n",
      "10/3, train_loss: 0.4041\n",
      "11/3, train_loss: 0.3821\n",
      "12/3, train_loss: 0.3940\n",
      "13/3, train_loss: 0.4141\n",
      "14/3, train_loss: 0.3642\n",
      "0 epoch 144 average loss: 0.3867\n",
      "current epoch: 144 current mean dice: 0.3780\n",
      "best mean dice: 0.5409 at epoch: 88\n",
      "----------\n",
      "0: epoch 145/500\n"
     ]
    },
    {
     "name": "stderr",
     "output_type": "stream",
     "text": [
      "Default upsampling behavior when mode=trilinear is changed to align_corners=False since 0.4.0. Please specify align_corners=True if the old behavior is desired. See the documentation of nn.Upsample for details.\n",
      "Default upsampling behavior when mode=trilinear is changed to align_corners=False since 0.4.0. Please specify align_corners=True if the old behavior is desired. See the documentation of nn.Upsample for details.\n",
      "Default upsampling behavior when mode=trilinear is changed to align_corners=False since 0.4.0. Please specify align_corners=True if the old behavior is desired. See the documentation of nn.Upsample for details.\n",
      "Default upsampling behavior when mode=trilinear is changed to align_corners=False since 0.4.0. Please specify align_corners=True if the old behavior is desired. See the documentation of nn.Upsample for details.\n"
     ]
    },
    {
     "name": "stdout",
     "output_type": "stream",
     "text": [
      "1/3, train_loss: 0.3771\n",
      "2/3, train_loss: 0.3573\n",
      "3/3, train_loss: 0.4190\n",
      "4/3, train_loss: 0.3818\n",
      "5/3, train_loss: 0.3619\n",
      "6/3, train_loss: 0.3970\n",
      "7/3, train_loss: 0.4105\n",
      "8/3, train_loss: 0.3700\n",
      "9/3, train_loss: 0.4050\n",
      "10/3, train_loss: 0.3829\n",
      "11/3, train_loss: 0.4201\n",
      "12/3, train_loss: 0.3687\n",
      "13/3, train_loss: 0.3661\n",
      "14/3, train_loss: 0.4371\n",
      "0 epoch 145 average loss: 0.3896\n",
      "----------\n",
      "0: epoch 146/500\n"
     ]
    },
    {
     "name": "stderr",
     "output_type": "stream",
     "text": [
      "Default upsampling behavior when mode=trilinear is changed to align_corners=False since 0.4.0. Please specify align_corners=True if the old behavior is desired. See the documentation of nn.Upsample for details.\n",
      "Default upsampling behavior when mode=trilinear is changed to align_corners=False since 0.4.0. Please specify align_corners=True if the old behavior is desired. See the documentation of nn.Upsample for details.\n",
      "Default upsampling behavior when mode=trilinear is changed to align_corners=False since 0.4.0. Please specify align_corners=True if the old behavior is desired. See the documentation of nn.Upsample for details.\n",
      "Default upsampling behavior when mode=trilinear is changed to align_corners=False since 0.4.0. Please specify align_corners=True if the old behavior is desired. See the documentation of nn.Upsample for details.\n"
     ]
    },
    {
     "name": "stdout",
     "output_type": "stream",
     "text": [
      "1/3, train_loss: 0.3877\n",
      "2/3, train_loss: 0.3883\n",
      "3/3, train_loss: 0.3752\n",
      "4/3, train_loss: 0.3842\n",
      "5/3, train_loss: 0.3905\n",
      "6/3, train_loss: 0.3726\n",
      "7/3, train_loss: 0.3640\n",
      "8/3, train_loss: 0.3802\n",
      "9/3, train_loss: 0.3763\n",
      "10/3, train_loss: 0.3908\n",
      "11/3, train_loss: 0.4055\n",
      "12/3, train_loss: 0.3755\n",
      "13/3, train_loss: 0.4178\n",
      "14/3, train_loss: 0.3648\n",
      "0 epoch 146 average loss: 0.3838\n",
      "current epoch: 146 current mean dice: 0.3540\n",
      "best mean dice: 0.5409 at epoch: 88\n",
      "----------\n",
      "0: epoch 147/500\n"
     ]
    },
    {
     "name": "stderr",
     "output_type": "stream",
     "text": [
      "Default upsampling behavior when mode=trilinear is changed to align_corners=False since 0.4.0. Please specify align_corners=True if the old behavior is desired. See the documentation of nn.Upsample for details.\n",
      "Default upsampling behavior when mode=trilinear is changed to align_corners=False since 0.4.0. Please specify align_corners=True if the old behavior is desired. See the documentation of nn.Upsample for details.\n",
      "Default upsampling behavior when mode=trilinear is changed to align_corners=False since 0.4.0. Please specify align_corners=True if the old behavior is desired. See the documentation of nn.Upsample for details.\n",
      "Default upsampling behavior when mode=trilinear is changed to align_corners=False since 0.4.0. Please specify align_corners=True if the old behavior is desired. See the documentation of nn.Upsample for details.\n"
     ]
    },
    {
     "name": "stdout",
     "output_type": "stream",
     "text": [
      "1/3, train_loss: 0.3683\n",
      "2/3, train_loss: 0.3803\n",
      "3/3, train_loss: 0.3621\n",
      "4/3, train_loss: 0.3738\n",
      "5/3, train_loss: 0.3930\n",
      "6/3, train_loss: 0.3917\n",
      "7/3, train_loss: 0.3892\n",
      "8/3, train_loss: 0.3818\n",
      "9/3, train_loss: 0.3774\n",
      "10/3, train_loss: 0.3817\n",
      "11/3, train_loss: 0.3822\n",
      "12/3, train_loss: 0.3887\n",
      "13/3, train_loss: 0.3626\n",
      "14/3, train_loss: 0.4028\n",
      "0 epoch 147 average loss: 0.3811\n",
      "----------\n",
      "0: epoch 148/500\n"
     ]
    },
    {
     "name": "stderr",
     "output_type": "stream",
     "text": [
      "Default upsampling behavior when mode=trilinear is changed to align_corners=False since 0.4.0. Please specify align_corners=True if the old behavior is desired. See the documentation of nn.Upsample for details.\n",
      "Default upsampling behavior when mode=trilinear is changed to align_corners=False since 0.4.0. Please specify align_corners=True if the old behavior is desired. See the documentation of nn.Upsample for details.\n",
      "Default upsampling behavior when mode=trilinear is changed to align_corners=False since 0.4.0. Please specify align_corners=True if the old behavior is desired. See the documentation of nn.Upsample for details.\n",
      "Default upsampling behavior when mode=trilinear is changed to align_corners=False since 0.4.0. Please specify align_corners=True if the old behavior is desired. See the documentation of nn.Upsample for details.\n"
     ]
    },
    {
     "name": "stdout",
     "output_type": "stream",
     "text": [
      "1/3, train_loss: 0.4158\n",
      "2/3, train_loss: 0.4117\n",
      "3/3, train_loss: 0.3806\n",
      "4/3, train_loss: 0.3725\n",
      "5/3, train_loss: 0.3912\n",
      "6/3, train_loss: 0.3858\n",
      "7/3, train_loss: 0.3858\n",
      "8/3, train_loss: 0.3742\n",
      "9/3, train_loss: 0.3955\n",
      "10/3, train_loss: 0.3636\n",
      "11/3, train_loss: 0.3658\n",
      "12/3, train_loss: 0.3873\n",
      "13/3, train_loss: 0.3766\n",
      "14/3, train_loss: 0.3494\n",
      "0 epoch 148 average loss: 0.3825\n",
      "current epoch: 148 current mean dice: 0.4946\n",
      "best mean dice: 0.5409 at epoch: 88\n",
      "----------\n",
      "0: epoch 149/500\n"
     ]
    },
    {
     "name": "stderr",
     "output_type": "stream",
     "text": [
      "Default upsampling behavior when mode=trilinear is changed to align_corners=False since 0.4.0. Please specify align_corners=True if the old behavior is desired. See the documentation of nn.Upsample for details.\n",
      "Default upsampling behavior when mode=trilinear is changed to align_corners=False since 0.4.0. Please specify align_corners=True if the old behavior is desired. See the documentation of nn.Upsample for details.\n",
      "Default upsampling behavior when mode=trilinear is changed to align_corners=False since 0.4.0. Please specify align_corners=True if the old behavior is desired. See the documentation of nn.Upsample for details.\n",
      "Default upsampling behavior when mode=trilinear is changed to align_corners=False since 0.4.0. Please specify align_corners=True if the old behavior is desired. See the documentation of nn.Upsample for details.\n"
     ]
    },
    {
     "name": "stdout",
     "output_type": "stream",
     "text": [
      "1/3, train_loss: 0.3915\n",
      "2/3, train_loss: 0.3811\n",
      "3/3, train_loss: 0.3868\n",
      "4/3, train_loss: 0.3968\n",
      "5/3, train_loss: 0.3720\n",
      "6/3, train_loss: 0.3668\n",
      "7/3, train_loss: 0.3796\n",
      "8/3, train_loss: 0.3993\n",
      "9/3, train_loss: 0.3763\n",
      "10/3, train_loss: 0.3762\n",
      "11/3, train_loss: 0.3636\n",
      "12/3, train_loss: 0.3907\n",
      "13/3, train_loss: 0.3801\n",
      "14/3, train_loss: 0.4405\n",
      "0 epoch 149 average loss: 0.3858\n",
      "----------\n",
      "0: epoch 150/500\n"
     ]
    },
    {
     "name": "stderr",
     "output_type": "stream",
     "text": [
      "Default upsampling behavior when mode=trilinear is changed to align_corners=False since 0.4.0. Please specify align_corners=True if the old behavior is desired. See the documentation of nn.Upsample for details.\n",
      "Default upsampling behavior when mode=trilinear is changed to align_corners=False since 0.4.0. Please specify align_corners=True if the old behavior is desired. See the documentation of nn.Upsample for details.\n",
      "Default upsampling behavior when mode=trilinear is changed to align_corners=False since 0.4.0. Please specify align_corners=True if the old behavior is desired. See the documentation of nn.Upsample for details.\n",
      "Default upsampling behavior when mode=trilinear is changed to align_corners=False since 0.4.0. Please specify align_corners=True if the old behavior is desired. See the documentation of nn.Upsample for details.\n"
     ]
    },
    {
     "name": "stdout",
     "output_type": "stream",
     "text": [
      "1/3, train_loss: 0.3952\n",
      "2/3, train_loss: 0.4013\n",
      "3/3, train_loss: 0.3959\n",
      "4/3, train_loss: 0.3883\n",
      "5/3, train_loss: 0.3750\n",
      "6/3, train_loss: 0.3922\n",
      "7/3, train_loss: 0.3984\n",
      "8/3, train_loss: 0.3663\n",
      "9/3, train_loss: 0.3846\n",
      "10/3, train_loss: 0.3823\n",
      "11/3, train_loss: 0.3694\n",
      "12/3, train_loss: 0.3970\n",
      "13/3, train_loss: 0.4009\n",
      "14/3, train_loss: 0.4051\n",
      "0 epoch 150 average loss: 0.3894\n",
      "current epoch: 150 current mean dice: 0.4326\n",
      "best mean dice: 0.5409 at epoch: 88\n",
      "----------\n",
      "0: epoch 151/500\n"
     ]
    },
    {
     "name": "stderr",
     "output_type": "stream",
     "text": [
      "Default upsampling behavior when mode=trilinear is changed to align_corners=False since 0.4.0. Please specify align_corners=True if the old behavior is desired. See the documentation of nn.Upsample for details.\n",
      "Default upsampling behavior when mode=trilinear is changed to align_corners=False since 0.4.0. Please specify align_corners=True if the old behavior is desired. See the documentation of nn.Upsample for details.\n",
      "Default upsampling behavior when mode=trilinear is changed to align_corners=False since 0.4.0. Please specify align_corners=True if the old behavior is desired. See the documentation of nn.Upsample for details.\n",
      "Default upsampling behavior when mode=trilinear is changed to align_corners=False since 0.4.0. Please specify align_corners=True if the old behavior is desired. See the documentation of nn.Upsample for details.\n"
     ]
    },
    {
     "name": "stdout",
     "output_type": "stream",
     "text": [
      "1/3, train_loss: 0.3670\n",
      "2/3, train_loss: 0.3812\n",
      "3/3, train_loss: 0.3959\n",
      "4/3, train_loss: 0.4000\n",
      "5/3, train_loss: 0.3929\n",
      "6/3, train_loss: 0.3717\n",
      "7/3, train_loss: 0.3955\n",
      "8/3, train_loss: 0.4029\n",
      "9/3, train_loss: 0.3819\n",
      "10/3, train_loss: 0.3785\n",
      "11/3, train_loss: 0.3958\n",
      "12/3, train_loss: 0.3777\n",
      "13/3, train_loss: 0.3690\n",
      "14/3, train_loss: 0.3637\n",
      "0 epoch 151 average loss: 0.3838\n",
      "----------\n",
      "0: epoch 152/500\n"
     ]
    },
    {
     "name": "stderr",
     "output_type": "stream",
     "text": [
      "Default upsampling behavior when mode=trilinear is changed to align_corners=False since 0.4.0. Please specify align_corners=True if the old behavior is desired. See the documentation of nn.Upsample for details.\n",
      "Default upsampling behavior when mode=trilinear is changed to align_corners=False since 0.4.0. Please specify align_corners=True if the old behavior is desired. See the documentation of nn.Upsample for details.\n",
      "Default upsampling behavior when mode=trilinear is changed to align_corners=False since 0.4.0. Please specify align_corners=True if the old behavior is desired. See the documentation of nn.Upsample for details.\n",
      "Default upsampling behavior when mode=trilinear is changed to align_corners=False since 0.4.0. Please specify align_corners=True if the old behavior is desired. See the documentation of nn.Upsample for details.\n"
     ]
    },
    {
     "name": "stdout",
     "output_type": "stream",
     "text": [
      "1/3, train_loss: 0.3739\n",
      "2/3, train_loss: 0.3592\n",
      "3/3, train_loss: 0.3757\n",
      "4/3, train_loss: 0.3967\n",
      "5/3, train_loss: 0.3692\n",
      "6/3, train_loss: 0.3723\n",
      "7/3, train_loss: 0.3878\n",
      "8/3, train_loss: 0.3870\n",
      "9/3, train_loss: 0.3749\n",
      "10/3, train_loss: 0.3722\n",
      "11/3, train_loss: 0.4023\n",
      "12/3, train_loss: 0.3783\n",
      "13/3, train_loss: 0.3922\n",
      "14/3, train_loss: 0.3723\n",
      "0 epoch 152 average loss: 0.3796\n",
      "current epoch: 152 current mean dice: 0.5178\n",
      "best mean dice: 0.5409 at epoch: 88\n",
      "----------\n",
      "0: epoch 153/500\n"
     ]
    },
    {
     "name": "stderr",
     "output_type": "stream",
     "text": [
      "Default upsampling behavior when mode=trilinear is changed to align_corners=False since 0.4.0. Please specify align_corners=True if the old behavior is desired. See the documentation of nn.Upsample for details.\n",
      "Default upsampling behavior when mode=trilinear is changed to align_corners=False since 0.4.0. Please specify align_corners=True if the old behavior is desired. See the documentation of nn.Upsample for details.\n",
      "Default upsampling behavior when mode=trilinear is changed to align_corners=False since 0.4.0. Please specify align_corners=True if the old behavior is desired. See the documentation of nn.Upsample for details.\n",
      "Default upsampling behavior when mode=trilinear is changed to align_corners=False since 0.4.0. Please specify align_corners=True if the old behavior is desired. See the documentation of nn.Upsample for details.\n"
     ]
    },
    {
     "name": "stdout",
     "output_type": "stream",
     "text": [
      "1/3, train_loss: 0.3658\n",
      "2/3, train_loss: 0.3641\n",
      "3/3, train_loss: 0.3684\n",
      "4/3, train_loss: 0.3645\n",
      "5/3, train_loss: 0.3870\n",
      "6/3, train_loss: 0.3677\n",
      "7/3, train_loss: 0.3795\n",
      "8/3, train_loss: 0.3833\n",
      "9/3, train_loss: 0.3626\n",
      "10/3, train_loss: 0.3641\n",
      "11/3, train_loss: 0.4042\n",
      "12/3, train_loss: 0.3911\n",
      "13/3, train_loss: 0.3875\n",
      "14/3, train_loss: 0.3677\n",
      "0 epoch 153 average loss: 0.3755\n",
      "----------\n",
      "0: epoch 154/500\n"
     ]
    },
    {
     "name": "stderr",
     "output_type": "stream",
     "text": [
      "Default upsampling behavior when mode=trilinear is changed to align_corners=False since 0.4.0. Please specify align_corners=True if the old behavior is desired. See the documentation of nn.Upsample for details.\n",
      "Default upsampling behavior when mode=trilinear is changed to align_corners=False since 0.4.0. Please specify align_corners=True if the old behavior is desired. See the documentation of nn.Upsample for details.\n",
      "Default upsampling behavior when mode=trilinear is changed to align_corners=False since 0.4.0. Please specify align_corners=True if the old behavior is desired. See the documentation of nn.Upsample for details.\n",
      "Default upsampling behavior when mode=trilinear is changed to align_corners=False since 0.4.0. Please specify align_corners=True if the old behavior is desired. See the documentation of nn.Upsample for details.\n"
     ]
    },
    {
     "name": "stdout",
     "output_type": "stream",
     "text": [
      "1/3, train_loss: 0.3956\n",
      "2/3, train_loss: 0.3760\n",
      "3/3, train_loss: 0.3872\n",
      "4/3, train_loss: 0.3798\n",
      "5/3, train_loss: 0.3808\n",
      "6/3, train_loss: 0.3869\n",
      "7/3, train_loss: 0.3703\n",
      "8/3, train_loss: 0.3632\n",
      "9/3, train_loss: 0.3806\n",
      "10/3, train_loss: 0.3839\n",
      "11/3, train_loss: 0.3656\n",
      "12/3, train_loss: 0.3809\n",
      "13/3, train_loss: 0.3787\n",
      "14/3, train_loss: 0.3808\n",
      "0 epoch 154 average loss: 0.3793\n",
      "current epoch: 154 current mean dice: 0.4734\n",
      "best mean dice: 0.5409 at epoch: 88\n",
      "----------\n",
      "0: epoch 155/500\n"
     ]
    },
    {
     "name": "stderr",
     "output_type": "stream",
     "text": [
      "Default upsampling behavior when mode=trilinear is changed to align_corners=False since 0.4.0. Please specify align_corners=True if the old behavior is desired. See the documentation of nn.Upsample for details.\n",
      "Default upsampling behavior when mode=trilinear is changed to align_corners=False since 0.4.0. Please specify align_corners=True if the old behavior is desired. See the documentation of nn.Upsample for details.\n",
      "Default upsampling behavior when mode=trilinear is changed to align_corners=False since 0.4.0. Please specify align_corners=True if the old behavior is desired. See the documentation of nn.Upsample for details.\n",
      "Default upsampling behavior when mode=trilinear is changed to align_corners=False since 0.4.0. Please specify align_corners=True if the old behavior is desired. See the documentation of nn.Upsample for details.\n"
     ]
    },
    {
     "name": "stdout",
     "output_type": "stream",
     "text": [
      "1/3, train_loss: 0.3640\n",
      "2/3, train_loss: 0.3669\n",
      "3/3, train_loss: 0.3806\n",
      "4/3, train_loss: 0.3872\n",
      "5/3, train_loss: 0.3818\n",
      "6/3, train_loss: 0.3873\n",
      "7/3, train_loss: 0.3750\n",
      "8/3, train_loss: 0.3836\n",
      "9/3, train_loss: 0.3904\n",
      "10/3, train_loss: 0.3656\n",
      "11/3, train_loss: 0.3948\n",
      "12/3, train_loss: 0.3659\n",
      "13/3, train_loss: 0.3848\n",
      "14/3, train_loss: 0.4203\n",
      "0 epoch 155 average loss: 0.3820\n",
      "----------\n",
      "0: epoch 156/500\n"
     ]
    },
    {
     "name": "stderr",
     "output_type": "stream",
     "text": [
      "Default upsampling behavior when mode=trilinear is changed to align_corners=False since 0.4.0. Please specify align_corners=True if the old behavior is desired. See the documentation of nn.Upsample for details.\n",
      "Default upsampling behavior when mode=trilinear is changed to align_corners=False since 0.4.0. Please specify align_corners=True if the old behavior is desired. See the documentation of nn.Upsample for details.\n",
      "Default upsampling behavior when mode=trilinear is changed to align_corners=False since 0.4.0. Please specify align_corners=True if the old behavior is desired. See the documentation of nn.Upsample for details.\n",
      "Default upsampling behavior when mode=trilinear is changed to align_corners=False since 0.4.0. Please specify align_corners=True if the old behavior is desired. See the documentation of nn.Upsample for details.\n"
     ]
    },
    {
     "name": "stdout",
     "output_type": "stream",
     "text": [
      "1/3, train_loss: 0.3825\n",
      "2/3, train_loss: 0.3657\n",
      "3/3, train_loss: 0.3617\n",
      "4/3, train_loss: 0.3839\n",
      "5/3, train_loss: 0.3688\n",
      "6/3, train_loss: 0.3894\n",
      "7/3, train_loss: 0.3850\n",
      "8/3, train_loss: 0.3985\n",
      "9/3, train_loss: 0.3887\n",
      "10/3, train_loss: 0.3753\n",
      "11/3, train_loss: 0.3802\n",
      "12/3, train_loss: 0.3714\n",
      "13/3, train_loss: 0.3549\n",
      "14/3, train_loss: 0.3596\n",
      "0 epoch 156 average loss: 0.3761\n",
      "current epoch: 156 current mean dice: 0.4361\n",
      "best mean dice: 0.5409 at epoch: 88\n",
      "----------\n",
      "0: epoch 157/500\n"
     ]
    },
    {
     "name": "stderr",
     "output_type": "stream",
     "text": [
      "Default upsampling behavior when mode=trilinear is changed to align_corners=False since 0.4.0. Please specify align_corners=True if the old behavior is desired. See the documentation of nn.Upsample for details.\n",
      "Default upsampling behavior when mode=trilinear is changed to align_corners=False since 0.4.0. Please specify align_corners=True if the old behavior is desired. See the documentation of nn.Upsample for details.\n",
      "Default upsampling behavior when mode=trilinear is changed to align_corners=False since 0.4.0. Please specify align_corners=True if the old behavior is desired. See the documentation of nn.Upsample for details.\n",
      "Default upsampling behavior when mode=trilinear is changed to align_corners=False since 0.4.0. Please specify align_corners=True if the old behavior is desired. See the documentation of nn.Upsample for details.\n"
     ]
    },
    {
     "name": "stdout",
     "output_type": "stream",
     "text": [
      "1/3, train_loss: 0.3754\n",
      "2/3, train_loss: 0.3670\n",
      "3/3, train_loss: 0.3662\n",
      "4/3, train_loss: 0.3775\n",
      "5/3, train_loss: 0.3681\n",
      "6/3, train_loss: 0.3751\n",
      "7/3, train_loss: 0.3614\n",
      "8/3, train_loss: 0.3764\n",
      "9/3, train_loss: 0.3964\n",
      "10/3, train_loss: 0.3983\n",
      "11/3, train_loss: 0.3668\n",
      "12/3, train_loss: 0.3887\n",
      "13/3, train_loss: 0.3878\n",
      "14/3, train_loss: 0.3683\n",
      "0 epoch 157 average loss: 0.3767\n",
      "----------\n",
      "0: epoch 158/500\n"
     ]
    },
    {
     "name": "stderr",
     "output_type": "stream",
     "text": [
      "Default upsampling behavior when mode=trilinear is changed to align_corners=False since 0.4.0. Please specify align_corners=True if the old behavior is desired. See the documentation of nn.Upsample for details.\n",
      "Default upsampling behavior when mode=trilinear is changed to align_corners=False since 0.4.0. Please specify align_corners=True if the old behavior is desired. See the documentation of nn.Upsample for details.\n",
      "Default upsampling behavior when mode=trilinear is changed to align_corners=False since 0.4.0. Please specify align_corners=True if the old behavior is desired. See the documentation of nn.Upsample for details.\n",
      "Default upsampling behavior when mode=trilinear is changed to align_corners=False since 0.4.0. Please specify align_corners=True if the old behavior is desired. See the documentation of nn.Upsample for details.\n"
     ]
    },
    {
     "name": "stdout",
     "output_type": "stream",
     "text": [
      "1/3, train_loss: 0.4089\n",
      "2/3, train_loss: 0.3935\n",
      "3/3, train_loss: 0.3812\n",
      "4/3, train_loss: 0.3682\n",
      "5/3, train_loss: 0.3807\n",
      "6/3, train_loss: 0.3598\n",
      "7/3, train_loss: 0.3977\n",
      "8/3, train_loss: 0.3681\n",
      "9/3, train_loss: 0.3666\n",
      "10/3, train_loss: 0.3833\n",
      "11/3, train_loss: 0.3785\n",
      "12/3, train_loss: 0.3926\n",
      "13/3, train_loss: 0.3668\n",
      "14/3, train_loss: 0.3695\n",
      "0 epoch 158 average loss: 0.3797\n",
      "current epoch: 158 current mean dice: 0.3279\n",
      "best mean dice: 0.5409 at epoch: 88\n",
      "----------\n",
      "0: epoch 159/500\n"
     ]
    },
    {
     "name": "stderr",
     "output_type": "stream",
     "text": [
      "Default upsampling behavior when mode=trilinear is changed to align_corners=False since 0.4.0. Please specify align_corners=True if the old behavior is desired. See the documentation of nn.Upsample for details.\n",
      "Default upsampling behavior when mode=trilinear is changed to align_corners=False since 0.4.0. Please specify align_corners=True if the old behavior is desired. See the documentation of nn.Upsample for details.\n",
      "Default upsampling behavior when mode=trilinear is changed to align_corners=False since 0.4.0. Please specify align_corners=True if the old behavior is desired. See the documentation of nn.Upsample for details.\n",
      "Default upsampling behavior when mode=trilinear is changed to align_corners=False since 0.4.0. Please specify align_corners=True if the old behavior is desired. See the documentation of nn.Upsample for details.\n"
     ]
    },
    {
     "name": "stdout",
     "output_type": "stream",
     "text": [
      "1/3, train_loss: 0.3662\n",
      "2/3, train_loss: 0.3588\n",
      "3/3, train_loss: 0.3848\n",
      "4/3, train_loss: 0.3884\n",
      "5/3, train_loss: 0.3990\n",
      "6/3, train_loss: 0.3606\n",
      "7/3, train_loss: 0.3648\n",
      "8/3, train_loss: 0.3766\n",
      "9/3, train_loss: 0.3743\n",
      "10/3, train_loss: 0.3739\n",
      "11/3, train_loss: 0.3722\n",
      "12/3, train_loss: 0.4054\n",
      "13/3, train_loss: 0.3995\n",
      "14/3, train_loss: 0.3457\n",
      "0 epoch 159 average loss: 0.3764\n",
      "----------\n",
      "0: epoch 160/500\n"
     ]
    },
    {
     "name": "stderr",
     "output_type": "stream",
     "text": [
      "Default upsampling behavior when mode=trilinear is changed to align_corners=False since 0.4.0. Please specify align_corners=True if the old behavior is desired. See the documentation of nn.Upsample for details.\n",
      "Default upsampling behavior when mode=trilinear is changed to align_corners=False since 0.4.0. Please specify align_corners=True if the old behavior is desired. See the documentation of nn.Upsample for details.\n",
      "Default upsampling behavior when mode=trilinear is changed to align_corners=False since 0.4.0. Please specify align_corners=True if the old behavior is desired. See the documentation of nn.Upsample for details.\n",
      "Default upsampling behavior when mode=trilinear is changed to align_corners=False since 0.4.0. Please specify align_corners=True if the old behavior is desired. See the documentation of nn.Upsample for details.\n"
     ]
    },
    {
     "name": "stdout",
     "output_type": "stream",
     "text": [
      "1/3, train_loss: 0.3891\n",
      "2/3, train_loss: 0.3645\n",
      "3/3, train_loss: 0.3839\n",
      "4/3, train_loss: 0.3860\n",
      "5/3, train_loss: 0.3662\n",
      "6/3, train_loss: 0.3891\n",
      "7/3, train_loss: 0.3873\n",
      "8/3, train_loss: 0.3769\n",
      "9/3, train_loss: 0.3693\n",
      "10/3, train_loss: 0.3540\n",
      "11/3, train_loss: 0.3687\n",
      "12/3, train_loss: 0.3960\n",
      "13/3, train_loss: 0.3538\n",
      "14/3, train_loss: 0.4208\n",
      "0 epoch 160 average loss: 0.3790\n",
      "current epoch: 160 current mean dice: 0.2847\n",
      "best mean dice: 0.5409 at epoch: 88\n",
      "----------\n",
      "0: epoch 161/500\n"
     ]
    },
    {
     "name": "stderr",
     "output_type": "stream",
     "text": [
      "Default upsampling behavior when mode=trilinear is changed to align_corners=False since 0.4.0. Please specify align_corners=True if the old behavior is desired. See the documentation of nn.Upsample for details.\n",
      "Default upsampling behavior when mode=trilinear is changed to align_corners=False since 0.4.0. Please specify align_corners=True if the old behavior is desired. See the documentation of nn.Upsample for details.\n",
      "Default upsampling behavior when mode=trilinear is changed to align_corners=False since 0.4.0. Please specify align_corners=True if the old behavior is desired. See the documentation of nn.Upsample for details.\n",
      "Default upsampling behavior when mode=trilinear is changed to align_corners=False since 0.4.0. Please specify align_corners=True if the old behavior is desired. See the documentation of nn.Upsample for details.\n"
     ]
    },
    {
     "name": "stdout",
     "output_type": "stream",
     "text": [
      "1/3, train_loss: 0.3638\n",
      "2/3, train_loss: 0.3889\n",
      "3/3, train_loss: 0.4066\n",
      "4/3, train_loss: 0.4444\n",
      "5/3, train_loss: 0.4305\n",
      "6/3, train_loss: 0.4105\n",
      "7/3, train_loss: 0.3684\n",
      "8/3, train_loss: 0.3794\n",
      "9/3, train_loss: 0.3676\n",
      "10/3, train_loss: 0.3784\n",
      "11/3, train_loss: 0.3904\n",
      "12/3, train_loss: 0.3876\n",
      "13/3, train_loss: 0.3975\n",
      "14/3, train_loss: 0.4512\n",
      "0 epoch 161 average loss: 0.3975\n",
      "----------\n",
      "0: epoch 162/500\n"
     ]
    },
    {
     "name": "stderr",
     "output_type": "stream",
     "text": [
      "Default upsampling behavior when mode=trilinear is changed to align_corners=False since 0.4.0. Please specify align_corners=True if the old behavior is desired. See the documentation of nn.Upsample for details.\n",
      "Default upsampling behavior when mode=trilinear is changed to align_corners=False since 0.4.0. Please specify align_corners=True if the old behavior is desired. See the documentation of nn.Upsample for details.\n",
      "Default upsampling behavior when mode=trilinear is changed to align_corners=False since 0.4.0. Please specify align_corners=True if the old behavior is desired. See the documentation of nn.Upsample for details.\n",
      "Default upsampling behavior when mode=trilinear is changed to align_corners=False since 0.4.0. Please specify align_corners=True if the old behavior is desired. See the documentation of nn.Upsample for details.\n"
     ]
    },
    {
     "name": "stdout",
     "output_type": "stream",
     "text": [
      "1/3, train_loss: 0.3778\n",
      "2/3, train_loss: 0.4032\n",
      "3/3, train_loss: 0.3633\n",
      "4/3, train_loss: 0.3609\n",
      "5/3, train_loss: 0.4069\n",
      "6/3, train_loss: 0.3730\n",
      "7/3, train_loss: 0.3882\n",
      "8/3, train_loss: 0.3667\n",
      "9/3, train_loss: 0.3688\n",
      "10/3, train_loss: 0.3590\n",
      "11/3, train_loss: 0.3746\n",
      "12/3, train_loss: 0.3924\n",
      "13/3, train_loss: 0.3924\n",
      "14/3, train_loss: 0.3489\n",
      "0 epoch 162 average loss: 0.3769\n",
      "current epoch: 162 current mean dice: 0.4519\n",
      "best mean dice: 0.5409 at epoch: 88\n",
      "----------\n",
      "0: epoch 163/500\n"
     ]
    },
    {
     "name": "stderr",
     "output_type": "stream",
     "text": [
      "Default upsampling behavior when mode=trilinear is changed to align_corners=False since 0.4.0. Please specify align_corners=True if the old behavior is desired. See the documentation of nn.Upsample for details.\n",
      "Default upsampling behavior when mode=trilinear is changed to align_corners=False since 0.4.0. Please specify align_corners=True if the old behavior is desired. See the documentation of nn.Upsample for details.\n",
      "Default upsampling behavior when mode=trilinear is changed to align_corners=False since 0.4.0. Please specify align_corners=True if the old behavior is desired. See the documentation of nn.Upsample for details.\n",
      "Default upsampling behavior when mode=trilinear is changed to align_corners=False since 0.4.0. Please specify align_corners=True if the old behavior is desired. See the documentation of nn.Upsample for details.\n"
     ]
    },
    {
     "name": "stdout",
     "output_type": "stream",
     "text": [
      "1/3, train_loss: 0.3642\n",
      "2/3, train_loss: 0.3677\n",
      "3/3, train_loss: 0.3736\n",
      "4/3, train_loss: 0.3776\n",
      "5/3, train_loss: 0.3802\n",
      "6/3, train_loss: 0.3558\n",
      "7/3, train_loss: 0.3584\n",
      "8/3, train_loss: 0.3701\n",
      "9/3, train_loss: 0.3785\n",
      "10/3, train_loss: 0.3909\n",
      "11/3, train_loss: 0.3862\n",
      "12/3, train_loss: 0.3766\n",
      "13/3, train_loss: 0.3839\n",
      "14/3, train_loss: 0.3813\n",
      "0 epoch 163 average loss: 0.3746\n",
      "----------\n",
      "0: epoch 164/500\n"
     ]
    },
    {
     "name": "stderr",
     "output_type": "stream",
     "text": [
      "Default upsampling behavior when mode=trilinear is changed to align_corners=False since 0.4.0. Please specify align_corners=True if the old behavior is desired. See the documentation of nn.Upsample for details.\n",
      "Default upsampling behavior when mode=trilinear is changed to align_corners=False since 0.4.0. Please specify align_corners=True if the old behavior is desired. See the documentation of nn.Upsample for details.\n",
      "Default upsampling behavior when mode=trilinear is changed to align_corners=False since 0.4.0. Please specify align_corners=True if the old behavior is desired. See the documentation of nn.Upsample for details.\n",
      "Default upsampling behavior when mode=trilinear is changed to align_corners=False since 0.4.0. Please specify align_corners=True if the old behavior is desired. See the documentation of nn.Upsample for details.\n"
     ]
    },
    {
     "name": "stdout",
     "output_type": "stream",
     "text": [
      "1/3, train_loss: 0.3687\n",
      "2/3, train_loss: 0.3822\n",
      "3/3, train_loss: 0.3553\n",
      "4/3, train_loss: 0.3829\n",
      "5/3, train_loss: 0.3711\n",
      "6/3, train_loss: 0.3821\n",
      "7/3, train_loss: 0.3873\n",
      "8/3, train_loss: 0.3746\n",
      "9/3, train_loss: 0.3574\n",
      "10/3, train_loss: 0.3793\n",
      "11/3, train_loss: 0.3535\n",
      "12/3, train_loss: 0.3833\n",
      "13/3, train_loss: 0.3714\n",
      "14/3, train_loss: 0.5204\n",
      "0 epoch 164 average loss: 0.3835\n",
      "current epoch: 164 current mean dice: 0.4524\n",
      "best mean dice: 0.5409 at epoch: 88\n",
      "----------\n",
      "0: epoch 165/500\n"
     ]
    },
    {
     "name": "stderr",
     "output_type": "stream",
     "text": [
      "Default upsampling behavior when mode=trilinear is changed to align_corners=False since 0.4.0. Please specify align_corners=True if the old behavior is desired. See the documentation of nn.Upsample for details.\n",
      "Default upsampling behavior when mode=trilinear is changed to align_corners=False since 0.4.0. Please specify align_corners=True if the old behavior is desired. See the documentation of nn.Upsample for details.\n",
      "Default upsampling behavior when mode=trilinear is changed to align_corners=False since 0.4.0. Please specify align_corners=True if the old behavior is desired. See the documentation of nn.Upsample for details.\n",
      "Default upsampling behavior when mode=trilinear is changed to align_corners=False since 0.4.0. Please specify align_corners=True if the old behavior is desired. See the documentation of nn.Upsample for details.\n"
     ]
    },
    {
     "name": "stdout",
     "output_type": "stream",
     "text": [
      "1/3, train_loss: 0.3828\n",
      "2/3, train_loss: 0.3504\n",
      "3/3, train_loss: 0.3672\n",
      "4/3, train_loss: 0.3873\n",
      "5/3, train_loss: 0.3795\n",
      "6/3, train_loss: 0.3913\n",
      "7/3, train_loss: 0.3843\n",
      "8/3, train_loss: 0.3968\n",
      "9/3, train_loss: 0.3927\n",
      "10/3, train_loss: 0.3831\n",
      "11/3, train_loss: 0.3719\n",
      "12/3, train_loss: 0.3755\n",
      "13/3, train_loss: 0.3758\n",
      "14/3, train_loss: 0.3517\n",
      "0 epoch 165 average loss: 0.3779\n",
      "----------\n",
      "0: epoch 166/500\n"
     ]
    },
    {
     "name": "stderr",
     "output_type": "stream",
     "text": [
      "Default upsampling behavior when mode=trilinear is changed to align_corners=False since 0.4.0. Please specify align_corners=True if the old behavior is desired. See the documentation of nn.Upsample for details.\n",
      "Default upsampling behavior when mode=trilinear is changed to align_corners=False since 0.4.0. Please specify align_corners=True if the old behavior is desired. See the documentation of nn.Upsample for details.\n",
      "Default upsampling behavior when mode=trilinear is changed to align_corners=False since 0.4.0. Please specify align_corners=True if the old behavior is desired. See the documentation of nn.Upsample for details.\n",
      "Default upsampling behavior when mode=trilinear is changed to align_corners=False since 0.4.0. Please specify align_corners=True if the old behavior is desired. See the documentation of nn.Upsample for details.\n"
     ]
    },
    {
     "name": "stdout",
     "output_type": "stream",
     "text": [
      "1/3, train_loss: 0.3656\n",
      "2/3, train_loss: 0.3836\n",
      "3/3, train_loss: 0.3840\n",
      "4/3, train_loss: 0.3707\n",
      "5/3, train_loss: 0.3701\n",
      "6/3, train_loss: 0.3798\n",
      "7/3, train_loss: 0.3936\n",
      "8/3, train_loss: 0.3615\n",
      "9/3, train_loss: 0.3805\n",
      "10/3, train_loss: 0.3592\n",
      "11/3, train_loss: 0.3879\n",
      "12/3, train_loss: 0.3915\n",
      "13/3, train_loss: 0.3861\n",
      "14/3, train_loss: 0.3784\n",
      "0 epoch 166 average loss: 0.3780\n",
      "current epoch: 166 current mean dice: 0.4526\n",
      "best mean dice: 0.5409 at epoch: 88\n",
      "----------\n",
      "0: epoch 167/500\n"
     ]
    },
    {
     "name": "stderr",
     "output_type": "stream",
     "text": [
      "Default upsampling behavior when mode=trilinear is changed to align_corners=False since 0.4.0. Please specify align_corners=True if the old behavior is desired. See the documentation of nn.Upsample for details.\n",
      "Default upsampling behavior when mode=trilinear is changed to align_corners=False since 0.4.0. Please specify align_corners=True if the old behavior is desired. See the documentation of nn.Upsample for details.\n",
      "Default upsampling behavior when mode=trilinear is changed to align_corners=False since 0.4.0. Please specify align_corners=True if the old behavior is desired. See the documentation of nn.Upsample for details.\n",
      "Default upsampling behavior when mode=trilinear is changed to align_corners=False since 0.4.0. Please specify align_corners=True if the old behavior is desired. See the documentation of nn.Upsample for details.\n"
     ]
    },
    {
     "name": "stdout",
     "output_type": "stream",
     "text": [
      "1/3, train_loss: 0.3830\n",
      "2/3, train_loss: 0.3943\n",
      "3/3, train_loss: 0.3791\n",
      "4/3, train_loss: 0.3768\n",
      "5/3, train_loss: 0.3533\n",
      "6/3, train_loss: 0.3689\n",
      "7/3, train_loss: 0.3854\n",
      "8/3, train_loss: 0.3732\n",
      "9/3, train_loss: 0.3935\n",
      "10/3, train_loss: 0.3602\n",
      "11/3, train_loss: 0.3628\n",
      "12/3, train_loss: 0.3740\n",
      "13/3, train_loss: 0.3692\n",
      "14/3, train_loss: 0.4660\n",
      "0 epoch 167 average loss: 0.3814\n",
      "----------\n",
      "0: epoch 168/500\n"
     ]
    },
    {
     "name": "stderr",
     "output_type": "stream",
     "text": [
      "Default upsampling behavior when mode=trilinear is changed to align_corners=False since 0.4.0. Please specify align_corners=True if the old behavior is desired. See the documentation of nn.Upsample for details.\n",
      "Default upsampling behavior when mode=trilinear is changed to align_corners=False since 0.4.0. Please specify align_corners=True if the old behavior is desired. See the documentation of nn.Upsample for details.\n",
      "Default upsampling behavior when mode=trilinear is changed to align_corners=False since 0.4.0. Please specify align_corners=True if the old behavior is desired. See the documentation of nn.Upsample for details.\n",
      "Default upsampling behavior when mode=trilinear is changed to align_corners=False since 0.4.0. Please specify align_corners=True if the old behavior is desired. See the documentation of nn.Upsample for details.\n"
     ]
    },
    {
     "name": "stdout",
     "output_type": "stream",
     "text": [
      "1/3, train_loss: 0.3953\n",
      "2/3, train_loss: 0.3694\n",
      "3/3, train_loss: 0.3728\n",
      "4/3, train_loss: 0.3793\n",
      "5/3, train_loss: 0.3619\n",
      "6/3, train_loss: 0.3869\n",
      "7/3, train_loss: 0.3702\n",
      "8/3, train_loss: 0.3702\n",
      "9/3, train_loss: 0.3894\n",
      "10/3, train_loss: 0.3778\n",
      "11/3, train_loss: 0.3803\n",
      "12/3, train_loss: 0.3672\n",
      "13/3, train_loss: 0.3613\n",
      "14/3, train_loss: 0.4931\n",
      "0 epoch 168 average loss: 0.3839\n",
      "current epoch: 168 current mean dice: 0.4279\n",
      "best mean dice: 0.5409 at epoch: 88\n",
      "----------\n",
      "0: epoch 169/500\n"
     ]
    },
    {
     "name": "stderr",
     "output_type": "stream",
     "text": [
      "Default upsampling behavior when mode=trilinear is changed to align_corners=False since 0.4.0. Please specify align_corners=True if the old behavior is desired. See the documentation of nn.Upsample for details.\n",
      "Default upsampling behavior when mode=trilinear is changed to align_corners=False since 0.4.0. Please specify align_corners=True if the old behavior is desired. See the documentation of nn.Upsample for details.\n",
      "Default upsampling behavior when mode=trilinear is changed to align_corners=False since 0.4.0. Please specify align_corners=True if the old behavior is desired. See the documentation of nn.Upsample for details.\n",
      "Default upsampling behavior when mode=trilinear is changed to align_corners=False since 0.4.0. Please specify align_corners=True if the old behavior is desired. See the documentation of nn.Upsample for details.\n"
     ]
    },
    {
     "name": "stdout",
     "output_type": "stream",
     "text": [
      "1/3, train_loss: 0.3455\n",
      "2/3, train_loss: 0.3631\n",
      "3/3, train_loss: 0.3934\n",
      "4/3, train_loss: 0.4035\n",
      "5/3, train_loss: 0.3811\n",
      "6/3, train_loss: 0.3872\n",
      "7/3, train_loss: 0.3819\n",
      "8/3, train_loss: 0.3728\n",
      "9/3, train_loss: 0.4153\n",
      "10/3, train_loss: 0.3741\n",
      "11/3, train_loss: 0.3646\n",
      "12/3, train_loss: 0.3664\n",
      "13/3, train_loss: 0.3753\n",
      "14/3, train_loss: 0.4291\n",
      "0 epoch 169 average loss: 0.3824\n",
      "----------\n",
      "0: epoch 170/500\n"
     ]
    },
    {
     "name": "stderr",
     "output_type": "stream",
     "text": [
      "Default upsampling behavior when mode=trilinear is changed to align_corners=False since 0.4.0. Please specify align_corners=True if the old behavior is desired. See the documentation of nn.Upsample for details.\n",
      "Default upsampling behavior when mode=trilinear is changed to align_corners=False since 0.4.0. Please specify align_corners=True if the old behavior is desired. See the documentation of nn.Upsample for details.\n",
      "Default upsampling behavior when mode=trilinear is changed to align_corners=False since 0.4.0. Please specify align_corners=True if the old behavior is desired. See the documentation of nn.Upsample for details.\n",
      "Default upsampling behavior when mode=trilinear is changed to align_corners=False since 0.4.0. Please specify align_corners=True if the old behavior is desired. See the documentation of nn.Upsample for details.\n"
     ]
    },
    {
     "name": "stdout",
     "output_type": "stream",
     "text": [
      "1/3, train_loss: 0.3638\n",
      "2/3, train_loss: 0.3763\n",
      "3/3, train_loss: 0.3677\n",
      "4/3, train_loss: 0.3732\n",
      "5/3, train_loss: 0.4060\n",
      "6/3, train_loss: 0.4445\n",
      "7/3, train_loss: 0.4081\n",
      "8/3, train_loss: 0.3988\n",
      "9/3, train_loss: 0.3681\n",
      "10/3, train_loss: 0.4584\n",
      "11/3, train_loss: 0.4195\n",
      "12/3, train_loss: 0.4004\n",
      "13/3, train_loss: 0.3973\n",
      "14/3, train_loss: 0.3552\n",
      "0 epoch 170 average loss: 0.3955\n",
      "current epoch: 170 current mean dice: 0.3456\n",
      "best mean dice: 0.5409 at epoch: 88\n",
      "----------\n",
      "0: epoch 171/500\n"
     ]
    },
    {
     "name": "stderr",
     "output_type": "stream",
     "text": [
      "Default upsampling behavior when mode=trilinear is changed to align_corners=False since 0.4.0. Please specify align_corners=True if the old behavior is desired. See the documentation of nn.Upsample for details.\n",
      "Default upsampling behavior when mode=trilinear is changed to align_corners=False since 0.4.0. Please specify align_corners=True if the old behavior is desired. See the documentation of nn.Upsample for details.\n",
      "Default upsampling behavior when mode=trilinear is changed to align_corners=False since 0.4.0. Please specify align_corners=True if the old behavior is desired. See the documentation of nn.Upsample for details.\n",
      "Default upsampling behavior when mode=trilinear is changed to align_corners=False since 0.4.0. Please specify align_corners=True if the old behavior is desired. See the documentation of nn.Upsample for details.\n"
     ]
    },
    {
     "name": "stdout",
     "output_type": "stream",
     "text": [
      "1/3, train_loss: 0.4046\n",
      "2/3, train_loss: 0.3880\n",
      "3/3, train_loss: 0.3764\n",
      "4/3, train_loss: 0.3915\n",
      "5/3, train_loss: 0.3882\n",
      "6/3, train_loss: 0.3773\n",
      "7/3, train_loss: 0.3817\n",
      "8/3, train_loss: 0.4003\n",
      "9/3, train_loss: 0.3704\n",
      "10/3, train_loss: 0.4133\n",
      "11/3, train_loss: 0.3592\n",
      "12/3, train_loss: 0.3988\n",
      "13/3, train_loss: 0.4122\n",
      "14/3, train_loss: 0.3760\n",
      "0 epoch 171 average loss: 0.3884\n",
      "----------\n",
      "0: epoch 172/500\n"
     ]
    },
    {
     "name": "stderr",
     "output_type": "stream",
     "text": [
      "Default upsampling behavior when mode=trilinear is changed to align_corners=False since 0.4.0. Please specify align_corners=True if the old behavior is desired. See the documentation of nn.Upsample for details.\n",
      "Default upsampling behavior when mode=trilinear is changed to align_corners=False since 0.4.0. Please specify align_corners=True if the old behavior is desired. See the documentation of nn.Upsample for details.\n",
      "Default upsampling behavior when mode=trilinear is changed to align_corners=False since 0.4.0. Please specify align_corners=True if the old behavior is desired. See the documentation of nn.Upsample for details.\n",
      "Default upsampling behavior when mode=trilinear is changed to align_corners=False since 0.4.0. Please specify align_corners=True if the old behavior is desired. See the documentation of nn.Upsample for details.\n"
     ]
    },
    {
     "name": "stdout",
     "output_type": "stream",
     "text": [
      "1/3, train_loss: 0.3716\n",
      "2/3, train_loss: 0.4205\n",
      "3/3, train_loss: 0.3772\n",
      "4/3, train_loss: 0.3834\n",
      "5/3, train_loss: 0.3907\n",
      "6/3, train_loss: 0.4018\n",
      "7/3, train_loss: 0.3842\n",
      "8/3, train_loss: 0.3804\n",
      "9/3, train_loss: 0.3626\n",
      "10/3, train_loss: 0.3833\n",
      "11/3, train_loss: 0.3703\n",
      "12/3, train_loss: 0.3648\n",
      "13/3, train_loss: 0.3851\n",
      "14/3, train_loss: 0.3692\n",
      "0 epoch 172 average loss: 0.3818\n",
      "current epoch: 172 current mean dice: 0.3692\n",
      "best mean dice: 0.5409 at epoch: 88\n",
      "----------\n",
      "0: epoch 173/500\n"
     ]
    },
    {
     "name": "stderr",
     "output_type": "stream",
     "text": [
      "Default upsampling behavior when mode=trilinear is changed to align_corners=False since 0.4.0. Please specify align_corners=True if the old behavior is desired. See the documentation of nn.Upsample for details.\n",
      "Default upsampling behavior when mode=trilinear is changed to align_corners=False since 0.4.0. Please specify align_corners=True if the old behavior is desired. See the documentation of nn.Upsample for details.\n",
      "Default upsampling behavior when mode=trilinear is changed to align_corners=False since 0.4.0. Please specify align_corners=True if the old behavior is desired. See the documentation of nn.Upsample for details.\n",
      "Default upsampling behavior when mode=trilinear is changed to align_corners=False since 0.4.0. Please specify align_corners=True if the old behavior is desired. See the documentation of nn.Upsample for details.\n"
     ]
    },
    {
     "name": "stdout",
     "output_type": "stream",
     "text": [
      "1/3, train_loss: 0.3955\n",
      "2/3, train_loss: 0.3585\n",
      "3/3, train_loss: 0.3571\n",
      "4/3, train_loss: 0.3994\n",
      "5/3, train_loss: 0.3633\n",
      "6/3, train_loss: 0.3938\n",
      "7/3, train_loss: 0.3743\n",
      "8/3, train_loss: 0.3824\n",
      "9/3, train_loss: 0.3772\n",
      "10/3, train_loss: 0.3896\n",
      "11/3, train_loss: 0.3672\n",
      "12/3, train_loss: 0.3751\n",
      "13/3, train_loss: 0.4071\n",
      "14/3, train_loss: 0.3741\n",
      "0 epoch 173 average loss: 0.3796\n",
      "----------\n",
      "0: epoch 174/500\n"
     ]
    },
    {
     "name": "stderr",
     "output_type": "stream",
     "text": [
      "Default upsampling behavior when mode=trilinear is changed to align_corners=False since 0.4.0. Please specify align_corners=True if the old behavior is desired. See the documentation of nn.Upsample for details.\n",
      "Default upsampling behavior when mode=trilinear is changed to align_corners=False since 0.4.0. Please specify align_corners=True if the old behavior is desired. See the documentation of nn.Upsample for details.\n",
      "Default upsampling behavior when mode=trilinear is changed to align_corners=False since 0.4.0. Please specify align_corners=True if the old behavior is desired. See the documentation of nn.Upsample for details.\n",
      "Default upsampling behavior when mode=trilinear is changed to align_corners=False since 0.4.0. Please specify align_corners=True if the old behavior is desired. See the documentation of nn.Upsample for details.\n"
     ]
    },
    {
     "name": "stdout",
     "output_type": "stream",
     "text": [
      "1/3, train_loss: 0.3532\n",
      "2/3, train_loss: 0.3657\n",
      "3/3, train_loss: 0.3901\n",
      "4/3, train_loss: 0.3932\n",
      "5/3, train_loss: 0.3503\n",
      "6/3, train_loss: 0.3682\n",
      "7/3, train_loss: 0.3967\n",
      "8/3, train_loss: 0.3867\n",
      "9/3, train_loss: 0.3667\n",
      "10/3, train_loss: 0.3752\n",
      "11/3, train_loss: 0.3709\n",
      "12/3, train_loss: 0.3682\n",
      "13/3, train_loss: 0.3784\n",
      "14/3, train_loss: 0.4030\n",
      "0 epoch 174 average loss: 0.3762\n",
      "current epoch: 174 current mean dice: 0.4208\n",
      "best mean dice: 0.5409 at epoch: 88\n",
      "----------\n",
      "0: epoch 175/500\n"
     ]
    },
    {
     "name": "stderr",
     "output_type": "stream",
     "text": [
      "Default upsampling behavior when mode=trilinear is changed to align_corners=False since 0.4.0. Please specify align_corners=True if the old behavior is desired. See the documentation of nn.Upsample for details.\n",
      "Default upsampling behavior when mode=trilinear is changed to align_corners=False since 0.4.0. Please specify align_corners=True if the old behavior is desired. See the documentation of nn.Upsample for details.\n",
      "Default upsampling behavior when mode=trilinear is changed to align_corners=False since 0.4.0. Please specify align_corners=True if the old behavior is desired. See the documentation of nn.Upsample for details.\n",
      "Default upsampling behavior when mode=trilinear is changed to align_corners=False since 0.4.0. Please specify align_corners=True if the old behavior is desired. See the documentation of nn.Upsample for details.\n"
     ]
    },
    {
     "name": "stdout",
     "output_type": "stream",
     "text": [
      "1/3, train_loss: 0.3609\n",
      "2/3, train_loss: 0.3575\n",
      "3/3, train_loss: 0.3646\n",
      "4/3, train_loss: 0.3748\n",
      "5/3, train_loss: 0.3625\n",
      "6/3, train_loss: 0.3707\n",
      "7/3, train_loss: 0.3709\n",
      "8/3, train_loss: 0.3793\n",
      "9/3, train_loss: 0.3682\n",
      "10/3, train_loss: 0.3874\n",
      "11/3, train_loss: 0.3707\n",
      "12/3, train_loss: 0.3756\n",
      "13/3, train_loss: 0.4063\n",
      "14/3, train_loss: 0.4006\n",
      "0 epoch 175 average loss: 0.3750\n",
      "----------\n",
      "0: epoch 176/500\n"
     ]
    },
    {
     "name": "stderr",
     "output_type": "stream",
     "text": [
      "Default upsampling behavior when mode=trilinear is changed to align_corners=False since 0.4.0. Please specify align_corners=True if the old behavior is desired. See the documentation of nn.Upsample for details.\n",
      "Default upsampling behavior when mode=trilinear is changed to align_corners=False since 0.4.0. Please specify align_corners=True if the old behavior is desired. See the documentation of nn.Upsample for details.\n",
      "Default upsampling behavior when mode=trilinear is changed to align_corners=False since 0.4.0. Please specify align_corners=True if the old behavior is desired. See the documentation of nn.Upsample for details.\n",
      "Default upsampling behavior when mode=trilinear is changed to align_corners=False since 0.4.0. Please specify align_corners=True if the old behavior is desired. See the documentation of nn.Upsample for details.\n"
     ]
    },
    {
     "name": "stdout",
     "output_type": "stream",
     "text": [
      "1/3, train_loss: 0.3780\n",
      "2/3, train_loss: 0.3770\n",
      "3/3, train_loss: 0.3802\n",
      "4/3, train_loss: 0.3590\n",
      "5/3, train_loss: 0.3921\n",
      "6/3, train_loss: 0.3597\n",
      "7/3, train_loss: 0.3669\n",
      "8/3, train_loss: 0.3674\n",
      "9/3, train_loss: 0.3678\n",
      "10/3, train_loss: 0.3864\n",
      "11/3, train_loss: 0.3712\n",
      "12/3, train_loss: 0.3656\n",
      "13/3, train_loss: 0.3651\n",
      "14/3, train_loss: 0.3621\n",
      "0 epoch 176 average loss: 0.3713\n",
      "current epoch: 176 current mean dice: 0.4382\n",
      "best mean dice: 0.5409 at epoch: 88\n",
      "----------\n",
      "0: epoch 177/500\n"
     ]
    },
    {
     "name": "stderr",
     "output_type": "stream",
     "text": [
      "Default upsampling behavior when mode=trilinear is changed to align_corners=False since 0.4.0. Please specify align_corners=True if the old behavior is desired. See the documentation of nn.Upsample for details.\n",
      "Default upsampling behavior when mode=trilinear is changed to align_corners=False since 0.4.0. Please specify align_corners=True if the old behavior is desired. See the documentation of nn.Upsample for details.\n",
      "Default upsampling behavior when mode=trilinear is changed to align_corners=False since 0.4.0. Please specify align_corners=True if the old behavior is desired. See the documentation of nn.Upsample for details.\n",
      "Default upsampling behavior when mode=trilinear is changed to align_corners=False since 0.4.0. Please specify align_corners=True if the old behavior is desired. See the documentation of nn.Upsample for details.\n"
     ]
    },
    {
     "name": "stdout",
     "output_type": "stream",
     "text": [
      "1/3, train_loss: 0.3654\n",
      "2/3, train_loss: 0.3538\n",
      "3/3, train_loss: 0.3843\n",
      "4/3, train_loss: 0.3913\n",
      "5/3, train_loss: 0.3580\n",
      "6/3, train_loss: 0.3778\n",
      "7/3, train_loss: 0.3569\n",
      "8/3, train_loss: 0.3808\n",
      "9/3, train_loss: 0.3659\n",
      "10/3, train_loss: 0.3675\n",
      "11/3, train_loss: 0.3864\n",
      "12/3, train_loss: 0.3640\n",
      "13/3, train_loss: 0.3784\n",
      "14/3, train_loss: 0.3692\n",
      "0 epoch 177 average loss: 0.3714\n",
      "----------\n",
      "0: epoch 178/500\n"
     ]
    },
    {
     "name": "stderr",
     "output_type": "stream",
     "text": [
      "Default upsampling behavior when mode=trilinear is changed to align_corners=False since 0.4.0. Please specify align_corners=True if the old behavior is desired. See the documentation of nn.Upsample for details.\n",
      "Default upsampling behavior when mode=trilinear is changed to align_corners=False since 0.4.0. Please specify align_corners=True if the old behavior is desired. See the documentation of nn.Upsample for details.\n",
      "Default upsampling behavior when mode=trilinear is changed to align_corners=False since 0.4.0. Please specify align_corners=True if the old behavior is desired. See the documentation of nn.Upsample for details.\n"
     ]
    },
    {
     "name": "stdout",
     "output_type": "stream",
     "text": [
      "1/3, train_loss: 0.3958\n",
      "2/3, train_loss: 0.3759\n"
     ]
    },
    {
     "name": "stderr",
     "output_type": "stream",
     "text": [
      "Default upsampling behavior when mode=trilinear is changed to align_corners=False since 0.4.0. Please specify align_corners=True if the old behavior is desired. See the documentation of nn.Upsample for details.\n"
     ]
    },
    {
     "name": "stdout",
     "output_type": "stream",
     "text": [
      "3/3, train_loss: 0.4207\n",
      "4/3, train_loss: 0.3547\n",
      "5/3, train_loss: 0.3599\n",
      "6/3, train_loss: 0.3605\n",
      "7/3, train_loss: 0.3869\n",
      "8/3, train_loss: 0.3521\n",
      "9/3, train_loss: 0.3766\n",
      "10/3, train_loss: 0.3676\n",
      "11/3, train_loss: 0.3497\n",
      "12/3, train_loss: 0.3673\n",
      "13/3, train_loss: 0.3811\n",
      "14/3, train_loss: 0.3990\n",
      "0 epoch 178 average loss: 0.3748\n",
      "current epoch: 178 current mean dice: 0.4192\n",
      "best mean dice: 0.5409 at epoch: 88\n",
      "----------\n",
      "0: epoch 179/500\n"
     ]
    },
    {
     "name": "stderr",
     "output_type": "stream",
     "text": [
      "Default upsampling behavior when mode=trilinear is changed to align_corners=False since 0.4.0. Please specify align_corners=True if the old behavior is desired. See the documentation of nn.Upsample for details.\n",
      "Default upsampling behavior when mode=trilinear is changed to align_corners=False since 0.4.0. Please specify align_corners=True if the old behavior is desired. See the documentation of nn.Upsample for details.\n",
      "Default upsampling behavior when mode=trilinear is changed to align_corners=False since 0.4.0. Please specify align_corners=True if the old behavior is desired. See the documentation of nn.Upsample for details.\n",
      "Default upsampling behavior when mode=trilinear is changed to align_corners=False since 0.4.0. Please specify align_corners=True if the old behavior is desired. See the documentation of nn.Upsample for details.\n"
     ]
    },
    {
     "name": "stdout",
     "output_type": "stream",
     "text": [
      "1/3, train_loss: 0.3630\n",
      "2/3, train_loss: 0.3648\n",
      "3/3, train_loss: 0.3520\n",
      "4/3, train_loss: 0.3817\n",
      "5/3, train_loss: 0.3869\n",
      "6/3, train_loss: 0.3756\n",
      "7/3, train_loss: 0.3825\n",
      "8/3, train_loss: 0.3660\n",
      "9/3, train_loss: 0.3599\n",
      "10/3, train_loss: 0.3632\n",
      "11/3, train_loss: 0.3595\n",
      "12/3, train_loss: 0.3841\n",
      "13/3, train_loss: 0.3594\n",
      "14/3, train_loss: 0.3639\n",
      "0 epoch 179 average loss: 0.3687\n",
      "----------\n",
      "0: epoch 180/500\n"
     ]
    },
    {
     "name": "stderr",
     "output_type": "stream",
     "text": [
      "Default upsampling behavior when mode=trilinear is changed to align_corners=False since 0.4.0. Please specify align_corners=True if the old behavior is desired. See the documentation of nn.Upsample for details.\n",
      "Default upsampling behavior when mode=trilinear is changed to align_corners=False since 0.4.0. Please specify align_corners=True if the old behavior is desired. See the documentation of nn.Upsample for details.\n",
      "Default upsampling behavior when mode=trilinear is changed to align_corners=False since 0.4.0. Please specify align_corners=True if the old behavior is desired. See the documentation of nn.Upsample for details.\n",
      "Default upsampling behavior when mode=trilinear is changed to align_corners=False since 0.4.0. Please specify align_corners=True if the old behavior is desired. See the documentation of nn.Upsample for details.\n"
     ]
    },
    {
     "name": "stdout",
     "output_type": "stream",
     "text": [
      "1/3, train_loss: 0.3539\n",
      "2/3, train_loss: 0.3641\n",
      "3/3, train_loss: 0.3614\n",
      "4/3, train_loss: 0.3883\n",
      "5/3, train_loss: 0.3696\n",
      "6/3, train_loss: 0.3518\n",
      "7/3, train_loss: 0.3892\n",
      "8/3, train_loss: 0.3580\n",
      "9/3, train_loss: 0.3918\n",
      "10/3, train_loss: 0.3628\n",
      "11/3, train_loss: 0.3652\n",
      "12/3, train_loss: 0.3806\n",
      "13/3, train_loss: 0.3742\n",
      "14/3, train_loss: 0.3601\n",
      "0 epoch 180 average loss: 0.3694\n",
      "current epoch: 180 current mean dice: 0.4299\n",
      "best mean dice: 0.5409 at epoch: 88\n",
      "----------\n",
      "0: epoch 181/500\n"
     ]
    },
    {
     "name": "stderr",
     "output_type": "stream",
     "text": [
      "Default upsampling behavior when mode=trilinear is changed to align_corners=False since 0.4.0. Please specify align_corners=True if the old behavior is desired. See the documentation of nn.Upsample for details.\n",
      "Default upsampling behavior when mode=trilinear is changed to align_corners=False since 0.4.0. Please specify align_corners=True if the old behavior is desired. See the documentation of nn.Upsample for details.\n",
      "Default upsampling behavior when mode=trilinear is changed to align_corners=False since 0.4.0. Please specify align_corners=True if the old behavior is desired. See the documentation of nn.Upsample for details.\n",
      "Default upsampling behavior when mode=trilinear is changed to align_corners=False since 0.4.0. Please specify align_corners=True if the old behavior is desired. See the documentation of nn.Upsample for details.\n"
     ]
    },
    {
     "name": "stdout",
     "output_type": "stream",
     "text": [
      "1/3, train_loss: 0.3669\n",
      "2/3, train_loss: 0.3664\n",
      "3/3, train_loss: 0.3801\n",
      "4/3, train_loss: 0.3604\n",
      "5/3, train_loss: 0.4011\n",
      "6/3, train_loss: 0.3708\n",
      "7/3, train_loss: 0.3674\n",
      "8/3, train_loss: 0.3792\n",
      "9/3, train_loss: 0.3560\n",
      "10/3, train_loss: 0.3650\n",
      "11/3, train_loss: 0.3655\n",
      "12/3, train_loss: 0.3519\n",
      "13/3, train_loss: 0.3686\n",
      "14/3, train_loss: 0.3511\n",
      "0 epoch 181 average loss: 0.3679\n",
      "----------\n",
      "0: epoch 182/500\n"
     ]
    },
    {
     "name": "stderr",
     "output_type": "stream",
     "text": [
      "Default upsampling behavior when mode=trilinear is changed to align_corners=False since 0.4.0. Please specify align_corners=True if the old behavior is desired. See the documentation of nn.Upsample for details.\n",
      "Default upsampling behavior when mode=trilinear is changed to align_corners=False since 0.4.0. Please specify align_corners=True if the old behavior is desired. See the documentation of nn.Upsample for details.\n",
      "Default upsampling behavior when mode=trilinear is changed to align_corners=False since 0.4.0. Please specify align_corners=True if the old behavior is desired. See the documentation of nn.Upsample for details.\n",
      "Default upsampling behavior when mode=trilinear is changed to align_corners=False since 0.4.0. Please specify align_corners=True if the old behavior is desired. See the documentation of nn.Upsample for details.\n"
     ]
    },
    {
     "name": "stdout",
     "output_type": "stream",
     "text": [
      "1/3, train_loss: 0.3816\n",
      "2/3, train_loss: 0.3710\n",
      "3/3, train_loss: 0.3780\n",
      "4/3, train_loss: 0.3568\n",
      "5/3, train_loss: 0.3535\n",
      "6/3, train_loss: 0.3540\n",
      "7/3, train_loss: 0.3640\n",
      "8/3, train_loss: 0.3577\n",
      "9/3, train_loss: 0.4129\n",
      "10/3, train_loss: 0.3536\n",
      "11/3, train_loss: 0.3661\n",
      "12/3, train_loss: 0.3531\n",
      "13/3, train_loss: 0.3701\n",
      "14/3, train_loss: 0.3865\n",
      "0 epoch 182 average loss: 0.3685\n",
      "current epoch: 182 current mean dice: 0.4211\n",
      "best mean dice: 0.5409 at epoch: 88\n",
      "----------\n",
      "0: epoch 183/500\n"
     ]
    },
    {
     "name": "stderr",
     "output_type": "stream",
     "text": [
      "Default upsampling behavior when mode=trilinear is changed to align_corners=False since 0.4.0. Please specify align_corners=True if the old behavior is desired. See the documentation of nn.Upsample for details.\n",
      "Default upsampling behavior when mode=trilinear is changed to align_corners=False since 0.4.0. Please specify align_corners=True if the old behavior is desired. See the documentation of nn.Upsample for details.\n",
      "Default upsampling behavior when mode=trilinear is changed to align_corners=False since 0.4.0. Please specify align_corners=True if the old behavior is desired. See the documentation of nn.Upsample for details.\n",
      "Default upsampling behavior when mode=trilinear is changed to align_corners=False since 0.4.0. Please specify align_corners=True if the old behavior is desired. See the documentation of nn.Upsample for details.\n"
     ]
    },
    {
     "name": "stdout",
     "output_type": "stream",
     "text": [
      "1/3, train_loss: 0.3765\n",
      "2/3, train_loss: 0.3914\n",
      "3/3, train_loss: 0.3530\n",
      "4/3, train_loss: 0.3616\n",
      "5/3, train_loss: 0.3746\n",
      "6/3, train_loss: 0.3480\n",
      "7/3, train_loss: 0.3626\n",
      "8/3, train_loss: 0.3819\n",
      "9/3, train_loss: 0.3779\n",
      "10/3, train_loss: 0.3729\n",
      "11/3, train_loss: 0.3585\n",
      "12/3, train_loss: 0.3552\n",
      "13/3, train_loss: 0.3548\n",
      "14/3, train_loss: 0.4073\n",
      "0 epoch 183 average loss: 0.3697\n",
      "----------\n",
      "0: epoch 184/500\n"
     ]
    },
    {
     "name": "stderr",
     "output_type": "stream",
     "text": [
      "Default upsampling behavior when mode=trilinear is changed to align_corners=False since 0.4.0. Please specify align_corners=True if the old behavior is desired. See the documentation of nn.Upsample for details.\n",
      "Default upsampling behavior when mode=trilinear is changed to align_corners=False since 0.4.0. Please specify align_corners=True if the old behavior is desired. See the documentation of nn.Upsample for details.\n",
      "Default upsampling behavior when mode=trilinear is changed to align_corners=False since 0.4.0. Please specify align_corners=True if the old behavior is desired. See the documentation of nn.Upsample for details.\n",
      "Default upsampling behavior when mode=trilinear is changed to align_corners=False since 0.4.0. Please specify align_corners=True if the old behavior is desired. See the documentation of nn.Upsample for details.\n"
     ]
    },
    {
     "name": "stdout",
     "output_type": "stream",
     "text": [
      "1/3, train_loss: 0.3561\n",
      "2/3, train_loss: 0.3634\n",
      "3/3, train_loss: 0.3569\n",
      "4/3, train_loss: 0.3731\n",
      "5/3, train_loss: 0.3831\n",
      "6/3, train_loss: 0.3707\n",
      "7/3, train_loss: 0.3520\n",
      "8/3, train_loss: 0.3950\n",
      "9/3, train_loss: 0.3780\n",
      "10/3, train_loss: 0.3552\n",
      "11/3, train_loss: 0.3616\n",
      "12/3, train_loss: 0.3994\n",
      "13/3, train_loss: 0.3646\n",
      "14/3, train_loss: 0.3769\n",
      "0 epoch 184 average loss: 0.3704\n",
      "current epoch: 184 current mean dice: 0.4462\n",
      "best mean dice: 0.5409 at epoch: 88\n",
      "----------\n",
      "0: epoch 185/500\n"
     ]
    },
    {
     "name": "stderr",
     "output_type": "stream",
     "text": [
      "Default upsampling behavior when mode=trilinear is changed to align_corners=False since 0.4.0. Please specify align_corners=True if the old behavior is desired. See the documentation of nn.Upsample for details.\n",
      "Default upsampling behavior when mode=trilinear is changed to align_corners=False since 0.4.0. Please specify align_corners=True if the old behavior is desired. See the documentation of nn.Upsample for details.\n",
      "Default upsampling behavior when mode=trilinear is changed to align_corners=False since 0.4.0. Please specify align_corners=True if the old behavior is desired. See the documentation of nn.Upsample for details.\n",
      "Default upsampling behavior when mode=trilinear is changed to align_corners=False since 0.4.0. Please specify align_corners=True if the old behavior is desired. See the documentation of nn.Upsample for details.\n"
     ]
    },
    {
     "name": "stdout",
     "output_type": "stream",
     "text": [
      "1/3, train_loss: 0.3726\n",
      "2/3, train_loss: 0.3569\n",
      "3/3, train_loss: 0.3601\n",
      "4/3, train_loss: 0.3564\n",
      "5/3, train_loss: 0.3774\n",
      "6/3, train_loss: 0.3579\n",
      "7/3, train_loss: 0.3820\n",
      "8/3, train_loss: 0.3489\n",
      "9/3, train_loss: 0.3624\n",
      "10/3, train_loss: 0.3839\n",
      "11/3, train_loss: 0.3731\n",
      "12/3, train_loss: 0.3719\n",
      "13/3, train_loss: 0.3685\n",
      "14/3, train_loss: 0.3945\n",
      "0 epoch 185 average loss: 0.3690\n",
      "----------\n",
      "0: epoch 186/500\n"
     ]
    },
    {
     "name": "stderr",
     "output_type": "stream",
     "text": [
      "Default upsampling behavior when mode=trilinear is changed to align_corners=False since 0.4.0. Please specify align_corners=True if the old behavior is desired. See the documentation of nn.Upsample for details.\n",
      "Default upsampling behavior when mode=trilinear is changed to align_corners=False since 0.4.0. Please specify align_corners=True if the old behavior is desired. See the documentation of nn.Upsample for details.\n",
      "Default upsampling behavior when mode=trilinear is changed to align_corners=False since 0.4.0. Please specify align_corners=True if the old behavior is desired. See the documentation of nn.Upsample for details.\n",
      "Default upsampling behavior when mode=trilinear is changed to align_corners=False since 0.4.0. Please specify align_corners=True if the old behavior is desired. See the documentation of nn.Upsample for details.\n"
     ]
    },
    {
     "name": "stdout",
     "output_type": "stream",
     "text": [
      "1/3, train_loss: 0.3788\n",
      "2/3, train_loss: 0.3548\n",
      "3/3, train_loss: 0.3584\n",
      "4/3, train_loss: 0.3618\n",
      "5/3, train_loss: 0.3738\n",
      "6/3, train_loss: 0.3708\n",
      "7/3, train_loss: 0.3499\n",
      "8/3, train_loss: 0.3707\n",
      "9/3, train_loss: 0.3610\n",
      "10/3, train_loss: 0.3523\n",
      "11/3, train_loss: 0.3890\n",
      "12/3, train_loss: 0.3692\n",
      "13/3, train_loss: 0.3842\n",
      "14/3, train_loss: 0.3702\n",
      "0 epoch 186 average loss: 0.3675\n",
      "current epoch: 186 current mean dice: 0.3988\n",
      "best mean dice: 0.5409 at epoch: 88\n",
      "----------\n",
      "0: epoch 187/500\n"
     ]
    },
    {
     "name": "stderr",
     "output_type": "stream",
     "text": [
      "Default upsampling behavior when mode=trilinear is changed to align_corners=False since 0.4.0. Please specify align_corners=True if the old behavior is desired. See the documentation of nn.Upsample for details.\n",
      "Default upsampling behavior when mode=trilinear is changed to align_corners=False since 0.4.0. Please specify align_corners=True if the old behavior is desired. See the documentation of nn.Upsample for details.\n",
      "Default upsampling behavior when mode=trilinear is changed to align_corners=False since 0.4.0. Please specify align_corners=True if the old behavior is desired. See the documentation of nn.Upsample for details.\n",
      "Default upsampling behavior when mode=trilinear is changed to align_corners=False since 0.4.0. Please specify align_corners=True if the old behavior is desired. See the documentation of nn.Upsample for details.\n"
     ]
    },
    {
     "name": "stdout",
     "output_type": "stream",
     "text": [
      "1/3, train_loss: 0.3762\n",
      "2/3, train_loss: 0.3674\n",
      "3/3, train_loss: 0.3676\n",
      "4/3, train_loss: 0.3662\n",
      "5/3, train_loss: 0.3610\n",
      "6/3, train_loss: 0.3717\n",
      "7/3, train_loss: 0.3582\n",
      "8/3, train_loss: 0.3699\n",
      "9/3, train_loss: 0.3696\n",
      "10/3, train_loss: 0.3664\n",
      "11/3, train_loss: 0.3659\n",
      "12/3, train_loss: 0.3625\n",
      "13/3, train_loss: 0.3584\n",
      "14/3, train_loss: 0.3299\n",
      "0 epoch 187 average loss: 0.3636\n",
      "----------\n",
      "0: epoch 188/500\n"
     ]
    },
    {
     "name": "stderr",
     "output_type": "stream",
     "text": [
      "Default upsampling behavior when mode=trilinear is changed to align_corners=False since 0.4.0. Please specify align_corners=True if the old behavior is desired. See the documentation of nn.Upsample for details.\n",
      "Default upsampling behavior when mode=trilinear is changed to align_corners=False since 0.4.0. Please specify align_corners=True if the old behavior is desired. See the documentation of nn.Upsample for details.\n",
      "Default upsampling behavior when mode=trilinear is changed to align_corners=False since 0.4.0. Please specify align_corners=True if the old behavior is desired. See the documentation of nn.Upsample for details.\n",
      "Default upsampling behavior when mode=trilinear is changed to align_corners=False since 0.4.0. Please specify align_corners=True if the old behavior is desired. See the documentation of nn.Upsample for details.\n"
     ]
    },
    {
     "name": "stdout",
     "output_type": "stream",
     "text": [
      "1/3, train_loss: 0.3816\n",
      "2/3, train_loss: 0.3518\n",
      "3/3, train_loss: 0.3675\n",
      "4/3, train_loss: 0.3612\n",
      "5/3, train_loss: 0.3491\n",
      "6/3, train_loss: 0.3540\n",
      "7/3, train_loss: 0.3802\n",
      "8/3, train_loss: 0.3850\n",
      "9/3, train_loss: 0.3762\n",
      "10/3, train_loss: 0.3465\n",
      "11/3, train_loss: 0.3669\n",
      "12/3, train_loss: 0.3740\n",
      "13/3, train_loss: 0.3709\n",
      "14/3, train_loss: 0.3653\n",
      "0 epoch 188 average loss: 0.3664\n",
      "current epoch: 188 current mean dice: 0.4384\n",
      "best mean dice: 0.5409 at epoch: 88\n",
      "----------\n",
      "0: epoch 189/500\n"
     ]
    },
    {
     "name": "stderr",
     "output_type": "stream",
     "text": [
      "Default upsampling behavior when mode=trilinear is changed to align_corners=False since 0.4.0. Please specify align_corners=True if the old behavior is desired. See the documentation of nn.Upsample for details.\n",
      "Default upsampling behavior when mode=trilinear is changed to align_corners=False since 0.4.0. Please specify align_corners=True if the old behavior is desired. See the documentation of nn.Upsample for details.\n",
      "Default upsampling behavior when mode=trilinear is changed to align_corners=False since 0.4.0. Please specify align_corners=True if the old behavior is desired. See the documentation of nn.Upsample for details.\n",
      "Default upsampling behavior when mode=trilinear is changed to align_corners=False since 0.4.0. Please specify align_corners=True if the old behavior is desired. See the documentation of nn.Upsample for details.\n"
     ]
    },
    {
     "name": "stdout",
     "output_type": "stream",
     "text": [
      "1/3, train_loss: 0.3736\n",
      "2/3, train_loss: 0.3613\n",
      "3/3, train_loss: 0.3576\n",
      "4/3, train_loss: 0.3811\n",
      "5/3, train_loss: 0.3494\n",
      "6/3, train_loss: 0.3754\n",
      "7/3, train_loss: 0.3594\n",
      "8/3, train_loss: 0.3589\n",
      "9/3, train_loss: 0.3667\n",
      "10/3, train_loss: 0.3611\n",
      "11/3, train_loss: 0.3572\n",
      "12/3, train_loss: 0.3711\n",
      "13/3, train_loss: 0.3688\n",
      "14/3, train_loss: 0.4162\n",
      "0 epoch 189 average loss: 0.3684\n",
      "----------\n",
      "0: epoch 190/500\n"
     ]
    },
    {
     "name": "stderr",
     "output_type": "stream",
     "text": [
      "Default upsampling behavior when mode=trilinear is changed to align_corners=False since 0.4.0. Please specify align_corners=True if the old behavior is desired. See the documentation of nn.Upsample for details.\n",
      "Default upsampling behavior when mode=trilinear is changed to align_corners=False since 0.4.0. Please specify align_corners=True if the old behavior is desired. See the documentation of nn.Upsample for details.\n",
      "Default upsampling behavior when mode=trilinear is changed to align_corners=False since 0.4.0. Please specify align_corners=True if the old behavior is desired. See the documentation of nn.Upsample for details.\n",
      "Default upsampling behavior when mode=trilinear is changed to align_corners=False since 0.4.0. Please specify align_corners=True if the old behavior is desired. See the documentation of nn.Upsample for details.\n"
     ]
    },
    {
     "name": "stdout",
     "output_type": "stream",
     "text": [
      "1/3, train_loss: 0.3713\n",
      "2/3, train_loss: 0.3809\n",
      "3/3, train_loss: 0.3577\n",
      "4/3, train_loss: 0.3741\n",
      "5/3, train_loss: 0.3470\n",
      "6/3, train_loss: 0.3556\n",
      "7/3, train_loss: 0.3899\n",
      "8/3, train_loss: 0.3638\n",
      "9/3, train_loss: 0.3632\n",
      "10/3, train_loss: 0.3833\n",
      "11/3, train_loss: 0.3654\n",
      "12/3, train_loss: 0.3578\n",
      "13/3, train_loss: 0.3728\n",
      "14/3, train_loss: 0.3813\n",
      "0 epoch 190 average loss: 0.3689\n",
      "current epoch: 190 current mean dice: 0.3946\n",
      "best mean dice: 0.5409 at epoch: 88\n",
      "----------\n",
      "0: epoch 191/500\n"
     ]
    },
    {
     "name": "stderr",
     "output_type": "stream",
     "text": [
      "Default upsampling behavior when mode=trilinear is changed to align_corners=False since 0.4.0. Please specify align_corners=True if the old behavior is desired. See the documentation of nn.Upsample for details.\n",
      "Default upsampling behavior when mode=trilinear is changed to align_corners=False since 0.4.0. Please specify align_corners=True if the old behavior is desired. See the documentation of nn.Upsample for details.\n",
      "Default upsampling behavior when mode=trilinear is changed to align_corners=False since 0.4.0. Please specify align_corners=True if the old behavior is desired. See the documentation of nn.Upsample for details.\n",
      "Default upsampling behavior when mode=trilinear is changed to align_corners=False since 0.4.0. Please specify align_corners=True if the old behavior is desired. See the documentation of nn.Upsample for details.\n"
     ]
    },
    {
     "name": "stdout",
     "output_type": "stream",
     "text": [
      "1/3, train_loss: 0.3612\n",
      "2/3, train_loss: 0.3892\n",
      "3/3, train_loss: 0.3607\n",
      "4/3, train_loss: 0.3752\n",
      "5/3, train_loss: 0.3645\n",
      "6/3, train_loss: 0.3694\n",
      "7/3, train_loss: 0.3685\n",
      "8/3, train_loss: 0.3693\n",
      "9/3, train_loss: 0.3563\n",
      "10/3, train_loss: 0.3550\n",
      "11/3, train_loss: 0.3477\n",
      "12/3, train_loss: 0.3594\n",
      "13/3, train_loss: 0.3605\n",
      "14/3, train_loss: 0.3883\n",
      "0 epoch 191 average loss: 0.3661\n",
      "----------\n",
      "0: epoch 192/500\n"
     ]
    },
    {
     "name": "stderr",
     "output_type": "stream",
     "text": [
      "Default upsampling behavior when mode=trilinear is changed to align_corners=False since 0.4.0. Please specify align_corners=True if the old behavior is desired. See the documentation of nn.Upsample for details.\n",
      "Default upsampling behavior when mode=trilinear is changed to align_corners=False since 0.4.0. Please specify align_corners=True if the old behavior is desired. See the documentation of nn.Upsample for details.\n",
      "Default upsampling behavior when mode=trilinear is changed to align_corners=False since 0.4.0. Please specify align_corners=True if the old behavior is desired. See the documentation of nn.Upsample for details.\n",
      "Default upsampling behavior when mode=trilinear is changed to align_corners=False since 0.4.0. Please specify align_corners=True if the old behavior is desired. See the documentation of nn.Upsample for details.\n"
     ]
    },
    {
     "name": "stdout",
     "output_type": "stream",
     "text": [
      "1/3, train_loss: 0.3645\n",
      "2/3, train_loss: 0.3828\n",
      "3/3, train_loss: 0.3531\n",
      "4/3, train_loss: 0.3800\n",
      "5/3, train_loss: 0.3510\n",
      "6/3, train_loss: 0.3704\n",
      "7/3, train_loss: 0.3730\n",
      "8/3, train_loss: 0.3630\n",
      "9/3, train_loss: 0.3678\n",
      "10/3, train_loss: 0.3520\n",
      "11/3, train_loss: 0.3653\n",
      "12/3, train_loss: 0.3632\n",
      "13/3, train_loss: 0.3500\n",
      "14/3, train_loss: 0.3403\n",
      "0 epoch 192 average loss: 0.3626\n",
      "current epoch: 192 current mean dice: 0.4676\n",
      "best mean dice: 0.5409 at epoch: 88\n",
      "----------\n",
      "0: epoch 193/500\n"
     ]
    },
    {
     "name": "stderr",
     "output_type": "stream",
     "text": [
      "Default upsampling behavior when mode=trilinear is changed to align_corners=False since 0.4.0. Please specify align_corners=True if the old behavior is desired. See the documentation of nn.Upsample for details.\n",
      "Default upsampling behavior when mode=trilinear is changed to align_corners=False since 0.4.0. Please specify align_corners=True if the old behavior is desired. See the documentation of nn.Upsample for details.\n",
      "Default upsampling behavior when mode=trilinear is changed to align_corners=False since 0.4.0. Please specify align_corners=True if the old behavior is desired. See the documentation of nn.Upsample for details.\n",
      "Default upsampling behavior when mode=trilinear is changed to align_corners=False since 0.4.0. Please specify align_corners=True if the old behavior is desired. See the documentation of nn.Upsample for details.\n"
     ]
    },
    {
     "name": "stdout",
     "output_type": "stream",
     "text": [
      "1/3, train_loss: 0.3526\n",
      "2/3, train_loss: 0.3943\n",
      "3/3, train_loss: 0.3740\n",
      "4/3, train_loss: 0.3645\n",
      "5/3, train_loss: 0.3499\n",
      "6/3, train_loss: 0.3710\n",
      "7/3, train_loss: 0.3505\n",
      "8/3, train_loss: 0.3565\n",
      "9/3, train_loss: 0.3640\n",
      "10/3, train_loss: 0.3636\n",
      "11/3, train_loss: 0.3621\n",
      "12/3, train_loss: 0.3659\n",
      "13/3, train_loss: 0.3570\n",
      "14/3, train_loss: 0.4370\n",
      "0 epoch 193 average loss: 0.3688\n",
      "----------\n",
      "0: epoch 194/500\n"
     ]
    },
    {
     "name": "stderr",
     "output_type": "stream",
     "text": [
      "Default upsampling behavior when mode=trilinear is changed to align_corners=False since 0.4.0. Please specify align_corners=True if the old behavior is desired. See the documentation of nn.Upsample for details.\n",
      "Default upsampling behavior when mode=trilinear is changed to align_corners=False since 0.4.0. Please specify align_corners=True if the old behavior is desired. See the documentation of nn.Upsample for details.\n",
      "Default upsampling behavior when mode=trilinear is changed to align_corners=False since 0.4.0. Please specify align_corners=True if the old behavior is desired. See the documentation of nn.Upsample for details.\n",
      "Default upsampling behavior when mode=trilinear is changed to align_corners=False since 0.4.0. Please specify align_corners=True if the old behavior is desired. See the documentation of nn.Upsample for details.\n"
     ]
    },
    {
     "name": "stdout",
     "output_type": "stream",
     "text": [
      "1/3, train_loss: 0.3508\n",
      "2/3, train_loss: 0.3529\n",
      "3/3, train_loss: 0.3862\n",
      "4/3, train_loss: 0.3553\n",
      "5/3, train_loss: 0.3674\n",
      "6/3, train_loss: 0.3654\n",
      "7/3, train_loss: 0.3582\n",
      "8/3, train_loss: 0.3629\n",
      "9/3, train_loss: 0.3666\n",
      "10/3, train_loss: 0.3776\n",
      "11/3, train_loss: 0.3568\n",
      "12/3, train_loss: 0.3763\n",
      "13/3, train_loss: 0.3622\n",
      "14/3, train_loss: 0.3713\n",
      "0 epoch 194 average loss: 0.3650\n",
      "current epoch: 194 current mean dice: 0.4311\n",
      "best mean dice: 0.5409 at epoch: 88\n",
      "----------\n",
      "0: epoch 195/500\n"
     ]
    },
    {
     "name": "stderr",
     "output_type": "stream",
     "text": [
      "Default upsampling behavior when mode=trilinear is changed to align_corners=False since 0.4.0. Please specify align_corners=True if the old behavior is desired. See the documentation of nn.Upsample for details.\n",
      "Default upsampling behavior when mode=trilinear is changed to align_corners=False since 0.4.0. Please specify align_corners=True if the old behavior is desired. See the documentation of nn.Upsample for details.\n",
      "Default upsampling behavior when mode=trilinear is changed to align_corners=False since 0.4.0. Please specify align_corners=True if the old behavior is desired. See the documentation of nn.Upsample for details.\n",
      "Default upsampling behavior when mode=trilinear is changed to align_corners=False since 0.4.0. Please specify align_corners=True if the old behavior is desired. See the documentation of nn.Upsample for details.\n"
     ]
    },
    {
     "name": "stdout",
     "output_type": "stream",
     "text": [
      "1/3, train_loss: 0.3572\n",
      "2/3, train_loss: 0.3554\n",
      "3/3, train_loss: 0.3605\n",
      "4/3, train_loss: 0.3654\n",
      "5/3, train_loss: 0.3573\n",
      "6/3, train_loss: 0.3660\n",
      "7/3, train_loss: 0.3598\n",
      "8/3, train_loss: 0.3636\n",
      "9/3, train_loss: 0.3586\n",
      "10/3, train_loss: 0.3715\n",
      "11/3, train_loss: 0.3855\n",
      "12/3, train_loss: 0.3847\n",
      "13/3, train_loss: 0.3550\n",
      "14/3, train_loss: 0.3767\n",
      "0 epoch 195 average loss: 0.3655\n",
      "----------\n",
      "0: epoch 196/500\n"
     ]
    },
    {
     "name": "stderr",
     "output_type": "stream",
     "text": [
      "Default upsampling behavior when mode=trilinear is changed to align_corners=False since 0.4.0. Please specify align_corners=True if the old behavior is desired. See the documentation of nn.Upsample for details.\n",
      "Default upsampling behavior when mode=trilinear is changed to align_corners=False since 0.4.0. Please specify align_corners=True if the old behavior is desired. See the documentation of nn.Upsample for details.\n",
      "Default upsampling behavior when mode=trilinear is changed to align_corners=False since 0.4.0. Please specify align_corners=True if the old behavior is desired. See the documentation of nn.Upsample for details.\n",
      "Default upsampling behavior when mode=trilinear is changed to align_corners=False since 0.4.0. Please specify align_corners=True if the old behavior is desired. See the documentation of nn.Upsample for details.\n"
     ]
    },
    {
     "name": "stdout",
     "output_type": "stream",
     "text": [
      "1/3, train_loss: 0.3557\n",
      "2/3, train_loss: 0.3520\n",
      "3/3, train_loss: 0.3640\n",
      "4/3, train_loss: 0.3837\n",
      "5/3, train_loss: 0.3566\n",
      "6/3, train_loss: 0.3791\n",
      "7/3, train_loss: 0.3979\n",
      "8/3, train_loss: 0.3726\n",
      "9/3, train_loss: 0.3538\n",
      "10/3, train_loss: 0.3674\n",
      "11/3, train_loss: 0.3536\n",
      "12/3, train_loss: 0.3670\n",
      "13/3, train_loss: 0.3623\n",
      "14/3, train_loss: 0.3422\n",
      "0 epoch 196 average loss: 0.3649\n",
      "current epoch: 196 current mean dice: 0.4182\n",
      "best mean dice: 0.5409 at epoch: 88\n",
      "----------\n",
      "0: epoch 197/500\n"
     ]
    },
    {
     "name": "stderr",
     "output_type": "stream",
     "text": [
      "Default upsampling behavior when mode=trilinear is changed to align_corners=False since 0.4.0. Please specify align_corners=True if the old behavior is desired. See the documentation of nn.Upsample for details.\n",
      "Default upsampling behavior when mode=trilinear is changed to align_corners=False since 0.4.0. Please specify align_corners=True if the old behavior is desired. See the documentation of nn.Upsample for details.\n",
      "Default upsampling behavior when mode=trilinear is changed to align_corners=False since 0.4.0. Please specify align_corners=True if the old behavior is desired. See the documentation of nn.Upsample for details.\n",
      "Default upsampling behavior when mode=trilinear is changed to align_corners=False since 0.4.0. Please specify align_corners=True if the old behavior is desired. See the documentation of nn.Upsample for details.\n"
     ]
    },
    {
     "name": "stdout",
     "output_type": "stream",
     "text": [
      "1/3, train_loss: 0.3589\n",
      "2/3, train_loss: 0.3621\n",
      "3/3, train_loss: 0.3608\n",
      "4/3, train_loss: 0.3576\n",
      "5/3, train_loss: 0.3774\n",
      "6/3, train_loss: 0.3854\n",
      "7/3, train_loss: 0.3710\n",
      "8/3, train_loss: 0.3667\n",
      "9/3, train_loss: 0.3604\n",
      "10/3, train_loss: 0.3753\n",
      "11/3, train_loss: 0.3682\n",
      "12/3, train_loss: 0.3581\n",
      "13/3, train_loss: 0.3749\n",
      "14/3, train_loss: 0.4823\n",
      "0 epoch 197 average loss: 0.3757\n",
      "----------\n",
      "0: epoch 198/500\n"
     ]
    },
    {
     "name": "stderr",
     "output_type": "stream",
     "text": [
      "Default upsampling behavior when mode=trilinear is changed to align_corners=False since 0.4.0. Please specify align_corners=True if the old behavior is desired. See the documentation of nn.Upsample for details.\n",
      "Default upsampling behavior when mode=trilinear is changed to align_corners=False since 0.4.0. Please specify align_corners=True if the old behavior is desired. See the documentation of nn.Upsample for details.\n",
      "Default upsampling behavior when mode=trilinear is changed to align_corners=False since 0.4.0. Please specify align_corners=True if the old behavior is desired. See the documentation of nn.Upsample for details.\n",
      "Default upsampling behavior when mode=trilinear is changed to align_corners=False since 0.4.0. Please specify align_corners=True if the old behavior is desired. See the documentation of nn.Upsample for details.\n"
     ]
    },
    {
     "name": "stdout",
     "output_type": "stream",
     "text": [
      "1/3, train_loss: 0.3682\n",
      "2/3, train_loss: 0.3598\n",
      "3/3, train_loss: 0.3535\n",
      "4/3, train_loss: 0.3985\n",
      "5/3, train_loss: 0.3692\n",
      "6/3, train_loss: 0.3683\n",
      "7/3, train_loss: 0.3827\n",
      "8/3, train_loss: 0.3735\n",
      "9/3, train_loss: 0.3542\n",
      "10/3, train_loss: 0.3619\n",
      "11/3, train_loss: 0.3755\n",
      "12/3, train_loss: 0.3599\n",
      "13/3, train_loss: 0.3576\n",
      "14/3, train_loss: 0.3458\n",
      "0 epoch 198 average loss: 0.3663\n",
      "current epoch: 198 current mean dice: 0.4647\n",
      "best mean dice: 0.5409 at epoch: 88\n",
      "----------\n",
      "0: epoch 199/500\n"
     ]
    },
    {
     "name": "stderr",
     "output_type": "stream",
     "text": [
      "Default upsampling behavior when mode=trilinear is changed to align_corners=False since 0.4.0. Please specify align_corners=True if the old behavior is desired. See the documentation of nn.Upsample for details.\n",
      "Default upsampling behavior when mode=trilinear is changed to align_corners=False since 0.4.0. Please specify align_corners=True if the old behavior is desired. See the documentation of nn.Upsample for details.\n",
      "Default upsampling behavior when mode=trilinear is changed to align_corners=False since 0.4.0. Please specify align_corners=True if the old behavior is desired. See the documentation of nn.Upsample for details.\n",
      "Default upsampling behavior when mode=trilinear is changed to align_corners=False since 0.4.0. Please specify align_corners=True if the old behavior is desired. See the documentation of nn.Upsample for details.\n"
     ]
    },
    {
     "name": "stdout",
     "output_type": "stream",
     "text": [
      "1/3, train_loss: 0.3623\n",
      "2/3, train_loss: 0.3567\n",
      "3/3, train_loss: 0.3745\n",
      "4/3, train_loss: 0.3729\n",
      "5/3, train_loss: 0.3698\n",
      "6/3, train_loss: 0.4153\n",
      "7/3, train_loss: 0.3529\n",
      "8/3, train_loss: 0.3602\n",
      "9/3, train_loss: 0.3642\n",
      "10/3, train_loss: 0.3726\n",
      "11/3, train_loss: 0.3529\n",
      "12/3, train_loss: 0.3637\n",
      "13/3, train_loss: 0.3622\n",
      "14/3, train_loss: 0.3489\n",
      "0 epoch 199 average loss: 0.3664\n",
      "----------\n",
      "0: epoch 200/500\n"
     ]
    },
    {
     "name": "stderr",
     "output_type": "stream",
     "text": [
      "Default upsampling behavior when mode=trilinear is changed to align_corners=False since 0.4.0. Please specify align_corners=True if the old behavior is desired. See the documentation of nn.Upsample for details.\n",
      "Default upsampling behavior when mode=trilinear is changed to align_corners=False since 0.4.0. Please specify align_corners=True if the old behavior is desired. See the documentation of nn.Upsample for details.\n",
      "Default upsampling behavior when mode=trilinear is changed to align_corners=False since 0.4.0. Please specify align_corners=True if the old behavior is desired. See the documentation of nn.Upsample for details.\n",
      "Default upsampling behavior when mode=trilinear is changed to align_corners=False since 0.4.0. Please specify align_corners=True if the old behavior is desired. See the documentation of nn.Upsample for details.\n"
     ]
    },
    {
     "name": "stdout",
     "output_type": "stream",
     "text": [
      "1/3, train_loss: 0.3557\n",
      "2/3, train_loss: 0.3622\n",
      "3/3, train_loss: 0.3602\n",
      "4/3, train_loss: 0.3670\n",
      "5/3, train_loss: 0.3587\n",
      "6/3, train_loss: 0.3562\n",
      "7/3, train_loss: 0.3687\n",
      "8/3, train_loss: 0.3763\n",
      "9/3, train_loss: 0.3752\n",
      "10/3, train_loss: 0.3537\n",
      "11/3, train_loss: 0.3619\n",
      "12/3, train_loss: 0.3657\n",
      "13/3, train_loss: 0.3592\n",
      "14/3, train_loss: 0.4128\n",
      "0 epoch 200 average loss: 0.3667\n",
      "current epoch: 200 current mean dice: 0.4637\n",
      "best mean dice: 0.5409 at epoch: 88\n",
      "----------\n",
      "0: epoch 201/500\n"
     ]
    },
    {
     "name": "stderr",
     "output_type": "stream",
     "text": [
      "Default upsampling behavior when mode=trilinear is changed to align_corners=False since 0.4.0. Please specify align_corners=True if the old behavior is desired. See the documentation of nn.Upsample for details.\n",
      "Default upsampling behavior when mode=trilinear is changed to align_corners=False since 0.4.0. Please specify align_corners=True if the old behavior is desired. See the documentation of nn.Upsample for details.\n",
      "Default upsampling behavior when mode=trilinear is changed to align_corners=False since 0.4.0. Please specify align_corners=True if the old behavior is desired. See the documentation of nn.Upsample for details.\n",
      "Default upsampling behavior when mode=trilinear is changed to align_corners=False since 0.4.0. Please specify align_corners=True if the old behavior is desired. See the documentation of nn.Upsample for details.\n"
     ]
    },
    {
     "name": "stdout",
     "output_type": "stream",
     "text": [
      "1/3, train_loss: 0.3683\n",
      "2/3, train_loss: 0.3624\n",
      "3/3, train_loss: 0.3850\n",
      "4/3, train_loss: 0.3543\n",
      "5/3, train_loss: 0.3561\n",
      "6/3, train_loss: 0.3781\n",
      "7/3, train_loss: 0.3714\n",
      "8/3, train_loss: 0.3629\n",
      "9/3, train_loss: 0.3666\n",
      "10/3, train_loss: 0.3462\n",
      "11/3, train_loss: 0.3603\n",
      "12/3, train_loss: 0.3593\n",
      "13/3, train_loss: 0.3783\n",
      "14/3, train_loss: 0.3855\n",
      "0 epoch 201 average loss: 0.3668\n",
      "----------\n",
      "0: epoch 202/500\n"
     ]
    },
    {
     "name": "stderr",
     "output_type": "stream",
     "text": [
      "Default upsampling behavior when mode=trilinear is changed to align_corners=False since 0.4.0. Please specify align_corners=True if the old behavior is desired. See the documentation of nn.Upsample for details.\n",
      "Default upsampling behavior when mode=trilinear is changed to align_corners=False since 0.4.0. Please specify align_corners=True if the old behavior is desired. See the documentation of nn.Upsample for details.\n",
      "Default upsampling behavior when mode=trilinear is changed to align_corners=False since 0.4.0. Please specify align_corners=True if the old behavior is desired. See the documentation of nn.Upsample for details.\n",
      "Default upsampling behavior when mode=trilinear is changed to align_corners=False since 0.4.0. Please specify align_corners=True if the old behavior is desired. See the documentation of nn.Upsample for details.\n"
     ]
    },
    {
     "name": "stdout",
     "output_type": "stream",
     "text": [
      "1/3, train_loss: 0.3657\n",
      "2/3, train_loss: 0.3701\n",
      "3/3, train_loss: 0.3633\n",
      "4/3, train_loss: 0.3685\n",
      "5/3, train_loss: 0.3560\n",
      "6/3, train_loss: 0.3513\n",
      "7/3, train_loss: 0.3708\n",
      "8/3, train_loss: 0.3595\n",
      "9/3, train_loss: 0.3493\n",
      "10/3, train_loss: 0.3525\n",
      "11/3, train_loss: 0.3722\n",
      "12/3, train_loss: 0.3890\n",
      "13/3, train_loss: 0.3639\n",
      "14/3, train_loss: 0.3692\n",
      "0 epoch 202 average loss: 0.3644\n",
      "current epoch: 202 current mean dice: 0.4697\n",
      "best mean dice: 0.5409 at epoch: 88\n",
      "----------\n",
      "0: epoch 203/500\n"
     ]
    },
    {
     "name": "stderr",
     "output_type": "stream",
     "text": [
      "Default upsampling behavior when mode=trilinear is changed to align_corners=False since 0.4.0. Please specify align_corners=True if the old behavior is desired. See the documentation of nn.Upsample for details.\n",
      "Default upsampling behavior when mode=trilinear is changed to align_corners=False since 0.4.0. Please specify align_corners=True if the old behavior is desired. See the documentation of nn.Upsample for details.\n",
      "Default upsampling behavior when mode=trilinear is changed to align_corners=False since 0.4.0. Please specify align_corners=True if the old behavior is desired. See the documentation of nn.Upsample for details.\n",
      "Default upsampling behavior when mode=trilinear is changed to align_corners=False since 0.4.0. Please specify align_corners=True if the old behavior is desired. See the documentation of nn.Upsample for details.\n"
     ]
    },
    {
     "name": "stdout",
     "output_type": "stream",
     "text": [
      "1/3, train_loss: 0.3713\n",
      "2/3, train_loss: 0.3682\n",
      "3/3, train_loss: 0.3571\n",
      "4/3, train_loss: 0.3554\n",
      "5/3, train_loss: 0.3675\n",
      "6/3, train_loss: 0.3786\n",
      "7/3, train_loss: 0.3715\n",
      "8/3, train_loss: 0.3632\n",
      "9/3, train_loss: 0.3793\n",
      "10/3, train_loss: 0.3483\n",
      "11/3, train_loss: 0.3699\n",
      "12/3, train_loss: 0.3584\n",
      "13/3, train_loss: 0.3498\n",
      "14/3, train_loss: 0.3903\n",
      "0 epoch 203 average loss: 0.3664\n",
      "----------\n",
      "0: epoch 204/500\n"
     ]
    },
    {
     "name": "stderr",
     "output_type": "stream",
     "text": [
      "Default upsampling behavior when mode=trilinear is changed to align_corners=False since 0.4.0. Please specify align_corners=True if the old behavior is desired. See the documentation of nn.Upsample for details.\n",
      "Default upsampling behavior when mode=trilinear is changed to align_corners=False since 0.4.0. Please specify align_corners=True if the old behavior is desired. See the documentation of nn.Upsample for details.\n",
      "Default upsampling behavior when mode=trilinear is changed to align_corners=False since 0.4.0. Please specify align_corners=True if the old behavior is desired. See the documentation of nn.Upsample for details.\n",
      "Default upsampling behavior when mode=trilinear is changed to align_corners=False since 0.4.0. Please specify align_corners=True if the old behavior is desired. See the documentation of nn.Upsample for details.\n"
     ]
    },
    {
     "name": "stdout",
     "output_type": "stream",
     "text": [
      "1/3, train_loss: 0.3613\n",
      "2/3, train_loss: 0.3654\n",
      "3/3, train_loss: 0.3740\n",
      "4/3, train_loss: 0.3534\n",
      "5/3, train_loss: 0.3863\n",
      "6/3, train_loss: 0.3602\n",
      "7/3, train_loss: 0.3677\n",
      "8/3, train_loss: 0.3708\n",
      "9/3, train_loss: 0.3666\n",
      "10/3, train_loss: 0.3880\n",
      "11/3, train_loss: 0.3829\n",
      "12/3, train_loss: 0.3506\n",
      "13/3, train_loss: 0.3547\n",
      "14/3, train_loss: 0.3833\n",
      "0 epoch 204 average loss: 0.3689\n",
      "saved new best metric model\n",
      "current epoch: 204 current mean dice: 0.6012\n",
      "best mean dice: 0.6012 at epoch: 204\n",
      "----------\n",
      "0: epoch 205/500\n"
     ]
    },
    {
     "name": "stderr",
     "output_type": "stream",
     "text": [
      "Default upsampling behavior when mode=trilinear is changed to align_corners=False since 0.4.0. Please specify align_corners=True if the old behavior is desired. See the documentation of nn.Upsample for details.\n",
      "Default upsampling behavior when mode=trilinear is changed to align_corners=False since 0.4.0. Please specify align_corners=True if the old behavior is desired. See the documentation of nn.Upsample for details.\n",
      "Default upsampling behavior when mode=trilinear is changed to align_corners=False since 0.4.0. Please specify align_corners=True if the old behavior is desired. See the documentation of nn.Upsample for details.\n",
      "Default upsampling behavior when mode=trilinear is changed to align_corners=False since 0.4.0. Please specify align_corners=True if the old behavior is desired. See the documentation of nn.Upsample for details.\n"
     ]
    },
    {
     "name": "stdout",
     "output_type": "stream",
     "text": [
      "1/3, train_loss: 0.3637\n",
      "2/3, train_loss: 0.3784\n",
      "3/3, train_loss: 0.3789\n",
      "4/3, train_loss: 0.3756\n",
      "5/3, train_loss: 0.4073\n",
      "6/3, train_loss: 0.3779\n",
      "7/3, train_loss: 0.3892\n",
      "8/3, train_loss: 0.3705\n",
      "9/3, train_loss: 0.3782\n",
      "10/3, train_loss: 0.3725\n",
      "11/3, train_loss: 0.3776\n",
      "12/3, train_loss: 0.3701\n",
      "13/3, train_loss: 0.3750\n",
      "14/3, train_loss: 0.3750\n",
      "0 epoch 205 average loss: 0.3778\n",
      "----------\n",
      "0: epoch 206/500\n"
     ]
    },
    {
     "name": "stderr",
     "output_type": "stream",
     "text": [
      "Default upsampling behavior when mode=trilinear is changed to align_corners=False since 0.4.0. Please specify align_corners=True if the old behavior is desired. See the documentation of nn.Upsample for details.\n",
      "Default upsampling behavior when mode=trilinear is changed to align_corners=False since 0.4.0. Please specify align_corners=True if the old behavior is desired. See the documentation of nn.Upsample for details.\n",
      "Default upsampling behavior when mode=trilinear is changed to align_corners=False since 0.4.0. Please specify align_corners=True if the old behavior is desired. See the documentation of nn.Upsample for details.\n",
      "Default upsampling behavior when mode=trilinear is changed to align_corners=False since 0.4.0. Please specify align_corners=True if the old behavior is desired. See the documentation of nn.Upsample for details.\n"
     ]
    },
    {
     "name": "stdout",
     "output_type": "stream",
     "text": [
      "1/3, train_loss: 0.3645\n",
      "2/3, train_loss: 0.3651\n",
      "3/3, train_loss: 0.3667\n",
      "4/3, train_loss: 0.3703\n",
      "5/3, train_loss: 0.3649\n",
      "6/3, train_loss: 0.3458\n",
      "7/3, train_loss: 0.3527\n",
      "8/3, train_loss: 0.3578\n",
      "9/3, train_loss: 0.3645\n",
      "10/3, train_loss: 0.3787\n",
      "11/3, train_loss: 0.4007\n",
      "12/3, train_loss: 0.3742\n",
      "13/3, train_loss: 0.3886\n",
      "14/3, train_loss: 0.3457\n",
      "0 epoch 206 average loss: 0.3672\n",
      "current epoch: 206 current mean dice: 0.5059\n",
      "best mean dice: 0.6012 at epoch: 204\n",
      "----------\n",
      "0: epoch 207/500\n"
     ]
    },
    {
     "name": "stderr",
     "output_type": "stream",
     "text": [
      "Default upsampling behavior when mode=trilinear is changed to align_corners=False since 0.4.0. Please specify align_corners=True if the old behavior is desired. See the documentation of nn.Upsample for details.\n",
      "Default upsampling behavior when mode=trilinear is changed to align_corners=False since 0.4.0. Please specify align_corners=True if the old behavior is desired. See the documentation of nn.Upsample for details.\n",
      "Default upsampling behavior when mode=trilinear is changed to align_corners=False since 0.4.0. Please specify align_corners=True if the old behavior is desired. See the documentation of nn.Upsample for details.\n",
      "Default upsampling behavior when mode=trilinear is changed to align_corners=False since 0.4.0. Please specify align_corners=True if the old behavior is desired. See the documentation of nn.Upsample for details.\n"
     ]
    },
    {
     "name": "stdout",
     "output_type": "stream",
     "text": [
      "1/3, train_loss: 0.3553\n",
      "2/3, train_loss: 0.3709\n",
      "3/3, train_loss: 0.3679\n",
      "4/3, train_loss: 0.3530\n",
      "5/3, train_loss: 0.3667\n",
      "6/3, train_loss: 0.3570\n",
      "7/3, train_loss: 0.3643\n",
      "8/3, train_loss: 0.3800\n",
      "9/3, train_loss: 0.3646\n",
      "10/3, train_loss: 0.3578\n",
      "11/3, train_loss: 0.3600\n",
      "12/3, train_loss: 0.3700\n",
      "13/3, train_loss: 0.3713\n",
      "14/3, train_loss: 0.3776\n",
      "0 epoch 207 average loss: 0.3654\n",
      "----------\n",
      "0: epoch 208/500\n"
     ]
    },
    {
     "name": "stderr",
     "output_type": "stream",
     "text": [
      "Default upsampling behavior when mode=trilinear is changed to align_corners=False since 0.4.0. Please specify align_corners=True if the old behavior is desired. See the documentation of nn.Upsample for details.\n",
      "Default upsampling behavior when mode=trilinear is changed to align_corners=False since 0.4.0. Please specify align_corners=True if the old behavior is desired. See the documentation of nn.Upsample for details.\n",
      "Default upsampling behavior when mode=trilinear is changed to align_corners=False since 0.4.0. Please specify align_corners=True if the old behavior is desired. See the documentation of nn.Upsample for details.\n",
      "Default upsampling behavior when mode=trilinear is changed to align_corners=False since 0.4.0. Please specify align_corners=True if the old behavior is desired. See the documentation of nn.Upsample for details.\n"
     ]
    },
    {
     "name": "stdout",
     "output_type": "stream",
     "text": [
      "1/3, train_loss: 0.3610\n",
      "2/3, train_loss: 0.3795\n",
      "3/3, train_loss: 0.3474\n",
      "4/3, train_loss: 0.3619\n",
      "5/3, train_loss: 0.3706\n",
      "6/3, train_loss: 0.3547\n",
      "7/3, train_loss: 0.3605\n",
      "8/3, train_loss: 0.3802\n",
      "9/3, train_loss: 0.3585\n",
      "10/3, train_loss: 0.3621\n",
      "11/3, train_loss: 0.3828\n",
      "12/3, train_loss: 0.3573\n",
      "13/3, train_loss: 0.3629\n",
      "14/3, train_loss: 0.3384\n",
      "0 epoch 208 average loss: 0.3627\n",
      "current epoch: 208 current mean dice: 0.4191\n",
      "best mean dice: 0.6012 at epoch: 204\n",
      "----------\n",
      "0: epoch 209/500\n"
     ]
    },
    {
     "name": "stderr",
     "output_type": "stream",
     "text": [
      "Default upsampling behavior when mode=trilinear is changed to align_corners=False since 0.4.0. Please specify align_corners=True if the old behavior is desired. See the documentation of nn.Upsample for details.\n",
      "Default upsampling behavior when mode=trilinear is changed to align_corners=False since 0.4.0. Please specify align_corners=True if the old behavior is desired. See the documentation of nn.Upsample for details.\n",
      "Default upsampling behavior when mode=trilinear is changed to align_corners=False since 0.4.0. Please specify align_corners=True if the old behavior is desired. See the documentation of nn.Upsample for details.\n",
      "Default upsampling behavior when mode=trilinear is changed to align_corners=False since 0.4.0. Please specify align_corners=True if the old behavior is desired. See the documentation of nn.Upsample for details.\n"
     ]
    },
    {
     "name": "stdout",
     "output_type": "stream",
     "text": [
      "1/3, train_loss: 0.3545\n",
      "2/3, train_loss: 0.3595\n",
      "3/3, train_loss: 0.3863\n",
      "4/3, train_loss: 0.3581\n",
      "5/3, train_loss: 0.3595\n",
      "6/3, train_loss: 0.3568\n",
      "7/3, train_loss: 0.3757\n",
      "8/3, train_loss: 0.3572\n",
      "9/3, train_loss: 0.3595\n",
      "10/3, train_loss: 0.3597\n",
      "11/3, train_loss: 0.3505\n",
      "12/3, train_loss: 0.3769\n",
      "13/3, train_loss: 0.3569\n",
      "14/3, train_loss: 0.3788\n",
      "0 epoch 209 average loss: 0.3636\n",
      "----------\n",
      "0: epoch 210/500\n"
     ]
    },
    {
     "name": "stderr",
     "output_type": "stream",
     "text": [
      "Default upsampling behavior when mode=trilinear is changed to align_corners=False since 0.4.0. Please specify align_corners=True if the old behavior is desired. See the documentation of nn.Upsample for details.\n",
      "Default upsampling behavior when mode=trilinear is changed to align_corners=False since 0.4.0. Please specify align_corners=True if the old behavior is desired. See the documentation of nn.Upsample for details.\n",
      "Default upsampling behavior when mode=trilinear is changed to align_corners=False since 0.4.0. Please specify align_corners=True if the old behavior is desired. See the documentation of nn.Upsample for details.\n",
      "Default upsampling behavior when mode=trilinear is changed to align_corners=False since 0.4.0. Please specify align_corners=True if the old behavior is desired. See the documentation of nn.Upsample for details.\n"
     ]
    },
    {
     "name": "stdout",
     "output_type": "stream",
     "text": [
      "1/3, train_loss: 0.3611\n",
      "2/3, train_loss: 0.3754\n",
      "3/3, train_loss: 0.3474\n",
      "4/3, train_loss: 0.3486\n",
      "5/3, train_loss: 0.3773\n",
      "6/3, train_loss: 0.3617\n",
      "7/3, train_loss: 0.3644\n",
      "8/3, train_loss: 0.3596\n",
      "9/3, train_loss: 0.3683\n",
      "10/3, train_loss: 0.3590\n",
      "11/3, train_loss: 0.3580\n",
      "12/3, train_loss: 0.3691\n",
      "13/3, train_loss: 0.3530\n",
      "14/3, train_loss: 0.4194\n",
      "0 epoch 210 average loss: 0.3659\n",
      "current epoch: 210 current mean dice: 0.4127\n",
      "best mean dice: 0.6012 at epoch: 204\n",
      "----------\n",
      "0: epoch 211/500\n"
     ]
    },
    {
     "name": "stderr",
     "output_type": "stream",
     "text": [
      "Default upsampling behavior when mode=trilinear is changed to align_corners=False since 0.4.0. Please specify align_corners=True if the old behavior is desired. See the documentation of nn.Upsample for details.\n",
      "Default upsampling behavior when mode=trilinear is changed to align_corners=False since 0.4.0. Please specify align_corners=True if the old behavior is desired. See the documentation of nn.Upsample for details.\n",
      "Default upsampling behavior when mode=trilinear is changed to align_corners=False since 0.4.0. Please specify align_corners=True if the old behavior is desired. See the documentation of nn.Upsample for details.\n",
      "Default upsampling behavior when mode=trilinear is changed to align_corners=False since 0.4.0. Please specify align_corners=True if the old behavior is desired. See the documentation of nn.Upsample for details.\n"
     ]
    },
    {
     "name": "stdout",
     "output_type": "stream",
     "text": [
      "1/3, train_loss: 0.3478\n",
      "2/3, train_loss: 0.3685\n",
      "3/3, train_loss: 0.3659\n",
      "4/3, train_loss: 0.3666\n",
      "5/3, train_loss: 0.4075\n",
      "6/3, train_loss: 0.3582\n",
      "7/3, train_loss: 0.3559\n",
      "8/3, train_loss: 0.3659\n",
      "9/3, train_loss: 0.3693\n",
      "10/3, train_loss: 0.3656\n",
      "11/3, train_loss: 0.3528\n",
      "12/3, train_loss: 0.3487\n",
      "13/3, train_loss: 0.3636\n",
      "14/3, train_loss: 0.3582\n",
      "0 epoch 211 average loss: 0.3639\n",
      "----------\n",
      "0: epoch 212/500\n"
     ]
    },
    {
     "name": "stderr",
     "output_type": "stream",
     "text": [
      "Default upsampling behavior when mode=trilinear is changed to align_corners=False since 0.4.0. Please specify align_corners=True if the old behavior is desired. See the documentation of nn.Upsample for details.\n",
      "Default upsampling behavior when mode=trilinear is changed to align_corners=False since 0.4.0. Please specify align_corners=True if the old behavior is desired. See the documentation of nn.Upsample for details.\n",
      "Default upsampling behavior when mode=trilinear is changed to align_corners=False since 0.4.0. Please specify align_corners=True if the old behavior is desired. See the documentation of nn.Upsample for details.\n",
      "Default upsampling behavior when mode=trilinear is changed to align_corners=False since 0.4.0. Please specify align_corners=True if the old behavior is desired. See the documentation of nn.Upsample for details.\n"
     ]
    },
    {
     "name": "stdout",
     "output_type": "stream",
     "text": [
      "1/3, train_loss: 0.3922\n",
      "2/3, train_loss: 0.3784\n",
      "3/3, train_loss: 0.3564\n",
      "4/3, train_loss: 0.3646\n",
      "5/3, train_loss: 0.3534\n",
      "6/3, train_loss: 0.3716\n",
      "7/3, train_loss: 0.3751\n",
      "8/3, train_loss: 0.3585\n",
      "9/3, train_loss: 0.3745\n",
      "10/3, train_loss: 0.3535\n",
      "11/3, train_loss: 0.3787\n",
      "12/3, train_loss: 0.3811\n",
      "13/3, train_loss: 0.3606\n",
      "14/3, train_loss: 0.3863\n",
      "0 epoch 212 average loss: 0.3704\n",
      "current epoch: 212 current mean dice: 0.4635\n",
      "best mean dice: 0.6012 at epoch: 204\n",
      "----------\n",
      "0: epoch 213/500\n"
     ]
    },
    {
     "name": "stderr",
     "output_type": "stream",
     "text": [
      "Default upsampling behavior when mode=trilinear is changed to align_corners=False since 0.4.0. Please specify align_corners=True if the old behavior is desired. See the documentation of nn.Upsample for details.\n",
      "Default upsampling behavior when mode=trilinear is changed to align_corners=False since 0.4.0. Please specify align_corners=True if the old behavior is desired. See the documentation of nn.Upsample for details.\n",
      "Default upsampling behavior when mode=trilinear is changed to align_corners=False since 0.4.0. Please specify align_corners=True if the old behavior is desired. See the documentation of nn.Upsample for details.\n",
      "Default upsampling behavior when mode=trilinear is changed to align_corners=False since 0.4.0. Please specify align_corners=True if the old behavior is desired. See the documentation of nn.Upsample for details.\n"
     ]
    },
    {
     "name": "stdout",
     "output_type": "stream",
     "text": [
      "1/3, train_loss: 0.3638\n",
      "2/3, train_loss: 0.3637\n",
      "3/3, train_loss: 0.3636\n",
      "4/3, train_loss: 0.3524\n",
      "5/3, train_loss: 0.3583\n",
      "6/3, train_loss: 0.3797\n",
      "7/3, train_loss: 0.3878\n",
      "8/3, train_loss: 0.3627\n",
      "9/3, train_loss: 0.4034\n",
      "10/3, train_loss: 0.3533\n",
      "11/3, train_loss: 0.3513\n",
      "12/3, train_loss: 0.3890\n",
      "13/3, train_loss: 0.3612\n",
      "14/3, train_loss: 0.3494\n",
      "0 epoch 213 average loss: 0.3671\n",
      "----------\n",
      "0: epoch 214/500\n"
     ]
    },
    {
     "name": "stderr",
     "output_type": "stream",
     "text": [
      "Default upsampling behavior when mode=trilinear is changed to align_corners=False since 0.4.0. Please specify align_corners=True if the old behavior is desired. See the documentation of nn.Upsample for details.\n",
      "Default upsampling behavior when mode=trilinear is changed to align_corners=False since 0.4.0. Please specify align_corners=True if the old behavior is desired. See the documentation of nn.Upsample for details.\n",
      "Default upsampling behavior when mode=trilinear is changed to align_corners=False since 0.4.0. Please specify align_corners=True if the old behavior is desired. See the documentation of nn.Upsample for details.\n",
      "Default upsampling behavior when mode=trilinear is changed to align_corners=False since 0.4.0. Please specify align_corners=True if the old behavior is desired. See the documentation of nn.Upsample for details.\n"
     ]
    },
    {
     "name": "stdout",
     "output_type": "stream",
     "text": [
      "1/3, train_loss: 0.4204\n",
      "2/3, train_loss: 0.3849\n",
      "3/3, train_loss: 0.3551\n",
      "4/3, train_loss: 0.3697\n",
      "5/3, train_loss: 0.4397\n",
      "6/3, train_loss: 0.3532\n",
      "7/3, train_loss: 0.3785\n",
      "8/3, train_loss: 0.3871\n",
      "9/3, train_loss: 0.3584\n",
      "10/3, train_loss: 0.3586\n",
      "11/3, train_loss: 0.3704\n",
      "12/3, train_loss: 0.3792\n",
      "13/3, train_loss: 0.3837\n",
      "14/3, train_loss: 0.3512\n",
      "0 epoch 214 average loss: 0.3779\n",
      "current epoch: 214 current mean dice: 0.3354\n",
      "best mean dice: 0.6012 at epoch: 204\n",
      "----------\n",
      "0: epoch 215/500\n"
     ]
    },
    {
     "name": "stderr",
     "output_type": "stream",
     "text": [
      "Default upsampling behavior when mode=trilinear is changed to align_corners=False since 0.4.0. Please specify align_corners=True if the old behavior is desired. See the documentation of nn.Upsample for details.\n",
      "Default upsampling behavior when mode=trilinear is changed to align_corners=False since 0.4.0. Please specify align_corners=True if the old behavior is desired. See the documentation of nn.Upsample for details.\n",
      "Default upsampling behavior when mode=trilinear is changed to align_corners=False since 0.4.0. Please specify align_corners=True if the old behavior is desired. See the documentation of nn.Upsample for details.\n",
      "Default upsampling behavior when mode=trilinear is changed to align_corners=False since 0.4.0. Please specify align_corners=True if the old behavior is desired. See the documentation of nn.Upsample for details.\n"
     ]
    },
    {
     "name": "stdout",
     "output_type": "stream",
     "text": [
      "1/3, train_loss: 0.3640\n",
      "2/3, train_loss: 0.3920\n",
      "3/3, train_loss: 0.3566\n",
      "4/3, train_loss: 0.3537\n",
      "5/3, train_loss: 0.3669\n",
      "6/3, train_loss: 0.3522\n",
      "7/3, train_loss: 0.3814\n",
      "8/3, train_loss: 0.3677\n",
      "9/3, train_loss: 0.3578\n",
      "10/3, train_loss: 0.3654\n",
      "11/3, train_loss: 0.3491\n",
      "12/3, train_loss: 0.3605\n",
      "13/3, train_loss: 0.3733\n",
      "14/3, train_loss: 0.3571\n",
      "0 epoch 215 average loss: 0.3641\n",
      "----------\n",
      "0: epoch 216/500\n"
     ]
    },
    {
     "name": "stderr",
     "output_type": "stream",
     "text": [
      "Default upsampling behavior when mode=trilinear is changed to align_corners=False since 0.4.0. Please specify align_corners=True if the old behavior is desired. See the documentation of nn.Upsample for details.\n",
      "Default upsampling behavior when mode=trilinear is changed to align_corners=False since 0.4.0. Please specify align_corners=True if the old behavior is desired. See the documentation of nn.Upsample for details.\n",
      "Default upsampling behavior when mode=trilinear is changed to align_corners=False since 0.4.0. Please specify align_corners=True if the old behavior is desired. See the documentation of nn.Upsample for details.\n",
      "Default upsampling behavior when mode=trilinear is changed to align_corners=False since 0.4.0. Please specify align_corners=True if the old behavior is desired. See the documentation of nn.Upsample for details.\n"
     ]
    },
    {
     "name": "stdout",
     "output_type": "stream",
     "text": [
      "1/3, train_loss: 0.3727\n",
      "2/3, train_loss: 0.3514\n",
      "3/3, train_loss: 0.3815\n",
      "4/3, train_loss: 0.3434\n",
      "5/3, train_loss: 0.3502\n",
      "6/3, train_loss: 0.3602\n",
      "7/3, train_loss: 0.3646\n",
      "8/3, train_loss: 0.3699\n",
      "9/3, train_loss: 0.3691\n",
      "10/3, train_loss: 0.3645\n",
      "11/3, train_loss: 0.3619\n",
      "12/3, train_loss: 0.3659\n",
      "13/3, train_loss: 0.3474\n",
      "14/3, train_loss: 0.3620\n",
      "0 epoch 216 average loss: 0.3617\n",
      "current epoch: 216 current mean dice: 0.4400\n",
      "best mean dice: 0.6012 at epoch: 204\n",
      "----------\n",
      "0: epoch 217/500\n"
     ]
    },
    {
     "name": "stderr",
     "output_type": "stream",
     "text": [
      "Default upsampling behavior when mode=trilinear is changed to align_corners=False since 0.4.0. Please specify align_corners=True if the old behavior is desired. See the documentation of nn.Upsample for details.\n",
      "Default upsampling behavior when mode=trilinear is changed to align_corners=False since 0.4.0. Please specify align_corners=True if the old behavior is desired. See the documentation of nn.Upsample for details.\n",
      "Default upsampling behavior when mode=trilinear is changed to align_corners=False since 0.4.0. Please specify align_corners=True if the old behavior is desired. See the documentation of nn.Upsample for details.\n",
      "Default upsampling behavior when mode=trilinear is changed to align_corners=False since 0.4.0. Please specify align_corners=True if the old behavior is desired. See the documentation of nn.Upsample for details.\n"
     ]
    },
    {
     "name": "stdout",
     "output_type": "stream",
     "text": [
      "1/3, train_loss: 0.3719\n",
      "2/3, train_loss: 0.3731\n",
      "3/3, train_loss: 0.3621\n",
      "4/3, train_loss: 0.3465\n",
      "5/3, train_loss: 0.3545\n",
      "6/3, train_loss: 0.3560\n",
      "7/3, train_loss: 0.3528\n",
      "8/3, train_loss: 0.3515\n",
      "9/3, train_loss: 0.3759\n",
      "10/3, train_loss: 0.3462\n",
      "11/3, train_loss: 0.3707\n",
      "12/3, train_loss: 0.3863\n",
      "13/3, train_loss: 0.3717\n",
      "14/3, train_loss: 0.3627\n",
      "0 epoch 217 average loss: 0.3630\n",
      "----------\n",
      "0: epoch 218/500\n"
     ]
    },
    {
     "name": "stderr",
     "output_type": "stream",
     "text": [
      "Default upsampling behavior when mode=trilinear is changed to align_corners=False since 0.4.0. Please specify align_corners=True if the old behavior is desired. See the documentation of nn.Upsample for details.\n",
      "Default upsampling behavior when mode=trilinear is changed to align_corners=False since 0.4.0. Please specify align_corners=True if the old behavior is desired. See the documentation of nn.Upsample for details.\n",
      "Default upsampling behavior when mode=trilinear is changed to align_corners=False since 0.4.0. Please specify align_corners=True if the old behavior is desired. See the documentation of nn.Upsample for details.\n",
      "Default upsampling behavior when mode=trilinear is changed to align_corners=False since 0.4.0. Please specify align_corners=True if the old behavior is desired. See the documentation of nn.Upsample for details.\n"
     ]
    },
    {
     "name": "stdout",
     "output_type": "stream",
     "text": [
      "1/3, train_loss: 0.3487\n",
      "2/3, train_loss: 0.3869\n",
      "3/3, train_loss: 0.3511\n",
      "4/3, train_loss: 0.3716\n",
      "5/3, train_loss: 0.3625\n",
      "6/3, train_loss: 0.3806\n",
      "7/3, train_loss: 0.3628\n",
      "8/3, train_loss: 0.3609\n",
      "9/3, train_loss: 0.3671\n",
      "10/3, train_loss: 0.3533\n",
      "11/3, train_loss: 0.3387\n",
      "12/3, train_loss: 0.3738\n",
      "13/3, train_loss: 0.3455\n",
      "14/3, train_loss: 0.3496\n",
      "0 epoch 218 average loss: 0.3609\n",
      "current epoch: 218 current mean dice: 0.4773\n",
      "best mean dice: 0.6012 at epoch: 204\n",
      "----------\n",
      "0: epoch 219/500\n"
     ]
    },
    {
     "name": "stderr",
     "output_type": "stream",
     "text": [
      "Default upsampling behavior when mode=trilinear is changed to align_corners=False since 0.4.0. Please specify align_corners=True if the old behavior is desired. See the documentation of nn.Upsample for details.\n",
      "Default upsampling behavior when mode=trilinear is changed to align_corners=False since 0.4.0. Please specify align_corners=True if the old behavior is desired. See the documentation of nn.Upsample for details.\n",
      "Default upsampling behavior when mode=trilinear is changed to align_corners=False since 0.4.0. Please specify align_corners=True if the old behavior is desired. See the documentation of nn.Upsample for details.\n",
      "Default upsampling behavior when mode=trilinear is changed to align_corners=False since 0.4.0. Please specify align_corners=True if the old behavior is desired. See the documentation of nn.Upsample for details.\n"
     ]
    },
    {
     "name": "stdout",
     "output_type": "stream",
     "text": [
      "1/3, train_loss: 0.3425\n",
      "2/3, train_loss: 0.3527\n",
      "3/3, train_loss: 0.3628\n",
      "4/3, train_loss: 0.3569\n",
      "5/3, train_loss: 0.3607\n",
      "6/3, train_loss: 0.3598\n",
      "7/3, train_loss: 0.3589\n",
      "8/3, train_loss: 0.3576\n",
      "9/3, train_loss: 0.3906\n",
      "10/3, train_loss: 0.3707\n",
      "11/3, train_loss: 0.3480\n",
      "12/3, train_loss: 0.3420\n",
      "13/3, train_loss: 0.3516\n",
      "14/3, train_loss: 0.3696\n",
      "0 epoch 219 average loss: 0.3589\n",
      "----------\n",
      "0: epoch 220/500\n"
     ]
    },
    {
     "name": "stderr",
     "output_type": "stream",
     "text": [
      "Default upsampling behavior when mode=trilinear is changed to align_corners=False since 0.4.0. Please specify align_corners=True if the old behavior is desired. See the documentation of nn.Upsample for details.\n",
      "Default upsampling behavior when mode=trilinear is changed to align_corners=False since 0.4.0. Please specify align_corners=True if the old behavior is desired. See the documentation of nn.Upsample for details.\n",
      "Default upsampling behavior when mode=trilinear is changed to align_corners=False since 0.4.0. Please specify align_corners=True if the old behavior is desired. See the documentation of nn.Upsample for details.\n",
      "Default upsampling behavior when mode=trilinear is changed to align_corners=False since 0.4.0. Please specify align_corners=True if the old behavior is desired. See the documentation of nn.Upsample for details.\n"
     ]
    },
    {
     "name": "stdout",
     "output_type": "stream",
     "text": [
      "1/3, train_loss: 0.3595\n",
      "2/3, train_loss: 0.3530\n",
      "3/3, train_loss: 0.3690\n",
      "4/3, train_loss: 0.3514\n",
      "5/3, train_loss: 0.3555\n",
      "6/3, train_loss: 0.3667\n",
      "7/3, train_loss: 0.3702\n",
      "8/3, train_loss: 0.3514\n",
      "9/3, train_loss: 0.3810\n",
      "10/3, train_loss: 0.3728\n",
      "11/3, train_loss: 0.3563\n",
      "12/3, train_loss: 0.3727\n",
      "13/3, train_loss: 0.3487\n",
      "14/3, train_loss: 0.3392\n",
      "0 epoch 220 average loss: 0.3605\n",
      "current epoch: 220 current mean dice: 0.3867\n",
      "best mean dice: 0.6012 at epoch: 204\n",
      "----------\n",
      "0: epoch 221/500\n"
     ]
    },
    {
     "name": "stderr",
     "output_type": "stream",
     "text": [
      "Default upsampling behavior when mode=trilinear is changed to align_corners=False since 0.4.0. Please specify align_corners=True if the old behavior is desired. See the documentation of nn.Upsample for details.\n",
      "Default upsampling behavior when mode=trilinear is changed to align_corners=False since 0.4.0. Please specify align_corners=True if the old behavior is desired. See the documentation of nn.Upsample for details.\n",
      "Default upsampling behavior when mode=trilinear is changed to align_corners=False since 0.4.0. Please specify align_corners=True if the old behavior is desired. See the documentation of nn.Upsample for details.\n",
      "Default upsampling behavior when mode=trilinear is changed to align_corners=False since 0.4.0. Please specify align_corners=True if the old behavior is desired. See the documentation of nn.Upsample for details.\n"
     ]
    },
    {
     "name": "stdout",
     "output_type": "stream",
     "text": [
      "1/3, train_loss: 0.3562\n",
      "2/3, train_loss: 0.3543\n",
      "3/3, train_loss: 0.3833\n",
      "4/3, train_loss: 0.3702\n",
      "5/3, train_loss: 0.3737\n",
      "6/3, train_loss: 0.3518\n",
      "7/3, train_loss: 0.3703\n",
      "8/3, train_loss: 0.3485\n",
      "9/3, train_loss: 0.3541\n",
      "10/3, train_loss: 0.3549\n",
      "11/3, train_loss: 0.3532\n",
      "12/3, train_loss: 0.3899\n",
      "13/3, train_loss: 0.3621\n",
      "14/3, train_loss: 0.3383\n",
      "0 epoch 221 average loss: 0.3615\n",
      "----------\n",
      "0: epoch 222/500\n"
     ]
    },
    {
     "name": "stderr",
     "output_type": "stream",
     "text": [
      "Default upsampling behavior when mode=trilinear is changed to align_corners=False since 0.4.0. Please specify align_corners=True if the old behavior is desired. See the documentation of nn.Upsample for details.\n",
      "Default upsampling behavior when mode=trilinear is changed to align_corners=False since 0.4.0. Please specify align_corners=True if the old behavior is desired. See the documentation of nn.Upsample for details.\n",
      "Default upsampling behavior when mode=trilinear is changed to align_corners=False since 0.4.0. Please specify align_corners=True if the old behavior is desired. See the documentation of nn.Upsample for details.\n",
      "Default upsampling behavior when mode=trilinear is changed to align_corners=False since 0.4.0. Please specify align_corners=True if the old behavior is desired. See the documentation of nn.Upsample for details.\n"
     ]
    },
    {
     "name": "stdout",
     "output_type": "stream",
     "text": [
      "1/3, train_loss: 0.3603\n",
      "2/3, train_loss: 0.3426\n",
      "3/3, train_loss: 0.3531\n",
      "4/3, train_loss: 0.3548\n",
      "5/3, train_loss: 0.3539\n",
      "6/3, train_loss: 0.3589\n",
      "7/3, train_loss: 0.3585\n",
      "8/3, train_loss: 0.3781\n",
      "9/3, train_loss: 0.3644\n",
      "10/3, train_loss: 0.3602\n",
      "11/3, train_loss: 0.3846\n",
      "12/3, train_loss: 0.3551\n",
      "13/3, train_loss: 0.3687\n",
      "14/3, train_loss: 0.3618\n",
      "0 epoch 222 average loss: 0.3611\n",
      "current epoch: 222 current mean dice: 0.4225\n",
      "best mean dice: 0.6012 at epoch: 204\n",
      "----------\n",
      "0: epoch 223/500\n"
     ]
    },
    {
     "name": "stderr",
     "output_type": "stream",
     "text": [
      "Default upsampling behavior when mode=trilinear is changed to align_corners=False since 0.4.0. Please specify align_corners=True if the old behavior is desired. See the documentation of nn.Upsample for details.\n",
      "Default upsampling behavior when mode=trilinear is changed to align_corners=False since 0.4.0. Please specify align_corners=True if the old behavior is desired. See the documentation of nn.Upsample for details.\n",
      "Default upsampling behavior when mode=trilinear is changed to align_corners=False since 0.4.0. Please specify align_corners=True if the old behavior is desired. See the documentation of nn.Upsample for details.\n",
      "Default upsampling behavior when mode=trilinear is changed to align_corners=False since 0.4.0. Please specify align_corners=True if the old behavior is desired. See the documentation of nn.Upsample for details.\n"
     ]
    },
    {
     "name": "stdout",
     "output_type": "stream",
     "text": [
      "1/3, train_loss: 0.3680\n",
      "2/3, train_loss: 0.3681\n",
      "3/3, train_loss: 0.3626\n",
      "4/3, train_loss: 0.3671\n",
      "5/3, train_loss: 0.3486\n",
      "6/3, train_loss: 0.3454\n",
      "7/3, train_loss: 0.3629\n",
      "8/3, train_loss: 0.3349\n",
      "9/3, train_loss: 0.3602\n",
      "10/3, train_loss: 0.3633\n",
      "11/3, train_loss: 0.3623\n",
      "12/3, train_loss: 0.3443\n",
      "13/3, train_loss: 0.3812\n",
      "14/3, train_loss: 0.3884\n",
      "0 epoch 223 average loss: 0.3612\n",
      "----------\n",
      "0: epoch 224/500\n"
     ]
    },
    {
     "name": "stderr",
     "output_type": "stream",
     "text": [
      "Default upsampling behavior when mode=trilinear is changed to align_corners=False since 0.4.0. Please specify align_corners=True if the old behavior is desired. See the documentation of nn.Upsample for details.\n",
      "Default upsampling behavior when mode=trilinear is changed to align_corners=False since 0.4.0. Please specify align_corners=True if the old behavior is desired. See the documentation of nn.Upsample for details.\n",
      "Default upsampling behavior when mode=trilinear is changed to align_corners=False since 0.4.0. Please specify align_corners=True if the old behavior is desired. See the documentation of nn.Upsample for details.\n",
      "Default upsampling behavior when mode=trilinear is changed to align_corners=False since 0.4.0. Please specify align_corners=True if the old behavior is desired. See the documentation of nn.Upsample for details.\n"
     ]
    },
    {
     "name": "stdout",
     "output_type": "stream",
     "text": [
      "1/3, train_loss: 0.3490\n",
      "2/3, train_loss: 0.3539\n",
      "3/3, train_loss: 0.3619\n",
      "4/3, train_loss: 0.3571\n",
      "5/3, train_loss: 0.3545\n",
      "6/3, train_loss: 0.3728\n",
      "7/3, train_loss: 0.3545\n",
      "8/3, train_loss: 0.3616\n",
      "9/3, train_loss: 0.3748\n",
      "10/3, train_loss: 0.3647\n",
      "11/3, train_loss: 0.3576\n",
      "12/3, train_loss: 0.3603\n",
      "13/3, train_loss: 0.3696\n",
      "14/3, train_loss: 0.3961\n",
      "0 epoch 224 average loss: 0.3635\n",
      "current epoch: 224 current mean dice: 0.4286\n",
      "best mean dice: 0.6012 at epoch: 204\n",
      "----------\n",
      "0: epoch 225/500\n"
     ]
    },
    {
     "name": "stderr",
     "output_type": "stream",
     "text": [
      "Default upsampling behavior when mode=trilinear is changed to align_corners=False since 0.4.0. Please specify align_corners=True if the old behavior is desired. See the documentation of nn.Upsample for details.\n",
      "Default upsampling behavior when mode=trilinear is changed to align_corners=False since 0.4.0. Please specify align_corners=True if the old behavior is desired. See the documentation of nn.Upsample for details.\n",
      "Default upsampling behavior when mode=trilinear is changed to align_corners=False since 0.4.0. Please specify align_corners=True if the old behavior is desired. See the documentation of nn.Upsample for details.\n",
      "Default upsampling behavior when mode=trilinear is changed to align_corners=False since 0.4.0. Please specify align_corners=True if the old behavior is desired. See the documentation of nn.Upsample for details.\n"
     ]
    },
    {
     "name": "stdout",
     "output_type": "stream",
     "text": [
      "1/3, train_loss: 0.3430\n",
      "2/3, train_loss: 0.3716\n",
      "3/3, train_loss: 0.3498\n",
      "4/3, train_loss: 0.3628\n",
      "5/3, train_loss: 0.3355\n",
      "6/3, train_loss: 0.3640\n",
      "7/3, train_loss: 0.3758\n",
      "8/3, train_loss: 0.3701\n",
      "9/3, train_loss: 0.3624\n",
      "10/3, train_loss: 0.3441\n",
      "11/3, train_loss: 0.3662\n",
      "12/3, train_loss: 0.3804\n",
      "13/3, train_loss: 0.3594\n",
      "14/3, train_loss: 0.3534\n",
      "0 epoch 225 average loss: 0.3599\n",
      "----------\n",
      "0: epoch 226/500\n"
     ]
    },
    {
     "name": "stderr",
     "output_type": "stream",
     "text": [
      "Default upsampling behavior when mode=trilinear is changed to align_corners=False since 0.4.0. Please specify align_corners=True if the old behavior is desired. See the documentation of nn.Upsample for details.\n",
      "Default upsampling behavior when mode=trilinear is changed to align_corners=False since 0.4.0. Please specify align_corners=True if the old behavior is desired. See the documentation of nn.Upsample for details.\n",
      "Default upsampling behavior when mode=trilinear is changed to align_corners=False since 0.4.0. Please specify align_corners=True if the old behavior is desired. See the documentation of nn.Upsample for details.\n",
      "Default upsampling behavior when mode=trilinear is changed to align_corners=False since 0.4.0. Please specify align_corners=True if the old behavior is desired. See the documentation of nn.Upsample for details.\n"
     ]
    },
    {
     "name": "stdout",
     "output_type": "stream",
     "text": [
      "1/3, train_loss: 0.3486\n",
      "2/3, train_loss: 0.3470\n",
      "3/3, train_loss: 0.3448\n",
      "4/3, train_loss: 0.3639\n",
      "5/3, train_loss: 0.3548\n",
      "6/3, train_loss: 0.3476\n",
      "7/3, train_loss: 0.3565\n",
      "8/3, train_loss: 0.3581\n",
      "9/3, train_loss: 0.3666\n",
      "10/3, train_loss: 0.3599\n",
      "11/3, train_loss: 0.3597\n",
      "12/3, train_loss: 0.3779\n",
      "13/3, train_loss: 0.3622\n",
      "14/3, train_loss: 0.3722\n",
      "0 epoch 226 average loss: 0.3586\n",
      "current epoch: 226 current mean dice: 0.4465\n",
      "best mean dice: 0.6012 at epoch: 204\n",
      "----------\n",
      "0: epoch 227/500\n"
     ]
    },
    {
     "name": "stderr",
     "output_type": "stream",
     "text": [
      "Default upsampling behavior when mode=trilinear is changed to align_corners=False since 0.4.0. Please specify align_corners=True if the old behavior is desired. See the documentation of nn.Upsample for details.\n",
      "Default upsampling behavior when mode=trilinear is changed to align_corners=False since 0.4.0. Please specify align_corners=True if the old behavior is desired. See the documentation of nn.Upsample for details.\n",
      "Default upsampling behavior when mode=trilinear is changed to align_corners=False since 0.4.0. Please specify align_corners=True if the old behavior is desired. See the documentation of nn.Upsample for details.\n",
      "Default upsampling behavior when mode=trilinear is changed to align_corners=False since 0.4.0. Please specify align_corners=True if the old behavior is desired. See the documentation of nn.Upsample for details.\n"
     ]
    },
    {
     "name": "stdout",
     "output_type": "stream",
     "text": [
      "1/3, train_loss: 0.3504\n",
      "2/3, train_loss: 0.3633\n",
      "3/3, train_loss: 0.3653\n",
      "4/3, train_loss: 0.3567\n",
      "5/3, train_loss: 0.3508\n",
      "6/3, train_loss: 0.3674\n",
      "7/3, train_loss: 0.3762\n",
      "8/3, train_loss: 0.3660\n",
      "9/3, train_loss: 0.3515\n",
      "10/3, train_loss: 0.3577\n",
      "11/3, train_loss: 0.3635\n",
      "12/3, train_loss: 0.3703\n",
      "13/3, train_loss: 0.3502\n",
      "14/3, train_loss: 0.3308\n",
      "0 epoch 227 average loss: 0.3586\n",
      "----------\n",
      "0: epoch 228/500\n"
     ]
    },
    {
     "name": "stderr",
     "output_type": "stream",
     "text": [
      "Default upsampling behavior when mode=trilinear is changed to align_corners=False since 0.4.0. Please specify align_corners=True if the old behavior is desired. See the documentation of nn.Upsample for details.\n",
      "Default upsampling behavior when mode=trilinear is changed to align_corners=False since 0.4.0. Please specify align_corners=True if the old behavior is desired. See the documentation of nn.Upsample for details.\n",
      "Default upsampling behavior when mode=trilinear is changed to align_corners=False since 0.4.0. Please specify align_corners=True if the old behavior is desired. See the documentation of nn.Upsample for details.\n",
      "Default upsampling behavior when mode=trilinear is changed to align_corners=False since 0.4.0. Please specify align_corners=True if the old behavior is desired. See the documentation of nn.Upsample for details.\n"
     ]
    },
    {
     "name": "stdout",
     "output_type": "stream",
     "text": [
      "1/3, train_loss: 0.3706\n",
      "2/3, train_loss: 0.3625\n",
      "3/3, train_loss: 0.3563\n",
      "4/3, train_loss: 0.3545\n",
      "5/3, train_loss: 0.3599\n",
      "6/3, train_loss: 0.3762\n",
      "7/3, train_loss: 0.3488\n",
      "8/3, train_loss: 0.3628\n",
      "9/3, train_loss: 0.3648\n",
      "10/3, train_loss: 0.3678\n",
      "11/3, train_loss: 0.3418\n",
      "12/3, train_loss: 0.3401\n",
      "13/3, train_loss: 0.3486\n",
      "14/3, train_loss: 0.3654\n",
      "0 epoch 228 average loss: 0.3586\n",
      "current epoch: 228 current mean dice: 0.4449\n",
      "best mean dice: 0.6012 at epoch: 204\n",
      "----------\n",
      "0: epoch 229/500\n"
     ]
    },
    {
     "name": "stderr",
     "output_type": "stream",
     "text": [
      "Default upsampling behavior when mode=trilinear is changed to align_corners=False since 0.4.0. Please specify align_corners=True if the old behavior is desired. See the documentation of nn.Upsample for details.\n",
      "Default upsampling behavior when mode=trilinear is changed to align_corners=False since 0.4.0. Please specify align_corners=True if the old behavior is desired. See the documentation of nn.Upsample for details.\n",
      "Default upsampling behavior when mode=trilinear is changed to align_corners=False since 0.4.0. Please specify align_corners=True if the old behavior is desired. See the documentation of nn.Upsample for details.\n",
      "Default upsampling behavior when mode=trilinear is changed to align_corners=False since 0.4.0. Please specify align_corners=True if the old behavior is desired. See the documentation of nn.Upsample for details.\n"
     ]
    },
    {
     "name": "stdout",
     "output_type": "stream",
     "text": [
      "1/3, train_loss: 0.3604\n",
      "2/3, train_loss: 0.3546\n",
      "3/3, train_loss: 0.3524\n",
      "4/3, train_loss: 0.3808\n",
      "5/3, train_loss: 0.3512\n",
      "6/3, train_loss: 0.3454\n",
      "7/3, train_loss: 0.3627\n",
      "8/3, train_loss: 0.3717\n",
      "9/3, train_loss: 0.3702\n",
      "10/3, train_loss: 0.3525\n",
      "11/3, train_loss: 0.3515\n",
      "12/3, train_loss: 0.3475\n",
      "13/3, train_loss: 0.3898\n",
      "14/3, train_loss: 0.3488\n",
      "0 epoch 229 average loss: 0.3600\n",
      "----------\n",
      "0: epoch 230/500\n"
     ]
    },
    {
     "name": "stderr",
     "output_type": "stream",
     "text": [
      "Default upsampling behavior when mode=trilinear is changed to align_corners=False since 0.4.0. Please specify align_corners=True if the old behavior is desired. See the documentation of nn.Upsample for details.\n",
      "Default upsampling behavior when mode=trilinear is changed to align_corners=False since 0.4.0. Please specify align_corners=True if the old behavior is desired. See the documentation of nn.Upsample for details.\n",
      "Default upsampling behavior when mode=trilinear is changed to align_corners=False since 0.4.0. Please specify align_corners=True if the old behavior is desired. See the documentation of nn.Upsample for details.\n",
      "Default upsampling behavior when mode=trilinear is changed to align_corners=False since 0.4.0. Please specify align_corners=True if the old behavior is desired. See the documentation of nn.Upsample for details.\n"
     ]
    },
    {
     "name": "stdout",
     "output_type": "stream",
     "text": [
      "1/3, train_loss: 0.3481\n",
      "2/3, train_loss: 0.3809\n",
      "3/3, train_loss: 0.3456\n",
      "4/3, train_loss: 0.3492\n",
      "5/3, train_loss: 0.3632\n",
      "6/3, train_loss: 0.3617\n",
      "7/3, train_loss: 0.3592\n",
      "8/3, train_loss: 0.3444\n",
      "9/3, train_loss: 0.3439\n",
      "10/3, train_loss: 0.3681\n",
      "11/3, train_loss: 0.3516\n",
      "12/3, train_loss: 0.3673\n",
      "13/3, train_loss: 0.3575\n",
      "14/3, train_loss: 0.3600\n",
      "0 epoch 230 average loss: 0.3572\n",
      "current epoch: 230 current mean dice: 0.4416\n",
      "best mean dice: 0.6012 at epoch: 204\n",
      "----------\n",
      "0: epoch 231/500\n"
     ]
    },
    {
     "name": "stderr",
     "output_type": "stream",
     "text": [
      "Default upsampling behavior when mode=trilinear is changed to align_corners=False since 0.4.0. Please specify align_corners=True if the old behavior is desired. See the documentation of nn.Upsample for details.\n",
      "Default upsampling behavior when mode=trilinear is changed to align_corners=False since 0.4.0. Please specify align_corners=True if the old behavior is desired. See the documentation of nn.Upsample for details.\n",
      "Default upsampling behavior when mode=trilinear is changed to align_corners=False since 0.4.0. Please specify align_corners=True if the old behavior is desired. See the documentation of nn.Upsample for details.\n",
      "Default upsampling behavior when mode=trilinear is changed to align_corners=False since 0.4.0. Please specify align_corners=True if the old behavior is desired. See the documentation of nn.Upsample for details.\n"
     ]
    },
    {
     "name": "stdout",
     "output_type": "stream",
     "text": [
      "1/3, train_loss: 0.3670\n",
      "2/3, train_loss: 0.3633\n",
      "3/3, train_loss: 0.3576\n",
      "4/3, train_loss: 0.3547\n",
      "5/3, train_loss: 0.3562\n",
      "6/3, train_loss: 0.3601\n",
      "7/3, train_loss: 0.3584\n",
      "8/3, train_loss: 0.3609\n",
      "9/3, train_loss: 0.3679\n",
      "10/3, train_loss: 0.3602\n",
      "11/3, train_loss: 0.3580\n",
      "12/3, train_loss: 0.3507\n",
      "13/3, train_loss: 0.3550\n",
      "14/3, train_loss: 0.3622\n",
      "0 epoch 231 average loss: 0.3594\n",
      "----------\n",
      "0: epoch 232/500\n"
     ]
    },
    {
     "name": "stderr",
     "output_type": "stream",
     "text": [
      "Default upsampling behavior when mode=trilinear is changed to align_corners=False since 0.4.0. Please specify align_corners=True if the old behavior is desired. See the documentation of nn.Upsample for details.\n",
      "Default upsampling behavior when mode=trilinear is changed to align_corners=False since 0.4.0. Please specify align_corners=True if the old behavior is desired. See the documentation of nn.Upsample for details.\n",
      "Default upsampling behavior when mode=trilinear is changed to align_corners=False since 0.4.0. Please specify align_corners=True if the old behavior is desired. See the documentation of nn.Upsample for details.\n",
      "Default upsampling behavior when mode=trilinear is changed to align_corners=False since 0.4.0. Please specify align_corners=True if the old behavior is desired. See the documentation of nn.Upsample for details.\n"
     ]
    },
    {
     "name": "stdout",
     "output_type": "stream",
     "text": [
      "1/3, train_loss: 0.3537\n",
      "2/3, train_loss: 0.3671\n",
      "3/3, train_loss: 0.3685\n",
      "4/3, train_loss: 0.3518\n",
      "5/3, train_loss: 0.3643\n",
      "6/3, train_loss: 0.3652\n",
      "7/3, train_loss: 0.3439\n",
      "8/3, train_loss: 0.3591\n",
      "9/3, train_loss: 0.3465\n",
      "10/3, train_loss: 0.3580\n",
      "11/3, train_loss: 0.3602\n",
      "12/3, train_loss: 0.3504\n",
      "13/3, train_loss: 0.3510\n",
      "14/3, train_loss: 0.3446\n",
      "0 epoch 232 average loss: 0.3560\n",
      "current epoch: 232 current mean dice: 0.4506\n",
      "best mean dice: 0.6012 at epoch: 204\n",
      "----------\n",
      "0: epoch 233/500\n"
     ]
    },
    {
     "name": "stderr",
     "output_type": "stream",
     "text": [
      "Default upsampling behavior when mode=trilinear is changed to align_corners=False since 0.4.0. Please specify align_corners=True if the old behavior is desired. See the documentation of nn.Upsample for details.\n",
      "Default upsampling behavior when mode=trilinear is changed to align_corners=False since 0.4.0. Please specify align_corners=True if the old behavior is desired. See the documentation of nn.Upsample for details.\n",
      "Default upsampling behavior when mode=trilinear is changed to align_corners=False since 0.4.0. Please specify align_corners=True if the old behavior is desired. See the documentation of nn.Upsample for details.\n",
      "Default upsampling behavior when mode=trilinear is changed to align_corners=False since 0.4.0. Please specify align_corners=True if the old behavior is desired. See the documentation of nn.Upsample for details.\n"
     ]
    },
    {
     "name": "stdout",
     "output_type": "stream",
     "text": [
      "1/3, train_loss: 0.3518\n",
      "2/3, train_loss: 0.3559\n",
      "3/3, train_loss: 0.3540\n",
      "4/3, train_loss: 0.3545\n",
      "5/3, train_loss: 0.3595\n",
      "6/3, train_loss: 0.3560\n",
      "7/3, train_loss: 0.3653\n",
      "8/3, train_loss: 0.3472\n",
      "9/3, train_loss: 0.3770\n",
      "10/3, train_loss: 0.3336\n",
      "11/3, train_loss: 0.3684\n",
      "12/3, train_loss: 0.3836\n",
      "13/3, train_loss: 0.3523\n",
      "14/3, train_loss: 0.3641\n",
      "0 epoch 233 average loss: 0.3588\n",
      "----------\n",
      "0: epoch 234/500\n"
     ]
    },
    {
     "name": "stderr",
     "output_type": "stream",
     "text": [
      "Default upsampling behavior when mode=trilinear is changed to align_corners=False since 0.4.0. Please specify align_corners=True if the old behavior is desired. See the documentation of nn.Upsample for details.\n",
      "Default upsampling behavior when mode=trilinear is changed to align_corners=False since 0.4.0. Please specify align_corners=True if the old behavior is desired. See the documentation of nn.Upsample for details.\n",
      "Default upsampling behavior when mode=trilinear is changed to align_corners=False since 0.4.0. Please specify align_corners=True if the old behavior is desired. See the documentation of nn.Upsample for details.\n",
      "Default upsampling behavior when mode=trilinear is changed to align_corners=False since 0.4.0. Please specify align_corners=True if the old behavior is desired. See the documentation of nn.Upsample for details.\n"
     ]
    },
    {
     "name": "stdout",
     "output_type": "stream",
     "text": [
      "1/3, train_loss: 0.3586\n",
      "2/3, train_loss: 0.3637\n",
      "3/3, train_loss: 0.3811\n",
      "4/3, train_loss: 0.3460\n",
      "5/3, train_loss: 0.3429\n",
      "6/3, train_loss: 0.3562\n",
      "7/3, train_loss: 0.3543\n",
      "8/3, train_loss: 0.3659\n",
      "9/3, train_loss: 0.3586\n",
      "10/3, train_loss: 0.3512\n",
      "11/3, train_loss: 0.3455\n",
      "12/3, train_loss: 0.3594\n",
      "13/3, train_loss: 0.3516\n",
      "14/3, train_loss: 0.3577\n",
      "0 epoch 234 average loss: 0.3566\n",
      "current epoch: 234 current mean dice: 0.4649\n",
      "best mean dice: 0.6012 at epoch: 204\n",
      "----------\n",
      "0: epoch 235/500\n"
     ]
    },
    {
     "name": "stderr",
     "output_type": "stream",
     "text": [
      "Default upsampling behavior when mode=trilinear is changed to align_corners=False since 0.4.0. Please specify align_corners=True if the old behavior is desired. See the documentation of nn.Upsample for details.\n",
      "Default upsampling behavior when mode=trilinear is changed to align_corners=False since 0.4.0. Please specify align_corners=True if the old behavior is desired. See the documentation of nn.Upsample for details.\n",
      "Default upsampling behavior when mode=trilinear is changed to align_corners=False since 0.4.0. Please specify align_corners=True if the old behavior is desired. See the documentation of nn.Upsample for details.\n",
      "Default upsampling behavior when mode=trilinear is changed to align_corners=False since 0.4.0. Please specify align_corners=True if the old behavior is desired. See the documentation of nn.Upsample for details.\n"
     ]
    },
    {
     "name": "stdout",
     "output_type": "stream",
     "text": [
      "1/3, train_loss: 0.3487\n",
      "2/3, train_loss: 0.3660\n",
      "3/3, train_loss: 0.3738\n",
      "4/3, train_loss: 0.3597\n",
      "5/3, train_loss: 0.3491\n",
      "6/3, train_loss: 0.3465\n",
      "7/3, train_loss: 0.3382\n",
      "8/3, train_loss: 0.3598\n",
      "9/3, train_loss: 0.3522\n",
      "10/3, train_loss: 0.3612\n",
      "11/3, train_loss: 0.3666\n",
      "12/3, train_loss: 0.3490\n",
      "13/3, train_loss: 0.3420\n",
      "14/3, train_loss: 0.3919\n",
      "0 epoch 235 average loss: 0.3575\n",
      "----------\n",
      "0: epoch 236/500\n"
     ]
    },
    {
     "name": "stderr",
     "output_type": "stream",
     "text": [
      "Default upsampling behavior when mode=trilinear is changed to align_corners=False since 0.4.0. Please specify align_corners=True if the old behavior is desired. See the documentation of nn.Upsample for details.\n",
      "Default upsampling behavior when mode=trilinear is changed to align_corners=False since 0.4.0. Please specify align_corners=True if the old behavior is desired. See the documentation of nn.Upsample for details.\n",
      "Default upsampling behavior when mode=trilinear is changed to align_corners=False since 0.4.0. Please specify align_corners=True if the old behavior is desired. See the documentation of nn.Upsample for details.\n",
      "Default upsampling behavior when mode=trilinear is changed to align_corners=False since 0.4.0. Please specify align_corners=True if the old behavior is desired. See the documentation of nn.Upsample for details.\n"
     ]
    },
    {
     "name": "stdout",
     "output_type": "stream",
     "text": [
      "1/3, train_loss: 0.3499\n",
      "2/3, train_loss: 0.3650\n",
      "3/3, train_loss: 0.3764\n",
      "4/3, train_loss: 0.3537\n",
      "5/3, train_loss: 0.3669\n",
      "6/3, train_loss: 0.3569\n",
      "7/3, train_loss: 0.3672\n",
      "8/3, train_loss: 0.3552\n",
      "9/3, train_loss: 0.3492\n",
      "10/3, train_loss: 0.3444\n",
      "11/3, train_loss: 0.3659\n",
      "12/3, train_loss: 0.3607\n",
      "13/3, train_loss: 0.3424\n",
      "14/3, train_loss: 0.3539\n",
      "0 epoch 236 average loss: 0.3577\n",
      "current epoch: 236 current mean dice: 0.4417\n",
      "best mean dice: 0.6012 at epoch: 204\n",
      "----------\n",
      "0: epoch 237/500\n"
     ]
    },
    {
     "name": "stderr",
     "output_type": "stream",
     "text": [
      "Default upsampling behavior when mode=trilinear is changed to align_corners=False since 0.4.0. Please specify align_corners=True if the old behavior is desired. See the documentation of nn.Upsample for details.\n",
      "Default upsampling behavior when mode=trilinear is changed to align_corners=False since 0.4.0. Please specify align_corners=True if the old behavior is desired. See the documentation of nn.Upsample for details.\n",
      "Default upsampling behavior when mode=trilinear is changed to align_corners=False since 0.4.0. Please specify align_corners=True if the old behavior is desired. See the documentation of nn.Upsample for details.\n",
      "Default upsampling behavior when mode=trilinear is changed to align_corners=False since 0.4.0. Please specify align_corners=True if the old behavior is desired. See the documentation of nn.Upsample for details.\n"
     ]
    },
    {
     "name": "stdout",
     "output_type": "stream",
     "text": [
      "1/3, train_loss: 0.3406\n",
      "2/3, train_loss: 0.3556\n",
      "3/3, train_loss: 0.3656\n",
      "4/3, train_loss: 0.3622\n",
      "5/3, train_loss: 0.3478\n",
      "6/3, train_loss: 0.3500\n",
      "7/3, train_loss: 0.3528\n",
      "8/3, train_loss: 0.3561\n",
      "9/3, train_loss: 0.3650\n",
      "10/3, train_loss: 0.3562\n",
      "11/3, train_loss: 0.3573\n",
      "12/3, train_loss: 0.3348\n",
      "13/3, train_loss: 0.3706\n",
      "14/3, train_loss: 0.3658\n",
      "0 epoch 237 average loss: 0.3557\n",
      "----------\n",
      "0: epoch 238/500\n"
     ]
    },
    {
     "name": "stderr",
     "output_type": "stream",
     "text": [
      "Default upsampling behavior when mode=trilinear is changed to align_corners=False since 0.4.0. Please specify align_corners=True if the old behavior is desired. See the documentation of nn.Upsample for details.\n",
      "Default upsampling behavior when mode=trilinear is changed to align_corners=False since 0.4.0. Please specify align_corners=True if the old behavior is desired. See the documentation of nn.Upsample for details.\n",
      "Default upsampling behavior when mode=trilinear is changed to align_corners=False since 0.4.0. Please specify align_corners=True if the old behavior is desired. See the documentation of nn.Upsample for details.\n",
      "Default upsampling behavior when mode=trilinear is changed to align_corners=False since 0.4.0. Please specify align_corners=True if the old behavior is desired. See the documentation of nn.Upsample for details.\n"
     ]
    },
    {
     "name": "stdout",
     "output_type": "stream",
     "text": [
      "1/3, train_loss: 0.3708\n",
      "2/3, train_loss: 0.3585\n",
      "3/3, train_loss: 0.3494\n",
      "4/3, train_loss: 0.3603\n",
      "5/3, train_loss: 0.3502\n",
      "6/3, train_loss: 0.3538\n",
      "7/3, train_loss: 0.3420\n",
      "8/3, train_loss: 0.3522\n",
      "9/3, train_loss: 0.3484\n",
      "10/3, train_loss: 0.3411\n",
      "11/3, train_loss: 0.3555\n",
      "12/3, train_loss: 0.3683\n",
      "13/3, train_loss: 0.3595\n",
      "14/3, train_loss: 0.3684\n",
      "0 epoch 238 average loss: 0.3556\n",
      "current epoch: 238 current mean dice: 0.4282\n",
      "best mean dice: 0.6012 at epoch: 204\n",
      "----------\n",
      "0: epoch 239/500\n"
     ]
    },
    {
     "name": "stderr",
     "output_type": "stream",
     "text": [
      "Default upsampling behavior when mode=trilinear is changed to align_corners=False since 0.4.0. Please specify align_corners=True if the old behavior is desired. See the documentation of nn.Upsample for details.\n",
      "Default upsampling behavior when mode=trilinear is changed to align_corners=False since 0.4.0. Please specify align_corners=True if the old behavior is desired. See the documentation of nn.Upsample for details.\n",
      "Default upsampling behavior when mode=trilinear is changed to align_corners=False since 0.4.0. Please specify align_corners=True if the old behavior is desired. See the documentation of nn.Upsample for details.\n",
      "Default upsampling behavior when mode=trilinear is changed to align_corners=False since 0.4.0. Please specify align_corners=True if the old behavior is desired. See the documentation of nn.Upsample for details.\n"
     ]
    },
    {
     "name": "stdout",
     "output_type": "stream",
     "text": [
      "1/3, train_loss: 0.3440\n",
      "2/3, train_loss: 0.3447\n",
      "3/3, train_loss: 0.3657\n",
      "4/3, train_loss: 0.3483\n",
      "5/3, train_loss: 0.3585\n",
      "6/3, train_loss: 0.3497\n",
      "7/3, train_loss: 0.3591\n",
      "8/3, train_loss: 0.3565\n",
      "9/3, train_loss: 0.3498\n",
      "10/3, train_loss: 0.3714\n",
      "11/3, train_loss: 0.3573\n",
      "12/3, train_loss: 0.3441\n",
      "13/3, train_loss: 0.3669\n",
      "14/3, train_loss: 0.3458\n",
      "0 epoch 239 average loss: 0.3544\n",
      "----------\n",
      "0: epoch 240/500\n"
     ]
    },
    {
     "name": "stderr",
     "output_type": "stream",
     "text": [
      "Default upsampling behavior when mode=trilinear is changed to align_corners=False since 0.4.0. Please specify align_corners=True if the old behavior is desired. See the documentation of nn.Upsample for details.\n",
      "Default upsampling behavior when mode=trilinear is changed to align_corners=False since 0.4.0. Please specify align_corners=True if the old behavior is desired. See the documentation of nn.Upsample for details.\n",
      "Default upsampling behavior when mode=trilinear is changed to align_corners=False since 0.4.0. Please specify align_corners=True if the old behavior is desired. See the documentation of nn.Upsample for details.\n",
      "Default upsampling behavior when mode=trilinear is changed to align_corners=False since 0.4.0. Please specify align_corners=True if the old behavior is desired. See the documentation of nn.Upsample for details.\n"
     ]
    },
    {
     "name": "stdout",
     "output_type": "stream",
     "text": [
      "1/3, train_loss: 0.3621\n",
      "2/3, train_loss: 0.3622\n",
      "3/3, train_loss: 0.3566\n",
      "4/3, train_loss: 0.3593\n",
      "5/3, train_loss: 0.3574\n",
      "6/3, train_loss: 0.3435\n",
      "7/3, train_loss: 0.3627\n",
      "8/3, train_loss: 0.3596\n",
      "9/3, train_loss: 0.3874\n",
      "10/3, train_loss: 0.3609\n",
      "11/3, train_loss: 0.3524\n",
      "12/3, train_loss: 0.3516\n",
      "13/3, train_loss: 0.3469\n",
      "14/3, train_loss: 0.3489\n",
      "0 epoch 240 average loss: 0.3580\n",
      "current epoch: 240 current mean dice: 0.4295\n",
      "best mean dice: 0.6012 at epoch: 204\n",
      "----------\n",
      "0: epoch 241/500\n"
     ]
    },
    {
     "name": "stderr",
     "output_type": "stream",
     "text": [
      "Default upsampling behavior when mode=trilinear is changed to align_corners=False since 0.4.0. Please specify align_corners=True if the old behavior is desired. See the documentation of nn.Upsample for details.\n",
      "Default upsampling behavior when mode=trilinear is changed to align_corners=False since 0.4.0. Please specify align_corners=True if the old behavior is desired. See the documentation of nn.Upsample for details.\n",
      "Default upsampling behavior when mode=trilinear is changed to align_corners=False since 0.4.0. Please specify align_corners=True if the old behavior is desired. See the documentation of nn.Upsample for details.\n",
      "Default upsampling behavior when mode=trilinear is changed to align_corners=False since 0.4.0. Please specify align_corners=True if the old behavior is desired. See the documentation of nn.Upsample for details.\n"
     ]
    },
    {
     "name": "stdout",
     "output_type": "stream",
     "text": [
      "1/3, train_loss: 0.3489\n",
      "2/3, train_loss: 0.3451\n",
      "3/3, train_loss: 0.3503\n",
      "4/3, train_loss: 0.3615\n",
      "5/3, train_loss: 0.3688\n",
      "6/3, train_loss: 0.3569\n",
      "7/3, train_loss: 0.3509\n",
      "8/3, train_loss: 0.3494\n",
      "9/3, train_loss: 0.3702\n",
      "10/3, train_loss: 0.3596\n",
      "11/3, train_loss: 0.3759\n",
      "12/3, train_loss: 0.3368\n",
      "13/3, train_loss: 0.3606\n",
      "14/3, train_loss: 0.3799\n",
      "0 epoch 241 average loss: 0.3582\n",
      "----------\n",
      "0: epoch 242/500\n"
     ]
    },
    {
     "name": "stderr",
     "output_type": "stream",
     "text": [
      "Default upsampling behavior when mode=trilinear is changed to align_corners=False since 0.4.0. Please specify align_corners=True if the old behavior is desired. See the documentation of nn.Upsample for details.\n",
      "Default upsampling behavior when mode=trilinear is changed to align_corners=False since 0.4.0. Please specify align_corners=True if the old behavior is desired. See the documentation of nn.Upsample for details.\n",
      "Default upsampling behavior when mode=trilinear is changed to align_corners=False since 0.4.0. Please specify align_corners=True if the old behavior is desired. See the documentation of nn.Upsample for details.\n",
      "Default upsampling behavior when mode=trilinear is changed to align_corners=False since 0.4.0. Please specify align_corners=True if the old behavior is desired. See the documentation of nn.Upsample for details.\n"
     ]
    },
    {
     "name": "stdout",
     "output_type": "stream",
     "text": [
      "1/3, train_loss: 0.3461\n",
      "2/3, train_loss: 0.3581\n",
      "3/3, train_loss: 0.3504\n",
      "4/3, train_loss: 0.3560\n",
      "5/3, train_loss: 0.3406\n",
      "6/3, train_loss: 0.3562\n",
      "7/3, train_loss: 0.3577\n",
      "8/3, train_loss: 0.3489\n",
      "9/3, train_loss: 0.3539\n",
      "10/3, train_loss: 0.3693\n",
      "11/3, train_loss: 0.3417\n",
      "12/3, train_loss: 0.3772\n",
      "13/3, train_loss: 0.3595\n",
      "14/3, train_loss: 0.3388\n",
      "0 epoch 242 average loss: 0.3539\n",
      "current epoch: 242 current mean dice: 0.4110\n",
      "best mean dice: 0.6012 at epoch: 204\n",
      "----------\n",
      "0: epoch 243/500\n"
     ]
    },
    {
     "name": "stderr",
     "output_type": "stream",
     "text": [
      "Default upsampling behavior when mode=trilinear is changed to align_corners=False since 0.4.0. Please specify align_corners=True if the old behavior is desired. See the documentation of nn.Upsample for details.\n",
      "Default upsampling behavior when mode=trilinear is changed to align_corners=False since 0.4.0. Please specify align_corners=True if the old behavior is desired. See the documentation of nn.Upsample for details.\n",
      "Default upsampling behavior when mode=trilinear is changed to align_corners=False since 0.4.0. Please specify align_corners=True if the old behavior is desired. See the documentation of nn.Upsample for details.\n",
      "Default upsampling behavior when mode=trilinear is changed to align_corners=False since 0.4.0. Please specify align_corners=True if the old behavior is desired. See the documentation of nn.Upsample for details.\n"
     ]
    },
    {
     "name": "stdout",
     "output_type": "stream",
     "text": [
      "1/3, train_loss: 0.3534\n",
      "2/3, train_loss: 0.3601\n",
      "3/3, train_loss: 0.3446\n",
      "4/3, train_loss: 0.3456\n",
      "5/3, train_loss: 0.3619\n",
      "6/3, train_loss: 0.3534\n",
      "7/3, train_loss: 0.3517\n",
      "8/3, train_loss: 0.3539\n",
      "9/3, train_loss: 0.3595\n",
      "10/3, train_loss: 0.3548\n",
      "11/3, train_loss: 0.3826\n",
      "12/3, train_loss: 0.3550\n",
      "13/3, train_loss: 0.3600\n",
      "14/3, train_loss: 0.3819\n",
      "0 epoch 243 average loss: 0.3585\n",
      "----------\n",
      "0: epoch 244/500\n"
     ]
    },
    {
     "name": "stderr",
     "output_type": "stream",
     "text": [
      "Default upsampling behavior when mode=trilinear is changed to align_corners=False since 0.4.0. Please specify align_corners=True if the old behavior is desired. See the documentation of nn.Upsample for details.\n",
      "Default upsampling behavior when mode=trilinear is changed to align_corners=False since 0.4.0. Please specify align_corners=True if the old behavior is desired. See the documentation of nn.Upsample for details.\n",
      "Default upsampling behavior when mode=trilinear is changed to align_corners=False since 0.4.0. Please specify align_corners=True if the old behavior is desired. See the documentation of nn.Upsample for details.\n",
      "Default upsampling behavior when mode=trilinear is changed to align_corners=False since 0.4.0. Please specify align_corners=True if the old behavior is desired. See the documentation of nn.Upsample for details.\n"
     ]
    },
    {
     "name": "stdout",
     "output_type": "stream",
     "text": [
      "1/3, train_loss: 0.3360\n",
      "2/3, train_loss: 0.3726\n",
      "3/3, train_loss: 0.3481\n",
      "4/3, train_loss: 0.3675\n",
      "5/3, train_loss: 0.3512\n",
      "6/3, train_loss: 0.3495\n",
      "7/3, train_loss: 0.3421\n",
      "8/3, train_loss: 0.3537\n",
      "9/3, train_loss: 0.3629\n",
      "10/3, train_loss: 0.3483\n",
      "11/3, train_loss: 0.3784\n",
      "12/3, train_loss: 0.3467\n",
      "13/3, train_loss: 0.3470\n",
      "14/3, train_loss: 0.3533\n",
      "0 epoch 244 average loss: 0.3541\n",
      "current epoch: 244 current mean dice: 0.4714\n",
      "best mean dice: 0.6012 at epoch: 204\n",
      "----------\n",
      "0: epoch 245/500\n"
     ]
    },
    {
     "name": "stderr",
     "output_type": "stream",
     "text": [
      "Default upsampling behavior when mode=trilinear is changed to align_corners=False since 0.4.0. Please specify align_corners=True if the old behavior is desired. See the documentation of nn.Upsample for details.\n",
      "Default upsampling behavior when mode=trilinear is changed to align_corners=False since 0.4.0. Please specify align_corners=True if the old behavior is desired. See the documentation of nn.Upsample for details.\n",
      "Default upsampling behavior when mode=trilinear is changed to align_corners=False since 0.4.0. Please specify align_corners=True if the old behavior is desired. See the documentation of nn.Upsample for details.\n",
      "Default upsampling behavior when mode=trilinear is changed to align_corners=False since 0.4.0. Please specify align_corners=True if the old behavior is desired. See the documentation of nn.Upsample for details.\n"
     ]
    },
    {
     "name": "stdout",
     "output_type": "stream",
     "text": [
      "1/3, train_loss: 0.3563\n",
      "2/3, train_loss: 0.3535\n",
      "3/3, train_loss: 0.3463\n",
      "4/3, train_loss: 0.3622\n",
      "5/3, train_loss: 0.3445\n",
      "6/3, train_loss: 0.3574\n",
      "7/3, train_loss: 0.3479\n",
      "8/3, train_loss: 0.3456\n",
      "9/3, train_loss: 0.3610\n",
      "10/3, train_loss: 0.3495\n",
      "11/3, train_loss: 0.3679\n",
      "12/3, train_loss: 0.3514\n",
      "13/3, train_loss: 0.3629\n",
      "14/3, train_loss: 0.3536\n",
      "0 epoch 245 average loss: 0.3543\n",
      "----------\n",
      "0: epoch 246/500\n"
     ]
    },
    {
     "name": "stderr",
     "output_type": "stream",
     "text": [
      "Default upsampling behavior when mode=trilinear is changed to align_corners=False since 0.4.0. Please specify align_corners=True if the old behavior is desired. See the documentation of nn.Upsample for details.\n",
      "Default upsampling behavior when mode=trilinear is changed to align_corners=False since 0.4.0. Please specify align_corners=True if the old behavior is desired. See the documentation of nn.Upsample for details.\n",
      "Default upsampling behavior when mode=trilinear is changed to align_corners=False since 0.4.0. Please specify align_corners=True if the old behavior is desired. See the documentation of nn.Upsample for details.\n",
      "Default upsampling behavior when mode=trilinear is changed to align_corners=False since 0.4.0. Please specify align_corners=True if the old behavior is desired. See the documentation of nn.Upsample for details.\n"
     ]
    },
    {
     "name": "stdout",
     "output_type": "stream",
     "text": [
      "1/3, train_loss: 0.3809\n",
      "2/3, train_loss: 0.3563\n",
      "3/3, train_loss: 0.3470\n",
      "4/3, train_loss: 0.3525\n",
      "5/3, train_loss: 0.3527\n",
      "6/3, train_loss: 0.3428\n",
      "7/3, train_loss: 0.3536\n",
      "8/3, train_loss: 0.3549\n",
      "9/3, train_loss: 0.3737\n",
      "10/3, train_loss: 0.3462\n",
      "11/3, train_loss: 0.3502\n",
      "12/3, train_loss: 0.3479\n",
      "13/3, train_loss: 0.3436\n",
      "14/3, train_loss: 0.3460\n",
      "0 epoch 246 average loss: 0.3534\n",
      "current epoch: 246 current mean dice: 0.4237\n",
      "best mean dice: 0.6012 at epoch: 204\n",
      "----------\n",
      "0: epoch 247/500\n"
     ]
    },
    {
     "name": "stderr",
     "output_type": "stream",
     "text": [
      "Default upsampling behavior when mode=trilinear is changed to align_corners=False since 0.4.0. Please specify align_corners=True if the old behavior is desired. See the documentation of nn.Upsample for details.\n",
      "Default upsampling behavior when mode=trilinear is changed to align_corners=False since 0.4.0. Please specify align_corners=True if the old behavior is desired. See the documentation of nn.Upsample for details.\n",
      "Default upsampling behavior when mode=trilinear is changed to align_corners=False since 0.4.0. Please specify align_corners=True if the old behavior is desired. See the documentation of nn.Upsample for details.\n",
      "Default upsampling behavior when mode=trilinear is changed to align_corners=False since 0.4.0. Please specify align_corners=True if the old behavior is desired. See the documentation of nn.Upsample for details.\n"
     ]
    },
    {
     "name": "stdout",
     "output_type": "stream",
     "text": [
      "1/3, train_loss: 0.3840\n",
      "2/3, train_loss: 0.3442\n",
      "3/3, train_loss: 0.3414\n",
      "4/3, train_loss: 0.3540\n",
      "5/3, train_loss: 0.3737\n",
      "6/3, train_loss: 0.3549\n",
      "7/3, train_loss: 0.3557\n",
      "8/3, train_loss: 0.3577\n",
      "9/3, train_loss: 0.3490\n",
      "10/3, train_loss: 0.3465\n",
      "11/3, train_loss: 0.3567\n",
      "12/3, train_loss: 0.3521\n",
      "13/3, train_loss: 0.3483\n",
      "14/3, train_loss: 0.3591\n",
      "0 epoch 247 average loss: 0.3555\n",
      "----------\n",
      "0: epoch 248/500\n"
     ]
    },
    {
     "name": "stderr",
     "output_type": "stream",
     "text": [
      "Default upsampling behavior when mode=trilinear is changed to align_corners=False since 0.4.0. Please specify align_corners=True if the old behavior is desired. See the documentation of nn.Upsample for details.\n",
      "Default upsampling behavior when mode=trilinear is changed to align_corners=False since 0.4.0. Please specify align_corners=True if the old behavior is desired. See the documentation of nn.Upsample for details.\n",
      "Default upsampling behavior when mode=trilinear is changed to align_corners=False since 0.4.0. Please specify align_corners=True if the old behavior is desired. See the documentation of nn.Upsample for details.\n",
      "Default upsampling behavior when mode=trilinear is changed to align_corners=False since 0.4.0. Please specify align_corners=True if the old behavior is desired. See the documentation of nn.Upsample for details.\n"
     ]
    },
    {
     "name": "stdout",
     "output_type": "stream",
     "text": [
      "1/3, train_loss: 0.3486\n",
      "2/3, train_loss: 0.3506\n",
      "3/3, train_loss: 0.3521\n",
      "4/3, train_loss: 0.3709\n",
      "5/3, train_loss: 0.3721\n",
      "6/3, train_loss: 0.3511\n",
      "7/3, train_loss: 0.3395\n",
      "8/3, train_loss: 0.3531\n",
      "9/3, train_loss: 0.4004\n",
      "10/3, train_loss: 0.3569\n",
      "11/3, train_loss: 0.3604\n",
      "12/3, train_loss: 0.3603\n",
      "13/3, train_loss: 0.3503\n",
      "14/3, train_loss: 0.3266\n",
      "0 epoch 248 average loss: 0.3566\n",
      "current epoch: 248 current mean dice: 0.4421\n",
      "best mean dice: 0.6012 at epoch: 204\n",
      "----------\n",
      "0: epoch 249/500\n"
     ]
    },
    {
     "name": "stderr",
     "output_type": "stream",
     "text": [
      "Default upsampling behavior when mode=trilinear is changed to align_corners=False since 0.4.0. Please specify align_corners=True if the old behavior is desired. See the documentation of nn.Upsample for details.\n",
      "Default upsampling behavior when mode=trilinear is changed to align_corners=False since 0.4.0. Please specify align_corners=True if the old behavior is desired. See the documentation of nn.Upsample for details.\n",
      "Default upsampling behavior when mode=trilinear is changed to align_corners=False since 0.4.0. Please specify align_corners=True if the old behavior is desired. See the documentation of nn.Upsample for details.\n",
      "Default upsampling behavior when mode=trilinear is changed to align_corners=False since 0.4.0. Please specify align_corners=True if the old behavior is desired. See the documentation of nn.Upsample for details.\n"
     ]
    },
    {
     "name": "stdout",
     "output_type": "stream",
     "text": [
      "1/3, train_loss: 0.3580\n",
      "2/3, train_loss: 0.3603\n",
      "3/3, train_loss: 0.3546\n",
      "4/3, train_loss: 0.3533\n",
      "5/3, train_loss: 0.3504\n",
      "6/3, train_loss: 0.3468\n",
      "7/3, train_loss: 0.3440\n",
      "8/3, train_loss: 0.3631\n",
      "9/3, train_loss: 0.3669\n",
      "10/3, train_loss: 0.3500\n",
      "11/3, train_loss: 0.3447\n",
      "12/3, train_loss: 0.3375\n",
      "13/3, train_loss: 0.3592\n",
      "14/3, train_loss: 0.3350\n",
      "0 epoch 249 average loss: 0.3517\n",
      "----------\n",
      "0: epoch 250/500\n"
     ]
    },
    {
     "name": "stderr",
     "output_type": "stream",
     "text": [
      "Default upsampling behavior when mode=trilinear is changed to align_corners=False since 0.4.0. Please specify align_corners=True if the old behavior is desired. See the documentation of nn.Upsample for details.\n",
      "Default upsampling behavior when mode=trilinear is changed to align_corners=False since 0.4.0. Please specify align_corners=True if the old behavior is desired. See the documentation of nn.Upsample for details.\n",
      "Default upsampling behavior when mode=trilinear is changed to align_corners=False since 0.4.0. Please specify align_corners=True if the old behavior is desired. See the documentation of nn.Upsample for details.\n",
      "Default upsampling behavior when mode=trilinear is changed to align_corners=False since 0.4.0. Please specify align_corners=True if the old behavior is desired. See the documentation of nn.Upsample for details.\n"
     ]
    },
    {
     "name": "stdout",
     "output_type": "stream",
     "text": [
      "1/3, train_loss: 0.3539\n",
      "2/3, train_loss: 0.3506\n",
      "3/3, train_loss: 0.3607\n",
      "4/3, train_loss: 0.3565\n",
      "5/3, train_loss: 0.3457\n",
      "6/3, train_loss: 0.3641\n",
      "7/3, train_loss: 0.3712\n",
      "8/3, train_loss: 0.3488\n",
      "9/3, train_loss: 0.3496\n",
      "10/3, train_loss: 0.3633\n",
      "11/3, train_loss: 0.3384\n",
      "12/3, train_loss: 0.3737\n",
      "13/3, train_loss: 0.3507\n",
      "14/3, train_loss: 0.3392\n",
      "0 epoch 250 average loss: 0.3547\n",
      "current epoch: 250 current mean dice: 0.4532\n",
      "best mean dice: 0.6012 at epoch: 204\n",
      "----------\n",
      "0: epoch 251/500\n"
     ]
    },
    {
     "name": "stderr",
     "output_type": "stream",
     "text": [
      "Default upsampling behavior when mode=trilinear is changed to align_corners=False since 0.4.0. Please specify align_corners=True if the old behavior is desired. See the documentation of nn.Upsample for details.\n",
      "Default upsampling behavior when mode=trilinear is changed to align_corners=False since 0.4.0. Please specify align_corners=True if the old behavior is desired. See the documentation of nn.Upsample for details.\n",
      "Default upsampling behavior when mode=trilinear is changed to align_corners=False since 0.4.0. Please specify align_corners=True if the old behavior is desired. See the documentation of nn.Upsample for details.\n",
      "Default upsampling behavior when mode=trilinear is changed to align_corners=False since 0.4.0. Please specify align_corners=True if the old behavior is desired. See the documentation of nn.Upsample for details.\n"
     ]
    },
    {
     "name": "stdout",
     "output_type": "stream",
     "text": [
      "1/3, train_loss: 0.3555\n",
      "2/3, train_loss: 0.3490\n",
      "3/3, train_loss: 0.3435\n",
      "4/3, train_loss: 0.3407\n",
      "5/3, train_loss: 0.3661\n",
      "6/3, train_loss: 0.3793\n",
      "7/3, train_loss: 0.3537\n",
      "8/3, train_loss: 0.3663\n",
      "9/3, train_loss: 0.3492\n",
      "10/3, train_loss: 0.3537\n",
      "11/3, train_loss: 0.3371\n",
      "12/3, train_loss: 0.3593\n",
      "13/3, train_loss: 0.3734\n",
      "14/3, train_loss: 0.3410\n",
      "0 epoch 251 average loss: 0.3548\n",
      "----------\n",
      "0: epoch 252/500\n"
     ]
    },
    {
     "name": "stderr",
     "output_type": "stream",
     "text": [
      "Default upsampling behavior when mode=trilinear is changed to align_corners=False since 0.4.0. Please specify align_corners=True if the old behavior is desired. See the documentation of nn.Upsample for details.\n",
      "Default upsampling behavior when mode=trilinear is changed to align_corners=False since 0.4.0. Please specify align_corners=True if the old behavior is desired. See the documentation of nn.Upsample for details.\n",
      "Default upsampling behavior when mode=trilinear is changed to align_corners=False since 0.4.0. Please specify align_corners=True if the old behavior is desired. See the documentation of nn.Upsample for details.\n",
      "Default upsampling behavior when mode=trilinear is changed to align_corners=False since 0.4.0. Please specify align_corners=True if the old behavior is desired. See the documentation of nn.Upsample for details.\n"
     ]
    },
    {
     "name": "stdout",
     "output_type": "stream",
     "text": [
      "1/3, train_loss: 0.3836\n",
      "2/3, train_loss: 0.3595\n",
      "3/3, train_loss: 0.3493\n",
      "4/3, train_loss: 0.3420\n",
      "5/3, train_loss: 0.3439\n",
      "6/3, train_loss: 0.3661\n",
      "7/3, train_loss: 0.3523\n",
      "8/3, train_loss: 0.3647\n",
      "9/3, train_loss: 0.3602\n",
      "10/3, train_loss: 0.3456\n",
      "11/3, train_loss: 0.3630\n",
      "12/3, train_loss: 0.3528\n",
      "13/3, train_loss: 0.3436\n",
      "14/3, train_loss: 0.4486\n",
      "0 epoch 252 average loss: 0.3625\n",
      "current epoch: 252 current mean dice: 0.4303\n",
      "best mean dice: 0.6012 at epoch: 204\n",
      "----------\n",
      "0: epoch 253/500\n"
     ]
    },
    {
     "name": "stderr",
     "output_type": "stream",
     "text": [
      "Default upsampling behavior when mode=trilinear is changed to align_corners=False since 0.4.0. Please specify align_corners=True if the old behavior is desired. See the documentation of nn.Upsample for details.\n",
      "Default upsampling behavior when mode=trilinear is changed to align_corners=False since 0.4.0. Please specify align_corners=True if the old behavior is desired. See the documentation of nn.Upsample for details.\n",
      "Default upsampling behavior when mode=trilinear is changed to align_corners=False since 0.4.0. Please specify align_corners=True if the old behavior is desired. See the documentation of nn.Upsample for details.\n",
      "Default upsampling behavior when mode=trilinear is changed to align_corners=False since 0.4.0. Please specify align_corners=True if the old behavior is desired. See the documentation of nn.Upsample for details.\n"
     ]
    },
    {
     "name": "stdout",
     "output_type": "stream",
     "text": [
      "1/3, train_loss: 0.3427\n",
      "2/3, train_loss: 0.3624\n",
      "3/3, train_loss: 0.3818\n",
      "4/3, train_loss: 0.3668\n",
      "5/3, train_loss: 0.3635\n",
      "6/3, train_loss: 0.3576\n",
      "7/3, train_loss: 0.3596\n",
      "8/3, train_loss: 0.3619\n",
      "9/3, train_loss: 0.3630\n",
      "10/3, train_loss: 0.3869\n",
      "11/3, train_loss: 0.3702\n",
      "12/3, train_loss: 0.3635\n",
      "13/3, train_loss: 0.3516\n",
      "14/3, train_loss: 0.3508\n",
      "0 epoch 253 average loss: 0.3630\n",
      "----------\n",
      "0: epoch 254/500\n"
     ]
    },
    {
     "name": "stderr",
     "output_type": "stream",
     "text": [
      "Default upsampling behavior when mode=trilinear is changed to align_corners=False since 0.4.0. Please specify align_corners=True if the old behavior is desired. See the documentation of nn.Upsample for details.\n",
      "Default upsampling behavior when mode=trilinear is changed to align_corners=False since 0.4.0. Please specify align_corners=True if the old behavior is desired. See the documentation of nn.Upsample for details.\n",
      "Default upsampling behavior when mode=trilinear is changed to align_corners=False since 0.4.0. Please specify align_corners=True if the old behavior is desired. See the documentation of nn.Upsample for details.\n",
      "Default upsampling behavior when mode=trilinear is changed to align_corners=False since 0.4.0. Please specify align_corners=True if the old behavior is desired. See the documentation of nn.Upsample for details.\n"
     ]
    },
    {
     "name": "stdout",
     "output_type": "stream",
     "text": [
      "1/3, train_loss: 0.3652\n",
      "2/3, train_loss: 0.3863\n",
      "3/3, train_loss: 0.3505\n",
      "4/3, train_loss: 0.3738\n",
      "5/3, train_loss: 0.3454\n",
      "6/3, train_loss: 0.3479\n",
      "7/3, train_loss: 0.3703\n",
      "8/3, train_loss: 0.3676\n",
      "9/3, train_loss: 0.3740\n",
      "10/3, train_loss: 0.3727\n",
      "11/3, train_loss: 0.3629\n",
      "12/3, train_loss: 0.3482\n",
      "13/3, train_loss: 0.3491\n",
      "14/3, train_loss: 0.3316\n",
      "0 epoch 254 average loss: 0.3604\n",
      "current epoch: 254 current mean dice: 0.3954\n",
      "best mean dice: 0.6012 at epoch: 204\n",
      "----------\n",
      "0: epoch 255/500\n"
     ]
    },
    {
     "name": "stderr",
     "output_type": "stream",
     "text": [
      "Default upsampling behavior when mode=trilinear is changed to align_corners=False since 0.4.0. Please specify align_corners=True if the old behavior is desired. See the documentation of nn.Upsample for details.\n",
      "Default upsampling behavior when mode=trilinear is changed to align_corners=False since 0.4.0. Please specify align_corners=True if the old behavior is desired. See the documentation of nn.Upsample for details.\n",
      "Default upsampling behavior when mode=trilinear is changed to align_corners=False since 0.4.0. Please specify align_corners=True if the old behavior is desired. See the documentation of nn.Upsample for details.\n",
      "Default upsampling behavior when mode=trilinear is changed to align_corners=False since 0.4.0. Please specify align_corners=True if the old behavior is desired. See the documentation of nn.Upsample for details.\n"
     ]
    },
    {
     "name": "stdout",
     "output_type": "stream",
     "text": [
      "1/3, train_loss: 0.3508\n",
      "2/3, train_loss: 0.3493\n",
      "3/3, train_loss: 0.3621\n",
      "4/3, train_loss: 0.3843\n",
      "5/3, train_loss: 0.3548\n",
      "6/3, train_loss: 0.3685\n",
      "7/3, train_loss: 0.3643\n",
      "8/3, train_loss: 0.3651\n",
      "9/3, train_loss: 0.3665\n",
      "10/3, train_loss: 0.3497\n",
      "11/3, train_loss: 0.3715\n",
      "12/3, train_loss: 0.3541\n",
      "13/3, train_loss: 0.3476\n",
      "14/3, train_loss: 0.3532\n",
      "0 epoch 255 average loss: 0.3601\n",
      "----------\n",
      "0: epoch 256/500\n"
     ]
    },
    {
     "name": "stderr",
     "output_type": "stream",
     "text": [
      "Default upsampling behavior when mode=trilinear is changed to align_corners=False since 0.4.0. Please specify align_corners=True if the old behavior is desired. See the documentation of nn.Upsample for details.\n",
      "Default upsampling behavior when mode=trilinear is changed to align_corners=False since 0.4.0. Please specify align_corners=True if the old behavior is desired. See the documentation of nn.Upsample for details.\n",
      "Default upsampling behavior when mode=trilinear is changed to align_corners=False since 0.4.0. Please specify align_corners=True if the old behavior is desired. See the documentation of nn.Upsample for details.\n",
      "Default upsampling behavior when mode=trilinear is changed to align_corners=False since 0.4.0. Please specify align_corners=True if the old behavior is desired. See the documentation of nn.Upsample for details.\n"
     ]
    },
    {
     "name": "stdout",
     "output_type": "stream",
     "text": [
      "1/3, train_loss: 0.3483\n",
      "2/3, train_loss: 0.3660\n",
      "3/3, train_loss: 0.3632\n",
      "4/3, train_loss: 0.3722\n",
      "5/3, train_loss: 0.3736\n",
      "6/3, train_loss: 0.3440\n",
      "7/3, train_loss: 0.3658\n",
      "8/3, train_loss: 0.3577\n",
      "9/3, train_loss: 0.3561\n",
      "10/3, train_loss: 0.3504\n",
      "11/3, train_loss: 0.3444\n",
      "12/3, train_loss: 0.3514\n",
      "13/3, train_loss: 0.3478\n",
      "14/3, train_loss: 0.3881\n",
      "0 epoch 256 average loss: 0.3592\n",
      "current epoch: 256 current mean dice: 0.4263\n",
      "best mean dice: 0.6012 at epoch: 204\n",
      "----------\n",
      "0: epoch 257/500\n"
     ]
    },
    {
     "name": "stderr",
     "output_type": "stream",
     "text": [
      "Default upsampling behavior when mode=trilinear is changed to align_corners=False since 0.4.0. Please specify align_corners=True if the old behavior is desired. See the documentation of nn.Upsample for details.\n",
      "Default upsampling behavior when mode=trilinear is changed to align_corners=False since 0.4.0. Please specify align_corners=True if the old behavior is desired. See the documentation of nn.Upsample for details.\n",
      "Default upsampling behavior when mode=trilinear is changed to align_corners=False since 0.4.0. Please specify align_corners=True if the old behavior is desired. See the documentation of nn.Upsample for details.\n",
      "Default upsampling behavior when mode=trilinear is changed to align_corners=False since 0.4.0. Please specify align_corners=True if the old behavior is desired. See the documentation of nn.Upsample for details.\n"
     ]
    },
    {
     "name": "stdout",
     "output_type": "stream",
     "text": [
      "1/3, train_loss: 0.3660\n",
      "2/3, train_loss: 0.3489\n",
      "3/3, train_loss: 0.3512\n",
      "4/3, train_loss: 0.3508\n",
      "5/3, train_loss: 0.3612\n",
      "6/3, train_loss: 0.3522\n",
      "7/3, train_loss: 0.3310\n",
      "8/3, train_loss: 0.3658\n",
      "9/3, train_loss: 0.3620\n",
      "10/3, train_loss: 0.3542\n",
      "11/3, train_loss: 0.3724\n",
      "12/3, train_loss: 0.3541\n",
      "13/3, train_loss: 0.3606\n",
      "14/3, train_loss: 0.3589\n",
      "0 epoch 257 average loss: 0.3564\n",
      "----------\n",
      "0: epoch 258/500\n"
     ]
    },
    {
     "name": "stderr",
     "output_type": "stream",
     "text": [
      "Default upsampling behavior when mode=trilinear is changed to align_corners=False since 0.4.0. Please specify align_corners=True if the old behavior is desired. See the documentation of nn.Upsample for details.\n",
      "Default upsampling behavior when mode=trilinear is changed to align_corners=False since 0.4.0. Please specify align_corners=True if the old behavior is desired. See the documentation of nn.Upsample for details.\n",
      "Default upsampling behavior when mode=trilinear is changed to align_corners=False since 0.4.0. Please specify align_corners=True if the old behavior is desired. See the documentation of nn.Upsample for details.\n",
      "Default upsampling behavior when mode=trilinear is changed to align_corners=False since 0.4.0. Please specify align_corners=True if the old behavior is desired. See the documentation of nn.Upsample for details.\n"
     ]
    },
    {
     "name": "stdout",
     "output_type": "stream",
     "text": [
      "1/3, train_loss: 0.3555\n",
      "2/3, train_loss: 0.3592\n",
      "3/3, train_loss: 0.3496\n",
      "4/3, train_loss: 0.3772\n"
     ]
    }
   ],
   "source": [
    "# standard PyTorch program style: create UNet, DiceLoss and Adam optimizer\n",
    "device = torch.device(\"cuda:0\")\n",
    "# In[7]:\n",
    "\n",
    "\n",
    "def vfold_train(vfold_num, train_loader, val_loader):\n",
    "    model = UNet(\n",
    "        dimensions=3,\n",
    "        in_channels=1,\n",
    "        out_channels=num_classes,\n",
    "        channels=(16, 32, 64, 128),\n",
    "        strides=(2, 2, 2),\n",
    "        num_res_units=2,\n",
    "        norm=Norm.BATCH,\n",
    "    ).to(device)\n",
    "    loss_function = DiceLoss(to_onehot_y=True, softmax=True)\n",
    "    optimizer = torch.optim.Adam(model.parameters(), 1e-4)\n",
    "    dice_metric = DiceMetric(include_background=False, reduction=\"mean\")\n",
    "\n",
    "\n",
    "    max_epochs = 500\n",
    "    val_interval = 2\n",
    "    best_metric = -1\n",
    "    best_metric_epoch = -1\n",
    "    epoch_loss_values = []\n",
    "    metric_values = []\n",
    "    post_pred = Compose([EnsureType(), AsDiscrete(argmax=True, to_onehot=True, num_classes=num_classes)])\n",
    "    post_label = Compose([EnsureType(), AsDiscrete(to_onehot=True, num_classes=num_classes)])\n",
    "\n",
    "    root_dir = \".\"\n",
    "\n",
    "    for epoch in range(max_epochs):\n",
    "        print(\"-\" * 10)\n",
    "        print(f\"{vfold_num}: epoch {epoch + 1}/{max_epochs}\")\n",
    "        model.train()\n",
    "        epoch_loss = 0\n",
    "        step = 0\n",
    "        for batch_data in train_loader:\n",
    "            step += 1\n",
    "            inputs, labels = (\n",
    "                batch_data[\"image\"].to(device),\n",
    "                batch_data[\"label\"].to(device),\n",
    "            )\n",
    "            optimizer.zero_grad()\n",
    "            outputs = model(inputs)\n",
    "            loss = loss_function(outputs, labels)\n",
    "            loss.backward()\n",
    "            optimizer.step()\n",
    "            epoch_loss += loss.item()\n",
    "            print(\n",
    "                f\"{step}/{len(train_ds) // train_loader.batch_size}, \"\n",
    "                f\"train_loss: {loss.item():.4f}\")\n",
    "        epoch_loss /= step\n",
    "        epoch_loss_values.append(epoch_loss)\n",
    "        print(f\"{vfold_num} epoch {epoch + 1} average loss: {epoch_loss:.4f}\")\n",
    "\n",
    "        if (epoch + 1) % val_interval == 0:\n",
    "            model.eval()\n",
    "            with torch.no_grad():\n",
    "                for val_data in val_loader:\n",
    "                    val_inputs, val_labels = (\n",
    "                        val_data[\"image\"].to(device),\n",
    "                        val_data[\"label\"].to(device),\n",
    "                    )\n",
    "                    sw_batch_size = batch_size_vl\n",
    "                    val_outputs = sliding_window_inference(\n",
    "                        val_inputs, roi_size, sw_batch_size, model)\n",
    "                    val_outputs = [post_pred(i) for i in decollate_batch(val_outputs)]\n",
    "                    val_labels = [post_label(i) for i in decollate_batch(val_labels)]\n",
    "                    # compute metric for current iteration\n",
    "                    dice_metric(y_pred=val_outputs, y=val_labels)\n",
    "\n",
    "                # aggregate the final mean dice result\n",
    "                metric = dice_metric.aggregate().item()\n",
    "                # reset the status for next validation round\n",
    "                dice_metric.reset()\n",
    "\n",
    "                metric_values.append(metric)\n",
    "                if metric > best_metric:\n",
    "                    best_metric = metric\n",
    "                    best_metric_epoch = epoch + 1\n",
    "                    torch.save(model.state_dict(), os.path.join(\n",
    "                        root_dir, model_filename_base+'_'+str(vfold_num)+'.pth'))\n",
    "                    print(\"saved new best metric model\")\n",
    "                print(\n",
    "                    f\"current epoch: {epoch + 1} current mean dice: {metric:.4f}\"\n",
    "                    f\"\\nbest mean dice: {best_metric:.4f} \"\n",
    "                    f\"at epoch: {best_metric_epoch}\"\n",
    "                )\n",
    "\n",
    "    np.save(model_filename_base+\"_loss_\"+str(vfold_num)+\".npy\", epoch_loss_values)\n",
    "    np.save(model_filename_base+\"_val_dice_\"+str(vfold_num)+\".npy\", metric_values)\n",
    "\n",
    "# In[ ]:\n",
    "\n",
    "\n",
    "for i in range(num_folds):\n",
    "    vfold_train(i, train_loader[i], val_loader[i])\n",
    "\n",
    "\n",
    "# In[ ]:"
   ]
  }
 ],
 "metadata": {
  "kernelspec": {
   "display_name": "Python 3 (ipykernel)",
   "language": "python",
   "name": "python3"
  },
  "language_info": {
   "codemirror_mode": {
    "name": "ipython",
    "version": 3
   },
   "file_extension": ".py",
   "mimetype": "text/x-python",
   "name": "python",
   "nbconvert_exporter": "python",
   "pygments_lexer": "ipython3",
   "version": "3.8.8"
  }
 },
 "nbformat": 4,
 "nbformat_minor": 5
}
