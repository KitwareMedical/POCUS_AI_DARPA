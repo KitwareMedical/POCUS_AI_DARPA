{
 "cells": [
  {
   "cell_type": "code",
   "execution_count": 1,
   "metadata": {},
   "outputs": [],
   "source": [
    "from pytorch_unet import *\n",
    "from torch import nn\n",
    "import pandas as pd\n",
    "from timerit import Timerit\n",
    "from IPython.display import display, HTML"
   ]
  },
  {
   "cell_type": "code",
   "execution_count": 2,
   "metadata": {},
   "outputs": [
    {
     "name": "stdout",
     "output_type": "stream",
     "text": [
      "1.9.0+cu102\n"
     ]
    }
   ],
   "source": [
    "print(torch.__version__)"
   ]
  },
  {
   "cell_type": "code",
   "execution_count": 3,
   "metadata": {},
   "outputs": [],
   "source": [
    "model = UNet_rect_kernels(128,2).eval()\n",
    "\n",
    "x = torch.randn((2,1,128,128))\n",
    "pred = model(x)"
   ]
  },
  {
   "cell_type": "code",
   "execution_count": 4,
   "metadata": {},
   "outputs": [
    {
     "name": "stdout",
     "output_type": "stream",
     "text": [
      "Using device: GeForce RTX 2060 SUPER\n"
     ]
    }
   ],
   "source": [
    "device_name = \" \"\n",
    "if torch.cuda.is_available():\n",
    "    device_name = torch.cuda.get_device_name(torch.cuda.current_device())\n",
    "else:\n",
    "    device_name = 'cpu'\n",
    "    \n",
    "print('Using device:', device_name)\n",
    "\n",
    "device = \" \"\n",
    "if torch.cuda.is_available():\n",
    "    device = 'cuda'\n",
    "else:\n",
    "    device = 'cpu'"
   ]
  },
  {
   "cell_type": "code",
   "execution_count": 6,
   "metadata": {
    "scrolled": true
   },
   "outputs": [
    {
     "name": "stdout",
     "output_type": "stream",
     "text": [
      "Using device: GeForce RTX 2060 SUPER\n",
      "Pytorch Multi-Frame Batch Prediction Timings (rect kernels)\n",
      "\"PT\" = Prediction Time\n"
     ]
    },
    {
     "data": {
      "text/html": [
       "<div>\n",
       "<style scoped>\n",
       "    .dataframe tbody tr th:only-of-type {\n",
       "        vertical-align: middle;\n",
       "    }\n",
       "\n",
       "    .dataframe tbody tr th {\n",
       "        vertical-align: top;\n",
       "    }\n",
       "\n",
       "    .dataframe thead th {\n",
       "        text-align: right;\n",
       "    }\n",
       "</style>\n",
       "<table border=\"1\" class=\"dataframe\">\n",
       "  <thead>\n",
       "    <tr style=\"text-align: right;\">\n",
       "      <th></th>\n",
       "      <th>Frames</th>\n",
       "      <th># Samples</th>\n",
       "      <th>First PT (s)</th>\n",
       "      <th>Avg PT (s)</th>\n",
       "      <th>Min PT (s)</th>\n",
       "      <th>Max PT (s)</th>\n",
       "      <th>Std. Dev. (s)</th>\n",
       "    </tr>\n",
       "  </thead>\n",
       "  <tbody>\n",
       "    <tr>\n",
       "      <th>0</th>\n",
       "      <td>2.0</td>\n",
       "      <td>100.0</td>\n",
       "      <td>0.003001</td>\n",
       "      <td>0.00260</td>\n",
       "      <td>0.002556</td>\n",
       "      <td>0.003001</td>\n",
       "      <td>0.00007</td>\n",
       "    </tr>\n",
       "    <tr>\n",
       "      <th>1</th>\n",
       "      <td>10.0</td>\n",
       "      <td>100.0</td>\n",
       "      <td>0.003007</td>\n",
       "      <td>0.00268</td>\n",
       "      <td>0.002656</td>\n",
       "      <td>0.003007</td>\n",
       "      <td>0.00003</td>\n",
       "    </tr>\n",
       "    <tr>\n",
       "      <th>2</th>\n",
       "      <td>20.0</td>\n",
       "      <td>100.0</td>\n",
       "      <td>0.003065</td>\n",
       "      <td>0.00288</td>\n",
       "      <td>0.002732</td>\n",
       "      <td>0.003444</td>\n",
       "      <td>0.00017</td>\n",
       "    </tr>\n",
       "    <tr>\n",
       "      <th>3</th>\n",
       "      <td>30.0</td>\n",
       "      <td>100.0</td>\n",
       "      <td>0.003396</td>\n",
       "      <td>0.00296</td>\n",
       "      <td>0.002919</td>\n",
       "      <td>0.003396</td>\n",
       "      <td>0.00005</td>\n",
       "    </tr>\n",
       "    <tr>\n",
       "      <th>4</th>\n",
       "      <td>40.0</td>\n",
       "      <td>100.0</td>\n",
       "      <td>0.003377</td>\n",
       "      <td>0.00308</td>\n",
       "      <td>0.002999</td>\n",
       "      <td>0.003492</td>\n",
       "      <td>0.00010</td>\n",
       "    </tr>\n",
       "    <tr>\n",
       "      <th>5</th>\n",
       "      <td>50.0</td>\n",
       "      <td>100.0</td>\n",
       "      <td>0.003455</td>\n",
       "      <td>0.00334</td>\n",
       "      <td>0.003125</td>\n",
       "      <td>0.003625</td>\n",
       "      <td>0.00014</td>\n",
       "    </tr>\n",
       "  </tbody>\n",
       "</table>\n",
       "</div>"
      ],
      "text/plain": [
       "   Frames  # Samples  First PT (s)  Avg PT (s)  Min PT (s)  Max PT (s)  \\\n",
       "0     2.0      100.0      0.003001     0.00260    0.002556    0.003001   \n",
       "1    10.0      100.0      0.003007     0.00268    0.002656    0.003007   \n",
       "2    20.0      100.0      0.003065     0.00288    0.002732    0.003444   \n",
       "3    30.0      100.0      0.003396     0.00296    0.002919    0.003396   \n",
       "4    40.0      100.0      0.003377     0.00308    0.002999    0.003492   \n",
       "5    50.0      100.0      0.003455     0.00334    0.003125    0.003625   \n",
       "\n",
       "   Std. Dev. (s)  \n",
       "0        0.00007  \n",
       "1        0.00003  \n",
       "2        0.00017  \n",
       "3        0.00005  \n",
       "4        0.00010  \n",
       "5        0.00014  "
      ]
     },
     "metadata": {},
     "output_type": "display_data"
    }
   ],
   "source": [
    "metric_labels = [\n",
    "    \"Frames\",\n",
    "    \"# Samples\",\n",
    "    \"First PT (s)\",\n",
    "    \"Avg PT (s)\",\n",
    "    \"Min PT (s)\",\n",
    "    \"Max PT (s)\",\n",
    "    \"Std. Dev. (s)\",\n",
    "]\n",
    "    \n",
    "print('Using device:', device_name)\n",
    "\n",
    "results_df = pd.DataFrame(columns = metric_labels)\n",
    "frames = [2, 10, 20, 30, 40, 50]\n",
    "for l in range(len(frames)):\n",
    "\n",
    "    model = UNet(128,2)\n",
    "    if device == 'cuda':\n",
    "        model = model.to(torch.device('cuda'))\n",
    "    t = Timerit(num = 100, verbose=0)\n",
    "    \n",
    "    model = model.eval()\n",
    "    \n",
    "    for timer in t:\n",
    "        x = torch.randn((frames[l],1,128,128))\n",
    "        with timer:\n",
    "            x = x.to(device)\n",
    "            pred = model(x)\n",
    "    \n",
    "    mf_times = t.times\n",
    "    \n",
    "    results_df.loc[l] = [\n",
    "        frames[l],\n",
    "        100,\n",
    "        mf_times[0],\n",
    "        int((np.mean(mf_times)*100000)) / 100000,\n",
    "        np.min(mf_times),\n",
    "        np.max(mf_times),\n",
    "        int((np.std(mf_times)*100000)) / 100000\n",
    "    ]\n",
    "\n",
    "print('Pytorch Multi-Frame Batch Prediction Timings (rect kernels)')\n",
    "print('\"PT\" = Prediction Time')\n",
    "display(results_df)"
   ]
  },
  {
   "cell_type": "code",
   "execution_count": null,
   "metadata": {},
   "outputs": [],
   "source": []
  }
 ],
 "metadata": {
  "kernelspec": {
   "display_name": "Python 3",
   "language": "python",
   "name": "python3"
  },
  "language_info": {
   "codemirror_mode": {
    "name": "ipython",
    "version": 3
   },
   "file_extension": ".py",
   "mimetype": "text/x-python",
   "name": "python",
   "nbconvert_exporter": "python",
   "pygments_lexer": "ipython3",
   "version": "3.7.3"
  }
 },
 "nbformat": 4,
 "nbformat_minor": 4
}
