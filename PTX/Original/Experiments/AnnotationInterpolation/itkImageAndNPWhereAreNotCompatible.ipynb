{
 "cells": [
  {
   "cell_type": "code",
   "execution_count": 9,
   "id": "2f658285",
   "metadata": {
    "scrolled": true
   },
   "outputs": [
    {
     "name": "stdout",
     "output_type": "stream",
     "text": [
      "A numpy array (arr) and itkImage (img) set to identity.\n",
      "Using an itkImage in np.where statement produces unexpected results...\n",
      "   Array where arr[i,j]==0 change to a 2 = [[1. 2. 2.]\n",
      " [2. 1. 2.]\n",
      " [2. 2. 1.]]\n",
      "   itkImage where img[i,j]==0 change to a 2 = [[1. 0. 0.]\n",
      " [0. 1. 0.]\n",
      " [0. 0. 1.]]\n"
     ]
    }
   ],
   "source": [
    "import itk\n",
    "import numpy as np\n",
    "\n",
    "print(\"A numpy array (arr) and itkImage (img) set to identity.\")\n",
    "arr = np.eye(3,3)\n",
    "img = itk.GetImageFromArray(arr)\n",
    "\n",
    "print(\"Using an itkImage in np.where statement produces unexpected results...\")\n",
    "print(\"   Array where arr[i,j]==0 change to a 2 =\", np.where(arr==0,2,arr))\n",
    "print(\"   itkImage where img[i,j]==0 change to a 2 =\", np.where(img==0,2,img))"
   ]
  },
  {
   "cell_type": "code",
   "execution_count": 17,
   "id": "2a936afd",
   "metadata": {},
   "outputs": [
    {
     "name": "stdout",
     "output_type": "stream",
     "text": [
      "The test itkImage==<value> appears to always return false?\n",
      "   Given arr=0, using np.where to change any instance of arr[i,j]==0 to a 2 = [[2. 2. 2.]\n",
      " [2. 2. 2.]\n",
      " [2. 2. 2.]]\n",
      "   Given img=0, using np.where to change any instance of img[i,j]==0 to a 2 = [[0. 0. 0.]\n",
      " [0. 0. 0.]\n",
      " [0. 0. 0.]]\n"
     ]
    }
   ],
   "source": [
    "print(\"The test itkImage==<value> appears to always return false?\")\n",
    "\n",
    "arr = np.zeros([3,3])\n",
    "img = itk.GetImageFromArray(arr)\n",
    "print(\"   Given arr=0, using np.where to change any instance of arr[i,j]==0 to a 2 =\", np.where(arr==0,2,arr))\n",
    "print(\"   Given img=0, using np.where to change any instance of img[i,j]==0 to a 2 =\", np.where(img==0,2,img))"
   ]
  }
 ],
 "metadata": {
  "kernelspec": {
   "display_name": "Python 3 (ipykernel)",
   "language": "python",
   "name": "python3"
  },
  "language_info": {
   "codemirror_mode": {
    "name": "ipython",
    "version": 3
   },
   "file_extension": ".py",
   "mimetype": "text/x-python",
   "name": "python",
   "nbconvert_exporter": "python",
   "pygments_lexer": "ipython3",
   "version": "3.8.8"
  }
 },
 "nbformat": 4,
 "nbformat_minor": 5
}
