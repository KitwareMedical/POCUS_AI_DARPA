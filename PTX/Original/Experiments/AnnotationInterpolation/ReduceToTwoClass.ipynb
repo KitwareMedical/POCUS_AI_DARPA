{
 "cells": [
  {
   "cell_type": "code",
   "execution_count": 1,
   "metadata": {},
   "outputs": [],
   "source": [
    "import numpy as np\n",
    "\n",
    "from glob import glob\n",
    "import sys\n",
    "import os\n",
    "\n",
    "import itk\n",
    "\n",
    "import av\n",
    "import ffmpeg\n",
    "\n",
    "import site\n",
    "site.addsitedir('../../ARGUS')\n",
    "from ARGUSUtils_IO import *\n",
    "from ARGUSUtils_Linearization import *"
   ]
  },
  {
   "cell_type": "code",
   "execution_count": 26,
   "metadata": {
    "scrolled": true
   },
   "outputs": [],
   "source": [
    "def reduce_to_two_class(pathname):\n",
    "    data_overlay_paths = sorted(glob(pathname+\"-Annotations-Linear/*.extruded-overlay.mha\"))\n",
    "    \n",
    "    num_overlays = len(data_overlay_paths)\n",
    "    \n",
    "    for i in range(num_overlays):\n",
    "        ovrimg = itk.GetArrayFromImage(itk.imread(data_overlay_paths[i], itk.UC))\n",
    "        \n",
    "        ovrimg = ovrimg//3\n",
    "\n",
    "\n",
    "        new_name = data_overlay_paths[i][:-4]+\"-twoclass.mha\"\n",
    "        print(\"Writing\", new_name)\n",
    "        itk.imwrite(itk.GetImageFromArray(ovrimg.astype(np.ubyte)),new_name)"
   ]
  },
  {
   "cell_type": "code",
   "execution_count": 28,
   "metadata": {},
   "outputs": [
    {
     "name": "stdout",
     "output_type": "stream",
     "text": [
      "Writing ../../Data/TrainingData/AR-UNet/BAMC-PTXSliding-Annotations-Linear\\image_10391571128899_CLEAN.extruded-overlay-twoclass.mha\n",
      "Writing ../../Data/TrainingData/AR-UNet/BAMC-PTXSliding-Annotations-Linear\\image_10395655826502_CLEAN.extruded-overlay-twoclass.mha\n",
      "Writing ../../Data/TrainingData/AR-UNet/BAMC-PTXSliding-Annotations-Linear\\image_104543812690743_CLEAN.extruded-overlay-twoclass.mha\n",
      "Writing ../../Data/TrainingData/AR-UNet/BAMC-PTXSliding-Annotations-Linear\\image_104548309385533_CLEAN.extruded-overlay-twoclass.mha\n",
      "Writing ../../Data/TrainingData/AR-UNet/BAMC-PTXSliding-Annotations-Linear\\image_104932526155699_CLEAN.extruded-overlay-twoclass.mha\n",
      "Writing ../../Data/TrainingData/AR-UNet/BAMC-PTXSliding-Annotations-Linear\\image_10705997566592_CLEAN.extruded-overlay-twoclass.mha\n",
      "Writing ../../Data/TrainingData/AR-UNet/BAMC-PTXSliding-Annotations-Linear\\image_10891015221417_clean.extruded-overlay-twoclass.mha\n",
      "Writing ../../Data/TrainingData/AR-UNet/BAMC-PTXSliding-Annotations-Linear\\image_1139765223418_CLEAN.extruded-overlay-twoclass.mha\n",
      "Writing ../../Data/TrainingData/AR-UNet/BAMC-PTXSliding-Annotations-Linear\\image_1180496934444_clean.extruded-overlay-twoclass.mha\n",
      "Writing ../../Data/TrainingData/AR-UNet/BAMC-PTXSliding-Annotations-Linear\\image_128683942015128_CLEAN.extruded-overlay-twoclass.mha\n",
      "Writing ../../Data/TrainingData/AR-UNet/BAMC-PTXSliding-Annotations-Linear\\image_128688523296793_CLEAN.extruded-overlay-twoclass.mha\n",
      "Writing ../../Data/TrainingData/AR-UNet/BAMC-PTXSliding-Annotations-Linear\\image_128692595484031_CLEAN.extruded-overlay-twoclass.mha\n",
      "Writing ../../Data/TrainingData/AR-UNet/BAMC-PTXSliding-Annotations-Linear\\image_1327616672148_clean.extruded-overlay-twoclass.mha\n",
      "Writing ../../Data/TrainingData/AR-UNet/BAMC-PTXSliding-Annotations-Linear\\image_1499268364374_clean.extruded-overlay-twoclass.mha\n",
      "Writing ../../Data/TrainingData/AR-UNet/BAMC-PTXSliding-Annotations-Linear\\image_1511338287338_clean.extruded-overlay-twoclass.mha\n",
      "Writing ../../Data/TrainingData/AR-UNet/BAMC-PTXSliding-Annotations-Linear\\image_1896534330004_clean.extruded-overlay-twoclass.mha\n",
      "Writing ../../Data/TrainingData/AR-UNet/BAMC-PTXSliding-Annotations-Linear\\image_1901852337971_clean.extruded-overlay-twoclass.mha\n",
      "Writing ../../Data/TrainingData/AR-UNet/BAMC-PTXSliding-Annotations-Linear\\image_24164968068436_CLEAN.extruded-overlay-twoclass.mha\n",
      "Writing ../../Data/TrainingData/AR-UNet/BAMC-PTXSliding-Annotations-Linear\\image_2959672151786_clean.extruded-overlay-twoclass.mha\n",
      "Writing ../../Data/TrainingData/AR-UNet/BAMC-PTXSliding-Annotations-Linear\\image_3308406916756_clean.extruded-overlay-twoclass.mha\n",
      "Writing ../../Data/TrainingData/AR-UNet/BAMC-PTXSliding-Annotations-Linear\\image_3315947589826_clean.extruded-overlay-twoclass.mha\n",
      "Writing ../../Data/TrainingData/AR-UNet/BAMC-PTXSliding-Annotations-Linear\\image_3320344386805_clean.extruded-overlay-twoclass.mha\n",
      "Writing ../../Data/TrainingData/AR-UNet/BAMC-PTXSliding-Annotations-Linear\\image_3321463845606_clean.extruded-overlay-twoclass.mha\n",
      "Writing ../../Data/TrainingData/AR-UNet/BAMC-PTXSliding-Annotations-Linear\\image_3368391807672_clean.extruded-overlay-twoclass.mha\n",
      "Writing ../../Data/TrainingData/AR-UNet/BAMC-PTXSliding-Annotations-Linear\\image_3384882513134_clean.extruded-overlay-twoclass.mha\n",
      "Writing ../../Data/TrainingData/AR-UNet/BAMC-PTXSliding-Annotations-Linear\\image_3401832241774_clean.extruded-overlay-twoclass.mha\n",
      "Writing ../../Data/TrainingData/AR-UNet/BAMC-PTXSliding-Annotations-Linear\\image_588413346180_CLEAN.extruded-overlay-twoclass.mha\n",
      "Writing ../../Data/TrainingData/AR-UNet/BAMC-PTXSliding-Annotations-Linear\\image_677741729740_clean.extruded-overlay-twoclass.mha\n",
      "Writing ../../Data/TrainingData/AR-UNet/BAMC-PTXSliding-Annotations-Linear\\image_73815992352100_clean.extruded-overlay-twoclass.mha\n",
      "Writing ../../Data/TrainingData/AR-UNet/BAMC-PTXSliding-Annotations-Linear\\image_74132233134844_clean.extruded-overlay-twoclass.mha\n"
     ]
    }
   ],
   "source": [
    "pathname = \"../../Data/TrainingData/AR-UNet/BAMC-PTXSliding\"\n",
    "reduce_to_two_class(pathname)"
   ]
  },
  {
   "cell_type": "code",
   "execution_count": 29,
   "metadata": {},
   "outputs": [
    {
     "name": "stdout",
     "output_type": "stream",
     "text": [
      "Writing ../../Data/TestingData/BAMC-PTXNoSliding-Annotations-Linear\\image_417221672548_CLEAN.extruded-overlay-twoclass.mha\n",
      "Writing ../../Data/TestingData/BAMC-PTXNoSliding-Annotations-Linear\\image_426794579576_CLEAN.extruded-overlay-twoclass.mha\n",
      "Writing ../../Data/TestingData/BAMC-PTXSliding-Annotations-Linear\\image_3925135436261_clean.extruded-overlay-twoclass.mha\n",
      "Writing ../../Data/TestingData/BAMC-PTXSliding-Annotations-Linear\\image_3929217595322_clean.extruded-overlay-twoclass.mha\n"
     ]
    }
   ],
   "source": [
    "pathname = \"../../Data/TestingData/BAMC-PTXNoSliding\"\n",
    "reduce_to_two_class(pathname)\n",
    "pathname = \"../../Data/TestingData/BAMC-PTXSliding\"\n",
    "reduce_to_two_class(pathname)"
   ]
  },
  {
   "cell_type": "code",
   "execution_count": null,
   "metadata": {},
   "outputs": [],
   "source": []
  }
 ],
 "metadata": {
  "kernelspec": {
   "display_name": "Python 3",
   "language": "python",
   "name": "python3"
  },
  "language_info": {
   "codemirror_mode": {
    "name": "ipython",
    "version": 3
   },
   "file_extension": ".py",
   "mimetype": "text/x-python",
   "name": "python",
   "nbconvert_exporter": "python",
   "pygments_lexer": "ipython3",
   "version": "3.7.10"
  }
 },
 "nbformat": 4,
 "nbformat_minor": 4
}
