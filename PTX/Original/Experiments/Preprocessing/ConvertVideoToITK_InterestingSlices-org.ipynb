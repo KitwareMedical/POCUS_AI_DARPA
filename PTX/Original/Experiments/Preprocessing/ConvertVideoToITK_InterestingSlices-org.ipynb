{
 "cells": [
  {
   "cell_type": "code",
   "execution_count": 37,
   "id": "2af6c4f3",
   "metadata": {},
   "outputs": [],
   "source": [
    "import os\n",
    "import glob\n",
    "\n",
    "import cv2\n",
    "import itk\n",
    "import numpy as np"
   ]
  },
  {
   "cell_type": "code",
   "execution_count": 38,
   "id": "d0fe6071",
   "metadata": {},
   "outputs": [],
   "source": [
    "def convert(fname, thresh):\n",
    "    imlist = []\n",
    "\n",
    "    cap = cv2.VideoCapture(fname)\n",
    "    if cap.isOpened():\n",
    "\n",
    "        image_type = itk.Image[itk.UC,2]\n",
    "        diff_filter = itk.SimilarityIndexImageFilter[image_type,image_type].New()\n",
    "\n",
    "        count = 0\n",
    "        while cap.isOpened():\n",
    "            ret, frame = cap.read()\n",
    "            if not ret:\n",
    "                break\n",
    "            gray = cv2.cvtColor(frame, cv2.COLOR_BGR2GRAY)\n",
    "\n",
    "            img_slice = itk.image_from_array(np.array(gray))\n",
    "            if count == 0:\n",
    "                base_img_slice = img_slice\n",
    "                imlist.append(img_slice)\n",
    "                count += 1\n",
    "            else:\n",
    "                diff_filter.SetInput1(base_img_slice)\n",
    "                diff_filter.SetInput2(img_slice)\n",
    "                diff_filter.Update()\n",
    "                indx = diff_filter.GetSimilarityIndex()\n",
    "                if indx < thresh:\n",
    "                    base_img_slice = img_slice\n",
    "                    imlist.append(img_slice)\n",
    "                    count += 1\n",
    "        cap.release()\n",
    " \n",
    "    return imlist"
   ]
  },
  {
   "cell_type": "code",
   "execution_count": 45,
   "id": "ed990c3e",
   "metadata": {},
   "outputs": [],
   "source": [
    "def create_sparse_image(fname, target_count):\n",
    "    count = 0\n",
    "    thresh = 1.0\n",
    "    low_thresh = 1.0\n",
    "    step = 0.1\n",
    "    step_dir = -1\n",
    "    while count != target_count and step > 1e-10 and thresh > 0.5:\n",
    "        imlist = convert(fname,thresh)\n",
    "        count = len(imlist)\n",
    "        if step_dir == 1 and count > target_count:\n",
    "            step_dir = -1\n",
    "            step = step * 0.5\n",
    "        elif step_dir == -1 and count < target_count:\n",
    "                low_thresh = thresh\n",
    "                step_dir = 1\n",
    "                step = step * 0.5\n",
    "        thresh += step_dir * step\n",
    "    if count > 10:\n",
    "        print('   ERROR: Did not attain target count =', target_count)\n",
    "        imlist = convert(fname,low_thresh)\n",
    "        count = len(imlist)\n",
    "        print('   Creating image with', count, 'slices using threshold =', low_thresh)\n",
    "    else:\n",
    "        print('   Success!')\n",
    "    dir_name = 'MHA'\n",
    "    if os.path.isdir(dir_name):\n",
    "        fileList = glob.glob(dir_name+'/'+fname+'-?????.mha')\n",
    "        for file in fileList:\n",
    "            os.remove(file)\n",
    "    else:\n",
    "        os.mkdir(dir_name)\n",
    "    for i in range(len(imlist)):\n",
    "        outfname = fname+'-%05d.mha' % i\n",
    "        itk.imwrite(imlist[i], dir_name+'/'+outfname)"
   ]
  },
  {
   "cell_type": "code",
   "execution_count": 46,
   "id": "e5976acb",
   "metadata": {},
   "outputs": [
    {
     "name": "stdout",
     "output_type": "stream",
     "text": [
      "   ERROR: Did not attain target count = 10\n",
      "   Creating image with 4 slices using threshold = 0.9999999996274712\n"
     ]
    }
   ],
   "source": [
    "create_sparse_image('Vir_liftl_H1N1_case2_clip2.mp4',10)"
   ]
  },
  {
   "cell_type": "code",
   "execution_count": 47,
   "id": "593113aa",
   "metadata": {},
   "outputs": [
    {
     "name": "stdout",
     "output_type": "stream",
     "text": [
      "Vir_prospective_file2.mp4\n",
      "   Success!\n",
      "Cov_emdocs_vid2.gif\n",
      "   Success!\n",
      "Reg-nephropocus.mp4\n",
      "   Success!\n",
      "Vir_prospective_file1.mp4\n",
      "   Success!\n",
      "Vir_liftl_H1N1_case2_clip2.mp4\n",
      "   ERROR: Did not attain target count = 10\n",
      "   Creating image with 4 slices using threshold = 0.9999999996274712\n",
      "Reg_Image_18122_crop.mp4\n",
      "   Success!\n",
      "Reg_Image_181432_crop.mp4\n",
      "   Success!\n",
      "Reg_Image_181206_crop.mp4\n",
      "   Success!\n",
      "Reg-minimalmovement.mp4\n",
      "   Success!\n",
      "Reg-grep-normal-alines-original.mp4\n",
      "   Success!\n",
      "Reg-Youtube-start20sec.mp4\n",
      "   Success!\n",
      "Reg-NormalLung.mp4\n",
      "   Success!\n",
      "Reg-Youtube-Video_902_Lung_POCUS-left.mp4\n",
      "   Success!\n",
      "Pneu_prospective_file3.mp4\n",
      "   ERROR: Did not attain target count = 10\n",
      "   Creating image with 9 slices using threshold = 0.9998816408216952\n",
      "Pneu-Youtube-start20sec.mp4\n",
      "   Success!\n",
      "Cov_linear_abrams_2020_v1.mp4\n",
      "   Success!\n",
      "Cov-Atlas-pleural2.mp4\n",
      "   Success!\n",
      "Cov-grep-7432.mp4\n",
      "   Success!\n",
      "Cov-grep-7500.mp4\n",
      "   Success!\n",
      "Cov-grep-7431.mp4\n",
      "   Success!\n",
      "Cov-Atlas-pleural.mp4\n",
      "   Success!\n"
     ]
    }
   ],
   "source": [
    "for name in glob.glob('*.[gm][ip][f4]'):\n",
    "    print(name)\n",
    "    create_sparse_image(name,10)"
   ]
  },
  {
   "cell_type": "code",
   "execution_count": null,
   "id": "0e7fe0ff",
   "metadata": {},
   "outputs": [],
   "source": []
  }
 ],
 "metadata": {
  "kernelspec": {
   "display_name": "Python 3",
   "language": "python",
   "name": "python3"
  },
  "language_info": {
   "codemirror_mode": {
    "name": "ipython",
    "version": 3
   },
   "file_extension": ".py",
   "mimetype": "text/x-python",
   "name": "python",
   "nbconvert_exporter": "python",
   "pygments_lexer": "ipython3",
   "version": "3.7.10"
  }
 },
 "nbformat": 4,
 "nbformat_minor": 5
}
