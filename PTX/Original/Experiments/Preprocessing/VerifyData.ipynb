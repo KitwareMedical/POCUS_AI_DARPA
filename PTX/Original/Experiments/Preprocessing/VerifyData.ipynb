{
 "cells": [
  {
   "cell_type": "code",
   "execution_count": 1,
   "id": "faa1e0c6",
   "metadata": {},
   "outputs": [],
   "source": [
    "import sys\n",
    "from glob import glob\n",
    "\n",
    "import os"
   ]
  },
  {
   "cell_type": "code",
   "execution_count": 8,
   "id": "7a2653bb",
   "metadata": {},
   "outputs": [],
   "source": [
    "def check_ann(ann, slices, trim_from_end):\n",
    "    print(\"Num slices =\", len(slices))\n",
    "    for i,org in enumerate(slices):\n",
    "        if not(org[:-4]+trim_from_end in ann):\n",
    "            print(\"Missing slice annotation = \", org[:-4]+trim_from_end)\n",
    "\n",
    "    print(\"Num annotations =\", len(ann))\n",
    "    for i,org in enumerate(ann):\n",
    "        if not(org[:-len(trim_from_end)]+\".mha\" in slices):\n",
    "            print(\"Missing source slice = \", org)"
   ]
  },
  {
   "cell_type": "code",
   "execution_count": 9,
   "id": "56e7e67c",
   "metadata": {},
   "outputs": [],
   "source": [
    "def check(base):\n",
    "    ann_base = base + \"-Annotations/\"\n",
    "    slices = sorted(list(map(os.path.basename, glob(base + \"-Sliced/*.m??\"))))\n",
    "    ann_org = sorted(list(map(os.path.basename, glob(ann_base+\"*f?????.mha\"))))\n",
    "    ann_overlay = sorted(list(map(os.path.basename, glob(ann_base+\"*f?????.overlay.mha\"))))\n",
    "    ann_boxes = sorted(list(map(os.path.basename, glob(ann_base+\"*f?????.boxes.json\"))))\n",
    "    print(\"Checking source slices...\")\n",
    "    check_ann(ann_org, slices, \".mha\")\n",
    "    print(\"Checking overlays...\")\n",
    "    check_ann(ann_overlay, slices, \".overlay.mha\")\n",
    "    print(\"Checking boxes...\")\n",
    "    check_ann(ann_boxes, slices, \".boxes.json\")"
   ]
  },
  {
   "cell_type": "code",
   "execution_count": 10,
   "id": "30e8ca46",
   "metadata": {},
   "outputs": [
    {
     "name": "stdout",
     "output_type": "stream",
     "text": [
      "Checking source slices...\n",
      "Num slices = 275\n",
      "Missing slice annotation =  image_27185428518326_CLEAN.mp4-00009-f00058.mha\n",
      "Missing slice annotation =  image_588695055398_clean.mov-00000-f00000.mha\n",
      "Num annotations = 273\n",
      "Checking overlays...\n",
      "Num slices = 275\n",
      "Missing slice annotation =  image_27185428518326_CLEAN.mp4-00009-f00058.overlay.mha\n",
      "Missing slice annotation =  image_588695055398_clean.mov-00000-f00000.overlay.mha\n",
      "Num annotations = 273\n",
      "Checking boxes...\n",
      "Num slices = 275\n",
      "Missing slice annotation =  image_27185428518326_CLEAN.mp4-00009-f00058.boxes.json\n",
      "Missing slice annotation =  image_588695055398_clean.mov-00000-f00000.boxes.json\n",
      "Num annotations = 273\n"
     ]
    }
   ],
   "source": [
    "check(\"../../Data/TrainingData/AR-Unet/BAMC-PTXNoSliding\")"
   ]
  },
  {
   "cell_type": "code",
   "execution_count": 11,
   "id": "f395ecec",
   "metadata": {},
   "outputs": [
    {
     "name": "stdout",
     "output_type": "stream",
     "text": [
      "Checking source slices...\n",
      "Num slices = 291\n",
      "Num annotations = 291\n",
      "Checking overlays...\n",
      "Num slices = 291\n",
      "Num annotations = 291\n",
      "Checking boxes...\n",
      "Num slices = 291\n",
      "Num annotations = 291\n"
     ]
    }
   ],
   "source": [
    "check(\"../../Data/TrainingData/AR-Unet/BAMC-PTXSliding\")"
   ]
  },
  {
   "cell_type": "code",
   "execution_count": null,
   "id": "0f17d8bf",
   "metadata": {},
   "outputs": [],
   "source": []
  }
 ],
 "metadata": {
  "kernelspec": {
   "display_name": "Python 3",
   "language": "python",
   "name": "python3"
  },
  "language_info": {
   "codemirror_mode": {
    "name": "ipython",
    "version": 3
   },
   "file_extension": ".py",
   "mimetype": "text/x-python",
   "name": "python",
   "nbconvert_exporter": "python",
   "pygments_lexer": "ipython3",
   "version": "3.7.10"
  }
 },
 "nbformat": 4,
 "nbformat_minor": 5
}
