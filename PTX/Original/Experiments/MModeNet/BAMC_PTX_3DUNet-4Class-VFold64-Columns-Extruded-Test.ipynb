{
 "cells": [
  {
   "cell_type": "code",
   "execution_count": 1,
   "metadata": {
    "scrolled": true,
    "tags": []
   },
   "outputs": [],
   "source": [
    "from monai.utils import first, set_determinism\n",
    "from monai.transforms import (\n",
    "    AddChanneld,\n",
    "    AsDiscrete,\n",
    "    AsDiscreted,\n",
    "    Compose,\n",
    "    EnsureChannelFirstd,\n",
    "    EnsureTyped,\n",
    "    EnsureType,\n",
    "    Invertd,\n",
    "    LoadImaged,\n",
    "    RandFlipd,\n",
    "    RandSpatialCropd,\n",
    "    RandZoomd,\n",
    "    Resized,\n",
    "    ScaleIntensityRanged,\n",
    "    SpatialCrop,\n",
    "    SpatialCropd,\n",
    "    ToTensord,\n",
    ")\n",
    "from monai.handlers.utils import from_engine\n",
    "from monai.networks.nets import UNet\n",
    "from monai.networks.layers import Norm\n",
    "from monai.metrics import DiceMetric\n",
    "from monai.losses import DiceLoss\n",
    "from monai.inferers import sliding_window_inference\n",
    "from monai.data import CacheDataset, DataLoader, Dataset, decollate_batch\n",
    "from monai.config import print_config\n",
    "from monai.apps import download_and_extract\n",
    "\n",
    "import torch\n",
    "import matplotlib.pyplot as plt\n",
    "import tempfile\n",
    "import shutil\n",
    "import os\n",
    "from glob import glob\n",
    "\n",
    "import itk\n",
    "\n",
    "import numpy as np\n",
    "\n",
    "import site\n",
    "site.addsitedir('../../ARGUS')\n",
    "from ARGUSUtils_Transforms import *"
   ]
  },
  {
   "cell_type": "code",
   "execution_count": 2,
   "metadata": {
    "scrolled": true,
    "tags": []
   },
   "outputs": [
    {
     "name": "stdout",
     "output_type": "stream",
     "text": [
      "62\n",
      "49 8 5\n",
      "51 5 6\n",
      "50 6 6\n",
      "50 6 6\n",
      "51 6 5\n",
      "51 5 6\n",
      "50 6 6\n",
      "49 6 7\n",
      "48 7 7\n",
      "47 7 8\n"
     ]
    }
   ],
   "source": [
    "img1_dir = \"../../Data/VFoldData/BAMC-PTX*Sliding-Annotations-Linear/\"\n",
    "    \n",
    "all_images = sorted(glob(os.path.join(img1_dir, '*_?????.mha')))\n",
    "all_labels = sorted(glob(os.path.join(img1_dir, '*.extruded-overlay.mha')))\n",
    "\n",
    "num_classes = 4\n",
    "num_workers_te = 0\n",
    "batch_size_te = 4\n",
    "\n",
    "root_dir = \".\"\n",
    "model_filename_base = \"BAMC_PTX_3DUNet-4Class.best_model.vfold64-Columns\"\n",
    "\n",
    "num_images = len(all_images)\n",
    "print(num_images)\n",
    "num_folds = 10\n",
    "\n",
    "\n",
    "ns_prefix = ['025ns','026ns','027ns','035ns','048ns','055ns','117ns',\n",
    "             '135ns','193ns','210ns','215ns','218ns','219ns','221ns','247ns']\n",
    "s_prefix = ['004s','019s','030s','034s','037s','043s','065s','081s',\n",
    "            '206s','208s','211s','212s','224s','228s','236s','237s']\n",
    "\n",
    "fold_prefix_list = []\n",
    "ns_count = 0\n",
    "s_count = 0\n",
    "for i in range(num_folds):\n",
    "    if i%2 == 0:\n",
    "        num_ns = 2\n",
    "        num_s = 1\n",
    "        if i > num_folds-3:\n",
    "            num_s = 2\n",
    "    else:\n",
    "        num_ns = 1\n",
    "        num_s = 2\n",
    "    f = []\n",
    "    for ns in range(num_ns):\n",
    "        f.append([ns_prefix[ns_count+ns]])\n",
    "    ns_count += num_ns\n",
    "    for s in range(num_s):\n",
    "        f.append([s_prefix[s_count+s]])\n",
    "    s_count += num_s\n",
    "    fold_prefix_list.append(f)\n",
    "        \n",
    "train_files = []\n",
    "val_files = []\n",
    "test_files = []\n",
    "for i in range(num_folds):\n",
    "    tr_folds = []\n",
    "    for f in range(i,i+num_folds-2):\n",
    "        tr_folds.append(fold_prefix_list[f%num_folds])\n",
    "    tr_folds = list(np.concatenate(tr_folds).flat)\n",
    "    va_folds = list(np.concatenate(fold_prefix_list[(i+num_folds-2) % num_folds]).flat)\n",
    "    te_folds = list(np.concatenate(fold_prefix_list[(i+num_folds-1) % num_folds]).flat)\n",
    "    train_files.append(\n",
    "            [\n",
    "                {\"image\": img, \"label\": seg}\n",
    "                for img, seg in zip(\n",
    "                    [im for im in all_images if any(pref in im for pref in tr_folds)],\n",
    "                    [se for se in all_labels if any(pref in se for pref in tr_folds)])\n",
    "            ]\n",
    "        )\n",
    "    val_files.append(\n",
    "            [\n",
    "                {\"image\": img, \"label\": seg}\n",
    "                for img, seg in zip(\n",
    "                    [im for im in all_images if any(pref in im for pref in va_folds)],\n",
    "                    [se for se in all_labels if any(pref in se for pref in va_folds)])\n",
    "            ]\n",
    "        )\n",
    "    test_files.append(\n",
    "            [\n",
    "                {\"image\": img, \"label\": seg}\n",
    "                for img, seg in zip(\n",
    "                    [im for im in all_images if any(pref in im for pref in te_folds)],\n",
    "                    [se for se in all_labels if any(pref in se for pref in te_folds)])\n",
    "            ]\n",
    "        )\n",
    "    print(len(train_files[i]),len(val_files[i]),len(test_files[i]))"
   ]
  },
  {
   "cell_type": "code",
   "execution_count": 8,
   "metadata": {},
   "outputs": [],
   "source": [
    "test_transforms = Compose(\n",
    "    [\n",
    "        LoadImaged(keys=[\"image\", \"label\"]),\n",
    "        AddChanneld(keys=[\"image\", \"label\"]),\n",
    "        ScaleIntensityRanged(keys=[\"image\"],\n",
    "            a_min=0, a_max=255,\n",
    "            b_min=0.0, b_max=1.0),\n",
    "        ARGUS_RandSpatialCropSlicesd(num_slices=48,\n",
    "            axis=2,\n",
    "            center_slice=30,\n",
    "            keys=['image', 'label']),\n",
    "        ARGUS_RandSpatialCropSlicesd(num_slices=32,\n",
    "            axis=0,\n",
    "            center_slice=160,\n",
    "            keys=['image', 'label']),\n",
    "        ToTensord(keys=[\"image\", \"label\"]),\n",
    "    ]\n",
    ")"
   ]
  },
  {
   "cell_type": "code",
   "execution_count": 9,
   "metadata": {
    "tags": []
   },
   "outputs": [],
   "source": [
    "test_ds = [Dataset(data=test_files[i], transform=test_transforms)\n",
    "          for i in range(num_folds)]\n",
    "test_loader = [DataLoader(test_ds[i], batch_size=1, num_workers=num_workers_te)\n",
    "              for i in range(num_folds)]"
   ]
  },
  {
   "cell_type": "code",
   "execution_count": 10,
   "metadata": {},
   "outputs": [],
   "source": [
    "# standard PyTorch program style: create UNet, DiceLoss and Adam optimizer\n",
    "device = torch.device(\"cuda:1\")"
   ]
  },
  {
   "cell_type": "code",
   "execution_count": 11,
   "metadata": {
    "scrolled": true,
    "tags": []
   },
   "outputs": [],
   "source": [
    "def plot_vfold_training_curves(vfold_num, test_loader):\n",
    "    print(\"VFOLD =\", vfold_num, \"of\", num_folds)\n",
    "\n",
    "    loss_file = os.path.join(root_dir, model_filename_base+\"_loss_\"+str(vfold_num)+\".npy\")\n",
    "    if os.path.exists(loss_file):\n",
    "        epoch_loss_values = np.load(loss_file)\n",
    "        \n",
    "        metric_file = os.path.join(root_dir, model_filename_base+\"_val_dice_\"+str(vfold_num)+\".npy\")\n",
    "        metric_values = np.load(metric_file)\n",
    "    \n",
    "        plt.figure(\"train\", (12, 6))\n",
    "        plt.subplot(1, 2, 1)\n",
    "        plt.title(\"Epoch Average Loss\")\n",
    "        x = [i + 1 for i in range(len(epoch_loss_values))]\n",
    "        y = epoch_loss_values\n",
    "        plt.xlabel(\"epoch\")\n",
    "        plt.plot(x, y)\n",
    "        plt.subplot(1, 2, 2)\n",
    "        plt.title(\"Val Mean Dice\")\n",
    "        x = [2 * (i + 1) for i in range(len(metric_values))]\n",
    "        y = metric_values\n",
    "        plt.xlabel(\"epoch\")\n",
    "        plt.plot(x, y)\n",
    "        plt.show()\n",
    "    \n",
    "    model_file = os.path.join(root_dir, model_filename_base+'_'+str(vfold_num)+'.pth')\n",
    "    if os.path.exists(model_file):\n",
    "        model = UNet(\n",
    "            dimensions=3,\n",
    "            in_channels=1,\n",
    "            out_channels=num_classes,\n",
    "            channels=(16, 32, 64),\n",
    "            strides=(2, 2),\n",
    "            num_res_units=2,\n",
    "            norm=Norm.BATCH,\n",
    "        ).to(device)    \n",
    "        model.load_state_dict(torch.load(model_file))\n",
    "        model.eval()\n",
    "        with torch.no_grad():\n",
    "            i = 0\n",
    "            for b,test_data in enumerate(test_loader):\n",
    "                roi_size = (32, 320, 48)\n",
    "                sw_batch_size = 4\n",
    "                test_outputs = sliding_window_inference(\n",
    "                    test_data[\"image\"].to(device), roi_size, sw_batch_size, model\n",
    "                )\n",
    "                for j in range(test_outputs.shape[0]):\n",
    "                    print(test_files[i][0][\"image\"])\n",
    "                    plt.figure(\"check\", (18, 6))\n",
    "                    plt.subplot(1, 3, 1)\n",
    "                    plt.title(f\"image {i}\")\n",
    "                    tmpV = test_data[\"image\"][j, 0, :, :, 10]\n",
    "                    plt.imshow(tmpV, cmap=\"gray\")\n",
    "                    plt.subplot(1, 3, 2)\n",
    "                    plt.title(f\"label {i}\")\n",
    "                    tmpV = test_data[\"label\"][j, 0, :, :, 10]\n",
    "                    tmpV[0,0]=1\n",
    "                    tmpV[0,1]=2\n",
    "                    tmpV[0,2]=3\n",
    "                    plt.imshow(tmpV)\n",
    "                    plt.subplot(1, 3, 3)\n",
    "                    plt.title(f\"output {i}\")\n",
    "                    tmpV = torch.argmax(test_outputs, dim=1).detach().cpu()[j, :, :, 10]\n",
    "                    tmpV[0,0]=1\n",
    "                    tmpV[0,1]=2\n",
    "                    tmpV[0,2]=3\n",
    "                    plt.imshow(tmpV)\n",
    "                    plt.show()\n",
    "                    i += 1"
   ]
  },
  {
   "cell_type": "code",
   "execution_count": 12,
   "metadata": {
    "scrolled": false
   },
   "outputs": [
    {
     "name": "stdout",
     "output_type": "stream",
     "text": [
      "VFOLD = 0 of 10\n"
     ]
    },
    {
     "data": {
      "image/png": "[encoded data removed]",
      "text/plain": [
       "<Figure size 864x432 with 2 Axes>"
      ]
     },
     "metadata": {
      "needs_background": "light"
     },
     "output_type": "display_data"
    },
    {
     "ename": "RuntimeError",
     "evalue": "Error(s) in loading state_dict for UNet:\n\tMissing key(s) in state_dict: \"model.1.submodule.1.submodule.conv.unit0.conv.weight\", \"model.1.submodule.1.submodule.conv.unit0.conv.bias\", \"model.1.submodule.1.submodule.conv.unit0.adn.N.weight\", \"model.1.submodule.1.submodule.conv.unit0.adn.N.bias\", \"model.1.submodule.1.submodule.conv.unit0.adn.N.running_mean\", \"model.1.submodule.1.submodule.conv.unit0.adn.N.running_var\", \"model.1.submodule.1.submodule.conv.unit0.adn.A.weight\", \"model.1.submodule.1.submodule.conv.unit1.conv.weight\", \"model.1.submodule.1.submodule.conv.unit1.conv.bias\", \"model.1.submodule.1.submodule.conv.unit1.adn.N.weight\", \"model.1.submodule.1.submodule.conv.unit1.adn.N.bias\", \"model.1.submodule.1.submodule.conv.unit1.adn.N.running_mean\", \"model.1.submodule.1.submodule.conv.unit1.adn.N.running_var\", \"model.1.submodule.1.submodule.conv.unit1.adn.A.weight\", \"model.1.submodule.1.submodule.residual.weight\", \"model.1.submodule.1.submodule.residual.bias\". \n\tUnexpected key(s) in state_dict: \"model.1.submodule.1.submodule.0.conv.unit0.conv.weight\", \"model.1.submodule.1.submodule.0.conv.unit0.conv.bias\", \"model.1.submodule.1.submodule.0.conv.unit0.adn.N.weight\", \"model.1.submodule.1.submodule.0.conv.unit0.adn.N.bias\", \"model.1.submodule.1.submodule.0.conv.unit0.adn.N.running_mean\", \"model.1.submodule.1.submodule.0.conv.unit0.adn.N.running_var\", \"model.1.submodule.1.submodule.0.conv.unit0.adn.N.num_batches_tracked\", \"model.1.submodule.1.submodule.0.conv.unit0.adn.A.weight\", \"model.1.submodule.1.submodule.0.conv.unit1.conv.weight\", \"model.1.submodule.1.submodule.0.conv.unit1.conv.bias\", \"model.1.submodule.1.submodule.0.conv.unit1.adn.N.weight\", \"model.1.submodule.1.submodule.0.conv.unit1.adn.N.bias\", \"model.1.submodule.1.submodule.0.conv.unit1.adn.N.running_mean\", \"model.1.submodule.1.submodule.0.conv.unit1.adn.N.running_var\", \"model.1.submodule.1.submodule.0.conv.unit1.adn.N.num_batches_tracked\", \"model.1.submodule.1.submodule.0.conv.unit1.adn.A.weight\", \"model.1.submodule.1.submodule.0.residual.weight\", \"model.1.submodule.1.submodule.0.residual.bias\", \"model.1.submodule.1.submodule.1.submodule.conv.unit0.conv.weight\", \"model.1.submodule.1.submodule.1.submodule.conv.unit0.conv.bias\", \"model.1.submodule.1.submodule.1.submodule.conv.unit0.adn.N.weight\", \"model.1.submodule.1.submodule.1.submodule.conv.unit0.adn.N.bias\", \"model.1.submodule.1.submodule.1.submodule.conv.unit0.adn.N.running_mean\", \"model.1.submodule.1.submodule.1.submodule.conv.unit0.adn.N.running_var\", \"model.1.submodule.1.submodule.1.submodule.conv.unit0.adn.N.num_batches_tracked\", \"model.1.submodule.1.submodule.1.submodule.conv.unit0.adn.A.weight\", \"model.1.submodule.1.submodule.1.submodule.conv.unit1.conv.weight\", \"model.1.submodule.1.submodule.1.submodule.conv.unit1.conv.bias\", \"model.1.submodule.1.submodule.1.submodule.conv.unit1.adn.N.weight\", \"model.1.submodule.1.submodule.1.submodule.conv.unit1.adn.N.bias\", \"model.1.submodule.1.submodule.1.submodule.conv.unit1.adn.N.running_mean\", \"model.1.submodule.1.submodule.1.submodule.conv.unit1.adn.N.running_var\", \"model.1.submodule.1.submodule.1.submodule.conv.unit1.adn.N.num_batches_tracked\", \"model.1.submodule.1.submodule.1.submodule.conv.unit1.adn.A.weight\", \"model.1.submodule.1.submodule.1.submodule.residual.weight\", \"model.1.submodule.1.submodule.1.submodule.residual.bias\", \"model.1.submodule.1.submodule.2.0.conv.weight\", \"model.1.submodule.1.submodule.2.0.conv.bias\", \"model.1.submodule.1.submodule.2.0.adn.N.weight\", \"model.1.submodule.1.submodule.2.0.adn.N.bias\", \"model.1.submodule.1.submodule.2.0.adn.N.running_mean\", \"model.1.submodule.1.submodule.2.0.adn.N.running_var\", \"model.1.submodule.1.submodule.2.0.adn.N.num_batches_tracked\", \"model.1.submodule.1.submodule.2.0.adn.A.weight\", \"model.1.submodule.1.submodule.2.1.conv.unit0.conv.weight\", \"model.1.submodule.1.submodule.2.1.conv.unit0.conv.bias\", \"model.1.submodule.1.submodule.2.1.conv.unit0.adn.N.weight\", \"model.1.submodule.1.submodule.2.1.conv.unit0.adn.N.bias\", \"model.1.submodule.1.submodule.2.1.conv.unit0.adn.N.running_mean\", \"model.1.submodule.1.submodule.2.1.conv.unit0.adn.N.running_var\", \"model.1.submodule.1.submodule.2.1.conv.unit0.adn.N.num_batches_tracked\", \"model.1.submodule.1.submodule.2.1.conv.unit0.adn.A.weight\". \n\tsize mismatch for model.1.submodule.2.0.conv.weight: copying a param with shape torch.Size([64, 16, 3, 3, 3]) from checkpoint, the shape in current model is torch.Size([96, 16, 3, 3, 3]).",
     "output_type": "error",
     "traceback": [
      "\u001b[0;31m---------------------------------------------------------------------------\u001b[0m",
      "\u001b[0;31mRuntimeError\u001b[0m                              Traceback (most recent call last)",
      "\u001b[0;32m/tmp/ipykernel_701246/3934262049.py\u001b[0m in \u001b[0;36m<module>\u001b[0;34m\u001b[0m\n\u001b[1;32m      1\u001b[0m \u001b[0;32mfor\u001b[0m \u001b[0mi\u001b[0m \u001b[0;32min\u001b[0m \u001b[0mrange\u001b[0m\u001b[0;34m(\u001b[0m\u001b[0mnum_folds\u001b[0m\u001b[0;34m)\u001b[0m\u001b[0;34m:\u001b[0m\u001b[0;34m\u001b[0m\u001b[0;34m\u001b[0m\u001b[0m\n\u001b[0;32m----> 2\u001b[0;31m     \u001b[0mplot_vfold_training_curves\u001b[0m\u001b[0;34m(\u001b[0m\u001b[0mi\u001b[0m\u001b[0;34m,\u001b[0m \u001b[0mtest_loader\u001b[0m\u001b[0;34m[\u001b[0m\u001b[0mi\u001b[0m\u001b[0;34m]\u001b[0m\u001b[0;34m)\u001b[0m\u001b[0;34m\u001b[0m\u001b[0;34m\u001b[0m\u001b[0m\n\u001b[0m",
      "\u001b[0;32m/tmp/ipykernel_701246/3580271210.py\u001b[0m in \u001b[0;36mplot_vfold_training_curves\u001b[0;34m(vfold_num, test_loader)\u001b[0m\n\u001b[1;32m     35\u001b[0m             \u001b[0mnorm\u001b[0m\u001b[0;34m=\u001b[0m\u001b[0mNorm\u001b[0m\u001b[0;34m.\u001b[0m\u001b[0mBATCH\u001b[0m\u001b[0;34m,\u001b[0m\u001b[0;34m\u001b[0m\u001b[0;34m\u001b[0m\u001b[0m\n\u001b[1;32m     36\u001b[0m         ).to(device)    \n\u001b[0;32m---> 37\u001b[0;31m         \u001b[0mmodel\u001b[0m\u001b[0;34m.\u001b[0m\u001b[0mload_state_dict\u001b[0m\u001b[0;34m(\u001b[0m\u001b[0mtorch\u001b[0m\u001b[0;34m.\u001b[0m\u001b[0mload\u001b[0m\u001b[0;34m(\u001b[0m\u001b[0mmodel_file\u001b[0m\u001b[0;34m)\u001b[0m\u001b[0;34m)\u001b[0m\u001b[0;34m\u001b[0m\u001b[0;34m\u001b[0m\u001b[0m\n\u001b[0m\u001b[1;32m     38\u001b[0m         \u001b[0mmodel\u001b[0m\u001b[0;34m.\u001b[0m\u001b[0meval\u001b[0m\u001b[0;34m(\u001b[0m\u001b[0;34m)\u001b[0m\u001b[0;34m\u001b[0m\u001b[0;34m\u001b[0m\u001b[0m\n\u001b[1;32m     39\u001b[0m         \u001b[0;32mwith\u001b[0m \u001b[0mtorch\u001b[0m\u001b[0;34m.\u001b[0m\u001b[0mno_grad\u001b[0m\u001b[0;34m(\u001b[0m\u001b[0;34m)\u001b[0m\u001b[0;34m:\u001b[0m\u001b[0;34m\u001b[0m\u001b[0;34m\u001b[0m\u001b[0m\n",
      "\u001b[0;32m~/anaconda3/lib/python3.8/site-packages/torch/nn/modules/module.py\u001b[0m in \u001b[0;36mload_state_dict\u001b[0;34m(self, state_dict, strict)\u001b[0m\n\u001b[1;32m   1404\u001b[0m \u001b[0;34m\u001b[0m\u001b[0m\n\u001b[1;32m   1405\u001b[0m         \u001b[0;32mif\u001b[0m \u001b[0mlen\u001b[0m\u001b[0;34m(\u001b[0m\u001b[0merror_msgs\u001b[0m\u001b[0;34m)\u001b[0m \u001b[0;34m>\u001b[0m \u001b[0;36m0\u001b[0m\u001b[0;34m:\u001b[0m\u001b[0;34m\u001b[0m\u001b[0;34m\u001b[0m\u001b[0m\n\u001b[0;32m-> 1406\u001b[0;31m             raise RuntimeError('Error(s) in loading state_dict for {}:\\n\\t{}'.format(\n\u001b[0m\u001b[1;32m   1407\u001b[0m                                self.__class__.__name__, \"\\n\\t\".join(error_msgs)))\n\u001b[1;32m   1408\u001b[0m         \u001b[0;32mreturn\u001b[0m \u001b[0m_IncompatibleKeys\u001b[0m\u001b[0;34m(\u001b[0m\u001b[0mmissing_keys\u001b[0m\u001b[0;34m,\u001b[0m \u001b[0munexpected_keys\u001b[0m\u001b[0;34m)\u001b[0m\u001b[0;34m\u001b[0m\u001b[0;34m\u001b[0m\u001b[0m\n",
      "\u001b[0;31mRuntimeError\u001b[0m: Error(s) in loading state_dict for UNet:\n\tMissing key(s) in state_dict: \"model.1.submodule.1.submodule.conv.unit0.conv.weight\", \"model.1.submodule.1.submodule.conv.unit0.conv.bias\", \"model.1.submodule.1.submodule.conv.unit0.adn.N.weight\", \"model.1.submodule.1.submodule.conv.unit0.adn.N.bias\", \"model.1.submodule.1.submodule.conv.unit0.adn.N.running_mean\", \"model.1.submodule.1.submodule.conv.unit0.adn.N.running_var\", \"model.1.submodule.1.submodule.conv.unit0.adn.A.weight\", \"model.1.submodule.1.submodule.conv.unit1.conv.weight\", \"model.1.submodule.1.submodule.conv.unit1.conv.bias\", \"model.1.submodule.1.submodule.conv.unit1.adn.N.weight\", \"model.1.submodule.1.submodule.conv.unit1.adn.N.bias\", \"model.1.submodule.1.submodule.conv.unit1.adn.N.running_mean\", \"model.1.submodule.1.submodule.conv.unit1.adn.N.running_var\", \"model.1.submodule.1.submodule.conv.unit1.adn.A.weight\", \"model.1.submodule.1.submodule.residual.weight\", \"model.1.submodule.1.submodule.residual.bias\". \n\tUnexpected key(s) in state_dict: \"model.1.submodule.1.submodule.0.conv.unit0.conv.weight\", \"model.1.submodule.1.submodule.0.conv.unit0.conv.bias\", \"model.1.submodule.1.submodule.0.conv.unit0.adn.N.weight\", \"model.1.submodule.1.submodule.0.conv.unit0.adn.N.bias\", \"model.1.submodule.1.submodule.0.conv.unit0.adn.N.running_mean\", \"model.1.submodule.1.submodule.0.conv.unit0.adn.N.running_var\", \"model.1.submodule.1.submodule.0.conv.unit0.adn.N.num_batches_tracked\", \"model.1.submodule.1.submodule.0.conv.unit0.adn.A.weight\", \"model.1.submodule.1.submodule.0.conv.unit1.conv.weight\", \"model.1.submodule.1.submodule.0.conv.unit1.conv.bias\", \"model.1.submodule.1.submodule.0.conv.unit1.adn.N.weight\", \"model.1.submodule.1.submodule.0.conv.unit1.adn.N.bias\", \"model.1.submodule.1.submodule.0.conv.unit1.adn.N.running_mean\", \"model.1.submodule.1.submodule.0.conv.unit1.adn.N.running_var\", \"model.1.submodule.1.submodule.0.conv.unit1.adn.N.num_batches_tracked\", \"model.1.submodule.1.submodule.0.conv.unit1.adn.A.weight\", \"model.1.submodule.1.submodule.0.residual.weight\", \"model.1.submodule.1.submodule.0.residual.bias\", \"model.1.submodule.1.submodule.1.submodule.conv.unit0.conv.weight\", \"model.1.submodule.1.submodule.1.submodule.conv.unit0.conv.bias\", \"model.1.submodule.1.submodule.1.submodule.conv.unit0.adn.N.weight\", \"model.1.submodule.1.submodule.1.submodule.conv.unit0.adn.N.bias\", \"model.1.submodule.1.submodule.1.submodule.conv.unit0.adn.N.running_mean\", \"model.1.submodule.1.submodule.1.submodule.conv.unit0.adn.N.running_var\", \"model.1.submodule.1.submodule.1.submodule.conv.unit0.adn.N.num_batches_tracked\", \"model.1.submodule.1.submodule.1.submodule.conv.unit0.adn.A.weight\", \"model.1.submodule.1.submodule.1.submodule.conv.unit1.conv.weight\", \"model.1.submodule.1.submodule.1.submodule.conv.unit1.conv.bias\", \"model.1.submodule.1.submodule.1.submodule.conv.unit1.adn.N.weight\", \"model.1.submodule.1.submodule.1.submodule.conv.unit1.adn.N.bias\", \"model.1.submodule.1.submodule.1.submodule.conv.unit1.adn.N.running_mean\", \"model.1.submodule.1.submodule.1.submodule.conv.unit1.adn.N.running_var\", \"model.1.submodule.1.submodule.1.submodule.conv.unit1.adn.N.num_batches_tracked\", \"model.1.submodule.1.submodule.1.submodule.conv.unit1.adn.A.weight\", \"model.1.submodule.1.submodule.1.submodule.residual.weight\", \"model.1.submodule.1.submodule.1.submodule.residual.bias\", \"model.1.submodule.1.submodule.2.0.conv.weight\", \"model.1.submodule.1.submodule.2.0.conv.bias\", \"model.1.submodule.1.submodule.2.0.adn.N.weight\", \"model.1.submodule.1.submodule.2.0.adn.N.bias\", \"model.1.submodule.1.submodule.2.0.adn.N.running_mean\", \"model.1.submodule.1.submodule.2.0.adn.N.running_var\", \"model.1.submodule.1.submodule.2.0.adn.N.num_batches_tracked\", \"model.1.submodule.1.submodule.2.0.adn.A.weight\", \"model.1.submodule.1.submodule.2.1.conv.unit0.conv.weight\", \"model.1.submodule.1.submodule.2.1.conv.unit0.conv.bias\", \"model.1.submodule.1.submodule.2.1.conv.unit0.adn.N.weight\", \"model.1.submodule.1.submodule.2.1.conv.unit0.adn.N.bias\", \"model.1.submodule.1.submodule.2.1.conv.unit0.adn.N.running_mean\", \"model.1.submodule.1.submodule.2.1.conv.unit0.adn.N.running_var\", \"model.1.submodule.1.submodule.2.1.conv.unit0.adn.N.num_batches_tracked\", \"model.1.submodule.1.submodule.2.1.conv.unit0.adn.A.weight\". \n\tsize mismatch for model.1.submodule.2.0.conv.weight: copying a param with shape torch.Size([64, 16, 3, 3, 3]) from checkpoint, the shape in current model is torch.Size([96, 16, 3, 3, 3])."
     ]
    }
   ],
   "source": [
    "for i in range(num_folds):\n",
    "    plot_vfold_training_curves(i, test_loader[i])"
   ]
  },
  {
   "cell_type": "code",
   "execution_count": null,
   "metadata": {},
   "outputs": [],
   "source": []
  }
 ],
 "metadata": {
  "kernelspec": {
   "display_name": "Python 3 (ipykernel)",
   "language": "python",
   "name": "python3"
  },
  "language_info": {
   "codemirror_mode": {
    "name": "ipython",
    "version": 3
   },
   "file_extension": ".py",
   "mimetype": "text/x-python",
   "name": "python",
   "nbconvert_exporter": "python",
   "pygments_lexer": "ipython3",
   "version": "3.8.8"
  }
 },
 "nbformat": 4,
 "nbformat_minor": 4
}
