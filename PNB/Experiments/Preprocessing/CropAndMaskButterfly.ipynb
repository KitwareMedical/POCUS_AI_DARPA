{
 "cells": [
  {
   "cell_type": "code",
   "execution_count": 1,
   "id": "1dd9db9d",
   "metadata": {},
   "outputs": [],
   "source": [
    "import os\n",
    "import glob\n",
    "\n",
    "import numpy as np\n",
    "from os import path\n",
    "\n",
    "import vtk\n",
    "import itk\n",
    "from itk import TubeTK as ttk\n",
    "\n",
    "from scipy.ndimage import gaussian_filter\n",
    "from scipy.ndimage import grey_dilation\n",
    "from scipy.ndimage import binary_dilation"
   ]
  },
  {
   "cell_type": "code",
   "execution_count": 2,
   "id": "987e60b4",
   "metadata": {},
   "outputs": [],
   "source": [
    "def get_ruler_points_Butterfly(img):\n",
    "    \"\"\" Find points along ruler on right side of image \"\"\"\n",
    "    y_min = 40\n",
    "    y_max = 1080\n",
    "    min_x = 907\n",
    "    max_x = 908\n",
    "    mid = np.mean((img[0,y_min:y_max,min_x:max_x]//100),axis=1)\n",
    "    y = np.flatnonzero(mid)+y_min\n",
    "    return y"
   ]
  },
  {
   "cell_type": "code",
   "execution_count": 3,
   "id": "f105e2b0",
   "metadata": {},
   "outputs": [],
   "source": [
    "def get_data_roi_from_Butterfly(img):\n",
    "    y = get_ruler_points_Butterfly(img)\n",
    "\n",
    "    img_shape = img.shape\n",
    "\n",
    "    avg = 0\n",
    "    count = 0\n",
    "    yCenters = []\n",
    "    for j in range(y.size-1):\n",
    "        avg += y[j]\n",
    "        count += 1\n",
    "        if(y[j+1]-y[j]>5):\n",
    "            avg /= count\n",
    "            yCenters.append(avg)\n",
    "            avg = 0\n",
    "            count = 0\n",
    "    avg += y[y.size-1]\n",
    "    count += 1\n",
    "    avg /= count\n",
    "    yCenters.append(avg)\n",
    "    avg = 0\n",
    "    for j in range(len(yCenters)-1):\n",
    "        avg += yCenters[j+1]-yCenters[j]\n",
    "    avg /= len(yCenters)-1    \n",
    "    \n",
    "\n",
    "    tic_num = len(yCenters)\n",
    "    tic_min = yCenters[0]\n",
    "    tic_max = yCenters[len(yCenters)-1]\n",
    "    tic_diff = avg\n",
    "\n",
    "    return tic_num,tic_min,tic_max,tic_diff"
   ]
  },
  {
   "cell_type": "code",
   "execution_count": 4,
   "id": "2226e057",
   "metadata": {},
   "outputs": [],
   "source": [
    "def crop_Butterfly(img):\n",
    "    tic_num,tic_min,tic_max,tic_diff = get_data_roi_from_Butterfly(img)\n",
    "    print(i,'of',num_files,':',file,':',tic_num,'[',tic_min,'-',tic_max,']',tic_diff)\n",
    "    \n",
    "    pixels_per_unit = 40.92\n",
    "    scale = tic_diff / pixels_per_unit\n",
    "    center_x = int((780-120)/2+120)\n",
    "    offset_x = center_x-120\n",
    "    crop_min_x = 120\n",
    "    crop_max_x = 780\n",
    "    crop_min_y = int(tic_min+tic_diff)\n",
    "    crop_max_y = int(tic_max-tic_diff)\n",
    "    crop_min_z = 0\n",
    "    crop_max_z = img.shape[0]\n",
    "    Crop = ttk.CropImage.New(img)\n",
    "    Crop.SetMin([crop_min_x,crop_min_y,crop_min_z])\n",
    "    Crop.SetMax([crop_max_x,crop_max_y,crop_max_z])\n",
    "    Crop.Update()\n",
    "    tmp_crop_img = Crop.GetOutput()\n",
    "    \n",
    "    pixel_spacing = 2/pixels_per_unit\n",
    "    spacing = [pixel_spacing,pixel_spacing,pixel_spacing]\n",
    "    origin = [4,0,0]\n",
    "    Change = itk.ChangeInformationImageFilter.New(tmp_crop_img)\n",
    "    Change.SetOutputSpacing(spacing)\n",
    "    Change.ChangeSpacingOn()\n",
    "    Change.SetOutputOrigin(origin)\n",
    "    Change.ChangeOriginOn()\n",
    "    Change.UpdateOutputInformation()\n",
    "    Change.Update()\n",
    "    new_img = Change.GetOutput()\n",
    "    \n",
    "    return new_img"
   ]
  },
  {
   "cell_type": "code",
   "execution_count": 5,
   "id": "a409eccb",
   "metadata": {},
   "outputs": [],
   "source": [
    "def find_text_Butterfly(img):\n",
    "    arr_full3 = itk.GetArrayViewFromImage(img)\n",
    "    \n",
    "    arr3 = arr_full3[:,750:900,650:850]\n",
    "    arr_diffY3 = np.diff(arr3, axis=2, append=0)\n",
    "    arr_diffY3 = abs(np.diff(arr_diffY3, axis=2, append=0))\n",
    "    arr_diffX3 = np.diff(arr3, axis=1, append=0)\n",
    "    arr_diffX3 = abs(np.diff(arr_diffX3, axis=1, append=0))\n",
    "    arr_sumZ_diffY = np.mean(arr_diffY3, axis=0)\n",
    "    arr_sumZ_diffX = np.mean(arr_diffX3, axis=0)\n",
    "    arr_diff = arr_sumZ_diffY + arr_sumZ_diffX\n",
    "    arr_diff = gaussian_filter(arr_diff, sigma=2)\n",
    "    arr_mask = np.where(arr_diff>40,1,0)\n",
    "    arr_mask[:,-2:]=0\n",
    "    arr_mask[-2:,:]=0\n",
    "    arr_mask3 = np.repeat(arr_mask[np.newaxis,:,:], arr3.shape[0], axis=0)\n",
    "\n",
    "    arr_hole3 = np.where(arr_mask3==0,arr3,0)\n",
    "    arr_hole_fill3 = grey_dilation(arr_hole3, size=(2,20,20))\n",
    "    \n",
    "    arr_fix3 = np.where(arr_mask3==0,arr3,arr_hole_fill3)\n",
    "    \n",
    "    arr_maskD = binary_dilation(arr_mask,iterations=4)\n",
    "    arr_maskD3 = np.repeat(arr_maskD[np.newaxis,:,:], arr3.shape[0], axis=0)\n",
    "    arr_mixD3 = gaussian_filter(arr_fix3,sigma=3)\n",
    "    \n",
    "    arr_fix3 = np.where(arr_maskD3==0,arr3,arr_mixD3)\n",
    "    \n",
    "    arr_full3[:,750:900,650:850] = arr_fix3\n",
    "    \n",
    "    return img"
   ]
  },
  {
   "cell_type": "code",
   "execution_count": 6,
   "id": "897b08a9",
   "metadata": {
    "scrolled": true
   },
   "outputs": [
    {
     "name": "stdout",
     "output_type": "stream",
     "text": [
      "0 of 31 : ../../Data_PNB/TrainingAsMHA\\1. 134 AC_Video 1.mha : 25 [ 78.5 - 1060.5 ] 40.916666666666664\n"
     ]
    },
    {
     "name": "stderr",
     "output_type": "stream",
     "text": [
      "itkImageF4 not loaded from module TubeTK because of exception:\n",
      " module 'itk.TubeTKPython' has no attribute 'itkImageF4'\n",
      "vectoritkImageF4 not loaded from module TubeTK because of exception:\n",
      " module 'itk.TubeTKPython' has no attribute 'vectoritkImageF4'\n"
     ]
    },
    {
     "name": "stdout",
     "output_type": "stream",
     "text": [
      "1 of 31 : ../../Data_PNB/TrainingAsMHA\\1. 136 AC_Video 1.mha : 25 [ 78.5 - 1060.5 ] 40.916666666666664\n",
      "2 of 31 : ../../Data_PNB/TrainingAsMHA\\1. 179 AC_Video 1.mha : 25 [ 78.5 - 1060.5 ] 40.916666666666664\n",
      "3 of 31 : ../../Data_PNB/TrainingAsMHA\\1. 189 AC_Video 1.mha : 20 [ 180.5 - 958.0 ] 40.921052631578945\n",
      "4 of 31 : ../../Data_PNB/TrainingAsMHA\\1. 204 AC Video 1.mha : 25 [ 78.5 - 1060.5 ] 40.916666666666664\n",
      "5 of 31 : ../../Data_PNB/TrainingAsMHA\\1. 205 AC_Video 1.mha : 25 [ 78.5 - 1060.5 ] 40.916666666666664\n",
      "6 of 31 : ../../Data_PNB/TrainingAsMHA\\1. 207 AC_Video 1.mha : 25 [ 78.5 - 1060.5 ] 40.916666666666664\n",
      "7 of 31 : ../../Data_PNB/TrainingAsMHA\\1. 211 AC_Video 1.mha : 20 [ 180.5 - 958.0 ] 40.921052631578945\n",
      "8 of 31 : ../../Data_PNB/TrainingAsMHA\\1. 217 AC_Video 1.mha : 25 [ 78.5 - 1060.5 ] 40.916666666666664\n",
      "9 of 31 : ../../Data_PNB/TrainingAsMHA\\1. 238 AC_Video 1.mha : 20 [ 180.5 - 958.0 ] 40.921052631578945\n",
      "10 of 31 : ../../Data_PNB/TrainingAsMHA\\1. 57 AC_Video 1.mha : 20 [ 180.5 - 958.0 ] 40.921052631578945\n",
      "11 of 31 : ../../Data_PNB/TrainingAsMHA\\2. 39 AC_Video 2.mha : 25 [ 78.5 - 1060.5 ] 40.916666666666664\n",
      "12 of 31 : ../../Data_PNB/TrainingAsMHA\\2. 46_Video 2.mha : 25 [ 78.5 - 1060.5 ] 40.916666666666664\n",
      "13 of 31 : ../../Data_PNB/TrainingAsMHA\\3. 11 AC_Video 2.mha : 20 [ 180.5 - 958.0 ] 40.921052631578945\n",
      "14 of 31 : ../../Data_PNB/TrainingAsMHA\\3. 134 AC_Video 2.mha : 25 [ 78.5 - 1060.5 ] 40.916666666666664\n",
      "15 of 31 : ../../Data_PNB/TrainingAsMHA\\3. 178_Video 3.mha : 25 [ 78.5 - 1060.5 ] 40.916666666666664\n",
      "16 of 31 : ../../Data_PNB/TrainingAsMHA\\3. 189 AC_Video 2.mha : 20 [ 180.5 - 958.0 ] 40.921052631578945\n",
      "17 of 31 : ../../Data_PNB/TrainingAsMHA\\3. 205 AC_Video 2.mha : 25 [ 78.5 - 1060.5 ] 40.916666666666664\n",
      "18 of 31 : ../../Data_PNB/TrainingAsMHA\\3. 217 AC_Video 2.mha : 25 [ 78.5 - 1060.5 ] 40.916666666666664\n",
      "19 of 31 : ../../Data_PNB/TrainingAsMHA\\3. 238 AC_Video 2.mha : 20 [ 180.5 - 958.0 ] 40.921052631578945\n",
      "20 of 31 : ../../Data_PNB/TrainingAsMHA\\3. 67 AC_Video 2.mha : 15 [ 283.0 - 856.0 ] 40.92857142857143\n",
      "21 of 31 : ../../Data_PNB/TrainingAsMHA\\3. 93 AC_Video 2.mha : 15 [ 283.0 - 856.0 ] 40.92857142857143\n",
      "22 of 31 : ../../Data_PNB/TrainingAsMHA\\3. 94 AC_Video 2.mha : 25 [ 78.5 - 1060.5 ] 40.916666666666664\n",
      "23 of 31 : ../../Data_PNB/TrainingAsMHA\\4. 211 AC_Video 3.mha : 20 [ 180.5 - 958.0 ] 40.921052631578945\n",
      "24 of 31 : ../../Data_PNB/TrainingAsMHA\\4. 222A_Video 2.mha : 20 [ 180.5 - 958.0 ] 40.921052631578945\n",
      "25 of 31 : ../../Data_PNB/TrainingAsMHA\\4. 230 AC_Video 3.mha : 25 [ 78.5 - 1060.5 ] 40.916666666666664\n",
      "26 of 31 : ../../Data_PNB/TrainingAsMHA\\5. 153 AC_Video 3.mha : 20 [ 180.5 - 958.0 ] 40.921052631578945\n",
      "27 of 31 : ../../Data_PNB/TrainingAsMHA\\5. 191 AC_Video 5.mha : 25 [ 78.5 - 1060.5 ] 40.916666666666664\n",
      "28 of 31 : ../../Data_PNB/TrainingAsMHA\\5. 240 AC_Video 3.mha : 25 [ 78.5 - 1060.5 ] 40.916666666666664\n",
      "29 of 31 : ../../Data_PNB/TrainingAsMHA\\5. 54 AC_Video 3.mha : 20 [ 180.5 - 958.0 ] 40.921052631578945\n",
      "30 of 31 : ../../Data_PNB/TrainingAsMHA\\7. 193 AC Video 4.mha : 20 [ 180.5 - 958.0 ] 40.921052631578945\n"
     ]
    }
   ],
   "source": [
    "src_path = \"../../Data_PNB/TrainingAsMHA/\"\n",
    "dest_path = \"../../Data_PNB/Preprocessed/\"\n",
    "files = glob.glob(src_path+\"*.mha\")\n",
    "num_files = len(files)\n",
    "for i,file in enumerate(files):\n",
    "    tmp_img = itk.imread(file,itk.UC)\n",
    "    \n",
    "    fixed_img = find_text_Butterfly(tmp_img)\n",
    "    new_img = crop_Butterfly(fixed_img)\n",
    "    \n",
    "    fpath,fname = path.split(file)\n",
    "    fname_base,fname_ext = path.splitext(fname)\n",
    "    new_name = dest_path+fname_base+'_cropM.mha'\n",
    "    itk.imwrite(new_img,new_name,compression=True)"
   ]
  },
  {
   "cell_type": "code",
   "execution_count": null,
   "id": "31d31558",
   "metadata": {},
   "outputs": [],
   "source": []
  }
 ],
 "metadata": {
  "kernelspec": {
   "display_name": "Python 3 (ipykernel)",
   "language": "python",
   "name": "python3"
  },
  "language_info": {
   "codemirror_mode": {
    "name": "ipython",
    "version": 3
   },
   "file_extension": ".py",
   "mimetype": "text/x-python",
   "name": "python",
   "nbconvert_exporter": "python",
   "pygments_lexer": "ipython3",
   "version": "3.9.12"
  }
 },
 "nbformat": 4,
 "nbformat_minor": 5
}
