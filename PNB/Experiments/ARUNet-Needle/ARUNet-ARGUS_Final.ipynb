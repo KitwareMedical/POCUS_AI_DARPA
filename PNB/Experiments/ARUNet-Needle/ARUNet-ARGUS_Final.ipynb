{
 "cells": [
  {
   "cell_type": "code",
   "execution_count": 1,
   "id": "f341e883-84ba-4f46-afb3-5714ac4ef00e",
   "metadata": {},
   "outputs": [],
   "source": [
    "import matplotlib.pyplot as plt\n",
    "from scipy.ndimage import rotate\n",
    "\n",
    "from ARGUS_Needle_Network import ARGUS_Needle_Network"
   ]
  },
  {
   "cell_type": "code",
   "execution_count": 2,
   "id": "3f62d9fe-a85d-4fef-be5f-e8ecbf2a7a67",
   "metadata": {},
   "outputs": [],
   "source": [
    "img_dir = \"../../Data_PNB/stephen_prep\"\n",
    "anno_dir = \"../../Data_PNB/stephen_prep\""
   ]
  },
  {
   "cell_type": "code",
   "execution_count": 3,
   "id": "d1ceed1f-36f9-4494-a7dc-105c81d3583f",
   "metadata": {},
   "outputs": [
    {
     "name": "stdout",
     "output_type": "stream",
     "text": [
      "6.528864338062704 gibibyte\n",
      "0.01287497766315937 gibibyte\n",
      "Num images / labels = 30 30\n",
      "0 [[' 11'], [' 57']]\n",
      "1 [[' 46'], [' 136']]\n",
      "2 [[' 207'], [' 179']]\n",
      "3 [[' 67'], [' 189']]\n",
      "4 [[' 93'], [' 204']]\n",
      "5 [[' 94'], [' 205']]\n",
      "6 [[' 134'], [' 211'], [' 217']]\n",
      "7 [[' 222A'], [' 238'], [' 39']]\n",
      "8 [[' 153'], [' 240'], [' 230']]\n",
      "9 [[' 193'], [' 54'], [' 191']]\n",
      "20 7 3\n",
      "22 6 2\n",
      "23 5 2\n",
      "24 4 2\n",
      "23 4 3\n",
      "23 5 2\n",
      "22 5 3\n",
      "19 5 6\n",
      "17 9 4\n",
      "17 10 3\n"
     ]
    }
   ],
   "source": [
    "nnet_needle = ARGUS_Needle_Network(use_needle_settings=True)\n",
    "nnet_needle.results_dirname = \"Results-Needle-2022.08.15-Full\"\n",
    "nnet_needle.setup_vfold_files(img_dir, anno_dir)"
   ]
  },
  {
   "cell_type": "code",
   "execution_count": 4,
   "id": "1aeba15e-ef8d-4e92-865d-6210a0b50e7d",
   "metadata": {},
   "outputs": [],
   "source": [
    "vfn = 9"
   ]
  },
  {
   "cell_type": "code",
   "execution_count": 5,
   "id": "ab17420e-0dce-46ed-9f82-bae907b48f33",
   "metadata": {},
   "outputs": [
    {
     "name": "stderr",
     "output_type": "stream",
     "text": [
      "itkImageF4 not loaded from module TubeTK because of exception:\n",
      " module 'itk.TubeTKPython' has no attribute 'itkImageF4'\n",
      "vectoritkImageF4 not loaded from module TubeTK because of exception:\n",
      " module 'itk.TubeTKPython' has no attribute 'vectoritkImageF4'\n"
     ]
    }
   ],
   "source": [
    "nnet_needle.setup_testing_vfold(vfold_num=vfn)\n",
    "#nnet_needle.view_metric_curves(vfold_num=vfn,run_id=0)\n",
    "#nnet_needle.view_testing_results_vfold(model_type=\"last\", run_ids=[0,1], device_num=0)  \n",
    "labelmaps_needle = nnet_needle.classify_vfold(model_type=\"best\", run_ids=[0,1], device_num=0)"
   ]
  },
  {
   "cell_type": "code",
   "execution_count": 6,
   "id": "0454f0f7-f844-4730-9fcc-abe24d1d2070",
   "metadata": {},
   "outputs": [
    {
     "name": "stdout",
     "output_type": "stream",
     "text": [
      "6.528864338062704 gibibyte\n",
      "0.01287497766315937 gibibyte\n",
      "Num images / labels = 30 30\n",
      "0 [[' 11'], [' 57']]\n",
      "1 [[' 46'], [' 136']]\n",
      "2 [[' 207'], [' 179']]\n",
      "3 [[' 67'], [' 189']]\n",
      "4 [[' 93'], [' 204']]\n",
      "5 [[' 94'], [' 205']]\n",
      "6 [[' 134'], [' 211'], [' 217']]\n",
      "7 [[' 222A'], [' 238'], [' 39']]\n",
      "8 [[' 153'], [' 240'], [' 230']]\n",
      "9 [[' 193'], [' 54'], [' 191']]\n",
      "20 7 3\n",
      "22 6 2\n",
      "23 5 2\n",
      "24 4 2\n",
      "23 4 3\n",
      "23 5 2\n",
      "22 5 3\n",
      "19 5 6\n",
      "17 9 4\n",
      "17 10 3\n"
     ]
    }
   ],
   "source": [
    "nnet_artery = ARGUS_Needle_Network(use_needle_settings=False)\n",
    "nnet_artery.results_dirname = \"Results-Artery-2022.08.21-Full\"\n",
    "nnet_artery.setup_vfold_files(img_dir, anno_dir)"
   ]
  },
  {
   "cell_type": "code",
   "execution_count": 7,
   "id": "f998a72a-8f26-48da-864a-68d1265fd0e0",
   "metadata": {},
   "outputs": [],
   "source": [
    "nnet_artery.setup_testing_vfold(vfold_num=vfn)\n",
    "#nnet_artery.view_metric_curves(vfold_num=vfn,run_id=0)\n",
    "#nnet_artery.view_testing_results_vfold(model_type=\"best\", run_ids=[0,1], device_num=0)  \n",
    "labelmaps_artery = nnet_artery.classify_vfold(model_type=\"best\", run_ids=[0,1], device_num=0)\n"
   ]
  },
  {
   "cell_type": "code",
   "execution_count": 8,
   "id": "d820321f-2c08-4d70-b104-b2a8fcb848e7",
   "metadata": {},
   "outputs": [
    {
     "data": {
      "text/plain": [
       "<matplotlib.image.AxesImage at 0x26696bf3c70>"
      ]
     },
     "execution_count": 8,
     "metadata": {},
     "output_type": "execute_result"
    },
    {
     "data": {
      "image/png": "[encoded data removed]",
      "text/plain": [
       "<Figure size 432x288 with 1 Axes>"
      ]
     },
     "metadata": {
      "needs_background": "light"
     },
     "output_type": "display_data"
    }
   ],
   "source": [
    "plt.imshow(rotate(labelmaps_needle[1]*2+labelmaps_artery[1],270))"
   ]
  }
 ],
 "metadata": {
  "kernelspec": {
   "display_name": "Python 3 (ipykernel)",
   "language": "python",
   "name": "python3"
  },
  "language_info": {
   "codemirror_mode": {
    "name": "ipython",
    "version": 3
   },
   "file_extension": ".py",
   "mimetype": "text/x-python",
   "name": "python",
   "nbconvert_exporter": "python",
   "pygments_lexer": "ipython3",
   "version": "3.8.10"
  },
  "widgets": {
   "application/vnd.jupyter.widget-state+json": {
    "state": {},
    "version_major": 2,
    "version_minor": 0
   }
  }
 },
 "nbformat": 4,
 "nbformat_minor": 5
}
