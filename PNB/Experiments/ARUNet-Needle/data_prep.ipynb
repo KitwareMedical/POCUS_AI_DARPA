{
 "cells": [
  {
   "cell_type": "code",
   "execution_count": 1,
   "id": "88489f5d-9a85-4d4b-b2d7-7a43203dbb8d",
   "metadata": {},
   "outputs": [],
   "source": [
    "import glob\n",
    "import sys\n",
    "import os\n",
    "\n",
    "import itk\n",
    "from itk import TubeTK as tube"
   ]
  },
  {
   "cell_type": "code",
   "execution_count": 2,
   "id": "c5305380-6f76-45ea-ad39-e0b3a28044b7",
   "metadata": {},
   "outputs": [
    {
     "name": "stderr",
     "output_type": "stream",
     "text": [
      "itkImageF4 not loaded from module TubeTK because of exception:\n",
      " module 'itk.TubeTKPython' has no attribute 'itkImageF4'\n",
      "vectoritkImageF4 not loaded from module TubeTK because of exception:\n",
      " module 'itk.TubeTKPython' has no attribute 'vectoritkImageF4'\n"
     ]
    },
    {
     "name": "stdout",
     "output_type": "stream",
     "text": [
      "1. 134 AC_Video 1_cropM.overlay.mha (787, 480, 320)\n",
      "1. 136 AC_Video 1_cropM.overlay.mha (623, 480, 320)\n",
      "1. 179 AC_Video 1_cropM.overlay.mha (500, 480, 320)\n",
      "1. 189 AC_Video 1_cropM.overlay.mha (517, 480, 320)\n",
      "1. 204 AC Video 1_cropM.overlay.mha (320, 480, 320)\n",
      "1. 205 AC_Video 1_cropM.overlay.mha (313, 480, 320)\n",
      "1. 207 AC_Video 1_cropM.overlay.mha (538, 480, 320)\n",
      "1. 211 AC_Video 1_cropM.overlay.mha (532, 480, 320)\n",
      "1. 217 AC_Video 1_cropM.overlay.mha (311, 480, 320)\n",
      "1. 238 AC_Video 1_cropM.overlay.mha (221, 480, 320)\n",
      "1. 57 AC_Video 1_cropM.overlay.mha (194, 480, 320)\n",
      "2. 39 AC_Video 2_cropM.overlay.mha (940, 480, 320)\n",
      "2. 46_Video 2_cropM.overlay.mha (492, 480, 320)\n",
      "3. 11 AC_Video 2_cropM.overlay.mha (596, 480, 320)\n",
      "3. 134 AC_Video 2_cropM.overlay.mha (571, 480, 320)\n",
      "3. 189 AC_Video 2_cropM.overlay.mha (208, 480, 320)\n",
      "3. 205 AC_Video 2_cropM.overlay.mha (647, 480, 320)\n",
      "3. 217 AC_Video 2_cropM.overlay.mha (203, 480, 320)\n",
      "3. 238 AC_Video 2_cropM.overlay.mha (202, 480, 320)\n",
      "3. 67 AC_Video 2_cropM.overlay.mha (370, 480, 320)\n",
      "3. 93 AC_Video 2_cropM.overlay.mha (301, 480, 320)\n",
      "3. 94 AC_Video 2_cropM.overlay.mha (501, 480, 320)\n",
      "4. 211 AC_Video 3_cropM.overlay.mha (507, 480, 320)\n",
      "4. 222A_Video 2_cropM.overlay.mha (227, 480, 320)\n",
      "4. 230 AC_Video 3_cropM.overlay.mha (357, 480, 320)\n",
      "5. 153 AC_Video 3_cropM.overlay.mha (595, 480, 320)\n",
      "5. 191 AC_Video 5_cropM.overlay.mha (192, 480, 320)\n",
      "5. 240 AC_Video 3_cropM.overlay.mha (359, 480, 320)\n",
      "5. 54 AC_Video 3_cropM.overlay.mha (398, 480, 320)\n",
      "7. 193 AC Video 4_cropM.overlay.mha (570, 480, 320)\n"
     ]
    }
   ],
   "source": [
    "files = sorted(glob.glob(os.path.join(\"../annotations/Sean_May22_CLEANED/\", \"*.mha\")))\n",
    "for file in files:\n",
    "    img = itk.imread(file, itk.F)\n",
    "    #for Spacing and Size to use the same axis ordering, don't use img.shape\n",
    "    sz = list(img.GetLargestPossibleRegion().GetSize())\n",
    "    sp = list(img.GetSpacing()) \n",
    "    sp[0] = sz[0]/320.25*sp[0]\n",
    "    sp[1] = sz[1]/480.25*sp[1]\n",
    "    RS = tube.ResampleImage.New(img)\n",
    "    RS.SetInterpolator(\"NearestNeighbor\")\n",
    "    RS.SetSpacing(sp)\n",
    "    RS.Update()\n",
    "    img = RS.GetOutput()\n",
    "    fpath,fname = os.path.split(file)\n",
    "    print(fname, img.shape)\n",
    "    itk.imwrite(img, os.path.join(\".\",fname[:-4]+\"_prep.nii.gz\"),compression=True)"
   ]
  },
  {
   "cell_type": "code",
   "execution_count": 4,
   "id": "5f837402-a062-4c17-9ece-4058edecf61d",
   "metadata": {},
   "outputs": [
    {
     "name": "stdout",
     "output_type": "stream",
     "text": [
      "1. 134 AC_Video 1_cropM.mha (787, 480, 320)\n",
      "1. 136 AC_Video 1_cropM.mha (623, 480, 320)\n",
      "1. 179 AC_Video 1_cropM.mha (500, 480, 320)\n",
      "1. 189 AC_Video 1_cropM.mha (517, 480, 320)\n",
      "1. 204 AC Video 1_cropM.mha (320, 480, 320)\n",
      "1. 205 AC_Video 1_cropM.mha (313, 480, 320)\n",
      "1. 207 AC_Video 1_cropM.mha (538, 480, 320)\n",
      "1. 211 AC_Video 1_cropM.mha (532, 480, 320)\n",
      "1. 217 AC_Video 1_cropM.mha (311, 480, 320)\n",
      "1. 238 AC_Video 1_cropM.mha (221, 480, 320)\n",
      "1. 57 AC_Video 1_cropM.mha (194, 480, 320)\n",
      "2. 39 AC_Video 2_cropM.mha (940, 480, 320)\n",
      "2. 46_Video 2_cropM.mha (492, 480, 320)\n",
      "3. 11 AC_Video 2_cropM.mha (596, 480, 320)\n",
      "3. 134 AC_Video 2_cropM.mha (571, 480, 320)\n",
      "3. 189 AC_Video 2_cropM.mha (208, 480, 320)\n",
      "3. 205 AC_Video 2_cropM.mha (647, 480, 320)\n",
      "3. 217 AC_Video 2_cropM.mha (203, 480, 320)\n",
      "3. 238 AC_Video 2_cropM.mha (202, 480, 320)\n",
      "3. 67 AC_Video 2_cropM.mha (370, 480, 320)\n",
      "3. 93 AC_Video 2_cropM.mha (301, 480, 320)\n",
      "3. 94 AC_Video 2_cropM.mha (501, 480, 320)\n",
      "4. 211 AC_Video 3_cropM.mha (507, 480, 320)\n",
      "4. 222A_Video 2_cropM.mha (227, 480, 320)\n",
      "4. 230 AC_Video 3_cropM.mha (357, 480, 320)\n",
      "5. 153 AC_Video 3_cropM.mha (595, 480, 320)\n",
      "5. 191 AC_Video 5_cropM.mha (192, 480, 320)\n",
      "5. 240 AC_Video 3_cropM.mha (359, 480, 320)\n",
      "5. 54 AC_Video 3_cropM.mha (398, 480, 320)\n",
      "7. 193 AC Video 4_cropM.mha (570, 480, 320)\n"
     ]
    }
   ],
   "source": [
    "RS = tube.ResampleImage[itk.Image[itk.F,3]].New()\n",
    "IM = tube.ImageMath[itk.Image[itk.F,3]].New()\n",
    "                    \n",
    "#files = sorted(glob.glob(os.path.join(\"../Preprocessed/\", \"*.nii.gz\")))\n",
    "files = sorted(glob.glob(os.path.join(\"../Preprocessed/\", \"*.mha\")))\n",
    "for file in files:\n",
    "    img = itk.imread(file, itk.F)\n",
    "    #for Spacing and Size to use the same axis ordering, don't use img.shape\n",
    "    sz = list(img.GetLargestPossibleRegion().GetSize())\n",
    "    sp = list(img.GetSpacing()) \n",
    "    sp[0] = sz[0]/320.25*sp[0]\n",
    "    sp[1] = sz[1]/480.25*sp[1]\n",
    "    RS.SetInput(img)\n",
    "    RS.SetInterpolator(\"BSpline\")\n",
    "    RS.SetSpacing(sp)\n",
    "    RS.Update()\n",
    "    img = RS.GetOutput()\n",
    "    \n",
    "    IM.SetInput(img)\n",
    "    IM.IntensityWindow(0,255,0,1)\n",
    "    img = IM.GetOutput()\n",
    "    \n",
    "    fpath,fname = os.path.split(file)\n",
    "    print(fname, img.shape)\n",
    "    #itk.imwrite(img, os.path.join(\".\",fname[:-7]+\"_prep.nii.gz\"),compression=True)\n",
    "    itk.imwrite(img, os.path.join(\".\",fname[:-4]+\"_prep.nii.gz\"),compression=True)"
   ]
  },
  {
   "cell_type": "code",
   "execution_count": null,
   "id": "6c3992a4-acda-4d83-9ba6-474e68283b3d",
   "metadata": {},
   "outputs": [],
   "source": []
  }
 ],
 "metadata": {
  "kernelspec": {
   "display_name": "Python 3 (ipykernel)",
   "language": "python",
   "name": "python3"
  },
  "language_info": {
   "codemirror_mode": {
    "name": "ipython",
    "version": 3
   },
   "file_extension": ".py",
   "mimetype": "text/x-python",
   "name": "python",
   "nbconvert_exporter": "python",
   "pygments_lexer": "ipython3",
   "version": "3.8.10"
  }
 },
 "nbformat": 4,
 "nbformat_minor": 5
}
